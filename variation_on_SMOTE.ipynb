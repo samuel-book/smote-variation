{
 "cells": [
  {
   "cell_type": "markdown",
   "id": "95c7ccb0",
   "metadata": {},
   "source": [
    "## A Pluto.jl notebook ###\n",
    "v0.19.20"
   ]
  },
  {
   "cell_type": "code",
   "execution_count": 1,
   "id": "0ba57df3",
   "metadata": {},
   "outputs": [],
   "source": [
    "using Markdown\n",
    "using InteractiveUtils"
   ]
  },
  {
   "cell_type": "code",
   "execution_count": 2,
   "id": "f6a80d46",
   "metadata": {},
   "outputs": [],
   "source": [
    "# ╔═╡ f3409cd7-185b-4a35-925e-0d38ea1de729\n",
    "# Import packages\n",
    "begin\n",
    "\t# Basics:\n",
    "\tusing Distributions\n",
    "\tusing Statistics\n",
    "\t#using Mathematics\n",
    "\t# For kth-nearest-neighbour:\n",
    "\t# using Distances\n",
    "\t# For setting a random seed:\n",
    "\tusing Random\n",
    "\t# For plotting:\n",
    "\t# using PlotlyBase\n",
    "\t# using PlotlyJS\n",
    "\t# using PyPlot\n",
    "\tusing Plots\n",
    "\t# Backend for the Plots package:\n",
    "\tgr()\n",
    "\t# For randomly sampling from an array:\n",
    "\tusing StatsBase\n",
    "\t# For nearest-neighbour searches:\n",
    "\tusing NearestNeighbors\n",
    "end"
   ]
  },
  {
   "cell_type": "code",
   "execution_count": 3,
   "id": "f13070e8",
   "metadata": {},
   "outputs": [
    {
     "data": {
      "text/latex": [
       "\\section{Variation on SMOTE}\n"
      ],
      "text/markdown": [
       "# Variation on SMOTE\n"
      ],
      "text/plain": [
       "\u001b[1m  Variation on SMOTE\u001b[22m\n",
       "\u001b[1m  ≡≡≡≡≡≡≡≡≡≡≡≡≡≡≡≡≡≡≡≡\u001b[22m"
      ]
     },
     "execution_count": 3,
     "metadata": {},
     "output_type": "execute_result"
    }
   ],
   "source": [
    "# ╔═╡ 78249b6e-9d72-11ed-2c77-a51efb914f64\n",
    "md\"\"\"\n",
    "# Variation on SMOTE\n",
    "\"\"\""
   ]
  },
  {
   "cell_type": "code",
   "execution_count": 4,
   "id": "e10de454",
   "metadata": {},
   "outputs": [
    {
     "data": {
      "text/latex": [
       "\\subsection{Setup:}\n"
      ],
      "text/markdown": [
       "## Setup:\n"
      ],
      "text/plain": [
       "\u001b[1m  Setup:\u001b[22m\n",
       "\u001b[1m  ========\u001b[22m"
      ]
     },
     "execution_count": 4,
     "metadata": {},
     "output_type": "execute_result"
    }
   ],
   "source": [
    "# ╔═╡ a35d9b03-162f-4367-9360-f751e7a42963\n",
    "md\"\"\"## Setup:\"\"\""
   ]
  },
  {
   "cell_type": "code",
   "execution_count": 5,
   "id": "64cae721",
   "metadata": {},
   "outputs": [
    {
     "data": {
      "text/latex": [
       "\\subsubsection{Distances from real points}\n",
       "Select an option for determining the distances of the synthetic points from the real data.\n",
       "\n",
       "For all options, all synthetic points are at the nearest-neighbour distance of their real counterparts scaled by a factor $\\gamma$. The options change the value of $\\gamma$:\n",
       "\n",
       "\\begin{itemize}\n",
       "\\item[1. ] $$\\gamma=1$$\n",
       "\n",
       "\\item[2. ] $$\\gamma=\\left(\\frac{N-1}{M}\\right)^\\frac{1}{d}$$\n",
       "\n",
       "\\item[3. ] Sample $\\gamma$ from the normal distribution $\\log\\left(\\gamma_i\\right) \\sim \\mathcal{N}\\left(\\frac{1}{d} \\log{\\frac{N-1}{M}}, \\sigma^{2}  \\right)$.\n",
       "\n",
       "\\end{itemize}\n"
      ],
      "text/markdown": [
       "### Distances from real points\n",
       "\n",
       "Select an option for determining the distances of the synthetic points from the real data.\n",
       "\n",
       "For all options, all synthetic points are at the nearest-neighbour distance of their real counterparts scaled by a factor $\\gamma$. The options change the value of $\\gamma$:\n",
       "\n",
       "1. $$\n",
       "    \\gamma=1\n",
       "    $$\n",
       "2. $$\n",
       "    \\gamma=\\left(\\frac{N-1}{M}\\right)^\\frac{1}{d}\n",
       "    $$\n",
       "3. Sample $\\gamma$ from the normal distribution $\\log\\left(\\gamma_i\\right) \\sim \\mathcal{N}\\left(\\frac{1}{d} \\log{\\frac{N-1}{M}}, \\sigma^{2}  \\right)$.\n"
      ],
      "text/plain": [
       "\u001b[1m  Distances from real points\u001b[22m\n",
       "\u001b[1m  ––––––––––––––––––––––––––––\u001b[22m\n",
       "\n",
       "  Select an option for determining the distances of the synthetic points from\n",
       "  the real data.\n",
       "\n",
       "  For all options, all synthetic points are at the nearest-neighbour distance\n",
       "  of their real counterparts scaled by a factor \u001b[35m\\gamma\u001b[39m. The options change the\n",
       "  value of \u001b[35m\\gamma\u001b[39m:\n",
       "\n",
       "    1. \\gamma=1\u001b[39m\n",
       "\n",
       "    2. \\gamma=\\left(\\frac{N-1}{M}\\right)^\\frac{1}{d}\u001b[39m\n",
       "\n",
       "    3. Sample \u001b[35m\\gamma\u001b[39m from the normal distribution\n",
       "       \u001b[35m\\log\\left(\\gamma_i\\right) \\sim \\mathcal{N}\\left(\\frac{1}{d}\n",
       "       \\log{\\frac{N-1}{M}}, \\sigma^{2} \\right)\u001b[39m."
      ]
     },
     "execution_count": 5,
     "metadata": {},
     "output_type": "execute_result"
    }
   ],
   "source": [
    "# ╔═╡ d15f0f81-ab21-4ad8-95ea-393ca4ba46c9\n",
    "md\"\"\"\n",
    "### Distances from real points\n",
    "\n",
    "Select an option for determining the distances of the synthetic points from the real data.\n",
    "\n",
    "For all options, all synthetic points are at the nearest-neighbour distance of their real counterparts scaled by a factor $\\gamma$. The options change the value of $\\gamma$:\n",
    "\n",
    "1. $\\gamma=1$\n",
    "2. $\\gamma=\\left(\\frac{N-1}{M}\\right)^\\frac{1}{d}$\n",
    "3. Sample $\\gamma$ from the normal distribution $\\log\\left(\\gamma_i\\right) \\sim \\mathcal{N}\\left(\\frac{1}{d} \\log{\\frac{N-1}{M}}, \\sigma^{2}  \\right)$.\n",
    "\"\"\""
   ]
  },
  {
   "cell_type": "code",
   "execution_count": 6,
   "id": "27fe5725",
   "metadata": {},
   "outputs": [
    {
     "data": {
      "text/plain": [
       "3"
      ]
     },
     "execution_count": 6,
     "metadata": {},
     "output_type": "execute_result"
    }
   ],
   "source": [
    "# ╔═╡ 40f0420c-6998-4264-8cf9-16291ea03e52\n",
    "option_distance = 3"
   ]
  },
  {
   "cell_type": "code",
   "execution_count": 7,
   "id": "8998426d",
   "metadata": {},
   "outputs": [
    {
     "data": {
      "text/latex": [
       "\\subsubsection{Number of points}\n"
      ],
      "text/markdown": [
       "### Number of points\n"
      ],
      "text/plain": [
       "\u001b[1m  Number of points\u001b[22m\n",
       "\u001b[1m  ––––––––––––––––––\u001b[22m"
      ]
     },
     "execution_count": 7,
     "metadata": {},
     "output_type": "execute_result"
    }
   ],
   "source": [
    "# ╔═╡ 5269cdf0-2a11-4d1b-803a-78a2c7231d35\n",
    "md\"\"\"### Number of points\"\"\""
   ]
  },
  {
   "cell_type": "code",
   "execution_count": 8,
   "id": "b8939fe3",
   "metadata": {},
   "outputs": [
    {
     "data": {
      "text/plain": [
       "100"
      ]
     },
     "execution_count": 8,
     "metadata": {},
     "output_type": "execute_result"
    }
   ],
   "source": [
    "# ╔═╡ d860a3e7-958f-4919-9db5-658b58ed6b20\n",
    "begin\n",
    "\t# Number of real samples:\n",
    "\tN = 100\n",
    "\t# Number of synthetic points:\n",
    "\tM = 100\n",
    "end"
   ]
  },
  {
   "cell_type": "code",
   "execution_count": 9,
   "id": "671fef28",
   "metadata": {},
   "outputs": [
    {
     "data": {
      "text/latex": [
       "\\subsection{Make the real data points}\n",
       "First create the distribution that the points will be sampled from:\n",
       "\n"
      ],
      "text/markdown": [
       "## Make the real data points\n",
       "\n",
       "First create the distribution that the points will be sampled from:\n"
      ],
      "text/plain": [
       "\u001b[1m  Make the real data points\u001b[22m\n",
       "\u001b[1m  ===========================\u001b[22m\n",
       "\n",
       "  First create the distribution that the points will be sampled from:"
      ]
     },
     "execution_count": 9,
     "metadata": {},
     "output_type": "execute_result"
    }
   ],
   "source": [
    "# ╔═╡ 6e1d209c-8080-4450-95a1-779ba5958c5e\n",
    "md\"\"\"\n",
    "## Make the real data points\n",
    "\n",
    "First create the distribution that the points will be sampled from:\n",
    "\"\"\""
   ]
  },
  {
   "cell_type": "code",
   "execution_count": 10,
   "id": "07c474dc",
   "metadata": {},
   "outputs": [
    {
     "data": {
      "text/plain": [
       "FullNormal(\n",
       "dim: 2\n",
       "μ: [50.0, 2.0]\n",
       "Σ: [1.0 0.8; 0.8 1.0]\n",
       ")\n"
      ]
     },
     "execution_count": 10,
     "metadata": {},
     "output_type": "execute_result"
    }
   ],
   "source": [
    "# ╔═╡ 199a9109-2919-47e4-8b20-f1a1eb311177\n",
    "# Set up a 2D Gaussian distribution.\n",
    "begin\n",
    "\t# Mean in x, mean in y\n",
    "\tprob_density_mean = [50, 2]\n",
    "\t# Spread in x, covariance with y(?);\n",
    "\t# spread in y, covariance with x(?)\n",
    "\tprob_density_c = [1 0.8; 0.8 1] #[10 0.8; 0.8 1]\n",
    "\t# Create this MultiVariate Normal dist:\n",
    "\tprob_density_function = MvNormal(prob_density_mean, prob_density_c)\n",
    "end"
   ]
  },
  {
   "cell_type": "code",
   "execution_count": 11,
   "id": "dd442e2e",
   "metadata": {},
   "outputs": [
    {
     "data": {
      "text/latex": [
       "Then sample a set of \\texttt{N} real coordinates.\n",
       "\n"
      ],
      "text/markdown": [
       "Then sample a set of `N` real coordinates.\n"
      ],
      "text/plain": [
       "  Then sample a set of \u001b[36mN\u001b[39m real coordinates."
      ]
     },
     "execution_count": 11,
     "metadata": {},
     "output_type": "execute_result"
    }
   ],
   "source": [
    "# ╔═╡ 3623d487-93ae-4a23-a316-9490889173d8\n",
    "md\"\"\"Then sample a set of `N` real coordinates.\"\"\""
   ]
  },
  {
   "cell_type": "code",
   "execution_count": 12,
   "id": "79df78b6",
   "metadata": {},
   "outputs": [
    {
     "data": {
      "text/plain": [
       "2"
      ]
     },
     "execution_count": 12,
     "metadata": {},
     "output_type": "execute_result"
    }
   ],
   "source": [
    "# ╔═╡ 1061dd5b-9a6a-4319-90d8-3c9c59ab92f6\n",
    "begin\n",
    "\tRandom.seed!(42)\n",
    "\t# Sample N sets of coordinates from the 2D Gaussian:\n",
    "\tcoords_real = rand(prob_density_function, N)\n",
    "\t# Number of dimensions:\n",
    "\td = size(coords_real)[1]\n",
    "end"
   ]
  },
  {
   "cell_type": "code",
   "execution_count": 13,
   "id": "fc14197a",
   "metadata": {},
   "outputs": [
    {
     "data": {
      "text/latex": [
       "Julia notes:\n",
       "\n",
       "\\begin{itemize}\n",
       "\\item To extract coordinates for one data point, use \\texttt{real\\_coords[:, 1]}. \n",
       "\n",
       "\n",
       "\\item The x-coordinates of all points are \\texttt{real\\_coords[1, :]}. \n",
       "\n",
       "\n",
       "\\item The y-coordinates of all points are \\texttt{real\\_coords[2, :]}.\n",
       "\n",
       "\\end{itemize}\n"
      ],
      "text/markdown": [
       "Julia notes:\n",
       "\n",
       "  * To extract coordinates for one data point, use `real_coords[:, 1]`.\n",
       "  * The x-coordinates of all points are `real_coords[1, :]`.\n",
       "  * The y-coordinates of all points are `real_coords[2, :]`.\n"
      ],
      "text/plain": [
       "  Julia notes:\n",
       "\n",
       "    •  To extract coordinates for one data point, use \u001b[36mreal_coords[:, 1]\u001b[39m.\n",
       "\n",
       "    •  The x-coordinates of all points are \u001b[36mreal_coords[1, :]\u001b[39m.\n",
       "\n",
       "    •  The y-coordinates of all points are \u001b[36mreal_coords[2, :]\u001b[39m."
      ]
     },
     "execution_count": 13,
     "metadata": {},
     "output_type": "execute_result"
    }
   ],
   "source": [
    "# ╔═╡ 012824a4-deac-4f3a-95b8-cd349077c6e6\n",
    "md\"\"\"\n",
    "Julia notes:\n",
    "\n",
    "+ To extract coordinates for one data point, use `real_coords[:, 1]`. \n",
    "\n",
    "+ The x-coordinates of all points are `real_coords[1, :]`. \n",
    "\n",
    "+ The y-coordinates of all points are `real_coords[2, :]`.\n",
    "\"\"\""
   ]
  },
  {
   "cell_type": "code",
   "execution_count": 14,
   "id": "bc98bdd7",
   "metadata": {},
   "outputs": [
    {
     "data": {
      "text/latex": [
       "\\subsection{Make the synthetic data}\n",
       "We'll define functions for various steps towards making the synthetic data, and later bring them all together in a wrapper function.\n",
       "\n",
       "\\begin{tabular}\n",
       "{r | r | r}\n",
       "Step & Function & Description \\\\\n",
       "\\hline\n",
       "1 & \\texttt{standardise\\_base} & Standardise the base data \\\\\n",
       "2 & \\texttt{find\\_sorted\\_neighbour\\_distances} & Find the distances from all base coordinates to all other base coordinates. For N coords, gives an NxN array. The resulting array is sorted so the first row contains the distances to the each point's nearest neighbour (itself). \\\\\n",
       "3 & \\texttt{get\\_indices\\_of\\_base\\_points} & Allocate synthetic points to real points \\\\\n",
       "4 & \\texttt{get\\_indices\\_of\\_neighbours} & Select which of the five nearest neighbours to use. Different choice for each synthetic point. \\\\\n",
       "5 & \\texttt{get\\_distances\\_to\\_nth\\_neighbours} & Find the distances to the nth nearest neighbours from Step 2. \\\\\n",
       "6 & \\texttt{make\\_distances\\_from\\_base\\_points} & Define new distances from the base points to the new point using the $\\gamma$ scale factor. \\\\\n",
       "7 & \\texttt{get\\_random\\_angles} & Define random angles between each synthetic point and its base point. \\\\\n",
       "8 & \\texttt{make\\_synth\\_coords} & Create the synthetic points by combining the angles and distances above with the base data. \\\\\n",
       "9 & \\texttt{unstandardise\\_synth} & Remove standardisation from synth data. \\\\\n",
       "\\end{tabular}\n"
      ],
      "text/markdown": [
       "## Make the synthetic data\n",
       "\n",
       "We'll define functions for various steps towards making the synthetic data, and later bring them all together in a wrapper function.\n",
       "\n",
       "| Step |                          Function |                                                                                                                                                                                                                         Description |\n",
       "| ----:| ---------------------------------:| -----------------------------------------------------------------------------------------------------------------------------------------------------------------------------------------------------------------------------------:|\n",
       "|    1 |                `standardise_base` |                                                                                                                                                                                                           Standardise the base data |\n",
       "|    2 | `find_sorted_neighbour_distances` | Find the distances from all base coordinates to all other base coordinates. For N coords, gives an NxN array. The resulting array is sorted so the first row contains the distances to the each point's nearest neighbour (itself). |\n",
       "|    3 |      `get_indices_of_base_points` |                                                                                                                                                                                            Allocate synthetic points to real points |\n",
       "|    4 |       `get_indices_of_neighbours` |                                                                                                                                      Select which of the five nearest neighbours to use. Different choice for each synthetic point. |\n",
       "|    5 | `get_distances_to_nth_neighbours` |                                                                                                                                                                       Find the distances to the nth nearest neighbours from Step 2. |\n",
       "|    6 | `make_distances_from_base_points` |                                                                                                                                         Define new distances from the base points to the new point using the $\\gamma$ scale factor. |\n",
       "|    7 |               `get_random_angles` |                                                                                                                                                               Define random angles between each synthetic point and its base point. |\n",
       "|    8 |               `make_synth_coords` |                                                                                                                                         Create the synthetic points by combining the angles and distances above with the base data. |\n",
       "|    9 |             `unstandardise_synth` |                                                                                                                                                                                             Remove standardisation from synth data. |\n"
      ],
      "text/plain": [
       "\u001b[1m  Make the synthetic data\u001b[22m\n",
       "\u001b[1m  =========================\u001b[22m\n",
       "\n",
       "  We'll define functions for various steps towards making the synthetic data,\n",
       "  and later bring them all together in a wrapper function.\n",
       "\n",
       "  Step                        Function                                                                                                                                                                                                                         Description\n",
       "  –––– ––––––––––––––––––––––––––––––– –––––––––––––––––––––––––––––––––––––––––––––––––––––––––––––––––––––––––––––––––––––––––––––––––––––––––––––––––––––––––––––––––––––––––––––––––––––––––––––––––––––––––––––––––––––––––––––––––––––––––––––––––––––––––––––––––––\n",
       "     1                \u001b[36mstandardise_base\u001b[39m                                                                                                                                                                                                           Standardise the base data\n",
       "     2 \u001b[36mfind_sorted_neighbour_distances\u001b[39m Find the distances from all base coordinates to all other base coordinates. For N coords, gives an NxN array. The resulting array is sorted so the first row contains the distances to the each point's nearest neighbour (itself).\n",
       "     3      \u001b[36mget_indices_of_base_points\u001b[39m                                                                                                                                                                                            Allocate synthetic points to real points\n",
       "     4       \u001b[36mget_indices_of_neighbours\u001b[39m                                                                                                                                      Select which of the five nearest neighbours to use. Different choice for each synthetic point.\n",
       "     5 \u001b[36mget_distances_to_nth_neighbours\u001b[39m                                                                                                                                                                       Find the distances to the nth nearest neighbours from Step 2.\n",
       "     6 \u001b[36mmake_distances_from_base_points\u001b[39m                                                                                                                                           Define new distances from the base points to the new point using the \u001b[35m\\gamma\u001b[39m scale factor.\n",
       "     7               \u001b[36mget_random_angles\u001b[39m                                                                                                                                                               Define random angles between each synthetic point and its base point.\n",
       "     8               \u001b[36mmake_synth_coords\u001b[39m                                                                                                                                         Create the synthetic points by combining the angles and distances above with the base data.\n",
       "     9             \u001b[36munstandardise_synth\u001b[39m                                                                                                                                                                                             Remove standardisation from synth data."
      ]
     },
     "execution_count": 14,
     "metadata": {},
     "output_type": "execute_result"
    }
   ],
   "source": [
    "# ╔═╡ 98d1178d-2936-4fd6-82d9-ac5fa5b4f637\n",
    "md\"\"\"\n",
    "## Make the synthetic data\n",
    "\n",
    "We'll define functions for various steps towards making the synthetic data, and later bring them all together in a wrapper function.\n",
    "\n",
    "| Step | Function | Description |\n",
    "| --- | --- | --- |\n",
    "| 1 | `standardise_base` | Standardise the base data |\n",
    "| 2 | `find_sorted_neighbour_distances` | Find the distances from all base coordinates to all other base coordinates. For N coords, gives an NxN array. The resulting array is sorted so the first row contains the distances to the each point's nearest neighbour (itself). |\n",
    "| 3 | `get_indices_of_base_points` | Allocate synthetic points to real points |\n",
    "| 4 | `get_indices_of_neighbours` | Select which of the five nearest neighbours to use. Different choice for each synthetic point. |\n",
    "| 5 | `get_distances_to_nth_neighbours` | Find the distances to the nth nearest neighbours from Step 2. |\n",
    "| 6 | `make_distances_from_base_points` | Define new distances from the base points to the new point using the $\\gamma$ scale factor. |\n",
    "| 7 | `get_random_angles` | Define random angles between each synthetic point and its base point. |\n",
    "| 8 | `make_synth_coords` | Create the synthetic points by combining the angles and distances above with the base data.  |\n",
    "| 9 | `unstandardise_synth` | Remove standardisation from synth data. |\n",
    "\"\"\""
   ]
  },
  {
   "cell_type": "code",
   "execution_count": 15,
   "id": "059280c3",
   "metadata": {},
   "outputs": [
    {
     "data": {
      "text/latex": [
       "\\subsubsection{1. Standardise the base data}\n",
       "Standardise by subtracting the mean and dividing by the standard deviation.\n",
       "\n"
      ],
      "text/markdown": [
       "### 1. Standardise the base data\n",
       "\n",
       "Standardise by subtracting the mean and dividing by the standard deviation.\n"
      ],
      "text/plain": [
       "\u001b[1m  1. Standardise the base data\u001b[22m\n",
       "\u001b[1m  ––––––––––––––––––––––––––––––\u001b[22m\n",
       "\n",
       "  Standardise by subtracting the mean and dividing by the standard deviation."
      ]
     },
     "execution_count": 15,
     "metadata": {},
     "output_type": "execute_result"
    }
   ],
   "source": [
    "# ╔═╡ 27d9108f-6ec8-4b0f-8ec3-1a05e4a11064\n",
    "md\"\"\"\n",
    "### 1. Standardise the base data\n",
    "\n",
    "Standardise by subtracting the mean and dividing by the standard deviation.\n",
    "\"\"\""
   ]
  },
  {
   "cell_type": "code",
   "execution_count": 16,
   "id": "b508f121",
   "metadata": {},
   "outputs": [
    {
     "data": {
      "text/plain": [
       "standardise_base (generic function with 1 method)"
      ]
     },
     "execution_count": 16,
     "metadata": {},
     "output_type": "execute_result"
    }
   ],
   "source": [
    "# ╔═╡ 96747592-972b-431e-891f-879a3695ad6a\n",
    "function standardise_base(coords_base, d)\n",
    "\tmean_base = mean(coords_base, dims=d)\n",
    "\tstd_base = std(coords_base, dims=d)\n",
    "\t# Keep the . in front of the operators for element-wise operation.\n",
    "\tcoords_base_standardised = (coords_base .- mean_base) ./ std_base\n",
    "\n",
    "\t# Sanity check\n",
    "\tfor (i, axis) in enumerate([\"x\", \"y\"])\n",
    "\t\tif round(std(coords_base_standardised[i, :]), digits=7) != 1\n",
    "\t\t\tprint(\"Error in std in \", axis, \"\\n\")\n",
    "\t\tend\n",
    "\t\tif round(mean(coords_base_standardised[i, :]), digits=7) != 0\n",
    "\t\t\tprint(\"Error in mean in \", axis, \"\\n\")\n",
    "\t\tend\n",
    "\tend\n",
    "\n",
    "\treturn coords_base_standardised, mean_base, std_base\n",
    "end"
   ]
  },
  {
   "cell_type": "code",
   "execution_count": 17,
   "id": "b37122b8",
   "metadata": {},
   "outputs": [
    {
     "data": {
      "text/latex": [
       "\\subsubsection{2: Calculate average nearest-neighbour distance}\n"
      ],
      "text/markdown": [
       "### 2: Calculate average nearest-neighbour distance\n"
      ],
      "text/plain": [
       "\u001b[1m  2: Calculate average nearest-neighbour distance\u001b[22m\n",
       "\u001b[1m  –––––––––––––––––––––––––––––––––––––––––––––––––\u001b[22m"
      ]
     },
     "execution_count": 17,
     "metadata": {},
     "output_type": "execute_result"
    }
   ],
   "source": [
    "# ╔═╡ 6b279292-6195-4a86-8185-18833c032c7d\n",
    "md\"\"\"\n",
    "### 2: Calculate average nearest-neighbour distance\n",
    "\"\"\""
   ]
  },
  {
   "cell_type": "code",
   "execution_count": 18,
   "id": "6387bfe5",
   "metadata": {},
   "outputs": [
    {
     "data": {
      "text/plain": [
       "find_sorted_neighbour_distances (generic function with 1 method)"
      ]
     },
     "execution_count": 18,
     "metadata": {},
     "output_type": "execute_result"
    }
   ],
   "source": [
    "# ╔═╡ 836e7b57-cfcd-45ca-8eb4-534aca5c563a\n",
    "function find_sorted_neighbour_distances(coords_base; d=2)\n",
    "\t\"\"\"\n",
    "\tInput coords should be standardised.\n",
    "\t\n",
    "\tThe average nth nearest-neighbour distance is the mean of the values in row n.\n",
    "\t\"\"\"\n",
    "\t# Get distance from each point to every other point.\n",
    "\t# The result is an NxN array if coords_base has N coords in it:\n",
    "\tall_distances = pairwise(Euclidean(), coords_base, dims=d)\n",
    "\t# Sort the full array so that the first row contains \n",
    "\t# the distance from each point to itself (=zero), \n",
    "\t# the second row contains the distance from each point \n",
    "\t# to its nearest neighbour, the third row the distance to the \n",
    "\t# second-nearest neighbour and so on.\n",
    "\tsorted_distances = sort(all_distances, dims=1)\n",
    "\t# The list of nearest-neighbour distances (where each real data point gets a different distance) is:\n",
    "\t# distances_1st_nearest_real = sorted_distances[2, :]\n",
    "\treturn sorted_distances\n",
    "end"
   ]
  },
  {
   "cell_type": "code",
   "execution_count": 19,
   "id": "59ac8b10",
   "metadata": {},
   "outputs": [
    {
     "data": {
      "text/latex": [
       "\\subsubsection{3. Allocate synthetic points to real points}\n",
       "Decide which real data point will be used to generate each synthetic point. Currently these indices are selected at random. \n",
       "\n",
       "Julia notes:\n",
       "\n",
       "\\begin{itemize}\n",
       "\\item \\texttt{rand(1:N, M)} generates \\texttt{M} values. Each value is in the range \\texttt{1:N}.\n",
       "\n",
       "\n",
       "\\item The \\texttt{return} statement is optional in this case. Default behaviour without a \\texttt{return} line is to return the last thing defined in the function.\n",
       "\n",
       "\\end{itemize}\n"
      ],
      "text/markdown": [
       "### 3. Allocate synthetic points to real points\n",
       "\n",
       "Decide which real data point will be used to generate each synthetic point. Currently these indices are selected at random. \n",
       "\n",
       "Julia notes:\n",
       "\n",
       "  * `rand(1:N, M)` generates `M` values. Each value is in the range `1:N`.\n",
       "  * The `return` statement is optional in this case. Default behaviour without a `return` line is to return the last thing defined in the function.\n"
      ],
      "text/plain": [
       "\u001b[1m  3. Allocate synthetic points to real points\u001b[22m\n",
       "\u001b[1m  –––––––––––––––––––––––––––––––––––––––––––––\u001b[22m\n",
       "\n",
       "  Decide which real data point will be used to generate each synthetic point.\n",
       "  Currently these indices are selected at random.\n",
       "\n",
       "  Julia notes:\n",
       "\n",
       "    •  \u001b[36mrand(1:N, M)\u001b[39m generates \u001b[36mM\u001b[39m values. Each value is in the range \u001b[36m1:N\u001b[39m.\n",
       "\n",
       "    •  The \u001b[36mreturn\u001b[39m statement is optional in this case. Default behaviour\n",
       "       without a \u001b[36mreturn\u001b[39m line is to return the last thing defined in the\n",
       "       function."
      ]
     },
     "execution_count": 19,
     "metadata": {},
     "output_type": "execute_result"
    }
   ],
   "source": [
    "# ╔═╡ f9ebe451-2eeb-4675-918d-7cbf23fa616d\n",
    "md\"\"\"\n",
    "### 3. Allocate synthetic points to real points\n",
    "\n",
    "Decide which real data point will be used to generate each synthetic point. Currently these indices are selected at random. \n",
    "\n",
    "Julia notes:\n",
    "\n",
    "+ `rand(1:N, M)` generates `M` values. Each value is in the range `1:N`.\n",
    "+ The `return` statement is optional in this case. Default behaviour without a `return` line is to return the last thing defined in the function.\n",
    "\"\"\""
   ]
  },
  {
   "cell_type": "code",
   "execution_count": 20,
   "id": "200d82c5",
   "metadata": {},
   "outputs": [
    {
     "data": {
      "text/plain": [
       "get_indices_of_base_points (generic function with 1 method)"
      ]
     },
     "execution_count": 20,
     "metadata": {},
     "output_type": "execute_result"
    }
   ],
   "source": [
    "# ╔═╡ 4c90f881-c058-4bb4-ba77-62f74f996478\n",
    "function get_indices_of_base_points(N, M; random_seed=42)\n",
    "\t# Set the random seed:\n",
    "\tRandom.seed!(random_seed)\n",
    "\t# Define indices:\n",
    "\tindices_random = rand(1:N, M)\n",
    "\treturn indices_random\n",
    "end"
   ]
  },
  {
   "cell_type": "code",
   "execution_count": 21,
   "id": "591c7c36",
   "metadata": {},
   "outputs": [
    {
     "data": {
      "text/latex": [
       "\\subsubsection{4. Select which of the n$^{\\mathrm{th}}$ nearest neighbours to use}\n"
      ],
      "text/markdown": [
       "### 4. Select which of the n$^{\\mathrm{th}}$ nearest neighbours to use\n"
      ],
      "text/plain": [
       "\u001b[1m  4. Select which of the n\u001b[35m^{\\mathrm{th}}\u001b[39m nearest neighbours to use\u001b[22m\n",
       "\u001b[1m  ––––––––––––––––––––––––––––––––––––––––––––––––––––––––––––––––––\u001b[22m"
      ]
     },
     "execution_count": 21,
     "metadata": {},
     "output_type": "execute_result"
    }
   ],
   "source": [
    "# ╔═╡ 148c7d7c-00ab-44c6-8271-867090f6bdb3\n",
    "md\"\"\"\n",
    "### 4. Select which of the n$^{\\mathrm{th}}$ nearest neighbours to use\n",
    "\"\"\""
   ]
  },
  {
   "cell_type": "code",
   "execution_count": 22,
   "id": "24cf9f81",
   "metadata": {},
   "outputs": [
    {
     "data": {
      "text/plain": [
       "get_indices_of_neighbours (generic function with 1 method)"
      ]
     },
     "execution_count": 22,
     "metadata": {},
     "output_type": "execute_result"
    }
   ],
   "source": [
    "# ╔═╡ a85ace51-d5ba-459b-ab92-ed4d75b71c4b\n",
    "function get_indices_of_neighbours(M; random_seed=42)\n",
    "\t# Set the random seed:\n",
    "\tRandom.seed!(random_seed)\n",
    "\t# Define indices\n",
    "\t# Randomly pick one of the five nearest neighbours:\n",
    "\tindices_neighbours = rand(2:6, M)\n",
    "\t# Randomly pick any of the other points:\n",
    "\t# indices_neighbours = rand(2:N, M)\n",
    "\t# Pick only the xth point:\n",
    "\t# indices_neighbours = fill(6, M)\n",
    "\t# Randomly pick either the nearest or farthest point:\n",
    "\t# indices_neighbours = StatsBase.sample([2, N], M)\n",
    "\treturn indices_neighbours\n",
    "end"
   ]
  },
  {
   "cell_type": "code",
   "execution_count": 23,
   "id": "5c5d8722",
   "metadata": {},
   "outputs": [
    {
     "data": {
      "text/latex": [
       "\\subsubsection{5. Get distances to the n$^{\\mathrm{th}}$ neighbours}\n"
      ],
      "text/markdown": [
       "### 5. Get distances to the n$^{\\mathrm{th}}$ neighbours\n"
      ],
      "text/plain": [
       "\u001b[1m  5. Get distances to the n\u001b[35m^{\\mathrm{th}}\u001b[39m neighbours\u001b[22m\n",
       "\u001b[1m  ––––––––––––––––––––––––––––––––––––––––––––––––––––\u001b[22m"
      ]
     },
     "execution_count": 23,
     "metadata": {},
     "output_type": "execute_result"
    }
   ],
   "source": [
    "# ╔═╡ 8099cd6e-74c1-4411-b8da-0f6e5a37284c\n",
    "md\"\"\"\n",
    "### 5. Get distances to the n$^{\\mathrm{th}}$ neighbours\n",
    "\"\"\""
   ]
  },
  {
   "cell_type": "code",
   "execution_count": 24,
   "id": "47350cd8",
   "metadata": {},
   "outputs": [
    {
     "data": {
      "text/plain": [
       "get_distances_to_nth_neighbours (generic function with 1 method)"
      ]
     },
     "execution_count": 24,
     "metadata": {},
     "output_type": "execute_result"
    }
   ],
   "source": [
    "# ╔═╡ 39922ca7-b567-4c86-8fbc-ccb732504434\n",
    "function get_distances_to_nth_neighbours(\n",
    "\t\tsorted_distances_base,\n",
    "\t\tindices_neighbours,\n",
    "\t\tindices_random\n",
    "\t)\n",
    "\t\"\"\"\n",
    "\tCreate a list of distances between the base points and their nth neighbours,\n",
    "\twhere the points and the choice of neighbours are selected with the input\n",
    "\tlists of indices.\n",
    "\t\"\"\"\n",
    "\t# Find the distances to these neighbours:\n",
    "\tdistances_nearest = []\n",
    "\tfor i in range(1, size(indices_neighbours)[1])\n",
    "\t\tdistance_here = sorted_distances_base[\n",
    "\t\t\tindices_neighbours[i], indices_random[i]\n",
    "\t\t]\n",
    "\t\tpush!(distances_nearest, distance_here)\n",
    "\tend\n",
    "\treturn distances_nearest\n",
    "end"
   ]
  },
  {
   "cell_type": "code",
   "execution_count": 25,
   "id": "9c526fea",
   "metadata": {},
   "outputs": [
    {
     "data": {
      "text/latex": [
       "\\subsubsection{6. Define distances from base points to new points}\n",
       "Julia notes:\n",
       "\n",
       "\\begin{itemize}\n",
       "\\item The dot in exp.(...) performs the exponential element-wise on everything in \"...\".\n",
       "\n",
       "\n",
       "\\item The semi-colon in the input arguments goes before the first keyword argument.\n",
       "\n",
       "\\end{itemize}\n"
      ],
      "text/markdown": [
       "### 6. Define distances from base points to new points\n",
       "\n",
       "Julia notes:\n",
       "\n",
       "  * The dot in exp.(...) performs the exponential element-wise on everything in \"...\".\n",
       "  * The semi-colon in the input arguments goes before the first keyword argument.\n"
      ],
      "text/plain": [
       "\u001b[1m  6. Define distances from base points to new points\u001b[22m\n",
       "\u001b[1m  ––––––––––––––––––––––––––––––––––––––––––––––––––––\u001b[22m\n",
       "\n",
       "  Julia notes:\n",
       "\n",
       "    •  The dot in exp.(...) performs the exponential element-wise on\n",
       "       everything in \"...\".\n",
       "\n",
       "    •  The semi-colon in the input arguments goes before the first\n",
       "       keyword argument."
      ]
     },
     "execution_count": 25,
     "metadata": {},
     "output_type": "execute_result"
    }
   ],
   "source": [
    "# ╔═╡ 9fe64e5c-dfdf-447f-9bfb-403e0c8c30ac\n",
    "md\"\"\"\n",
    "### 6. Define distances from base points to new points\n",
    "\n",
    "Julia notes:\n",
    "+ The dot in exp.(...) performs the exponential element-wise on everything in \"...\".\n",
    "+ The semi-colon in the input arguments goes before the first keyword argument.\n",
    "\"\"\""
   ]
  },
  {
   "cell_type": "code",
   "execution_count": 26,
   "id": "36fd4a3a",
   "metadata": {},
   "outputs": [
    {
     "data": {
      "text/plain": [
       "make_distances_from_base_points (generic function with 1 method)"
      ]
     },
     "execution_count": 26,
     "metadata": {},
     "output_type": "execute_result"
    }
   ],
   "source": [
    "# ╔═╡ d956b888-b453-44f9-a675-73dd492e3d2e\n",
    "function make_distances_from_base_points(\n",
    "\tdistances_from_base,\n",
    "\tN,\n",
    "\tM;\n",
    "\td=2,\n",
    "\toption_distance=1,\n",
    "\tsigma=0.4242\n",
    "\t)\n",
    "\tif option_distance == 1\n",
    "\t\tdistances_synth = distances_from_base\n",
    "\t\t\n",
    "\telseif option_distance == 2\n",
    "\t    gamma = ((N-1)/M)^(1/d)\n",
    "\t\tdistances_synth = gamma * distances_from_base\n",
    "\t\t\n",
    "\telseif option_distance == 3\n",
    "\t\t# Define a normal distribution with mean \n",
    "\t\t# (1/d)*log([N-1] / M) and standard deviation \"sigma\" of our choice.\n",
    "\t\t# Then sample M values from this distribution.\n",
    "\t\tscale_factors = \n",
    "\t\t\t# Take the exponential...\n",
    "\t\t\texp.(\n",
    "\t\t\t\t# Of these random numbers:\n",
    "\t\t\t\trand(\n",
    "\t\t\t\t\t# The normal distribution we're sampling from:\n",
    "\t\t\t\t\tNormal(\n",
    "\t\t\t\t\t\t# Mean of the distribution:\n",
    "\t\t\t\t\t\t(1/d)*log((N-1)/M), \n",
    "\t\t\t\t\t\t# Standard deviation:\n",
    "\t\t\t\t\t\tsigma\n",
    "\t\t\t\t\t\t),\n",
    "\t\t\t\t\t# Sample this many values:\n",
    "\t\t\t\t\tM\n",
    "\t\t\t\t\t)\n",
    "\t\t\t\t)\n",
    "\t\t# Multiply these scale factors by the nearest-neighbour distances:\n",
    "\t\tdistances_synth = scale_factors .* distances_from_base\n",
    "\tend\n",
    "\treturn distances_synth\n",
    "end"
   ]
  },
  {
   "cell_type": "code",
   "execution_count": 27,
   "id": "c4d47cb5",
   "metadata": {},
   "outputs": [
    {
     "data": {
      "text/latex": [
       "\\subsubsection{7. Define random directions}\n",
       "Take as many random angles as there are data points. These angles range from 0 to 2$\\pi$ radians. \n",
       "\n",
       "Julia notes:\n",
       "\n",
       "\\begin{itemize}\n",
       "\\item The \\texttt{rand(M)} generates \\texttt{M} values in the range 0 to 1.\n",
       "\n",
       "\\end{itemize}\n"
      ],
      "text/markdown": [
       "### 7. Define random directions\n",
       "\n",
       "Take as many random angles as there are data points. These angles range from 0 to 2$\\pi$ radians. \n",
       "\n",
       "Julia notes:\n",
       "\n",
       "  * The `rand(M)` generates `M` values in the range 0 to 1.\n"
      ],
      "text/plain": [
       "\u001b[1m  7. Define random directions\u001b[22m\n",
       "\u001b[1m  –––––––––––––––––––––––––––––\u001b[22m\n",
       "\n",
       "  Take as many random angles as there are data points. These angles range from\n",
       "  0 to 2\u001b[35m\\pi\u001b[39m radians.\n",
       "\n",
       "  Julia notes:\n",
       "\n",
       "    •  The \u001b[36mrand(M)\u001b[39m generates \u001b[36mM\u001b[39m values in the range 0 to 1."
      ]
     },
     "execution_count": 27,
     "metadata": {},
     "output_type": "execute_result"
    }
   ],
   "source": [
    "# ╔═╡ c22ef8c8-0f20-41f7-bf2b-999c7bf94ba4\n",
    "md\"\"\"\n",
    "### 7. Define random directions\n",
    "\n",
    "Take as many random angles as there are data points. These angles range from 0 to 2$\\pi$ radians. \n",
    "\n",
    "Julia notes:\n",
    "\n",
    "+ The `rand(M)` generates `M` values in the range 0 to 1.\n",
    "\n",
    "\"\"\""
   ]
  },
  {
   "cell_type": "code",
   "execution_count": 28,
   "id": "6a3834c7",
   "metadata": {},
   "outputs": [
    {
     "data": {
      "text/plain": [
       "get_random_angles (generic function with 1 method)"
      ]
     },
     "execution_count": 28,
     "metadata": {},
     "output_type": "execute_result"
    }
   ],
   "source": [
    "# ╔═╡ 6471625a-9691-452d-aa2c-f77215a33dae\n",
    "function get_random_angles(M; random_seed=42)\n",
    "\t# Set random seed\n",
    "\tRandom.seed!(random_seed)\n",
    "\t# Define angles:\n",
    "\tangles_random = 2 * pi * rand(M)\n",
    "end"
   ]
  },
  {
   "cell_type": "code",
   "execution_count": 29,
   "id": "e1f93541",
   "metadata": {},
   "outputs": [
    {
     "data": {
      "text/latex": [
       "\\subsubsection{8. Create the synthetic data}\n",
       "Create \\texttt{synth\\_coords}, which contains \\texttt{M} sets of (x, y) coordinates. \n",
       "\n",
       "Julia notes:\n",
       "\n",
       "\\begin{itemize}\n",
       "\\item \\texttt{cos.} takes the cosine of each angle in the input array. Just \\texttt{cos} without the \"\\texttt{.}\" fails.\n",
       "\n",
       "\n",
       "\\item The \\texttt{.*} operator needs the \\texttt{.} for element-wise operation. The first distance is multiplied by the first angle, the second by the second, and so on.\n",
       "\n",
       "\n",
       "\\item Transpose the array to make the shape 2xM instead of the default Mx2 output from \\texttt{hcat} ({\\textasciitilde}python's hstack), so that the dimension containing (x,y) matches that of \\texttt{real\\_coords}.\n",
       "\n",
       "\n",
       "\\item Copy the transposed array to change the type from \\texttt{transpose(::Matrix\\{Float64\\}) with eltype Float64} to just \\texttt{Matrix\\{Float64\\}}.\n",
       "\n",
       "\\end{itemize}\n"
      ],
      "text/markdown": [
       "### 8. Create the synthetic data\n",
       "\n",
       "Create `synth_coords`, which contains `M` sets of (x, y) coordinates. \n",
       "\n",
       "Julia notes:\n",
       "\n",
       "  * `cos.` takes the cosine of each angle in the input array. Just `cos` without the \"`.`\" fails.\n",
       "  * The `.*` operator needs the `.` for element-wise operation. The first distance is multiplied by the first angle, the second by the second, and so on.\n",
       "  * Transpose the array to make the shape 2xM instead of the default Mx2 output from `hcat` (~python's hstack), so that the dimension containing (x,y) matches that of `real_coords`.\n",
       "  * Copy the transposed array to change the type from `transpose(::Matrix{Float64}) with eltype Float64` to just `Matrix{Float64}`.\n"
      ],
      "text/plain": [
       "\u001b[1m  8. Create the synthetic data\u001b[22m\n",
       "\u001b[1m  ––––––––––––––––––––––––––––––\u001b[22m\n",
       "\n",
       "  Create \u001b[36msynth_coords\u001b[39m, which contains \u001b[36mM\u001b[39m sets of (x, y) coordinates.\n",
       "\n",
       "  Julia notes:\n",
       "\n",
       "    •  \u001b[36mcos.\u001b[39m takes the cosine of each angle in the input array. Just \u001b[36mcos\u001b[39m\n",
       "       without the \"\u001b[36m.\u001b[39m\" fails.\n",
       "\n",
       "    •  The \u001b[36m.*\u001b[39m operator needs the \u001b[36m.\u001b[39m for element-wise operation. The first\n",
       "       distance is multiplied by the first angle, the second by the\n",
       "       second, and so on.\n",
       "\n",
       "    •  Transpose the array to make the shape 2xM instead of the default\n",
       "       Mx2 output from \u001b[36mhcat\u001b[39m (~python's hstack), so that the dimension\n",
       "       containing (x,y) matches that of \u001b[36mreal_coords\u001b[39m.\n",
       "\n",
       "    •  Copy the transposed array to change the type from\n",
       "       \u001b[36mtranspose(::Matrix{Float64}) with eltype Float64\u001b[39m to just\n",
       "       \u001b[36mMatrix{Float64}\u001b[39m."
      ]
     },
     "execution_count": 29,
     "metadata": {},
     "output_type": "execute_result"
    }
   ],
   "source": [
    "# ╔═╡ d4aad585-d916-49b9-bca1-d0bbc1212103\n",
    "md\"\"\"\n",
    "### 8. Create the synthetic data\n",
    "\n",
    "Create `synth_coords`, which contains `M` sets of (x, y) coordinates. \n",
    "\n",
    "Julia notes:\n",
    "\n",
    "+ `cos.` takes the cosine of each angle in the input array. Just `cos` without the \"`.`\" fails.\n",
    "\n",
    "+ The `.*` operator needs the `.` for element-wise operation. The first distance is multiplied by the first angle, the second by the second, and so on.\n",
    "\n",
    "+ Transpose the array to make the shape 2xM instead of the default Mx2 output from `hcat` (~python's hstack), so that the dimension containing (x,y) matches that of `real_coords`.\n",
    "\n",
    "+ Copy the transposed array to change the type from `transpose(::Matrix{Float64}) with eltype Float64` to just `Matrix{Float64}`.\n",
    "\"\"\""
   ]
  },
  {
   "cell_type": "code",
   "execution_count": 30,
   "id": "91d8d1e1",
   "metadata": {},
   "outputs": [
    {
     "data": {
      "text/plain": [
       "make_synth_coords (generic function with 1 method)"
      ]
     },
     "execution_count": 30,
     "metadata": {},
     "output_type": "execute_result"
    }
   ],
   "source": [
    "# ╔═╡ 1e92cea5-e980-417b-a7ac-407a648503d7\n",
    "function make_synth_coords(\n",
    "\t\tcoords_base,\n",
    "\t\tdistances_synth,\n",
    "\t\tangles_random,\n",
    "\t\tindices_random\n",
    "\t)\n",
    "\t\"\"\"\n",
    "\tProbably want coords_base to be standardised at this point.\n",
    "\t\"\"\"\n",
    "\t# Find the shifts from the real data coordinates.\n",
    "\tx_shifts = distances_synth .* cos.(angles_random)\n",
    "\ty_shifts = distances_synth .* sin.(angles_random)\n",
    "\t\n",
    "\tcoords_synth = copy(transpose(hcat(\n",
    "\t\tcoords_base[1, indices_random] + x_shifts,\n",
    "\t\tcoords_base[2, indices_random] + y_shifts\n",
    "\t)))\n",
    "\treturn coords_synth\n",
    "end"
   ]
  },
  {
   "cell_type": "code",
   "execution_count": 31,
   "id": "ee3bb47b",
   "metadata": {},
   "outputs": [
    {
     "data": {
      "text/latex": [
       "\\subsubsection{9. Undo the standardisation}\n"
      ],
      "text/markdown": [
       "### 9. Undo the standardisation\n"
      ],
      "text/plain": [
       "\u001b[1m  9. Undo the standardisation\u001b[22m\n",
       "\u001b[1m  –––––––––––––––––––––––––––––\u001b[22m"
      ]
     },
     "execution_count": 31,
     "metadata": {},
     "output_type": "execute_result"
    }
   ],
   "source": [
    "# ╔═╡ 2741adb2-4ceb-47c9-ac78-7cef038e7371\n",
    "md\"\"\"\n",
    "### 9. Undo the standardisation\n",
    "\"\"\""
   ]
  },
  {
   "cell_type": "code",
   "execution_count": 32,
   "id": "fc94691b",
   "metadata": {},
   "outputs": [
    {
     "data": {
      "text/plain": [
       "unstandardise_synth (generic function with 1 method)"
      ]
     },
     "execution_count": 32,
     "metadata": {},
     "output_type": "execute_result"
    }
   ],
   "source": [
    "# ╔═╡ 989369dd-aaf5-4e63-9ea8-956008db525f\n",
    "function unstandardise_synth(\n",
    "\t\tcoords_synth_standardised, \n",
    "\t\tstd_base, \n",
    "\t\tmean_base\n",
    "\t)\n",
    "\tcoords_synth = coords_synth_standardised .* std_base .+ mean_base\n",
    "\treturn coords_synth\n",
    "end"
   ]
  },
  {
   "cell_type": "code",
   "execution_count": 33,
   "id": "bd83b3e3",
   "metadata": {},
   "outputs": [
    {
     "data": {
      "text/latex": [
       "\\subsection{Combined function for synthetic data creation}\n"
      ],
      "text/markdown": [
       "## Combined function for synthetic data creation\n"
      ],
      "text/plain": [
       "\u001b[1m  Combined function for synthetic data creation\u001b[22m\n",
       "\u001b[1m  ===============================================\u001b[22m"
      ]
     },
     "execution_count": 33,
     "metadata": {},
     "output_type": "execute_result"
    }
   ],
   "source": [
    "# ╔═╡ ada78b87-3e16-4c5e-9f5b-c2ed17805ec1\n",
    "md\"\"\"\n",
    "## Combined function for synthetic data creation\n",
    "\"\"\""
   ]
  },
  {
   "cell_type": "code",
   "execution_count": 34,
   "id": "96c3be5c",
   "metadata": {},
   "outputs": [
    {
     "data": {
      "text/plain": [
       "create_synth_data_from_base (generic function with 1 method)"
      ]
     },
     "execution_count": 34,
     "metadata": {},
     "output_type": "execute_result"
    }
   ],
   "source": [
    "# ╔═╡ 3e3ce823-7c8e-4f24-9383-2eb3ff17fcac\n",
    "function create_synth_data_from_base(\n",
    "\t\tcoords_base,\n",
    "\t\tM;\n",
    "\t\toption_distance=1,\n",
    "\t\trandom_seed=42\n",
    "\t)\n",
    "\t\"\"\"\n",
    "\tInputs:\n",
    "\tcoords_base     - Starting coordinates.\n",
    "\tM               - number of synthetic points to create.\n",
    "\toption_distance - which gamma scaling factor to use. \n",
    "\t                  Values are 1, 2, 3 and match the cell near the top\n",
    "\t                  of this notebook.\n",
    "\trandom_seed     - For generating the same results each time.\n",
    "\t\"\"\"\n",
    "\t# N is the number of base coordinates.\n",
    "\tN = size(coords_base)[2]\n",
    "\t# d is the number of dimensions of the base coordinates.\n",
    "\td = size(coords_base)[1]\n",
    "\t\n",
    "\t# Step 1:\n",
    "\tcoords_base_standardised, mean_base, std_base = \n",
    "\t\tstandardise_base(coords_base, d)\n",
    "\t# Step 2:\n",
    "\tsorted_distances_base = find_sorted_neighbour_distances(\n",
    "\t\tcoords_base_standardised, d=d)\n",
    "\t# Step 3:\n",
    "\tindices_random = get_indices_of_base_points(N, M, random_seed=random_seed)\n",
    "\t# Step 4:\n",
    "\tindices_neighbours = get_indices_of_neighbours(M, random_seed=random_seed)\n",
    "\t# Step 5:\n",
    "\tdistances_from_base = get_distances_to_nth_neighbours(\n",
    "\t\tsorted_distances_base,\n",
    "\t\tindices_neighbours,\n",
    "\t\tindices_random\n",
    "\t)\n",
    "\t# Step 6:\n",
    "\tdistances_synth = make_distances_from_base_points(\n",
    "\t\tdistances_from_base,\n",
    "\t\tN,\n",
    "\t\tM,\n",
    "\t\td=d,\n",
    "\t\toption_distance=option_distance,\n",
    "\t\tsigma=0.4242\n",
    "\t)\n",
    "\t# Step 7:\n",
    "\tangles_random = get_random_angles(M, random_seed=random_seed)\n",
    "\t# Step 8:\n",
    "\tcoords_synth_standardised = make_synth_coords(\n",
    "\t\tcoords_base_standardised,\n",
    "\t\tdistances_synth,\n",
    "\t\tangles_random,\n",
    "\t\tindices_random\n",
    "\t)\n",
    "\t# Step 9:\n",
    "\tcoords_synth = unstandardise_synth(\n",
    "\t\tcoords_synth_standardised, \n",
    "\t\tstd_base,\n",
    "\t\tmean_base\n",
    "\t)\n",
    "\n",
    "\t# Keep track of the real data points used \n",
    "\t# to create each synthetic point in the following array.\n",
    "\t# The real data can be sampled more than once.\n",
    "\tcoords_base_for_synth = coords_base[:, indices_random]\n",
    "\treturn coords_synth, coords_base_for_synth, coords_synth_standardised\n",
    "end"
   ]
  },
  {
   "cell_type": "code",
   "execution_count": 35,
   "id": "254503ec",
   "metadata": {},
   "outputs": [
    {
     "data": {
      "text/latex": [
       "\\subsection{Create synthetic data}\n",
       "We'll create a few different sets of synthetic data.\n",
       "\n",
       "\\begin{tabular}\n",
       "{r | r | r}\n",
       "Set & Generated from & Description \\\\\n",
       "\\hline\n",
       "\\texttt{\\_synth} & \\texttt{\\_real} & Synthetic \\\\\n",
       "\\texttt{\\_synth2} & \\texttt{\\_synth} & Double-synthetic \\\\\n",
       "\\texttt{\\_synth3} & \\texttt{\\_synth} & Triple-synthetic \\\\\n",
       "\\end{tabular}\n"
      ],
      "text/markdown": [
       "## Create synthetic data\n",
       "\n",
       "We'll create a few different sets of synthetic data.\n",
       "\n",
       "|       Set | Generated from |      Description |\n",
       "| ---------:| --------------:| ----------------:|\n",
       "|  `_synth` |        `_real` |        Synthetic |\n",
       "| `_synth2` |       `_synth` | Double-synthetic |\n",
       "| `_synth3` |       `_synth` | Triple-synthetic |\n"
      ],
      "text/plain": [
       "\u001b[1m  Create synthetic data\u001b[22m\n",
       "\u001b[1m  =======================\u001b[22m\n",
       "\n",
       "  We'll create a few different sets of synthetic data.\n",
       "\n",
       "      Set Generated from      Description\n",
       "  ––––––– –––––––––––––– ––––––––––––––––\n",
       "   \u001b[36m_synth\u001b[39m          \u001b[36m_real\u001b[39m        Synthetic\n",
       "  \u001b[36m_synth2\u001b[39m         \u001b[36m_synth\u001b[39m Double-synthetic\n",
       "  \u001b[36m_synth3\u001b[39m         \u001b[36m_synth\u001b[39m Triple-synthetic"
      ]
     },
     "execution_count": 35,
     "metadata": {},
     "output_type": "execute_result"
    }
   ],
   "source": [
    "# ╔═╡ 7aa64e01-8e92-4110-9b6b-041766a9a9ba\n",
    "md\"\"\"\n",
    "## Create synthetic data\n",
    "\n",
    "We'll create a few different sets of synthetic data.\n",
    "\n",
    "| Set | Generated from | Description |\n",
    "| --- | --- | --- |\n",
    "| `_synth` | `_real` | Synthetic |\n",
    "| `_synth2` | `_synth` | Double-synthetic |\n",
    "| `_synth3` | `_synth` | Triple-synthetic |\n",
    "\"\"\""
   ]
  },
  {
   "cell_type": "code",
   "execution_count": 36,
   "id": "f3a9a19b",
   "metadata": {},
   "outputs": [
    {
     "data": {
      "text/plain": [
       "([51.94857038863454 49.20587434118819 … 51.156112792197035 49.94744614280313; 3.6655161294059235 2.19315938652388 … 2.3829450062209863 2.0398840495623713], [51.72670664157434 49.45543187899267 … 50.988469127341176 49.9068896891855; 3.2560188431961503 1.6968334606654933 … 2.3520062822941314 2.0186615499390603], [2.030716828763966 -0.7701461123629276 … 1.221452850590782 -0.012847111162315357; 1.8894957085776016 0.32547502261314676 … 0.5270760520782167 0.16265728240521043])"
      ]
     },
     "execution_count": 36,
     "metadata": {},
     "output_type": "execute_result"
    }
   ],
   "source": [
    "# ╔═╡ 484e61cd-e0e7-4abc-81cd-c1ad04edf7f2\n",
    "# Synthetic:\n",
    "coords_synth, coords_real_for_synth, coords_synth_standardised =\n",
    "\tcreate_synth_data_from_base(\n",
    "\t\tcoords_real,                      # Base new points on these coords\n",
    "\t\tM,                                # Number of points\n",
    "\t\toption_distance=option_distance,  # Gamma scaling factor\n",
    "\t\trandom_seed=42                    # Random seed for repeatability\n",
    "\t)"
   ]
  },
  {
   "cell_type": "code",
   "execution_count": 37,
   "id": "283593ee",
   "metadata": {},
   "outputs": [
    {
     "data": {
      "text/plain": [
       "([50.87912985014132 51.084580015890666 … 50.65052412884415 49.26411696126837; 2.844538042612893 3.1889905092446797 … 1.3247112284669003 1.2135400538746017], [50.742254648451684 51.43072028608324 … 50.352744313522265 49.19702075536628; 2.5961947249406894 2.5122667574830255 … 1.2706888713992286 1.1790258748508355], [0.869569135563041 1.0930994201304831 … 0.6208455497293615 -0.8875688512238966; 0.9257676489516169 1.3223299432988234 … -0.823983236335037 -0.9519727278683439])"
      ]
     },
     "execution_count": 37,
     "metadata": {},
     "output_type": "execute_result"
    }
   ],
   "source": [
    "# ╔═╡ b220f5c9-de8e-4f78-9712-2edcf8dc2e53\n",
    "# Double synthetic:\n",
    "coords_synth2, coords_synth_for_synth2, coords_synth2_standardised =\n",
    "\tcreate_synth_data_from_base(\n",
    "\t\tcoords_synth,                     # Base new points on these coords\n",
    "\t\tM,                                # Number of points\n",
    "\t\toption_distance=option_distance,  # Gamma scaling factor\n",
    "\t\trandom_seed=42                    # Random seed for repeatability\n",
    "\t)"
   ]
  },
  {
   "cell_type": "code",
   "execution_count": 38,
   "id": "95ab0130",
   "metadata": {},
   "outputs": [
    {
     "data": {
      "text/plain": [
       "([49.699279297396274 49.90896451936727 … 49.47568452900532 49.92737078399492; 1.2937390429332476 2.4360990256503725 … 0.8948897826879656 2.1268826808917036], [49.62797696974422 50.109452810947055 … 49.236951414701494 49.88116485395503; 1.1593425327789344 2.0289017309580406 … 0.849896517228877 2.1021908167668926], [-0.45967738681857334 -0.22185661586811162 … -0.7132740861919911 -0.2009805998908302; -0.8174943209568459 0.5022220589169102 … -1.2782666780156542 0.14499852056073906])"
      ]
     },
     "execution_count": 38,
     "metadata": {},
     "output_type": "execute_result"
    }
   ],
   "source": [
    "# ╔═╡ 279cf589-0e85-441c-b309-dd470c25e656\n",
    "# Triple synthetic:\n",
    "coords_synth3, coords_synth2_for_synth3, coords_synth3_standardised =\n",
    "\tcreate_synth_data_from_base(\n",
    "\t\tcoords_synth2,                    # Base new points on these coords\n",
    "\t\tM,                                # Number of points\n",
    "\t\toption_distance=option_distance,  # Gamma scaling factor\n",
    "\t\trandom_seed=42                    # Random seed for repeatability\n",
    "\t)"
   ]
  },
  {
   "cell_type": "code",
   "execution_count": 39,
   "id": "97a8fde2",
   "metadata": {},
   "outputs": [
    {
     "data": {
      "text/latex": [
       "\\subsubsection{Gather the coordinates}\n"
      ],
      "text/markdown": [
       "### Gather the coordinates\n"
      ],
      "text/plain": [
       "\u001b[1m  Gather the coordinates\u001b[22m\n",
       "\u001b[1m  ––––––––––––––––––––––––\u001b[22m"
      ]
     },
     "execution_count": 39,
     "metadata": {},
     "output_type": "execute_result"
    }
   ],
   "source": [
    "# ╔═╡ 43bb6106-874c-4857-8900-ee9185fcb1fd\n",
    "md\"\"\"### Gather the coordinates\"\"\""
   ]
  },
  {
   "cell_type": "code",
   "execution_count": 40,
   "id": "8cad2e69",
   "metadata": {},
   "outputs": [
    {
     "data": {
      "text/plain": [
       "3-element Vector{Matrix{Float64}}:\n",
       " [51.72670664157434 49.45543187899267 … 50.988469127341176 49.9068896891855; 3.2560188431961503 1.6968334606654933 … 2.3520062822941314 2.0186615499390603]\n",
       " [50.742254648451684 51.43072028608324 … 50.352744313522265 49.19702075536628; 2.5961947249406894 2.5122667574830255 … 1.2706888713992286 1.1790258748508355]\n",
       " [49.62797696974422 50.109452810947055 … 49.236951414701494 49.88116485395503; 1.1593425327789344 2.0289017309580406 … 0.849896517228877 2.1021908167668926]"
      ]
     },
     "execution_count": 40,
     "metadata": {},
     "output_type": "execute_result"
    }
   ],
   "source": [
    "# ╔═╡ 0f81692d-2ede-4c21-a3b1-a35c36d67723\n",
    "begin\n",
    "\t# Setup for the following plots\n",
    "\t# Coordinates for the scatter plot:\n",
    "\tcoords_datasets = [\n",
    "\t\tcoords_real,\n",
    "\t\tcoords_synth,\n",
    "\t\tcoords_synth2,\n",
    "\t\tcoords_synth3\n",
    "\t]\n",
    "\t# Each synthetic point is based off these points:\n",
    "\tcoords_base_data = [\n",
    "\t\t# -- nothing for real data,\n",
    "\t\tcoords_real_for_synth,\n",
    "\t\tcoords_synth_for_synth2,\n",
    "\t\tcoords_synth2_for_synth3\n",
    "\t]\n",
    "end"
   ]
  },
  {
   "cell_type": "code",
   "execution_count": 41,
   "id": "e4a23e33",
   "metadata": {},
   "outputs": [
    {
     "data": {
      "text/latex": [
       "\\subsection{Nearest-neighbour searches}\n"
      ],
      "text/markdown": [
       "## Nearest-neighbour searches\n"
      ],
      "text/plain": [
       "\u001b[1m  Nearest-neighbour searches\u001b[22m\n",
       "\u001b[1m  ============================\u001b[22m"
      ]
     },
     "execution_count": 41,
     "metadata": {},
     "output_type": "execute_result"
    }
   ],
   "source": [
    "# ╔═╡ 57609186-5331-4f3b-a648-31afa38c823e\n",
    "md\"\"\"\n",
    "## Nearest-neighbour searches\n",
    "\"\"\""
   ]
  },
  {
   "cell_type": "code",
   "execution_count": 42,
   "id": "13f7bd88",
   "metadata": {},
   "outputs": [
    {
     "data": {
      "text/latex": [
       "\\subsubsection{Build tree for distances to real points}\n",
       "First explicitly define the standardised version of the real data:\n",
       "\n"
      ],
      "text/markdown": [
       "### Build tree for distances to real points\n",
       "\n",
       "First explicitly define the standardised version of the real data:\n"
      ],
      "text/plain": [
       "\u001b[1m  Build tree for distances to real points\u001b[22m\n",
       "\u001b[1m  –––––––––––––––––––––––––––––––––––––––––\u001b[22m\n",
       "\n",
       "  First explicitly define the standardised version of the real data:"
      ]
     },
     "execution_count": 42,
     "metadata": {},
     "output_type": "execute_result"
    }
   ],
   "source": [
    "# ╔═╡ 94c7164e-f1ca-41be-ab7b-98950f279573\n",
    "md\"\"\"\n",
    "### Build tree for distances to real points\n",
    "\n",
    "First explicitly define the standardised version of the real data:\n",
    "\"\"\""
   ]
  },
  {
   "cell_type": "code",
   "execution_count": 43,
   "id": "edeb43b8",
   "metadata": {},
   "outputs": [
    {
     "data": {
      "text/plain": [
       "([0.8458962928660583 -0.8515035250310075 … -0.9636954184479655 1.2317155767550936; 0.22945758069308178 -1.0896070971997596 … -0.06416434824323976 0.6838286933670497], [49.96002645171029; 1.8867597663112843;;], [0.9792325098003039; 0.9413921159067749;;])"
      ]
     },
     "execution_count": 43,
     "metadata": {},
     "output_type": "execute_result"
    }
   ],
   "source": [
    "# ╔═╡ 42af1204-8422-4b08-ae2c-9c9646ab3a1f\n",
    "coords_real_standardised, mean_real, std_real = \n",
    "\tstandardise_base(coords_real, size(coords_real)[1])"
   ]
  },
  {
   "cell_type": "code",
   "execution_count": 44,
   "id": "6266b9ae",
   "metadata": {},
   "outputs": [
    {
     "data": {
      "text/latex": [
       "Build a tree using the NearestNeighbors package:\n",
       "\n"
      ],
      "text/markdown": [
       "Build a tree using the NearestNeighbors package:\n"
      ],
      "text/plain": [
       "  Build a tree using the NearestNeighbors package:"
      ]
     },
     "execution_count": 44,
     "metadata": {},
     "output_type": "execute_result"
    }
   ],
   "source": [
    "# ╔═╡ d15afb2a-5c45-4f7f-9ead-18b1c873a907\n",
    "md\"\"\"Build a tree using the NearestNeighbors package:\"\"\""
   ]
  },
  {
   "cell_type": "code",
   "execution_count": 45,
   "id": "b2132a70",
   "metadata": {},
   "outputs": [
    {
     "data": {
      "text/plain": [
       "KDTree{StaticArraysCore.SVector{2, Float64}, Euclidean, Float64}\n",
       "  Number of points: 100\n",
       "  Dimensions: 2\n",
       "  Metric: Euclidean(0.0)\n",
       "  Reordered: true"
      ]
     },
     "execution_count": 45,
     "metadata": {},
     "output_type": "execute_result"
    }
   ],
   "source": [
    "# ╔═╡ 23cfd495-db72-4cea-8e50-4dc2c84bb124\n",
    "kdtree = KDTree(coords_real_standardised)"
   ]
  },
  {
   "cell_type": "code",
   "execution_count": 46,
   "id": "98f70350",
   "metadata": {},
   "outputs": [
    {
     "data": {
      "text/latex": [
       "\\subsubsection{Calculate the distances}\n",
       "Compare the following sets of distances:\n",
       "\n",
       "\\begin{itemize}\n",
       "\\item Real to real\n",
       "\n",
       "\n",
       "\\item Synthetic to real\n",
       "\n",
       "\n",
       "\\item Double synthetic to real\n",
       "\n",
       "\n",
       "\\item Triple synthetic to real\n",
       "\n",
       "\\end{itemize}\n",
       "Define this function to save some copy and pasting:\n",
       "\n"
      ],
      "text/markdown": [
       "### Calculate the distances\n",
       "\n",
       "Compare the following sets of distances:\n",
       "\n",
       "  * Real to real\n",
       "  * Synthetic to real\n",
       "  * Double synthetic to real\n",
       "  * Triple synthetic to real\n",
       "\n",
       "Define this function to save some copy and pasting:\n"
      ],
      "text/plain": [
       "\u001b[1m  Calculate the distances\u001b[22m\n",
       "\u001b[1m  –––––––––––––––––––––––––\u001b[22m\n",
       "\n",
       "  Compare the following sets of distances:\n",
       "\n",
       "    •  Real to real\n",
       "\n",
       "    •  Synthetic to real\n",
       "\n",
       "    •  Double synthetic to real\n",
       "\n",
       "    •  Triple synthetic to real\n",
       "\n",
       "  Define this function to save some copy and pasting:"
      ]
     },
     "execution_count": 46,
     "metadata": {},
     "output_type": "execute_result"
    }
   ],
   "source": [
    "# ╔═╡ 01fa93d7-14db-49db-8873-15599a542ec7\n",
    "md\"\"\"\n",
    "### Calculate the distances\n",
    "\n",
    "Compare the following sets of distances:\n",
    "+ Real to real\n",
    "+ Synthetic to real\n",
    "+ Double synthetic to real\n",
    "+ Triple synthetic to real\n",
    "\n",
    "Define this function to save some copy and pasting:\n",
    "\"\"\""
   ]
  },
  {
   "cell_type": "code",
   "execution_count": 47,
   "id": "19793ef0",
   "metadata": {},
   "outputs": [
    {
     "data": {
      "text/plain": [
       "find_nearest_neighbour_matrices (generic function with 1 method)"
      ]
     },
     "execution_count": 47,
     "metadata": {},
     "output_type": "execute_result"
    }
   ],
   "source": [
    "# ╔═╡ d2dde1d0-a903-415f-910a-019b1255c506\n",
    "function find_nearest_neighbour_matrices(tree, coords; n=2)\n",
    "\tidxs_vector_to_real, dists_vector_to_real = \n",
    "\t\tknn(kdtree, coords, n, true)\n",
    "\t# Convert to a sliceable matrix by splatting (...) and then\n",
    "\t# h-concatenating the result:\n",
    "\tdists_to_real = hcat(dists_vector_to_real...)\n",
    "\tidxs_to_real = hcat(idxs_vector_to_real...)\n",
    "\treturn dists_to_real, idxs_to_real\n",
    "end"
   ]
  },
  {
   "cell_type": "code",
   "execution_count": 48,
   "id": "8c2b44b1",
   "metadata": {},
   "outputs": [
    {
     "data": {
      "text/plain": [
       "([0.06698664856700891 0.08990025176011128 … 0.18037775361900915 0.11492405599010991; 0.08090862244968192 0.0975355510919075 … 0.18081906349535798 0.1467982176665408], [61 92 … 23 80; 44 30 … 38 27])"
      ]
     },
     "execution_count": 48,
     "metadata": {},
     "output_type": "execute_result"
    }
   ],
   "source": [
    "# ╔═╡ 7bc80b82-3123-4cd4-8066-199dd2466b03\n",
    "# Real - real\n",
    "begin\n",
    "\t# Real - real\n",
    "\tdists_real_to_real, idxs_real_to_real = \n",
    "\t\tfind_nearest_neighbour_matrices(kdtree, coords_real_standardised)\n",
    "\t# Synthetic - real\n",
    "\tdists_real_to_synth, idxs_real_to_synth = \n",
    "\t\tfind_nearest_neighbour_matrices(kdtree, coords_synth_standardised)\n",
    "\t# Double synthetic - real\n",
    "\tdists_real_to_synth2, idxs_real_to_synth2 = \n",
    "\t\tfind_nearest_neighbour_matrices(kdtree, coords_synth2_standardised)\n",
    "\t# Triple synthetic - real\n",
    "\tdists_real_to_synth3, idxs_real_to_synth3 = \n",
    "\t\tfind_nearest_neighbour_matrices(kdtree, coords_synth3_standardised)\n",
    "end"
   ]
  },
  {
   "cell_type": "code",
   "execution_count": 49,
   "id": "0bb377ce",
   "metadata": {},
   "outputs": [
    {
     "data": {
      "text/latex": [
       "\\subsubsection{Gather the distances}\n",
       "For the real-real nearest-neighbours, we want to take the second-nearest point because the first-nearest is just the point itself.\n",
       "\n",
       "For all other comparisons, we want the actual nearest point.\n",
       "\n"
      ],
      "text/markdown": [
       "### Gather the distances\n",
       "\n",
       "For the real-real nearest-neighbours, we want to take the second-nearest point because the first-nearest is just the point itself.\n",
       "\n",
       "For all other comparisons, we want the actual nearest point.\n"
      ],
      "text/plain": [
       "\u001b[1m  Gather the distances\u001b[22m\n",
       "\u001b[1m  ––––––––––––––––––––––\u001b[22m\n",
       "\n",
       "  For the real-real nearest-neighbours, we want to take the second-nearest\n",
       "  point because the first-nearest is just the point itself.\n",
       "\n",
       "  For all other comparisons, we want the actual nearest point."
      ]
     },
     "execution_count": 49,
     "metadata": {},
     "output_type": "execute_result"
    }
   ],
   "source": [
    "# ╔═╡ 66814112-046a-4a06-ab07-ab1da7d38491\n",
    "md\"\"\"\n",
    "### Gather the distances\n",
    "\n",
    "For the real-real nearest-neighbours, we want to take the second-nearest point because the first-nearest is just the point itself.\n",
    "\n",
    "For all other comparisons, we want the actual nearest point.\n",
    "\"\"\""
   ]
  },
  {
   "cell_type": "code",
   "execution_count": 50,
   "id": "994283c7",
   "metadata": {},
   "outputs": [
    {
     "data": {
      "text/plain": [
       "4-element Vector{Vector{Float64}}:\n",
       " [0.18191517227622186, 0.0936840883314771, 0.15531073660497954, 0.07883376318265094, 0.15677337699417498, 0.12161511574228233, 0.10427596751595937, 0.1611339937847255, 0.12098988740852311, 0.1091559693736527  …  0.1648236752181314, 0.11748911022080902, 0.17011851563677408, 0.2166031179831545, 0.19684088993701404, 0.042874094784002566, 0.16956727265608407, 0.3712518941381766, 0.027689102343483145, 0.21023723421531448]\n",
       " [0.2777867799271748, 0.21245148533571037, 0.09423134812649032, 0.1226879094220625, 0.035289427676991475, 0.032120561774459974, 0.02844033046563421, 0.6562973471848216, 0.01770205605426264, 0.039534688813720145  …  0.13335279187967455, 0.23807060856190262, 0.0867003952585646, 0.10331032562160632, 0.07864345399494345, 0.2932288093385307, 0.059155371584106026, 0.22402216336030056, 0.1570882366676422, 0.01587147924207864]\n",
       " [0.16759854514158212, 0.12657883057733663, 0.9929551685688077, 0.0919235024314397, 0.08691372681447992, 0.04688095093601668, 0.06293436988188508, 0.1745834965423262, 0.23759224373258922, 0.39606587201879007  …  0.6966038004171098, 0.06367875889492394, 0.08470921764048157, 0.03751108364745406, 0.14888694499443095, 0.09314130229392845, 0.37412266293519475, 0.05513021545105071, 0.35618535936372875, 0.1422811560771701]\n",
       " [0.06698664856700891, 0.08990025176011128, 0.17049653751384397, 0.12255834340026514, 0.0855094369748054, 0.09218886831782973, 0.20265820273332508, 0.204519510902486, 0.05277566344791106, 0.105806973096393  …  0.08223391298204376, 0.044559654899833955, 0.12328114714468798, 0.14282742552365107, 0.22524106798709992, 0.28424789951803026, 0.170962694510048, 0.18982127494615408, 0.18037775361900915, 0.11492405599010991]"
      ]
     },
     "execution_count": 50,
     "metadata": {},
     "output_type": "execute_result"
    }
   ],
   "source": [
    "# ╔═╡ 3f815f54-2dd8-44a9-9378-2fb29d330ade\n",
    "begin\n",
    "\t# Distances for the histograms:\n",
    "\tdists_datasets = [\n",
    "\t\tdists_real_to_real[2, :],\n",
    "\t\tdists_real_to_synth[1, :],\n",
    "\t\tdists_real_to_synth2[1, :],\n",
    "\t\tdists_real_to_synth3[1, :]\n",
    "\t]\n",
    "end"
   ]
  },
  {
   "cell_type": "code",
   "execution_count": 51,
   "id": "8bc64c7c",
   "metadata": {},
   "outputs": [
    {
     "data": {
      "text/latex": [
       "\\subsection{Plot the real and synthetic points.}\n",
       "Toggle for whether or not to show the real data in the following plot (\\texttt{show\\_real\\_data} = \\texttt{true} or \\texttt{false}):\n",
       "\n"
      ],
      "text/markdown": [
       "## Plot the real and synthetic points.\n",
       "\n",
       "Toggle for whether or not to show the real data in the following plot (`show_real_data` = `true` or `false`):\n"
      ],
      "text/plain": [
       "\u001b[1m  Plot the real and synthetic points.\u001b[22m\n",
       "\u001b[1m  =====================================\u001b[22m\n",
       "\n",
       "  Toggle for whether or not to show the real data in the following plot\n",
       "  (\u001b[36mshow_real_data\u001b[39m = \u001b[36mtrue\u001b[39m or \u001b[36mfalse\u001b[39m):"
      ]
     },
     "execution_count": 51,
     "metadata": {},
     "output_type": "execute_result"
    }
   ],
   "source": [
    "# ╔═╡ 20180de0-6069-4721-81f6-86136f740f2b\n",
    "md\"\"\"\n",
    "## Plot the real and synthetic points.\n",
    "\n",
    "Toggle for whether or not to show the real data in the following plot (`show_real_data` = `true` or `false`):\n",
    "\"\"\""
   ]
  },
  {
   "cell_type": "code",
   "execution_count": 52,
   "id": "6ef577fe",
   "metadata": {},
   "outputs": [
    {
     "data": {
      "text/plain": [
       "true"
      ]
     },
     "execution_count": 52,
     "metadata": {},
     "output_type": "execute_result"
    }
   ],
   "source": [
    "# ╔═╡ 6dc00535-c78a-4949-8737-2b5ccb77eccf\n",
    "begin\n",
    "\t# Toggle which data sets to show:\n",
    "\tshow_dataset = [\n",
    "\t\ttrue,  # Real\n",
    "\t\ttrue,  # Synthetic\n",
    "\t\ttrue,  # Double synthetic\n",
    "\t\ttrue   # Triple synthetic\n",
    "\t]\n",
    "\t# On the scatter, show lines connecting each synthetic point\n",
    "\t# from its base point:\n",
    "\tshow_connecting_lines = true\n",
    "end"
   ]
  },
  {
   "cell_type": "code",
   "execution_count": 53,
   "id": "a2fb3872",
   "metadata": {},
   "outputs": [
    {
     "data": {
      "text/plain": [
       "4-element Vector{String}:\n",
       " \"Real\"\n",
       " \"Synthetic\"\n",
       " \"Double synthetic\"\n",
       " \"Triple synthetic\""
      ]
     },
     "execution_count": 53,
     "metadata": {},
     "output_type": "execute_result"
    }
   ],
   "source": [
    "# ╔═╡ 45595315-c467-4504-8f1d-2b533205531f\n",
    "begin\n",
    "\t# Styles for the plots:\n",
    "\tcolours = [:blue, :red, :gold, :green]\n",
    "\tmarkers = [:square, :circle, :diamond, :star]\n",
    "\tlabels = [\"Real\", \"Synthetic\", \"Double synthetic\", \"Triple synthetic\"]\n",
    "end"
   ]
  },
  {
   "cell_type": "code",
   "execution_count": 54,
   "id": "d269d943",
   "metadata": {},
   "outputs": [
    {
     "data": {
      "text/latex": [
       "\\subsection{Scatter}\n"
      ],
      "text/markdown": [
       "## Scatter\n"
      ],
      "text/plain": [
       "\u001b[1m  Scatter\u001b[22m\n",
       "\u001b[1m  =========\u001b[22m"
      ]
     },
     "execution_count": 54,
     "metadata": {},
     "output_type": "execute_result"
    }
   ],
   "source": [
    "# ╔═╡ 4cacfd0f-903a-4738-a5e9-45ef965e797c\n",
    "md\"\"\"\n",
    "## Scatter\n",
    "\"\"\""
   ]
  },
  {
   "cell_type": "code",
   "execution_count": 55,
   "id": "5e3f8828",
   "metadata": {},
   "outputs": [
    {
     "data": {
      "image/svg+xml": [
       "<?xml version=\"1.0\" encoding=\"utf-8\"?>\n",
       "<svg xmlns=\"http://www.w3.org/2000/svg\" xmlns:xlink=\"http://www.w3.org/1999/xlink\" width=\"800\" height=\"800\" viewBox=\"0 0 3200 3200\">\n",
       "<defs>\n",
       "  <clipPath id=\"clip110\">\n",
       "    <rect x=\"0\" y=\"0\" width=\"3200\" height=\"3200\"/>\n",
       "  </clipPath>\n",
       "</defs>\n",
       "<path clip-path=\"url(#clip110)\" d=\"\n",
       "M0 3200 L3200 3200 L3200 0 L0 0  Z\n",
       "  \" fill=\"#ffffff\" fill-rule=\"evenodd\" fill-opacity=\"1\"/>\n",
       "<defs>\n",
       "  <clipPath id=\"clip111\">\n",
       "    <rect x=\"640\" y=\"320\" width=\"2241\" height=\"2241\"/>\n",
       "  </clipPath>\n",
       "</defs>\n",
       "<path clip-path=\"url(#clip110)\" d=\"\n",
       "M220.284 2966.14 L3152.76 2966.14 L3152.76 47.2441 L220.284 47.2441  Z\n",
       "  \" fill=\"#ffffff\" fill-rule=\"evenodd\" fill-opacity=\"1\"/>\n",
       "<defs>\n",
       "  <clipPath id=\"clip112\">\n",
       "    <rect x=\"220\" y=\"47\" width=\"2933\" height=\"2920\"/>\n",
       "  </clipPath>\n",
       "</defs>\n",
       "<polyline clip-path=\"url(#clip112)\" style=\"stroke:#000000; stroke-width:2; stroke-opacity:0.1; fill:none\" points=\"\n",
       "  375.579,2966.14 375.579,47.2441 \n",
       "  \"/>\n",
       "<polyline clip-path=\"url(#clip112)\" style=\"stroke:#000000; stroke-width:2; stroke-opacity:0.1; fill:none\" points=\"\n",
       "  800.138,2966.14 800.138,47.2441 \n",
       "  \"/>\n",
       "<polyline clip-path=\"url(#clip112)\" style=\"stroke:#000000; stroke-width:2; stroke-opacity:0.1; fill:none\" points=\"\n",
       "  1224.7,2966.14 1224.7,47.2441 \n",
       "  \"/>\n",
       "<polyline clip-path=\"url(#clip112)\" style=\"stroke:#000000; stroke-width:2; stroke-opacity:0.1; fill:none\" points=\"\n",
       "  1649.26,2966.14 1649.26,47.2441 \n",
       "  \"/>\n",
       "<polyline clip-path=\"url(#clip112)\" style=\"stroke:#000000; stroke-width:2; stroke-opacity:0.1; fill:none\" points=\"\n",
       "  2073.81,2966.14 2073.81,47.2441 \n",
       "  \"/>\n",
       "<polyline clip-path=\"url(#clip112)\" style=\"stroke:#000000; stroke-width:2; stroke-opacity:0.1; fill:none\" points=\"\n",
       "  2498.37,2966.14 2498.37,47.2441 \n",
       "  \"/>\n",
       "<polyline clip-path=\"url(#clip112)\" style=\"stroke:#000000; stroke-width:2; stroke-opacity:0.1; fill:none\" points=\"\n",
       "  2922.93,2966.14 2922.93,47.2441 \n",
       "  \"/>\n",
       "<polyline clip-path=\"url(#clip112)\" style=\"stroke:#000000; stroke-width:2; stroke-opacity:0.1; fill:none\" points=\"\n",
       "  220.284,2877.05 3152.76,2877.05 \n",
       "  \"/>\n",
       "<polyline clip-path=\"url(#clip112)\" style=\"stroke:#000000; stroke-width:2; stroke-opacity:0.1; fill:none\" points=\"\n",
       "  220.284,2367.57 3152.76,2367.57 \n",
       "  \"/>\n",
       "<polyline clip-path=\"url(#clip112)\" style=\"stroke:#000000; stroke-width:2; stroke-opacity:0.1; fill:none\" points=\"\n",
       "  220.284,1858.1 3152.76,1858.1 \n",
       "  \"/>\n",
       "<polyline clip-path=\"url(#clip112)\" style=\"stroke:#000000; stroke-width:2; stroke-opacity:0.1; fill:none\" points=\"\n",
       "  220.284,1348.62 3152.76,1348.62 \n",
       "  \"/>\n",
       "<polyline clip-path=\"url(#clip112)\" style=\"stroke:#000000; stroke-width:2; stroke-opacity:0.1; fill:none\" points=\"\n",
       "  220.284,839.15 3152.76,839.15 \n",
       "  \"/>\n",
       "<polyline clip-path=\"url(#clip112)\" style=\"stroke:#000000; stroke-width:2; stroke-opacity:0.1; fill:none\" points=\"\n",
       "  220.284,329.676 3152.76,329.676 \n",
       "  \"/>\n",
       "<polyline clip-path=\"url(#clip110)\" style=\"stroke:#000000; stroke-width:4; stroke-opacity:1; fill:none\" points=\"\n",
       "  220.284,2966.14 3152.76,2966.14 \n",
       "  \"/>\n",
       "<polyline clip-path=\"url(#clip110)\" style=\"stroke:#000000; stroke-width:4; stroke-opacity:1; fill:none\" points=\"\n",
       "  220.284,2966.14 220.284,47.2441 \n",
       "  \"/>\n",
       "<polyline clip-path=\"url(#clip110)\" style=\"stroke:#000000; stroke-width:4; stroke-opacity:1; fill:none\" points=\"\n",
       "  375.579,2966.14 375.579,2931.11 \n",
       "  \"/>\n",
       "<polyline clip-path=\"url(#clip110)\" style=\"stroke:#000000; stroke-width:4; stroke-opacity:1; fill:none\" points=\"\n",
       "  800.138,2966.14 800.138,2931.11 \n",
       "  \"/>\n",
       "<polyline clip-path=\"url(#clip110)\" style=\"stroke:#000000; stroke-width:4; stroke-opacity:1; fill:none\" points=\"\n",
       "  1224.7,2966.14 1224.7,2931.11 \n",
       "  \"/>\n",
       "<polyline clip-path=\"url(#clip110)\" style=\"stroke:#000000; stroke-width:4; stroke-opacity:1; fill:none\" points=\"\n",
       "  1649.26,2966.14 1649.26,2931.11 \n",
       "  \"/>\n",
       "<polyline clip-path=\"url(#clip110)\" style=\"stroke:#000000; stroke-width:4; stroke-opacity:1; fill:none\" points=\"\n",
       "  2073.81,2966.14 2073.81,2931.11 \n",
       "  \"/>\n",
       "<polyline clip-path=\"url(#clip110)\" style=\"stroke:#000000; stroke-width:4; stroke-opacity:1; fill:none\" points=\"\n",
       "  2498.37,2966.14 2498.37,2931.11 \n",
       "  \"/>\n",
       "<polyline clip-path=\"url(#clip110)\" style=\"stroke:#000000; stroke-width:4; stroke-opacity:1; fill:none\" points=\"\n",
       "  2922.93,2966.14 2922.93,2931.11 \n",
       "  \"/>\n",
       "<polyline clip-path=\"url(#clip110)\" style=\"stroke:#000000; stroke-width:4; stroke-opacity:1; fill:none\" points=\"\n",
       "  220.284,2877.05 255.474,2877.05 \n",
       "  \"/>\n",
       "<polyline clip-path=\"url(#clip110)\" style=\"stroke:#000000; stroke-width:4; stroke-opacity:1; fill:none\" points=\"\n",
       "  220.284,2367.57 255.474,2367.57 \n",
       "  \"/>\n",
       "<polyline clip-path=\"url(#clip110)\" style=\"stroke:#000000; stroke-width:4; stroke-opacity:1; fill:none\" points=\"\n",
       "  220.284,1858.1 255.474,1858.1 \n",
       "  \"/>\n",
       "<polyline clip-path=\"url(#clip110)\" style=\"stroke:#000000; stroke-width:4; stroke-opacity:1; fill:none\" points=\"\n",
       "  220.284,1348.62 255.474,1348.62 \n",
       "  \"/>\n",
       "<polyline clip-path=\"url(#clip110)\" style=\"stroke:#000000; stroke-width:4; stroke-opacity:1; fill:none\" points=\"\n",
       "  220.284,839.15 255.474,839.15 \n",
       "  \"/>\n",
       "<polyline clip-path=\"url(#clip110)\" style=\"stroke:#000000; stroke-width:4; stroke-opacity:1; fill:none\" points=\"\n",
       "  220.284,329.676 255.474,329.676 \n",
       "  \"/>\n",
       "<path clip-path=\"url(#clip110)\" d=\"M 0 0 M365.533 2993.13 L353.727 3011.57 L365.533 3011.57 L365.533 2993.13 M364.306 2989.05 L370.186 2989.05 L370.186 3011.57 L375.116 3011.57 L375.116 3015.46 L370.186 3015.46 L370.186 3023.61 L365.533 3023.61 L365.533 3015.46 L349.931 3015.46 L349.931 3010.95 L364.306 2989.05 Z\" fill=\"#000000\" fill-rule=\"evenodd\" fill-opacity=\"1\" /><path clip-path=\"url(#clip110)\" d=\"M 0 0 M379.005 2989.05 L401.227 2989.05 L401.227 2991.04 L388.681 3023.61 L383.797 3023.61 L395.602 2992.99 L379.005 2992.99 L379.005 2989.05 Z\" fill=\"#000000\" fill-rule=\"evenodd\" fill-opacity=\"1\" /><path clip-path=\"url(#clip110)\" d=\"M 0 0 M789.687 2993.13 L777.881 3011.57 L789.687 3011.57 L789.687 2993.13 M788.46 2989.05 L794.339 2989.05 L794.339 3011.57 L799.27 3011.57 L799.27 3015.46 L794.339 3015.46 L794.339 3023.61 L789.687 3023.61 L789.687 3015.46 L774.085 3015.46 L774.085 3010.95 L788.46 2989.05 Z\" fill=\"#000000\" fill-rule=\"evenodd\" fill-opacity=\"1\" /><path clip-path=\"url(#clip110)\" d=\"M 0 0 M814.339 3007.2 Q811.006 3007.2 809.085 3008.98 Q807.187 3010.76 807.187 3013.89 Q807.187 3017.01 809.085 3018.8 Q811.006 3020.58 814.339 3020.58 Q817.673 3020.58 819.594 3018.8 Q821.515 3016.99 821.515 3013.89 Q821.515 3010.76 819.594 3008.98 Q817.696 3007.2 814.339 3007.2 M809.663 3005.21 Q806.654 3004.47 804.964 3002.41 Q803.298 3000.35 803.298 2997.39 Q803.298 2993.24 806.238 2990.83 Q809.2 2988.43 814.339 2988.43 Q819.501 2988.43 822.441 2990.83 Q825.381 2993.24 825.381 2997.39 Q825.381 3000.35 823.691 3002.41 Q822.025 3004.47 819.038 3005.21 Q822.418 3006 824.293 3008.29 Q826.191 3010.58 826.191 3013.89 Q826.191 3018.91 823.112 3021.6 Q820.057 3024.28 814.339 3024.28 Q808.622 3024.28 805.543 3021.6 Q802.488 3018.91 802.488 3013.89 Q802.488 3010.58 804.386 3008.29 Q806.284 3006 809.663 3005.21 M807.951 2997.82 Q807.951 3000.51 809.617 3002.01 Q811.307 3003.52 814.339 3003.52 Q817.349 3003.52 819.038 3002.01 Q820.751 3000.51 820.751 2997.82 Q820.751 2995.14 819.038 2993.64 Q817.349 2992.13 814.339 2992.13 Q811.307 2992.13 809.617 2993.64 Q807.951 2995.14 807.951 2997.82 Z\" fill=\"#000000\" fill-rule=\"evenodd\" fill-opacity=\"1\" /><path clip-path=\"url(#clip110)\" d=\"M 0 0 M1214.29 2993.13 L1202.49 3011.57 L1214.29 3011.57 L1214.29 2993.13 M1213.07 2989.05 L1218.94 2989.05 L1218.94 3011.57 L1223.88 3011.57 L1223.88 3015.46 L1218.94 3015.46 L1218.94 3023.61 L1214.29 3023.61 L1214.29 3015.46 L1198.69 3015.46 L1198.69 3010.95 L1213.07 2989.05 Z\" fill=\"#000000\" fill-rule=\"evenodd\" fill-opacity=\"1\" /><path clip-path=\"url(#clip110)\" d=\"M 0 0 M1229.08 3022.89 L1229.08 3018.64 Q1230.84 3019.47 1232.65 3019.91 Q1234.45 3020.35 1236.19 3020.35 Q1240.82 3020.35 1243.25 3017.25 Q1245.7 3014.12 1246.05 3007.78 Q1244.71 3009.77 1242.65 3010.83 Q1240.59 3011.9 1238.09 3011.9 Q1232.9 3011.9 1229.87 3008.77 Q1226.86 3005.63 1226.86 3000.19 Q1226.86 2994.86 1230.01 2991.64 Q1233.16 2988.43 1238.39 2988.43 Q1244.38 2988.43 1247.53 2993.03 Q1250.7 2997.62 1250.7 3006.37 Q1250.7 3014.54 1246.81 3019.42 Q1242.95 3024.28 1236.4 3024.28 Q1234.64 3024.28 1232.83 3023.94 Q1231.03 3023.59 1229.08 3022.89 M1238.39 3008.24 Q1241.54 3008.24 1243.37 3006.09 Q1245.22 3003.94 1245.22 3000.19 Q1245.22 2996.46 1243.37 2994.31 Q1241.54 2992.13 1238.39 2992.13 Q1235.24 2992.13 1233.39 2994.31 Q1231.56 2996.46 1231.56 3000.19 Q1231.56 3003.94 1233.39 3006.09 Q1235.24 3008.24 1238.39 3008.24 Z\" fill=\"#000000\" fill-rule=\"evenodd\" fill-opacity=\"1\" /><path clip-path=\"url(#clip110)\" d=\"M 0 0 M1626.03 2989.05 L1644.38 2989.05 L1644.38 2992.99 L1630.31 2992.99 L1630.31 3001.46 Q1631.33 3001.11 1632.35 3000.95 Q1633.36 3000.76 1634.38 3000.76 Q1640.17 3000.76 1643.55 3003.94 Q1646.93 3007.11 1646.93 3012.52 Q1646.93 3018.1 1643.46 3021.2 Q1639.99 3024.28 1633.67 3024.28 Q1631.49 3024.28 1629.22 3023.91 Q1626.98 3023.54 1624.57 3022.8 L1624.57 3018.1 Q1626.65 3019.24 1628.87 3019.79 Q1631.1 3020.35 1633.57 3020.35 Q1637.58 3020.35 1639.92 3018.24 Q1642.25 3016.14 1642.25 3012.52 Q1642.25 3008.91 1639.92 3006.81 Q1637.58 3004.7 1633.57 3004.7 Q1631.7 3004.7 1629.82 3005.12 Q1627.97 3005.53 1626.03 3006.41 L1626.03 2989.05 Z\" fill=\"#000000\" fill-rule=\"evenodd\" fill-opacity=\"1\" /><path clip-path=\"url(#clip110)\" d=\"M 0 0 M1662 2992.13 Q1658.39 2992.13 1656.56 2995.7 Q1654.75 2999.24 1654.75 3006.37 Q1654.75 3013.47 1656.56 3017.04 Q1658.39 3020.58 1662 3020.58 Q1665.63 3020.58 1667.44 3017.04 Q1669.27 3013.47 1669.27 3006.37 Q1669.27 2999.24 1667.44 2995.7 Q1665.63 2992.13 1662 2992.13 M1662 2988.43 Q1667.81 2988.43 1670.86 2993.03 Q1673.94 2997.62 1673.94 3006.37 Q1673.94 3015.09 1670.86 3019.7 Q1667.81 3024.28 1662 3024.28 Q1656.19 3024.28 1653.11 3019.7 Q1650.05 3015.09 1650.05 3006.37 Q1650.05 2997.62 1653.11 2993.03 Q1656.19 2988.43 1662 2988.43 Z\" fill=\"#000000\" fill-rule=\"evenodd\" fill-opacity=\"1\" /><path clip-path=\"url(#clip110)\" d=\"M 0 0 M2051.2 2989.05 L2069.56 2989.05 L2069.56 2992.99 L2055.48 2992.99 L2055.48 3001.46 Q2056.5 3001.11 2057.52 3000.95 Q2058.54 3000.76 2059.56 3000.76 Q2065.34 3000.76 2068.72 3003.94 Q2072.1 3007.11 2072.1 3012.52 Q2072.1 3018.1 2068.63 3021.2 Q2065.16 3024.28 2058.84 3024.28 Q2056.66 3024.28 2054.39 3023.91 Q2052.15 3023.54 2049.74 3022.8 L2049.74 3018.1 Q2051.82 3019.24 2054.05 3019.79 Q2056.27 3020.35 2058.75 3020.35 Q2062.75 3020.35 2065.09 3018.24 Q2067.43 3016.14 2067.43 3012.52 Q2067.43 3008.91 2065.09 3006.81 Q2062.75 3004.7 2058.75 3004.7 Q2056.87 3004.7 2055 3005.12 Q2053.14 3005.53 2051.2 3006.41 L2051.2 2989.05 Z\" fill=\"#000000\" fill-rule=\"evenodd\" fill-opacity=\"1\" /><path clip-path=\"url(#clip110)\" d=\"M 0 0 M2077.98 3019.68 L2085.62 3019.68 L2085.62 2993.31 L2077.31 2994.98 L2077.31 2990.72 L2085.57 2989.05 L2090.25 2989.05 L2090.25 3019.68 L2097.89 3019.68 L2097.89 3023.61 L2077.98 3023.61 L2077.98 3019.68 Z\" fill=\"#000000\" fill-rule=\"evenodd\" fill-opacity=\"1\" /><path clip-path=\"url(#clip110)\" d=\"M 0 0 M2475.94 2989.05 L2494.3 2989.05 L2494.3 2992.99 L2480.23 2992.99 L2480.23 3001.46 Q2481.24 3001.11 2482.26 3000.95 Q2483.28 3000.76 2484.3 3000.76 Q2490.09 3000.76 2493.47 3003.94 Q2496.85 3007.11 2496.85 3012.52 Q2496.85 3018.1 2493.37 3021.2 Q2489.9 3024.28 2483.58 3024.28 Q2481.41 3024.28 2479.14 3023.91 Q2476.89 3023.54 2474.48 3022.8 L2474.48 3018.1 Q2476.57 3019.24 2478.79 3019.79 Q2481.01 3020.35 2483.49 3020.35 Q2487.49 3020.35 2489.83 3018.24 Q2492.17 3016.14 2492.17 3012.52 Q2492.17 3008.91 2489.83 3006.81 Q2487.49 3004.7 2483.49 3004.7 Q2481.61 3004.7 2479.74 3005.12 Q2477.89 3005.53 2475.94 3006.41 L2475.94 2989.05 Z\" fill=\"#000000\" fill-rule=\"evenodd\" fill-opacity=\"1\" /><path clip-path=\"url(#clip110)\" d=\"M 0 0 M2505.94 3019.68 L2522.26 3019.68 L2522.26 3023.61 L2500.32 3023.61 L2500.32 3019.68 Q2502.98 3016.92 2507.56 3012.29 Q2512.17 3007.64 2513.35 3006.3 Q2515.6 3003.77 2516.48 3002.04 Q2517.38 3000.28 2517.38 2998.59 Q2517.38 2995.83 2515.43 2994.1 Q2513.51 2992.36 2510.41 2992.36 Q2508.21 2992.36 2505.76 2993.13 Q2503.33 2993.89 2500.55 2995.44 L2500.55 2990.72 Q2503.37 2989.58 2505.83 2989.01 Q2508.28 2988.43 2510.32 2988.43 Q2515.69 2988.43 2518.88 2991.11 Q2522.08 2993.8 2522.08 2998.29 Q2522.08 3000.42 2521.27 3002.34 Q2520.48 3004.24 2518.37 3006.83 Q2517.79 3007.5 2514.69 3010.72 Q2511.59 3013.91 2505.94 3019.68 Z\" fill=\"#000000\" fill-rule=\"evenodd\" fill-opacity=\"1\" /><path clip-path=\"url(#clip110)\" d=\"M 0 0 M2900.03 2989.05 L2918.38 2989.05 L2918.38 2992.99 L2904.31 2992.99 L2904.31 3001.46 Q2905.33 3001.11 2906.35 3000.95 Q2907.37 3000.76 2908.38 3000.76 Q2914.17 3000.76 2917.55 3003.94 Q2920.93 3007.11 2920.93 3012.52 Q2920.93 3018.1 2917.46 3021.2 Q2913.99 3024.28 2907.67 3024.28 Q2905.49 3024.28 2903.22 3023.91 Q2900.98 3023.54 2898.57 3022.8 L2898.57 3018.1 Q2900.65 3019.24 2902.87 3019.79 Q2905.1 3020.35 2907.57 3020.35 Q2911.58 3020.35 2913.92 3018.24 Q2916.25 3016.14 2916.25 3012.52 Q2916.25 3008.91 2913.92 3006.81 Q2911.58 3004.7 2907.57 3004.7 Q2905.7 3004.7 2903.82 3005.12 Q2901.97 3005.53 2900.03 3006.41 L2900.03 2989.05 Z\" fill=\"#000000\" fill-rule=\"evenodd\" fill-opacity=\"1\" /><path clip-path=\"url(#clip110)\" d=\"M 0 0 M2940.17 3004.98 Q2943.52 3005.7 2945.4 3007.96 Q2947.3 3010.23 2947.3 3013.57 Q2947.3 3018.68 2943.78 3021.48 Q2940.26 3024.28 2933.78 3024.28 Q2931.6 3024.28 2929.29 3023.84 Q2926.99 3023.43 2924.54 3022.57 L2924.54 3018.06 Q2926.49 3019.19 2928.8 3019.77 Q2931.12 3020.35 2933.64 3020.35 Q2938.04 3020.35 2940.33 3018.61 Q2942.64 3016.88 2942.64 3013.57 Q2942.64 3010.51 2940.49 3008.8 Q2938.36 3007.06 2934.54 3007.06 L2930.51 3007.06 L2930.51 3003.22 L2934.73 3003.22 Q2938.18 3003.22 2940 3001.85 Q2941.83 3000.46 2941.83 2997.87 Q2941.83 2995.21 2939.93 2993.8 Q2938.06 2992.36 2934.54 2992.36 Q2932.62 2992.36 2930.42 2992.78 Q2928.22 2993.2 2925.58 2994.07 L2925.58 2989.91 Q2928.24 2989.17 2930.56 2988.8 Q2932.9 2988.43 2934.96 2988.43 Q2940.28 2988.43 2943.38 2990.86 Q2946.49 2993.26 2946.49 2997.39 Q2946.49 3000.26 2944.84 3002.25 Q2943.2 3004.21 2940.17 3004.98 Z\" fill=\"#000000\" fill-rule=\"evenodd\" fill-opacity=\"1\" /><path clip-path=\"url(#clip110)\" d=\"M 0 0 M150.02 2879.44 L162.497 2879.44 L162.497 2883.24 L150.02 2883.24 L150.02 2879.44 Z\" fill=\"#000000\" fill-rule=\"evenodd\" fill-opacity=\"1\" /><path clip-path=\"url(#clip110)\" d=\"M 0 0 M168.377 2890.39 L176.015 2890.39 L176.015 2864.02 L167.705 2865.69 L167.705 2861.43 L175.969 2859.77 L180.645 2859.77 L180.645 2890.39 L188.284 2890.39 L188.284 2894.33 L168.377 2894.33 L168.377 2890.39 Z\" fill=\"#000000\" fill-rule=\"evenodd\" fill-opacity=\"1\" /><path clip-path=\"url(#clip110)\" d=\"M 0 0 M176.339 2353.37 Q172.728 2353.37 170.9 2356.93 Q169.094 2360.48 169.094 2367.61 Q169.094 2374.71 170.9 2378.28 Q172.728 2381.82 176.339 2381.82 Q179.974 2381.82 181.779 2378.28 Q183.608 2374.71 183.608 2367.61 Q183.608 2360.48 181.779 2356.93 Q179.974 2353.37 176.339 2353.37 M176.339 2349.67 Q182.15 2349.67 185.205 2354.27 Q188.284 2358.86 188.284 2367.61 Q188.284 2376.33 185.205 2380.94 Q182.15 2385.52 176.339 2385.52 Q170.529 2385.52 167.451 2380.94 Q164.395 2376.33 164.395 2367.61 Q164.395 2358.86 167.451 2354.27 Q170.529 2349.67 176.339 2349.67 Z\" fill=\"#000000\" fill-rule=\"evenodd\" fill-opacity=\"1\" /><path clip-path=\"url(#clip110)\" d=\"M 0 0 M168.377 1871.44 L176.015 1871.44 L176.015 1845.08 L167.705 1846.74 L167.705 1842.48 L175.969 1840.82 L180.645 1840.82 L180.645 1871.44 L188.284 1871.44 L188.284 1875.38 L168.377 1875.38 L168.377 1871.44 Z\" fill=\"#000000\" fill-rule=\"evenodd\" fill-opacity=\"1\" /><path clip-path=\"url(#clip110)\" d=\"M 0 0 M171.964 1361.97 L188.284 1361.97 L188.284 1365.9 L166.34 1365.9 L166.34 1361.97 Q169.002 1359.21 173.585 1354.58 Q178.191 1349.93 179.372 1348.59 Q181.617 1346.07 182.497 1344.33 Q183.4 1342.57 183.4 1340.88 Q183.4 1338.13 181.455 1336.39 Q179.534 1334.65 176.432 1334.65 Q174.233 1334.65 171.779 1335.42 Q169.349 1336.18 166.571 1337.73 L166.571 1333.01 Q169.395 1331.88 171.849 1331.3 Q174.302 1330.72 176.339 1330.72 Q181.71 1330.72 184.904 1333.4 Q188.099 1336.09 188.099 1340.58 Q188.099 1342.71 187.288 1344.63 Q186.501 1346.53 184.395 1349.12 Q183.816 1349.79 180.714 1353.01 Q177.613 1356.2 171.964 1361.97 Z\" fill=\"#000000\" fill-rule=\"evenodd\" fill-opacity=\"1\" /><path clip-path=\"url(#clip110)\" d=\"M 0 0 M181.154 837.796 Q184.511 838.513 186.386 840.782 Q188.284 843.05 188.284 846.383 Q188.284 851.499 184.765 854.3 Q181.247 857.101 174.765 857.101 Q172.589 857.101 170.275 856.661 Q167.983 856.245 165.529 855.388 L165.529 850.874 Q167.474 852.008 169.789 852.587 Q172.103 853.166 174.627 853.166 Q179.025 853.166 181.316 851.43 Q183.631 849.694 183.631 846.383 Q183.631 843.328 181.478 841.615 Q179.349 839.879 175.529 839.879 L171.502 839.879 L171.502 836.036 L175.714 836.036 Q179.164 836.036 180.992 834.671 Q182.821 833.282 182.821 830.689 Q182.821 828.027 180.923 826.615 Q179.048 825.18 175.529 825.18 Q173.608 825.18 171.409 825.597 Q169.21 826.013 166.571 826.893 L166.571 822.726 Q169.233 821.985 171.548 821.615 Q173.886 821.245 175.946 821.245 Q181.27 821.245 184.372 823.675 Q187.474 826.083 187.474 830.203 Q187.474 833.073 185.83 835.064 Q184.187 837.032 181.154 837.796 Z\" fill=\"#000000\" fill-rule=\"evenodd\" fill-opacity=\"1\" /><path clip-path=\"url(#clip110)\" d=\"M 0 0 M178.701 316.47 L166.895 334.919 L178.701 334.919 L178.701 316.47 M177.474 312.396 L183.353 312.396 L183.353 334.919 L188.284 334.919 L188.284 338.808 L183.353 338.808 L183.353 346.956 L178.701 346.956 L178.701 338.808 L163.099 338.808 L163.099 334.294 L177.474 312.396 Z\" fill=\"#000000\" fill-rule=\"evenodd\" fill-opacity=\"1\" /><path clip-path=\"url(#clip110)\" d=\"M 0 0 M1703.13 3071.36 L1690.24 3088.7 L1703.8 3107 L1696.9 3107 L1686.52 3093 L1676.14 3107 L1669.24 3107 L1683.08 3088.35 L1670.41 3071.36 L1677.32 3071.36 L1686.77 3084.06 L1696.23 3071.36 L1703.13 3071.36 Z\" fill=\"#000000\" fill-rule=\"evenodd\" fill-opacity=\"1\" /><path clip-path=\"url(#clip110)\" d=\"M 0 0 M107.074 1505.01 Q113.44 1507.49 115.382 1509.84 Q117.323 1512.2 117.323 1516.15 L117.323 1520.82 L112.422 1520.82 L112.422 1517.39 Q112.422 1514.97 111.276 1513.63 Q110.13 1512.29 105.865 1510.67 L103.191 1509.62 L68.1162 1524.04 L68.1162 1517.83 L95.998 1506.69 L68.1162 1495.55 L68.1162 1489.35 L107.074 1505.01 Z\" fill=\"#000000\" fill-rule=\"evenodd\" fill-opacity=\"1\" /><path clip-path=\"url(#clip112)\" d=\"M1967.96 1280.27 L1967.96 1312.27 L1999.96 1312.27 L1999.96 1280.27 L1967.96 1280.27 Z\" fill=\"#0000ff\" fill-rule=\"evenodd\" fill-opacity=\"0.5\" stroke=\"#000000\" stroke-opacity=\"0.5\" stroke-width=\"6.4\"/>\n",
       "<path clip-path=\"url(#clip112)\" d=\"M1262.28 1912.91 L1262.28 1944.91 L1294.28 1944.91 L1294.28 1912.91 L1262.28 1912.91 Z\" fill=\"#0000ff\" fill-rule=\"evenodd\" fill-opacity=\"0.5\" stroke=\"#000000\" stroke-opacity=\"0.5\" stroke-width=\"6.4\"/>\n",
       "<path clip-path=\"url(#clip112)\" d=\"M1335.13 1641.01 L1335.13 1673.01 L1367.13 1673.01 L1367.13 1641.01 L1335.13 1641.01 Z\" fill=\"#0000ff\" fill-rule=\"evenodd\" fill-opacity=\"0.5\" stroke=\"#000000\" stroke-opacity=\"0.5\" stroke-width=\"6.4\"/>\n",
       "<path clip-path=\"url(#clip112)\" d=\"M1245.67 1511.64 L1245.67 1543.64 L1277.67 1543.64 L1277.67 1511.64 L1245.67 1511.64 Z\" fill=\"#0000ff\" fill-rule=\"evenodd\" fill-opacity=\"0.5\" stroke=\"#000000\" stroke-opacity=\"0.5\" stroke-width=\"6.4\"/>\n",
       "<path clip-path=\"url(#clip112)\" d=\"M2244.06 854.511 L2244.06 886.511 L2276.06 886.511 L2276.06 854.511 L2244.06 854.511 Z\" fill=\"#0000ff\" fill-rule=\"evenodd\" fill-opacity=\"0.5\" stroke=\"#000000\" stroke-opacity=\"0.5\" stroke-width=\"6.4\"/>\n",
       "<path clip-path=\"url(#clip112)\" d=\"M1971.26 1367.43 L1971.26 1399.43 L2003.26 1399.43 L2003.26 1367.43 L1971.26 1367.43 Z\" fill=\"#0000ff\" fill-rule=\"evenodd\" fill-opacity=\"0.5\" stroke=\"#000000\" stroke-opacity=\"0.5\" stroke-width=\"6.4\"/>\n",
       "<path clip-path=\"url(#clip112)\" d=\"M1381.32 1443.16 L1381.32 1475.16 L1413.32 1475.16 L1413.32 1443.16 L1381.32 1443.16 Z\" fill=\"#0000ff\" fill-rule=\"evenodd\" fill-opacity=\"0.5\" stroke=\"#000000\" stroke-opacity=\"0.5\" stroke-width=\"6.4\"/>\n",
       "<path clip-path=\"url(#clip112)\" d=\"M2037.58 904.999 L2037.58 936.999 L2069.58 936.999 L2069.58 904.999 L2037.58 904.999 Z\" fill=\"#0000ff\" fill-rule=\"evenodd\" fill-opacity=\"0.5\" stroke=\"#000000\" stroke-opacity=\"0.5\" stroke-width=\"6.4\"/>\n",
       "<path clip-path=\"url(#clip112)\" d=\"M1508.11 1567.18 L1508.11 1599.18 L1540.11 1599.18 L1540.11 1567.18 L1508.11 1567.18 Z\" fill=\"#0000ff\" fill-rule=\"evenodd\" fill-opacity=\"0.5\" stroke=\"#000000\" stroke-opacity=\"0.5\" stroke-width=\"6.4\"/>\n",
       "<path clip-path=\"url(#clip112)\" d=\"M2129.78 777.44 L2129.78 809.44 L2161.78 809.44 L2161.78 777.44 L2129.78 777.44 Z\" fill=\"#0000ff\" fill-rule=\"evenodd\" fill-opacity=\"0.5\" stroke=\"#000000\" stroke-opacity=\"0.5\" stroke-width=\"6.4\"/>\n",
       "<path clip-path=\"url(#clip112)\" d=\"M1718.56 904.115 L1718.56 936.115 L1750.56 936.115 L1750.56 904.115 L1718.56 904.115 Z\" fill=\"#0000ff\" fill-rule=\"evenodd\" fill-opacity=\"0.5\" stroke=\"#000000\" stroke-opacity=\"0.5\" stroke-width=\"6.4\"/>\n",
       "<path clip-path=\"url(#clip112)\" d=\"M1756.29 1682.47 L1756.29 1714.47 L1788.29 1714.47 L1788.29 1682.47 L1756.29 1682.47 Z\" fill=\"#0000ff\" fill-rule=\"evenodd\" fill-opacity=\"0.5\" stroke=\"#000000\" stroke-opacity=\"0.5\" stroke-width=\"6.4\"/>\n",
       "<path clip-path=\"url(#clip112)\" d=\"M1725.98 1429.81 L1725.98 1461.81 L1757.98 1461.81 L1757.98 1429.81 L1725.98 1429.81 Z\" fill=\"#0000ff\" fill-rule=\"evenodd\" fill-opacity=\"0.5\" stroke=\"#000000\" stroke-opacity=\"0.5\" stroke-width=\"6.4\"/>\n",
       "<path clip-path=\"url(#clip112)\" d=\"M1908.77 659.772 L1908.77 691.772 L1940.77 691.772 L1940.77 659.772 L1908.77 659.772 Z\" fill=\"#0000ff\" fill-rule=\"evenodd\" fill-opacity=\"0.5\" stroke=\"#000000\" stroke-opacity=\"0.5\" stroke-width=\"6.4\"/>\n",
       "<path clip-path=\"url(#clip112)\" d=\"M1350.53 1911.43 L1350.53 1943.43 L1382.53 1943.43 L1382.53 1911.43 L1350.53 1911.43 Z\" fill=\"#0000ff\" fill-rule=\"evenodd\" fill-opacity=\"0.5\" stroke=\"#000000\" stroke-opacity=\"0.5\" stroke-width=\"6.4\"/>\n",
       "<path clip-path=\"url(#clip112)\" d=\"M1976.51 1119.49 L1976.51 1151.49 L2008.51 1151.49 L2008.51 1119.49 L1976.51 1119.49 Z\" fill=\"#0000ff\" fill-rule=\"evenodd\" fill-opacity=\"0.5\" stroke=\"#000000\" stroke-opacity=\"0.5\" stroke-width=\"6.4\"/>\n",
       "<path clip-path=\"url(#clip112)\" d=\"M1545.54 1511.82 L1545.54 1543.82 L1577.54 1543.82 L1577.54 1511.82 L1545.54 1511.82 Z\" fill=\"#0000ff\" fill-rule=\"evenodd\" fill-opacity=\"0.5\" stroke=\"#000000\" stroke-opacity=\"0.5\" stroke-width=\"6.4\"/>\n",
       "<path clip-path=\"url(#clip112)\" d=\"M1616.07 1317.09 L1616.07 1349.09 L1648.07 1349.09 L1648.07 1317.09 L1616.07 1317.09 Z\" fill=\"#0000ff\" fill-rule=\"evenodd\" fill-opacity=\"0.5\" stroke=\"#000000\" stroke-opacity=\"0.5\" stroke-width=\"6.4\"/>\n",
       "<path clip-path=\"url(#clip112)\" d=\"M1223.35 1430.95 L1223.35 1462.95 L1255.35 1462.95 L1255.35 1430.95 L1223.35 1430.95 Z\" fill=\"#0000ff\" fill-rule=\"evenodd\" fill-opacity=\"0.5\" stroke=\"#000000\" stroke-opacity=\"0.5\" stroke-width=\"6.4\"/>\n",
       "<path clip-path=\"url(#clip112)\" d=\"M2189.86 674.73 L2189.86 706.73 L2221.86 706.73 L2221.86 674.73 L2189.86 674.73 Z\" fill=\"#0000ff\" fill-rule=\"evenodd\" fill-opacity=\"0.5\" stroke=\"#000000\" stroke-opacity=\"0.5\" stroke-width=\"6.4\"/>\n",
       "<path clip-path=\"url(#clip112)\" d=\"M2141.86 1220.07 L2141.86 1252.07 L2173.86 1252.07 L2173.86 1220.07 L2141.86 1220.07 Z\" fill=\"#0000ff\" fill-rule=\"evenodd\" fill-opacity=\"0.5\" stroke=\"#000000\" stroke-opacity=\"0.5\" stroke-width=\"6.4\"/>\n",
       "<path clip-path=\"url(#clip112)\" d=\"M2253.14 748.96 L2253.14 780.96 L2285.14 780.96 L2285.14 748.96 L2253.14 748.96 Z\" fill=\"#0000ff\" fill-rule=\"evenodd\" fill-opacity=\"0.5\" stroke=\"#000000\" stroke-opacity=\"0.5\" stroke-width=\"6.4\"/>\n",
       "<path clip-path=\"url(#clip112)\" d=\"M1329.3 1917.58 L1329.3 1949.58 L1361.3 1949.58 L1361.3 1917.58 L1329.3 1917.58 Z\" fill=\"#0000ff\" fill-rule=\"evenodd\" fill-opacity=\"0.5\" stroke=\"#000000\" stroke-opacity=\"0.5\" stroke-width=\"6.4\"/>\n",
       "<path clip-path=\"url(#clip112)\" d=\"M2038.64 827.726 L2038.64 859.726 L2070.64 859.726 L2070.64 827.726 L2038.64 827.726 Z\" fill=\"#0000ff\" fill-rule=\"evenodd\" fill-opacity=\"0.5\" stroke=\"#000000\" stroke-opacity=\"0.5\" stroke-width=\"6.4\"/>\n",
       "<path clip-path=\"url(#clip112)\" d=\"M1523.99 1795.34 L1523.99 1827.34 L1555.99 1827.34 L1555.99 1795.34 L1523.99 1795.34 Z\" fill=\"#0000ff\" fill-rule=\"evenodd\" fill-opacity=\"0.5\" stroke=\"#000000\" stroke-opacity=\"0.5\" stroke-width=\"6.4\"/>\n",
       "<path clip-path=\"url(#clip112)\" d=\"M2028.41 792.183 L2028.41 824.183 L2060.41 824.183 L2060.41 792.183 L2028.41 792.183 Z\" fill=\"#0000ff\" fill-rule=\"evenodd\" fill-opacity=\"0.5\" stroke=\"#000000\" stroke-opacity=\"0.5\" stroke-width=\"6.4\"/>\n",
       "<path clip-path=\"url(#clip112)\" d=\"M1593.72 1323.12 L1593.72 1355.12 L1625.72 1355.12 L1625.72 1323.12 L1593.72 1323.12 Z\" fill=\"#0000ff\" fill-rule=\"evenodd\" fill-opacity=\"0.5\" stroke=\"#000000\" stroke-opacity=\"0.5\" stroke-width=\"6.4\"/>\n",
       "<path clip-path=\"url(#clip112)\" d=\"M1514.23 1704.51 L1514.23 1736.51 L1546.23 1736.51 L1546.23 1704.51 L1514.23 1704.51 Z\" fill=\"#0000ff\" fill-rule=\"evenodd\" fill-opacity=\"0.5\" stroke=\"#000000\" stroke-opacity=\"0.5\" stroke-width=\"6.4\"/>\n",
       "<path clip-path=\"url(#clip112)\" d=\"M1547.11 1502.91 L1547.11 1534.91 L1579.11 1534.91 L1579.11 1502.91 L1547.11 1502.91 Z\" fill=\"#0000ff\" fill-rule=\"evenodd\" fill-opacity=\"0.5\" stroke=\"#000000\" stroke-opacity=\"0.5\" stroke-width=\"6.4\"/>\n",
       "<path clip-path=\"url(#clip112)\" d=\"M1534.86 1104.36 L1534.86 1136.36 L1566.86 1136.36 L1566.86 1104.36 L1534.86 1104.36 Z\" fill=\"#0000ff\" fill-rule=\"evenodd\" fill-opacity=\"0.5\" stroke=\"#000000\" stroke-opacity=\"0.5\" stroke-width=\"6.4\"/>\n",
       "<path clip-path=\"url(#clip112)\" d=\"M1145.99 2215.75 L1145.99 2247.75 L1177.99 2247.75 L1177.99 2215.75 L1145.99 2215.75 Z\" fill=\"#0000ff\" fill-rule=\"evenodd\" fill-opacity=\"0.5\" stroke=\"#000000\" stroke-opacity=\"0.5\" stroke-width=\"6.4\"/>\n",
       "<path clip-path=\"url(#clip112)\" d=\"M1165.33 1941.87 L1165.33 1973.87 L1197.33 1973.87 L1197.33 1941.87 L1165.33 1941.87 Z\" fill=\"#0000ff\" fill-rule=\"evenodd\" fill-opacity=\"0.5\" stroke=\"#000000\" stroke-opacity=\"0.5\" stroke-width=\"6.4\"/>\n",
       "<path clip-path=\"url(#clip112)\" d=\"M1583.21 1461.19 L1583.21 1493.19 L1615.21 1493.19 L1615.21 1461.19 L1583.21 1461.19 Z\" fill=\"#0000ff\" fill-rule=\"evenodd\" fill-opacity=\"0.5\" stroke=\"#000000\" stroke-opacity=\"0.5\" stroke-width=\"6.4\"/>\n",
       "<path clip-path=\"url(#clip112)\" d=\"M2220.25 924.504 L2220.25 956.504 L2252.25 956.504 L2252.25 924.504 L2220.25 924.504 Z\" fill=\"#0000ff\" fill-rule=\"evenodd\" fill-opacity=\"0.5\" stroke=\"#000000\" stroke-opacity=\"0.5\" stroke-width=\"6.4\"/>\n",
       "<path clip-path=\"url(#clip112)\" d=\"M1174.12 1210.36 L1174.12 1242.36 L1206.12 1242.36 L1206.12 1210.36 L1174.12 1210.36 Z\" fill=\"#0000ff\" fill-rule=\"evenodd\" fill-opacity=\"0.5\" stroke=\"#000000\" stroke-opacity=\"0.5\" stroke-width=\"6.4\"/>\n",
       "<path clip-path=\"url(#clip112)\" d=\"M1436.74 1571.81 L1436.74 1603.81 L1468.74 1603.81 L1468.74 1571.81 L1436.74 1571.81 Z\" fill=\"#0000ff\" fill-rule=\"evenodd\" fill-opacity=\"0.5\" stroke=\"#000000\" stroke-opacity=\"0.5\" stroke-width=\"6.4\"/>\n",
       "<path clip-path=\"url(#clip112)\" d=\"M1939.03 1094.89 L1939.03 1126.89 L1971.03 1126.89 L1971.03 1094.89 L1939.03 1094.89 Z\" fill=\"#0000ff\" fill-rule=\"evenodd\" fill-opacity=\"0.5\" stroke=\"#000000\" stroke-opacity=\"0.5\" stroke-width=\"6.4\"/>\n",
       "<path clip-path=\"url(#clip112)\" d=\"M1394.78 2008.74 L1394.78 2040.74 L1426.78 2040.74 L1426.78 2008.74 L1394.78 2008.74 Z\" fill=\"#0000ff\" fill-rule=\"evenodd\" fill-opacity=\"0.5\" stroke=\"#000000\" stroke-opacity=\"0.5\" stroke-width=\"6.4\"/>\n",
       "<path clip-path=\"url(#clip112)\" d=\"M1563.89 1868.3 L1563.89 1900.3 L1595.89 1900.3 L1595.89 1868.3 L1563.89 1868.3 Z\" fill=\"#0000ff\" fill-rule=\"evenodd\" fill-opacity=\"0.5\" stroke=\"#000000\" stroke-opacity=\"0.5\" stroke-width=\"6.4\"/>\n",
       "<path clip-path=\"url(#clip112)\" d=\"M618.546 1765.24 L618.546 1797.24 L650.546 1797.24 L650.546 1765.24 L618.546 1765.24 Z\" fill=\"#0000ff\" fill-rule=\"evenodd\" fill-opacity=\"0.5\" stroke=\"#000000\" stroke-opacity=\"0.5\" stroke-width=\"6.4\"/>\n",
       "<path clip-path=\"url(#clip112)\" d=\"M1950.77 1420.76 L1950.77 1452.76 L1982.77 1452.76 L1982.77 1420.76 L1950.77 1420.76 Z\" fill=\"#0000ff\" fill-rule=\"evenodd\" fill-opacity=\"0.5\" stroke=\"#000000\" stroke-opacity=\"0.5\" stroke-width=\"6.4\"/>\n",
       "<path clip-path=\"url(#clip112)\" d=\"M1926.64 862.444 L1926.64 894.444 L1958.64 894.444 L1958.64 862.444 L1926.64 862.444 Z\" fill=\"#0000ff\" fill-rule=\"evenodd\" fill-opacity=\"0.5\" stroke=\"#000000\" stroke-opacity=\"0.5\" stroke-width=\"6.4\"/>\n",
       "<path clip-path=\"url(#clip112)\" d=\"M1499.29 1229.12 L1499.29 1261.12 L1531.29 1261.12 L1531.29 1229.12 L1499.29 1229.12 Z\" fill=\"#0000ff\" fill-rule=\"evenodd\" fill-opacity=\"0.5\" stroke=\"#000000\" stroke-opacity=\"0.5\" stroke-width=\"6.4\"/>\n",
       "<path clip-path=\"url(#clip112)\" d=\"M1411.29 1747.06 L1411.29 1779.06 L1443.29 1779.06 L1443.29 1747.06 L1411.29 1747.06 Z\" fill=\"#0000ff\" fill-rule=\"evenodd\" fill-opacity=\"0.5\" stroke=\"#000000\" stroke-opacity=\"0.5\" stroke-width=\"6.4\"/>\n",
       "<path clip-path=\"url(#clip112)\" d=\"M1348.54 2225.77 L1348.54 2257.77 L1380.54 2257.77 L1380.54 2225.77 L1348.54 2225.77 Z\" fill=\"#0000ff\" fill-rule=\"evenodd\" fill-opacity=\"0.5\" stroke=\"#000000\" stroke-opacity=\"0.5\" stroke-width=\"6.4\"/>\n",
       "<path clip-path=\"url(#clip112)\" d=\"M1402.05 1487.08 L1402.05 1519.08 L1434.05 1519.08 L1434.05 1487.08 L1402.05 1487.08 Z\" fill=\"#0000ff\" fill-rule=\"evenodd\" fill-opacity=\"0.5\" stroke=\"#000000\" stroke-opacity=\"0.5\" stroke-width=\"6.4\"/>\n",
       "<path clip-path=\"url(#clip112)\" d=\"M1888.29 1086.48 L1888.29 1118.48 L1920.29 1118.48 L1920.29 1086.48 L1888.29 1086.48 Z\" fill=\"#0000ff\" fill-rule=\"evenodd\" fill-opacity=\"0.5\" stroke=\"#000000\" stroke-opacity=\"0.5\" stroke-width=\"6.4\"/>\n",
       "<path clip-path=\"url(#clip112)\" d=\"M2068.97 1255.66 L2068.97 1287.66 L2100.97 1287.66 L2100.97 1255.66 L2068.97 1255.66 Z\" fill=\"#0000ff\" fill-rule=\"evenodd\" fill-opacity=\"0.5\" stroke=\"#000000\" stroke-opacity=\"0.5\" stroke-width=\"6.4\"/>\n",
       "<path clip-path=\"url(#clip112)\" d=\"M1505.31 1385.89 L1505.31 1417.89 L1537.31 1417.89 L1537.31 1385.89 L1505.31 1385.89 Z\" fill=\"#0000ff\" fill-rule=\"evenodd\" fill-opacity=\"0.5\" stroke=\"#000000\" stroke-opacity=\"0.5\" stroke-width=\"6.4\"/>\n",
       "<path clip-path=\"url(#clip112)\" d=\"M2591.63 259.638 L2591.63 291.638 L2623.63 291.638 L2623.63 259.638 L2591.63 259.638 Z\" fill=\"#0000ff\" fill-rule=\"evenodd\" fill-opacity=\"0.5\" stroke=\"#000000\" stroke-opacity=\"0.5\" stroke-width=\"6.4\"/>\n",
       "<path clip-path=\"url(#clip112)\" d=\"M1348.56 1387.74 L1348.56 1419.74 L1380.56 1419.74 L1380.56 1387.74 L1348.56 1387.74 Z\" fill=\"#0000ff\" fill-rule=\"evenodd\" fill-opacity=\"0.5\" stroke=\"#000000\" stroke-opacity=\"0.5\" stroke-width=\"6.4\"/>\n",
       "<path clip-path=\"url(#clip112)\" d=\"M2165.72 899.703 L2165.72 931.703 L2197.72 931.703 L2197.72 899.703 L2165.72 899.703 Z\" fill=\"#0000ff\" fill-rule=\"evenodd\" fill-opacity=\"0.5\" stroke=\"#000000\" stroke-opacity=\"0.5\" stroke-width=\"6.4\"/>\n",
       "<path clip-path=\"url(#clip112)\" d=\"M2165.62 745.329 L2165.62 777.329 L2197.62 777.329 L2197.62 745.329 L2165.62 745.329 Z\" fill=\"#0000ff\" fill-rule=\"evenodd\" fill-opacity=\"0.5\" stroke=\"#000000\" stroke-opacity=\"0.5\" stroke-width=\"6.4\"/>\n",
       "<path clip-path=\"url(#clip112)\" d=\"M1607.48 1070.71 L1607.48 1102.71 L1639.48 1102.71 L1639.48 1070.71 L1607.48 1070.71 Z\" fill=\"#0000ff\" fill-rule=\"evenodd\" fill-opacity=\"0.5\" stroke=\"#000000\" stroke-opacity=\"0.5\" stroke-width=\"6.4\"/>\n",
       "<path clip-path=\"url(#clip112)\" d=\"M1048.52 2686.57 L1048.52 2718.57 L1080.52 2718.57 L1080.52 2686.57 L1048.52 2686.57 Z\" fill=\"#0000ff\" fill-rule=\"evenodd\" fill-opacity=\"0.5\" stroke=\"#000000\" stroke-opacity=\"0.5\" stroke-width=\"6.4\"/>\n",
       "<path clip-path=\"url(#clip112)\" d=\"M1424.36 1023.48 L1424.36 1055.48 L1456.36 1055.48 L1456.36 1023.48 L1424.36 1023.48 Z\" fill=\"#0000ff\" fill-rule=\"evenodd\" fill-opacity=\"0.5\" stroke=\"#000000\" stroke-opacity=\"0.5\" stroke-width=\"6.4\"/>\n",
       "<path clip-path=\"url(#clip112)\" d=\"M2345.16 478.323 L2345.16 510.323 L2377.16 510.323 L2377.16 478.323 L2345.16 478.323 Z\" fill=\"#0000ff\" fill-rule=\"evenodd\" fill-opacity=\"0.5\" stroke=\"#000000\" stroke-opacity=\"0.5\" stroke-width=\"6.4\"/>\n",
       "<path clip-path=\"url(#clip112)\" d=\"M1200.68 1576.72 L1200.68 1608.72 L1232.68 1608.72 L1232.68 1576.72 L1200.68 1576.72 Z\" fill=\"#0000ff\" fill-rule=\"evenodd\" fill-opacity=\"0.5\" stroke=\"#000000\" stroke-opacity=\"0.5\" stroke-width=\"6.4\"/>\n",
       "<path clip-path=\"url(#clip112)\" d=\"M1247.82 1549.36 L1247.82 1581.36 L1279.82 1581.36 L1279.82 1549.36 L1247.82 1549.36 Z\" fill=\"#0000ff\" fill-rule=\"evenodd\" fill-opacity=\"0.5\" stroke=\"#000000\" stroke-opacity=\"0.5\" stroke-width=\"6.4\"/>\n",
       "<path clip-path=\"url(#clip112)\" d=\"M1290.73 1756.15 L1290.73 1788.15 L1322.73 1788.15 L1322.73 1756.15 L1290.73 1756.15 Z\" fill=\"#0000ff\" fill-rule=\"evenodd\" fill-opacity=\"0.5\" stroke=\"#000000\" stroke-opacity=\"0.5\" stroke-width=\"6.4\"/>\n",
       "<path clip-path=\"url(#clip112)\" d=\"M1453.01 1783.65 L1453.01 1815.65 L1485.01 1815.65 L1485.01 1783.65 L1453.01 1783.65 Z\" fill=\"#0000ff\" fill-rule=\"evenodd\" fill-opacity=\"0.5\" stroke=\"#000000\" stroke-opacity=\"0.5\" stroke-width=\"6.4\"/>\n",
       "<path clip-path=\"url(#clip112)\" d=\"M1320.37 1568.49 L1320.37 1600.49 L1352.37 1600.49 L1352.37 1568.49 L1320.37 1568.49 Z\" fill=\"#0000ff\" fill-rule=\"evenodd\" fill-opacity=\"0.5\" stroke=\"#000000\" stroke-opacity=\"0.5\" stroke-width=\"6.4\"/>\n",
       "<path clip-path=\"url(#clip112)\" d=\"M2366.34 692.715 L2366.34 724.715 L2398.34 724.715 L2398.34 692.715 L2366.34 692.715 Z\" fill=\"#0000ff\" fill-rule=\"evenodd\" fill-opacity=\"0.5\" stroke=\"#000000\" stroke-opacity=\"0.5\" stroke-width=\"6.4\"/>\n",
       "<path clip-path=\"url(#clip112)\" d=\"M1296.24 1890.9 L1296.24 1922.9 L1328.24 1922.9 L1328.24 1890.9 L1296.24 1890.9 Z\" fill=\"#0000ff\" fill-rule=\"evenodd\" fill-opacity=\"0.5\" stroke=\"#000000\" stroke-opacity=\"0.5\" stroke-width=\"6.4\"/>\n",
       "<path clip-path=\"url(#clip112)\" d=\"M1037.42 2281.96 L1037.42 2313.96 L1069.42 2313.96 L1069.42 2281.96 L1037.42 2281.96 Z\" fill=\"#0000ff\" fill-rule=\"evenodd\" fill-opacity=\"0.5\" stroke=\"#000000\" stroke-opacity=\"0.5\" stroke-width=\"6.4\"/>\n",
       "<path clip-path=\"url(#clip112)\" d=\"M1911.28 862.48 L1911.28 894.48 L1943.28 894.48 L1943.28 862.48 L1911.28 862.48 Z\" fill=\"#0000ff\" fill-rule=\"evenodd\" fill-opacity=\"0.5\" stroke=\"#000000\" stroke-opacity=\"0.5\" stroke-width=\"6.4\"/>\n",
       "<path clip-path=\"url(#clip112)\" d=\"M1540.67 1887.85 L1540.67 1919.85 L1572.67 1919.85 L1572.67 1887.85 L1540.67 1887.85 Z\" fill=\"#0000ff\" fill-rule=\"evenodd\" fill-opacity=\"0.5\" stroke=\"#000000\" stroke-opacity=\"0.5\" stroke-width=\"6.4\"/>\n",
       "<path clip-path=\"url(#clip112)\" d=\"M1728.46 1712.88 L1728.46 1744.88 L1760.46 1744.88 L1760.46 1712.88 L1728.46 1712.88 Z\" fill=\"#0000ff\" fill-rule=\"evenodd\" fill-opacity=\"0.5\" stroke=\"#000000\" stroke-opacity=\"0.5\" stroke-width=\"6.4\"/>\n",
       "<path clip-path=\"url(#clip112)\" d=\"M1398.6 1688.41 L1398.6 1720.41 L1430.6 1720.41 L1430.6 1688.41 L1398.6 1688.41 Z\" fill=\"#0000ff\" fill-rule=\"evenodd\" fill-opacity=\"0.5\" stroke=\"#000000\" stroke-opacity=\"0.5\" stroke-width=\"6.4\"/>\n",
       "<path clip-path=\"url(#clip112)\" d=\"M1690.65 1398.53 L1690.65 1430.53 L1722.65 1430.53 L1722.65 1398.53 L1690.65 1398.53 Z\" fill=\"#0000ff\" fill-rule=\"evenodd\" fill-opacity=\"0.5\" stroke=\"#000000\" stroke-opacity=\"0.5\" stroke-width=\"6.4\"/>\n",
       "<path clip-path=\"url(#clip112)\" d=\"M2031.23 813.321 L2031.23 845.321 L2063.23 845.321 L2063.23 813.321 L2031.23 813.321 Z\" fill=\"#0000ff\" fill-rule=\"evenodd\" fill-opacity=\"0.5\" stroke=\"#000000\" stroke-opacity=\"0.5\" stroke-width=\"6.4\"/>\n",
       "<path clip-path=\"url(#clip112)\" d=\"M1346.47 1150.51 L1346.47 1182.51 L1378.47 1182.51 L1378.47 1150.51 L1346.47 1150.51 Z\" fill=\"#0000ff\" fill-rule=\"evenodd\" fill-opacity=\"0.5\" stroke=\"#000000\" stroke-opacity=\"0.5\" stroke-width=\"6.4\"/>\n",
       "<path clip-path=\"url(#clip112)\" d=\"M1679.94 1011.36 L1679.94 1043.36 L1711.94 1043.36 L1711.94 1011.36 L1679.94 1011.36 Z\" fill=\"#0000ff\" fill-rule=\"evenodd\" fill-opacity=\"0.5\" stroke=\"#000000\" stroke-opacity=\"0.5\" stroke-width=\"6.4\"/>\n",
       "<path clip-path=\"url(#clip112)\" d=\"M1706.2 990.268 L1706.2 1022.27 L1738.2 1022.27 L1738.2 990.268 L1706.2 990.268 Z\" fill=\"#0000ff\" fill-rule=\"evenodd\" fill-opacity=\"0.5\" stroke=\"#000000\" stroke-opacity=\"0.5\" stroke-width=\"6.4\"/>\n",
       "<path clip-path=\"url(#clip112)\" d=\"M2309.9 624.797 L2309.9 656.797 L2341.9 656.797 L2341.9 624.797 L2309.9 624.797 Z\" fill=\"#0000ff\" fill-rule=\"evenodd\" fill-opacity=\"0.5\" stroke=\"#000000\" stroke-opacity=\"0.5\" stroke-width=\"6.4\"/>\n",
       "<path clip-path=\"url(#clip112)\" d=\"M1196.21 1802.03 L1196.21 1834.03 L1228.21 1834.03 L1228.21 1802.03 L1196.21 1802.03 Z\" fill=\"#0000ff\" fill-rule=\"evenodd\" fill-opacity=\"0.5\" stroke=\"#000000\" stroke-opacity=\"0.5\" stroke-width=\"6.4\"/>\n",
       "<path clip-path=\"url(#clip112)\" d=\"M1780.41 1309.39 L1780.41 1341.39 L1812.41 1341.39 L1812.41 1309.39 L1780.41 1309.39 Z\" fill=\"#0000ff\" fill-rule=\"evenodd\" fill-opacity=\"0.5\" stroke=\"#000000\" stroke-opacity=\"0.5\" stroke-width=\"6.4\"/>\n",
       "<path clip-path=\"url(#clip112)\" d=\"M1167.45 1743.54 L1167.45 1775.54 L1199.45 1775.54 L1199.45 1743.54 L1167.45 1743.54 Z\" fill=\"#0000ff\" fill-rule=\"evenodd\" fill-opacity=\"0.5\" stroke=\"#000000\" stroke-opacity=\"0.5\" stroke-width=\"6.4\"/>\n",
       "<path clip-path=\"url(#clip112)\" d=\"M807.726 1867.18 L807.726 1899.18 L839.726 1899.18 L839.726 1867.18 L807.726 1867.18 Z\" fill=\"#0000ff\" fill-rule=\"evenodd\" fill-opacity=\"0.5\" stroke=\"#000000\" stroke-opacity=\"0.5\" stroke-width=\"6.4\"/>\n",
       "<path clip-path=\"url(#clip112)\" d=\"M1575.36 1295.89 L1575.36 1327.89 L1607.36 1327.89 L1607.36 1295.89 L1575.36 1295.89 Z\" fill=\"#0000ff\" fill-rule=\"evenodd\" fill-opacity=\"0.5\" stroke=\"#000000\" stroke-opacity=\"0.5\" stroke-width=\"6.4\"/>\n",
       "<path clip-path=\"url(#clip112)\" d=\"M1776.87 1349.05 L1776.87 1381.05 L1808.87 1381.05 L1808.87 1349.05 L1776.87 1349.05 Z\" fill=\"#0000ff\" fill-rule=\"evenodd\" fill-opacity=\"0.5\" stroke=\"#000000\" stroke-opacity=\"0.5\" stroke-width=\"6.4\"/>\n",
       "<path clip-path=\"url(#clip112)\" d=\"M1306.08 2242.5 L1306.08 2274.5 L1338.08 2274.5 L1338.08 2242.5 L1306.08 2242.5 Z\" fill=\"#0000ff\" fill-rule=\"evenodd\" fill-opacity=\"0.5\" stroke=\"#000000\" stroke-opacity=\"0.5\" stroke-width=\"6.4\"/>\n",
       "<path clip-path=\"url(#clip112)\" d=\"M958.87 2026.33 L958.87 2058.33 L990.87 2058.33 L990.87 2026.33 L958.87 2026.33 Z\" fill=\"#0000ff\" fill-rule=\"evenodd\" fill-opacity=\"0.5\" stroke=\"#000000\" stroke-opacity=\"0.5\" stroke-width=\"6.4\"/>\n",
       "<path clip-path=\"url(#clip112)\" d=\"M1957.01 699.603 L1957.01 731.603 L1989.01 731.603 L1989.01 699.603 L1957.01 699.603 Z\" fill=\"#0000ff\" fill-rule=\"evenodd\" fill-opacity=\"0.5\" stroke=\"#000000\" stroke-opacity=\"0.5\" stroke-width=\"6.4\"/>\n",
       "<path clip-path=\"url(#clip112)\" d=\"M1082.38 1570.53 L1082.38 1602.53 L1114.38 1602.53 L1114.38 1570.53 L1082.38 1570.53 Z\" fill=\"#0000ff\" fill-rule=\"evenodd\" fill-opacity=\"0.5\" stroke=\"#000000\" stroke-opacity=\"0.5\" stroke-width=\"6.4\"/>\n",
       "<path clip-path=\"url(#clip112)\" d=\"M1819.43 1504.05 L1819.43 1536.05 L1851.43 1536.05 L1851.43 1504.05 L1819.43 1504.05 Z\" fill=\"#0000ff\" fill-rule=\"evenodd\" fill-opacity=\"0.5\" stroke=\"#000000\" stroke-opacity=\"0.5\" stroke-width=\"6.4\"/>\n",
       "<path clip-path=\"url(#clip112)\" d=\"M2031.68 698.241 L2031.68 730.241 L2063.68 730.241 L2063.68 698.241 L2031.68 698.241 Z\" fill=\"#0000ff\" fill-rule=\"evenodd\" fill-opacity=\"0.5\" stroke=\"#000000\" stroke-opacity=\"0.5\" stroke-width=\"6.4\"/>\n",
       "<path clip-path=\"url(#clip112)\" d=\"M1502.61 1509.49 L1502.61 1541.49 L1534.61 1541.49 L1534.61 1509.49 L1502.61 1509.49 Z\" fill=\"#0000ff\" fill-rule=\"evenodd\" fill-opacity=\"0.5\" stroke=\"#000000\" stroke-opacity=\"0.5\" stroke-width=\"6.4\"/>\n",
       "<path clip-path=\"url(#clip112)\" d=\"M1187.28 2093.18 L1187.28 2125.18 L1219.28 2125.18 L1219.28 2093.18 L1187.28 2093.18 Z\" fill=\"#0000ff\" fill-rule=\"evenodd\" fill-opacity=\"0.5\" stroke=\"#000000\" stroke-opacity=\"0.5\" stroke-width=\"6.4\"/>\n",
       "<path clip-path=\"url(#clip112)\" d=\"M287.278 2867.53 L287.278 2899.53 L319.278 2899.53 L319.278 2867.53 L287.278 2867.53 Z\" fill=\"#0000ff\" fill-rule=\"evenodd\" fill-opacity=\"0.5\" stroke=\"#000000\" stroke-opacity=\"0.5\" stroke-width=\"6.4\"/>\n",
       "<path clip-path=\"url(#clip112)\" d=\"M2123.19 961.686 L2123.19 993.686 L2155.19 993.686 L2155.19 961.686 L2123.19 961.686 Z\" fill=\"#0000ff\" fill-rule=\"evenodd\" fill-opacity=\"0.5\" stroke=\"#000000\" stroke-opacity=\"0.5\" stroke-width=\"6.4\"/>\n",
       "<path clip-path=\"url(#clip112)\" d=\"M1535 1190.67 L1535 1222.67 L1567 1222.67 L1567 1190.67 L1535 1190.67 Z\" fill=\"#0000ff\" fill-rule=\"evenodd\" fill-opacity=\"0.5\" stroke=\"#000000\" stroke-opacity=\"0.5\" stroke-width=\"6.4\"/>\n",
       "<path clip-path=\"url(#clip112)\" d=\"M1096.98 1736.62 L1096.98 1768.62 L1128.98 1768.62 L1128.98 1736.62 L1096.98 1736.62 Z\" fill=\"#0000ff\" fill-rule=\"evenodd\" fill-opacity=\"0.5\" stroke=\"#000000\" stroke-opacity=\"0.5\" stroke-width=\"6.4\"/>\n",
       "<path clip-path=\"url(#clip112)\" d=\"M1630.4 1580.17 L1630.4 1612.17 L1662.4 1612.17 L1662.4 1580.17 L1630.4 1580.17 Z\" fill=\"#0000ff\" fill-rule=\"evenodd\" fill-opacity=\"0.5\" stroke=\"#000000\" stroke-opacity=\"0.5\" stroke-width=\"6.4\"/>\n",
       "<path clip-path=\"url(#clip112)\" d=\"M2052.92 1153.29 L2052.92 1185.29 L2084.92 1185.29 L2084.92 1153.29 L2052.92 1153.29 Z\" fill=\"#0000ff\" fill-rule=\"evenodd\" fill-opacity=\"0.5\" stroke=\"#000000\" stroke-opacity=\"0.5\" stroke-width=\"6.4\"/>\n",
       "<path clip-path=\"url(#clip112)\" d=\"M1563.73 1510.34 L1563.73 1542.34 L1595.73 1542.34 L1595.73 1510.34 L1563.73 1510.34 Z\" fill=\"#0000ff\" fill-rule=\"evenodd\" fill-opacity=\"0.5\" stroke=\"#000000\" stroke-opacity=\"0.5\" stroke-width=\"6.4\"/>\n",
       "<path clip-path=\"url(#clip112)\" d=\"M1429.06 1383.31 L1429.06 1415.31 L1461.06 1415.31 L1461.06 1383.31 L1429.06 1383.31 Z\" fill=\"#0000ff\" fill-rule=\"evenodd\" fill-opacity=\"0.5\" stroke=\"#000000\" stroke-opacity=\"0.5\" stroke-width=\"6.4\"/>\n",
       "<path clip-path=\"url(#clip112)\" d=\"M2320.52 1059.87 L2320.52 1091.87 L2352.52 1091.87 L2352.52 1059.87 L2320.52 1059.87 Z\" fill=\"#0000ff\" fill-rule=\"evenodd\" fill-opacity=\"0.5\" stroke=\"#000000\" stroke-opacity=\"0.5\" stroke-width=\"6.4\"/>\n",
       "<path clip-path=\"url(#clip112)\" d=\"M1215.64 1421.09 L1215.64 1453.09 L1247.64 1453.09 L1247.64 1421.09 L1215.64 1421.09 Z\" fill=\"#0000ff\" fill-rule=\"evenodd\" fill-opacity=\"0.5\" stroke=\"#000000\" stroke-opacity=\"0.5\" stroke-width=\"6.4\"/>\n",
       "<path clip-path=\"url(#clip112)\" d=\"M2128.36 1062.34 L2128.36 1094.34 L2160.36 1094.34 L2160.36 1062.34 L2128.36 1062.34 Z\" fill=\"#0000ff\" fill-rule=\"evenodd\" fill-opacity=\"0.5\" stroke=\"#000000\" stroke-opacity=\"0.5\" stroke-width=\"6.4\"/>\n",
       "<circle clip-path=\"url(#clip112)\" cx=\"2476.54\" cy=\"500.087\" r=\"14\" fill=\"#ff0000\" fill-rule=\"evenodd\" fill-opacity=\"0.5\" stroke=\"#000000\" stroke-opacity=\"0.5\" stroke-width=\"6.4\"/>\n",
       "<circle clip-path=\"url(#clip112)\" cx=\"1312.1\" cy=\"1250.21\" r=\"14\" fill=\"#ff0000\" fill-rule=\"evenodd\" fill-opacity=\"0.5\" stroke=\"#000000\" stroke-opacity=\"0.5\" stroke-width=\"6.4\"/>\n",
       "<circle clip-path=\"url(#clip112)\" cx=\"2078.12\" cy=\"1125.36\" r=\"14\" fill=\"#ff0000\" fill-rule=\"evenodd\" fill-opacity=\"0.5\" stroke=\"#000000\" stroke-opacity=\"0.5\" stroke-width=\"6.4\"/>\n",
       "<circle clip-path=\"url(#clip112)\" cx=\"2084.66\" cy=\"754.77\" r=\"14\" fill=\"#ff0000\" fill-rule=\"evenodd\" fill-opacity=\"0.5\" stroke=\"#000000\" stroke-opacity=\"0.5\" stroke-width=\"6.4\"/>\n",
       "<circle clip-path=\"url(#clip112)\" cx=\"1462.12\" cy=\"1784.7\" r=\"14\" fill=\"#ff0000\" fill-rule=\"evenodd\" fill-opacity=\"0.5\" stroke=\"#000000\" stroke-opacity=\"0.5\" stroke-width=\"6.4\"/>\n",
       "<circle clip-path=\"url(#clip112)\" cx=\"1548.26\" cy=\"1526.18\" r=\"14\" fill=\"#ff0000\" fill-rule=\"evenodd\" fill-opacity=\"0.5\" stroke=\"#000000\" stroke-opacity=\"0.5\" stroke-width=\"6.4\"/>\n",
       "<circle clip-path=\"url(#clip112)\" cx=\"1261.88\" cy=\"1514\" r=\"14\" fill=\"#ff0000\" fill-rule=\"evenodd\" fill-opacity=\"0.5\" stroke=\"#000000\" stroke-opacity=\"0.5\" stroke-width=\"6.4\"/>\n",
       "<circle clip-path=\"url(#clip112)\" cx=\"1645.48\" cy=\"2201.48\" r=\"14\" fill=\"#ff0000\" fill-rule=\"evenodd\" fill-opacity=\"0.5\" stroke=\"#000000\" stroke-opacity=\"0.5\" stroke-width=\"6.4\"/>\n",
       "<circle clip-path=\"url(#clip112)\" cx=\"1521.17\" cy=\"1517.53\" r=\"14\" fill=\"#ff0000\" fill-rule=\"evenodd\" fill-opacity=\"0.5\" stroke=\"#000000\" stroke-opacity=\"0.5\" stroke-width=\"6.4\"/>\n",
       "<circle clip-path=\"url(#clip112)\" cx=\"1613.78\" cy=\"1071.41\" r=\"14\" fill=\"#ff0000\" fill-rule=\"evenodd\" fill-opacity=\"0.5\" stroke=\"#000000\" stroke-opacity=\"0.5\" stroke-width=\"6.4\"/>\n",
       "<circle clip-path=\"url(#clip112)\" cx=\"1327.44\" cy=\"1980.24\" r=\"14\" fill=\"#ff0000\" fill-rule=\"evenodd\" fill-opacity=\"0.5\" stroke=\"#000000\" stroke-opacity=\"0.5\" stroke-width=\"6.4\"/>\n",
       "<circle clip-path=\"url(#clip112)\" cx=\"1252.88\" cy=\"1876.72\" r=\"14\" fill=\"#ff0000\" fill-rule=\"evenodd\" fill-opacity=\"0.5\" stroke=\"#000000\" stroke-opacity=\"0.5\" stroke-width=\"6.4\"/>\n",
       "<circle clip-path=\"url(#clip112)\" cx=\"1205.09\" cy=\"1156.89\" r=\"14\" fill=\"#ff0000\" fill-rule=\"evenodd\" fill-opacity=\"0.5\" stroke=\"#000000\" stroke-opacity=\"0.5\" stroke-width=\"6.4\"/>\n",
       "<circle clip-path=\"url(#clip112)\" cx=\"1619.53\" cy=\"1313.66\" r=\"14\" fill=\"#ff0000\" fill-rule=\"evenodd\" fill-opacity=\"0.5\" stroke=\"#000000\" stroke-opacity=\"0.5\" stroke-width=\"6.4\"/>\n",
       "<circle clip-path=\"url(#clip112)\" cx=\"2080.05\" cy=\"748.846\" r=\"14\" fill=\"#ff0000\" fill-rule=\"evenodd\" fill-opacity=\"0.5\" stroke=\"#000000\" stroke-opacity=\"0.5\" stroke-width=\"6.4\"/>\n",
       "<circle clip-path=\"url(#clip112)\" cx=\"2079.8\" cy=\"867.34\" r=\"14\" fill=\"#ff0000\" fill-rule=\"evenodd\" fill-opacity=\"0.5\" stroke=\"#000000\" stroke-opacity=\"0.5\" stroke-width=\"6.4\"/>\n",
       "<circle clip-path=\"url(#clip112)\" cx=\"1644.54\" cy=\"1697.94\" r=\"14\" fill=\"#ff0000\" fill-rule=\"evenodd\" fill-opacity=\"0.5\" stroke=\"#000000\" stroke-opacity=\"0.5\" stroke-width=\"6.4\"/>\n",
       "<circle clip-path=\"url(#clip112)\" cx=\"2247.99\" cy=\"697.292\" r=\"14\" fill=\"#ff0000\" fill-rule=\"evenodd\" fill-opacity=\"0.5\" stroke=\"#000000\" stroke-opacity=\"0.5\" stroke-width=\"6.4\"/>\n",
       "<circle clip-path=\"url(#clip112)\" cx=\"1658.62\" cy=\"1256.24\" r=\"14\" fill=\"#ff0000\" fill-rule=\"evenodd\" fill-opacity=\"0.5\" stroke=\"#000000\" stroke-opacity=\"0.5\" stroke-width=\"6.4\"/>\n",
       "<circle clip-path=\"url(#clip112)\" cx=\"1587.39\" cy=\"1374.28\" r=\"14\" fill=\"#ff0000\" fill-rule=\"evenodd\" fill-opacity=\"0.5\" stroke=\"#000000\" stroke-opacity=\"0.5\" stroke-width=\"6.4\"/>\n",
       "<circle clip-path=\"url(#clip112)\" cx=\"1483.16\" cy=\"1636.74\" r=\"14\" fill=\"#ff0000\" fill-rule=\"evenodd\" fill-opacity=\"0.5\" stroke=\"#000000\" stroke-opacity=\"0.5\" stroke-width=\"6.4\"/>\n",
       "<circle clip-path=\"url(#clip112)\" cx=\"2214\" cy=\"976.625\" r=\"14\" fill=\"#ff0000\" fill-rule=\"evenodd\" fill-opacity=\"0.5\" stroke=\"#000000\" stroke-opacity=\"0.5\" stroke-width=\"6.4\"/>\n",
       "<circle clip-path=\"url(#clip112)\" cx=\"2175.08\" cy=\"746.656\" r=\"14\" fill=\"#ff0000\" fill-rule=\"evenodd\" fill-opacity=\"0.5\" stroke=\"#000000\" stroke-opacity=\"0.5\" stroke-width=\"6.4\"/>\n",
       "<circle clip-path=\"url(#clip112)\" cx=\"1500.22\" cy=\"1887.33\" r=\"14\" fill=\"#ff0000\" fill-rule=\"evenodd\" fill-opacity=\"0.5\" stroke=\"#000000\" stroke-opacity=\"0.5\" stroke-width=\"6.4\"/>\n",
       "<circle clip-path=\"url(#clip112)\" cx=\"853.913\" cy=\"1975.42\" r=\"14\" fill=\"#ff0000\" fill-rule=\"evenodd\" fill-opacity=\"0.5\" stroke=\"#000000\" stroke-opacity=\"0.5\" stroke-width=\"6.4\"/>\n",
       "<circle clip-path=\"url(#clip112)\" cx=\"1101.6\" cy=\"2008.59\" r=\"14\" fill=\"#ff0000\" fill-rule=\"evenodd\" fill-opacity=\"0.5\" stroke=\"#000000\" stroke-opacity=\"0.5\" stroke-width=\"6.4\"/>\n",
       "<circle clip-path=\"url(#clip112)\" cx=\"1308.34\" cy=\"1766.89\" r=\"14\" fill=\"#ff0000\" fill-rule=\"evenodd\" fill-opacity=\"0.5\" stroke=\"#000000\" stroke-opacity=\"0.5\" stroke-width=\"6.4\"/>\n",
       "<circle clip-path=\"url(#clip112)\" cx=\"2145.77\" cy=\"1344.2\" r=\"14\" fill=\"#ff0000\" fill-rule=\"evenodd\" fill-opacity=\"0.5\" stroke=\"#000000\" stroke-opacity=\"0.5\" stroke-width=\"6.4\"/>\n",
       "<circle clip-path=\"url(#clip112)\" cx=\"1231.81\" cy=\"2075.66\" r=\"14\" fill=\"#ff0000\" fill-rule=\"evenodd\" fill-opacity=\"0.5\" stroke=\"#000000\" stroke-opacity=\"0.5\" stroke-width=\"6.4\"/>\n",
       "<circle clip-path=\"url(#clip112)\" cx=\"2264.57\" cy=\"341.8\" r=\"14\" fill=\"#ff0000\" fill-rule=\"evenodd\" fill-opacity=\"0.5\" stroke=\"#000000\" stroke-opacity=\"0.5\" stroke-width=\"6.4\"/>\n",
       "<circle clip-path=\"url(#clip112)\" cx=\"1630.01\" cy=\"1454.14\" r=\"14\" fill=\"#ff0000\" fill-rule=\"evenodd\" fill-opacity=\"0.5\" stroke=\"#000000\" stroke-opacity=\"0.5\" stroke-width=\"6.4\"/>\n",
       "<circle clip-path=\"url(#clip112)\" cx=\"2014.24\" cy=\"1146.25\" r=\"14\" fill=\"#ff0000\" fill-rule=\"evenodd\" fill-opacity=\"0.5\" stroke=\"#000000\" stroke-opacity=\"0.5\" stroke-width=\"6.4\"/>\n",
       "<circle clip-path=\"url(#clip112)\" cx=\"1769.93\" cy=\"1101.2\" r=\"14\" fill=\"#ff0000\" fill-rule=\"evenodd\" fill-opacity=\"0.5\" stroke=\"#000000\" stroke-opacity=\"0.5\" stroke-width=\"6.4\"/>\n",
       "<circle clip-path=\"url(#clip112)\" cx=\"1280.85\" cy=\"2066.18\" r=\"14\" fill=\"#ff0000\" fill-rule=\"evenodd\" fill-opacity=\"0.5\" stroke=\"#000000\" stroke-opacity=\"0.5\" stroke-width=\"6.4\"/>\n",
       "<circle clip-path=\"url(#clip112)\" cx=\"1239.41\" cy=\"1484.88\" r=\"14\" fill=\"#ff0000\" fill-rule=\"evenodd\" fill-opacity=\"0.5\" stroke=\"#000000\" stroke-opacity=\"0.5\" stroke-width=\"6.4\"/>\n",
       "<circle clip-path=\"url(#clip112)\" cx=\"2050.42\" cy=\"850.992\" r=\"14\" fill=\"#ff0000\" fill-rule=\"evenodd\" fill-opacity=\"0.5\" stroke=\"#000000\" stroke-opacity=\"0.5\" stroke-width=\"6.4\"/>\n",
       "<circle clip-path=\"url(#clip112)\" cx=\"1472.77\" cy=\"1905.57\" r=\"14\" fill=\"#ff0000\" fill-rule=\"evenodd\" fill-opacity=\"0.5\" stroke=\"#000000\" stroke-opacity=\"0.5\" stroke-width=\"6.4\"/>\n",
       "<circle clip-path=\"url(#clip112)\" cx=\"3069.76\" cy=\"129.854\" r=\"14\" fill=\"#ff0000\" fill-rule=\"evenodd\" fill-opacity=\"0.5\" stroke=\"#000000\" stroke-opacity=\"0.5\" stroke-width=\"6.4\"/>\n",
       "<circle clip-path=\"url(#clip112)\" cx=\"1281.46\" cy=\"1100.58\" r=\"14\" fill=\"#ff0000\" fill-rule=\"evenodd\" fill-opacity=\"0.5\" stroke=\"#000000\" stroke-opacity=\"0.5\" stroke-width=\"6.4\"/>\n",
       "<circle clip-path=\"url(#clip112)\" cx=\"1558.28\" cy=\"1533.92\" r=\"14\" fill=\"#ff0000\" fill-rule=\"evenodd\" fill-opacity=\"0.5\" stroke=\"#000000\" stroke-opacity=\"0.5\" stroke-width=\"6.4\"/>\n",
       "<circle clip-path=\"url(#clip112)\" cx=\"2225.39\" cy=\"828.302\" r=\"14\" fill=\"#ff0000\" fill-rule=\"evenodd\" fill-opacity=\"0.5\" stroke=\"#000000\" stroke-opacity=\"0.5\" stroke-width=\"6.4\"/>\n",
       "<circle clip-path=\"url(#clip112)\" cx=\"1999.35\" cy=\"920.881\" r=\"14\" fill=\"#ff0000\" fill-rule=\"evenodd\" fill-opacity=\"0.5\" stroke=\"#000000\" stroke-opacity=\"0.5\" stroke-width=\"6.4\"/>\n",
       "<circle clip-path=\"url(#clip112)\" cx=\"1975.94\" cy=\"1521.76\" r=\"14\" fill=\"#ff0000\" fill-rule=\"evenodd\" fill-opacity=\"0.5\" stroke=\"#000000\" stroke-opacity=\"0.5\" stroke-width=\"6.4\"/>\n",
       "<circle clip-path=\"url(#clip112)\" cx=\"1640.88\" cy=\"1295.23\" r=\"14\" fill=\"#ff0000\" fill-rule=\"evenodd\" fill-opacity=\"0.5\" stroke=\"#000000\" stroke-opacity=\"0.5\" stroke-width=\"6.4\"/>\n",
       "<circle clip-path=\"url(#clip112)\" cx=\"1628.77\" cy=\"1059.26\" r=\"14\" fill=\"#ff0000\" fill-rule=\"evenodd\" fill-opacity=\"0.5\" stroke=\"#000000\" stroke-opacity=\"0.5\" stroke-width=\"6.4\"/>\n",
       "<circle clip-path=\"url(#clip112)\" cx=\"2256.68\" cy=\"1087.64\" r=\"14\" fill=\"#ff0000\" fill-rule=\"evenodd\" fill-opacity=\"0.5\" stroke=\"#000000\" stroke-opacity=\"0.5\" stroke-width=\"6.4\"/>\n",
       "<circle clip-path=\"url(#clip112)\" cx=\"1300.66\" cy=\"1600.23\" r=\"14\" fill=\"#ff0000\" fill-rule=\"evenodd\" fill-opacity=\"0.5\" stroke=\"#000000\" stroke-opacity=\"0.5\" stroke-width=\"6.4\"/>\n",
       "<circle clip-path=\"url(#clip112)\" cx=\"1599.45\" cy=\"815.075\" r=\"14\" fill=\"#ff0000\" fill-rule=\"evenodd\" fill-opacity=\"0.5\" stroke=\"#000000\" stroke-opacity=\"0.5\" stroke-width=\"6.4\"/>\n",
       "<circle clip-path=\"url(#clip112)\" cx=\"1381.97\" cy=\"1833.78\" r=\"14\" fill=\"#ff0000\" fill-rule=\"evenodd\" fill-opacity=\"0.5\" stroke=\"#000000\" stroke-opacity=\"0.5\" stroke-width=\"6.4\"/>\n",
       "<circle clip-path=\"url(#clip112)\" cx=\"1403.81\" cy=\"1692.7\" r=\"14\" fill=\"#ff0000\" fill-rule=\"evenodd\" fill-opacity=\"0.5\" stroke=\"#000000\" stroke-opacity=\"0.5\" stroke-width=\"6.4\"/>\n",
       "<circle clip-path=\"url(#clip112)\" cx=\"1456.62\" cy=\"1592.03\" r=\"14\" fill=\"#ff0000\" fill-rule=\"evenodd\" fill-opacity=\"0.5\" stroke=\"#000000\" stroke-opacity=\"0.5\" stroke-width=\"6.4\"/>\n",
       "<circle clip-path=\"url(#clip112)\" cx=\"1595.58\" cy=\"1592.44\" r=\"14\" fill=\"#ff0000\" fill-rule=\"evenodd\" fill-opacity=\"0.5\" stroke=\"#000000\" stroke-opacity=\"0.5\" stroke-width=\"6.4\"/>\n",
       "<circle clip-path=\"url(#clip112)\" cx=\"1190.35\" cy=\"2144.77\" r=\"14\" fill=\"#ff0000\" fill-rule=\"evenodd\" fill-opacity=\"0.5\" stroke=\"#000000\" stroke-opacity=\"0.5\" stroke-width=\"6.4\"/>\n",
       "<circle clip-path=\"url(#clip112)\" cx=\"1311.44\" cy=\"1509.77\" r=\"14\" fill=\"#ff0000\" fill-rule=\"evenodd\" fill-opacity=\"0.5\" stroke=\"#000000\" stroke-opacity=\"0.5\" stroke-width=\"6.4\"/>\n",
       "<circle clip-path=\"url(#clip112)\" cx=\"1188.57\" cy=\"1025.71\" r=\"14\" fill=\"#ff0000\" fill-rule=\"evenodd\" fill-opacity=\"0.5\" stroke=\"#000000\" stroke-opacity=\"0.5\" stroke-width=\"6.4\"/>\n",
       "<circle clip-path=\"url(#clip112)\" cx=\"1768.64\" cy=\"1647.67\" r=\"14\" fill=\"#ff0000\" fill-rule=\"evenodd\" fill-opacity=\"0.5\" stroke=\"#000000\" stroke-opacity=\"0.5\" stroke-width=\"6.4\"/>\n",
       "<circle clip-path=\"url(#clip112)\" cx=\"1525.26\" cy=\"1632.17\" r=\"14\" fill=\"#ff0000\" fill-rule=\"evenodd\" fill-opacity=\"0.5\" stroke=\"#000000\" stroke-opacity=\"0.5\" stroke-width=\"6.4\"/>\n",
       "<circle clip-path=\"url(#clip112)\" cx=\"2058.3\" cy=\"729.245\" r=\"14\" fill=\"#ff0000\" fill-rule=\"evenodd\" fill-opacity=\"0.5\" stroke=\"#000000\" stroke-opacity=\"0.5\" stroke-width=\"6.4\"/>\n",
       "<circle clip-path=\"url(#clip112)\" cx=\"1657.48\" cy=\"1527.16\" r=\"14\" fill=\"#ff0000\" fill-rule=\"evenodd\" fill-opacity=\"0.5\" stroke=\"#000000\" stroke-opacity=\"0.5\" stroke-width=\"6.4\"/>\n",
       "<circle clip-path=\"url(#clip112)\" cx=\"2308.3\" cy=\"760.376\" r=\"14\" fill=\"#ff0000\" fill-rule=\"evenodd\" fill-opacity=\"0.5\" stroke=\"#000000\" stroke-opacity=\"0.5\" stroke-width=\"6.4\"/>\n",
       "<circle clip-path=\"url(#clip112)\" cx=\"1867.84\" cy=\"1083.32\" r=\"14\" fill=\"#ff0000\" fill-rule=\"evenodd\" fill-opacity=\"0.5\" stroke=\"#000000\" stroke-opacity=\"0.5\" stroke-width=\"6.4\"/>\n",
       "<circle clip-path=\"url(#clip112)\" cx=\"1579.68\" cy=\"1521.61\" r=\"14\" fill=\"#ff0000\" fill-rule=\"evenodd\" fill-opacity=\"0.5\" stroke=\"#000000\" stroke-opacity=\"0.5\" stroke-width=\"6.4\"/>\n",
       "<circle clip-path=\"url(#clip112)\" cx=\"1964.39\" cy=\"1044.88\" r=\"14\" fill=\"#ff0000\" fill-rule=\"evenodd\" fill-opacity=\"0.5\" stroke=\"#000000\" stroke-opacity=\"0.5\" stroke-width=\"6.4\"/>\n",
       "<circle clip-path=\"url(#clip112)\" cx=\"1035.1\" cy=\"1802.99\" r=\"14\" fill=\"#ff0000\" fill-rule=\"evenodd\" fill-opacity=\"0.5\" stroke=\"#000000\" stroke-opacity=\"0.5\" stroke-width=\"6.4\"/>\n",
       "<circle clip-path=\"url(#clip112)\" cx=\"1425.09\" cy=\"1803.78\" r=\"14\" fill=\"#ff0000\" fill-rule=\"evenodd\" fill-opacity=\"0.5\" stroke=\"#000000\" stroke-opacity=\"0.5\" stroke-width=\"6.4\"/>\n",
       "<circle clip-path=\"url(#clip112)\" cx=\"1624.3\" cy=\"1432.94\" r=\"14\" fill=\"#ff0000\" fill-rule=\"evenodd\" fill-opacity=\"0.5\" stroke=\"#000000\" stroke-opacity=\"0.5\" stroke-width=\"6.4\"/>\n",
       "<circle clip-path=\"url(#clip112)\" cx=\"1417.94\" cy=\"1580.66\" r=\"14\" fill=\"#ff0000\" fill-rule=\"evenodd\" fill-opacity=\"0.5\" stroke=\"#000000\" stroke-opacity=\"0.5\" stroke-width=\"6.4\"/>\n",
       "<circle clip-path=\"url(#clip112)\" cx=\"1419.15\" cy=\"1462.21\" r=\"14\" fill=\"#ff0000\" fill-rule=\"evenodd\" fill-opacity=\"0.5\" stroke=\"#000000\" stroke-opacity=\"0.5\" stroke-width=\"6.4\"/>\n",
       "<circle clip-path=\"url(#clip112)\" cx=\"2244.3\" cy=\"635.476\" r=\"14\" fill=\"#ff0000\" fill-rule=\"evenodd\" fill-opacity=\"0.5\" stroke=\"#000000\" stroke-opacity=\"0.5\" stroke-width=\"6.4\"/>\n",
       "<circle clip-path=\"url(#clip112)\" cx=\"1418.64\" cy=\"1606.15\" r=\"14\" fill=\"#ff0000\" fill-rule=\"evenodd\" fill-opacity=\"0.5\" stroke=\"#000000\" stroke-opacity=\"0.5\" stroke-width=\"6.4\"/>\n",
       "<circle clip-path=\"url(#clip112)\" cx=\"1570.21\" cy=\"1641.6\" r=\"14\" fill=\"#ff0000\" fill-rule=\"evenodd\" fill-opacity=\"0.5\" stroke=\"#000000\" stroke-opacity=\"0.5\" stroke-width=\"6.4\"/>\n",
       "<circle clip-path=\"url(#clip112)\" cx=\"1268.59\" cy=\"1760.3\" r=\"14\" fill=\"#ff0000\" fill-rule=\"evenodd\" fill-opacity=\"0.5\" stroke=\"#000000\" stroke-opacity=\"0.5\" stroke-width=\"6.4\"/>\n",
       "<circle clip-path=\"url(#clip112)\" cx=\"1089.32\" cy=\"1070.12\" r=\"14\" fill=\"#ff0000\" fill-rule=\"evenodd\" fill-opacity=\"0.5\" stroke=\"#000000\" stroke-opacity=\"0.5\" stroke-width=\"6.4\"/>\n",
       "<circle clip-path=\"url(#clip112)\" cx=\"1702.37\" cy=\"1260.77\" r=\"14\" fill=\"#ff0000\" fill-rule=\"evenodd\" fill-opacity=\"0.5\" stroke=\"#000000\" stroke-opacity=\"0.5\" stroke-width=\"6.4\"/>\n",
       "<circle clip-path=\"url(#clip112)\" cx=\"2012.59\" cy=\"922.193\" r=\"14\" fill=\"#ff0000\" fill-rule=\"evenodd\" fill-opacity=\"0.5\" stroke=\"#000000\" stroke-opacity=\"0.5\" stroke-width=\"6.4\"/>\n",
       "<circle clip-path=\"url(#clip112)\" cx=\"1799.73\" cy=\"1583.03\" r=\"14\" fill=\"#ff0000\" fill-rule=\"evenodd\" fill-opacity=\"0.5\" stroke=\"#000000\" stroke-opacity=\"0.5\" stroke-width=\"6.4\"/>\n",
       "<circle clip-path=\"url(#clip112)\" cx=\"1832.11\" cy=\"970.36\" r=\"14\" fill=\"#ff0000\" fill-rule=\"evenodd\" fill-opacity=\"0.5\" stroke=\"#000000\" stroke-opacity=\"0.5\" stroke-width=\"6.4\"/>\n",
       "<circle clip-path=\"url(#clip112)\" cx=\"2457.76\" cy=\"874.748\" r=\"14\" fill=\"#ff0000\" fill-rule=\"evenodd\" fill-opacity=\"0.5\" stroke=\"#000000\" stroke-opacity=\"0.5\" stroke-width=\"6.4\"/>\n",
       "<circle clip-path=\"url(#clip112)\" cx=\"2145.88\" cy=\"1069.99\" r=\"14\" fill=\"#ff0000\" fill-rule=\"evenodd\" fill-opacity=\"0.5\" stroke=\"#000000\" stroke-opacity=\"0.5\" stroke-width=\"6.4\"/>\n",
       "<circle clip-path=\"url(#clip112)\" cx=\"1357.79\" cy=\"1768.86\" r=\"14\" fill=\"#ff0000\" fill-rule=\"evenodd\" fill-opacity=\"0.5\" stroke=\"#000000\" stroke-opacity=\"0.5\" stroke-width=\"6.4\"/>\n",
       "<circle clip-path=\"url(#clip112)\" cx=\"2391.95\" cy=\"934.11\" r=\"14\" fill=\"#ff0000\" fill-rule=\"evenodd\" fill-opacity=\"0.5\" stroke=\"#000000\" stroke-opacity=\"0.5\" stroke-width=\"6.4\"/>\n",
       "<circle clip-path=\"url(#clip112)\" cx=\"1647.93\" cy=\"1632.86\" r=\"14\" fill=\"#ff0000\" fill-rule=\"evenodd\" fill-opacity=\"0.5\" stroke=\"#000000\" stroke-opacity=\"0.5\" stroke-width=\"6.4\"/>\n",
       "<circle clip-path=\"url(#clip112)\" cx=\"1625.47\" cy=\"1123.89\" r=\"14\" fill=\"#ff0000\" fill-rule=\"evenodd\" fill-opacity=\"0.5\" stroke=\"#000000\" stroke-opacity=\"0.5\" stroke-width=\"6.4\"/>\n",
       "<circle clip-path=\"url(#clip112)\" cx=\"2079.75\" cy=\"729.606\" r=\"14\" fill=\"#ff0000\" fill-rule=\"evenodd\" fill-opacity=\"0.5\" stroke=\"#000000\" stroke-opacity=\"0.5\" stroke-width=\"6.4\"/>\n",
       "<circle clip-path=\"url(#clip112)\" cx=\"1183.79\" cy=\"1611.17\" r=\"14\" fill=\"#ff0000\" fill-rule=\"evenodd\" fill-opacity=\"0.5\" stroke=\"#000000\" stroke-opacity=\"0.5\" stroke-width=\"6.4\"/>\n",
       "<circle clip-path=\"url(#clip112)\" cx=\"1250.47\" cy=\"1489.47\" r=\"14\" fill=\"#ff0000\" fill-rule=\"evenodd\" fill-opacity=\"0.5\" stroke=\"#000000\" stroke-opacity=\"0.5\" stroke-width=\"6.4\"/>\n",
       "<circle clip-path=\"url(#clip112)\" cx=\"1506.06\" cy=\"1701.66\" r=\"14\" fill=\"#ff0000\" fill-rule=\"evenodd\" fill-opacity=\"0.5\" stroke=\"#000000\" stroke-opacity=\"0.5\" stroke-width=\"6.4\"/>\n",
       "<circle clip-path=\"url(#clip112)\" cx=\"1504.15\" cy=\"1558.45\" r=\"14\" fill=\"#ff0000\" fill-rule=\"evenodd\" fill-opacity=\"0.5\" stroke=\"#000000\" stroke-opacity=\"0.5\" stroke-width=\"6.4\"/>\n",
       "<circle clip-path=\"url(#clip112)\" cx=\"2004.08\" cy=\"705.405\" r=\"14\" fill=\"#ff0000\" fill-rule=\"evenodd\" fill-opacity=\"0.5\" stroke=\"#000000\" stroke-opacity=\"0.5\" stroke-width=\"6.4\"/>\n",
       "<circle clip-path=\"url(#clip112)\" cx=\"1497.24\" cy=\"841.378\" r=\"14\" fill=\"#ff0000\" fill-rule=\"evenodd\" fill-opacity=\"0.5\" stroke=\"#000000\" stroke-opacity=\"0.5\" stroke-width=\"6.4\"/>\n",
       "<circle clip-path=\"url(#clip112)\" cx=\"1496.4\" cy=\"1132.34\" r=\"14\" fill=\"#ff0000\" fill-rule=\"evenodd\" fill-opacity=\"0.5\" stroke=\"#000000\" stroke-opacity=\"0.5\" stroke-width=\"6.4\"/>\n",
       "<circle clip-path=\"url(#clip112)\" cx=\"1806.38\" cy=\"1085.76\" r=\"14\" fill=\"#ff0000\" fill-rule=\"evenodd\" fill-opacity=\"0.5\" stroke=\"#000000\" stroke-opacity=\"0.5\" stroke-width=\"6.4\"/>\n",
       "<circle clip-path=\"url(#clip112)\" cx=\"2069.8\" cy=\"747.075\" r=\"14\" fill=\"#ff0000\" fill-rule=\"evenodd\" fill-opacity=\"0.5\" stroke=\"#000000\" stroke-opacity=\"0.5\" stroke-width=\"6.4\"/>\n",
       "<circle clip-path=\"url(#clip112)\" cx=\"1956.2\" cy=\"925.459\" r=\"14\" fill=\"#ff0000\" fill-rule=\"evenodd\" fill-opacity=\"0.5\" stroke=\"#000000\" stroke-opacity=\"0.5\" stroke-width=\"6.4\"/>\n",
       "<circle clip-path=\"url(#clip112)\" cx=\"1799.02\" cy=\"1720.19\" r=\"14\" fill=\"#ff0000\" fill-rule=\"evenodd\" fill-opacity=\"0.5\" stroke=\"#000000\" stroke-opacity=\"0.5\" stroke-width=\"6.4\"/>\n",
       "<circle clip-path=\"url(#clip112)\" cx=\"1250.54\" cy=\"2372.38\" r=\"14\" fill=\"#ff0000\" fill-rule=\"evenodd\" fill-opacity=\"0.5\" stroke=\"#000000\" stroke-opacity=\"0.5\" stroke-width=\"6.4\"/>\n",
       "<circle clip-path=\"url(#clip112)\" cx=\"1967.84\" cy=\"1400.84\" r=\"14\" fill=\"#ff0000\" fill-rule=\"evenodd\" fill-opacity=\"0.5\" stroke=\"#000000\" stroke-opacity=\"0.5\" stroke-width=\"6.4\"/>\n",
       "<circle clip-path=\"url(#clip112)\" cx=\"1454.27\" cy=\"1148.37\" r=\"14\" fill=\"#ff0000\" fill-rule=\"evenodd\" fill-opacity=\"0.5\" stroke=\"#000000\" stroke-opacity=\"0.5\" stroke-width=\"6.4\"/>\n",
       "<circle clip-path=\"url(#clip112)\" cx=\"2140.09\" cy=\"1153.52\" r=\"14\" fill=\"#ff0000\" fill-rule=\"evenodd\" fill-opacity=\"0.5\" stroke=\"#000000\" stroke-opacity=\"0.5\" stroke-width=\"6.4\"/>\n",
       "<circle clip-path=\"url(#clip112)\" cx=\"1626.94\" cy=\"1328.3\" r=\"14\" fill=\"#ff0000\" fill-rule=\"evenodd\" fill-opacity=\"0.5\" stroke=\"#000000\" stroke-opacity=\"0.5\" stroke-width=\"6.4\"/>\n",
       "<polyline clip-path=\"url(#clip112)\" style=\"stroke:#000000; stroke-width:4; stroke-opacity:0.1; fill:none\" points=\"\n",
       "  2382.34,708.715 2476.54,500.087 \n",
       "  \"/>\n",
       "<polyline clip-path=\"url(#clip112)\" style=\"stroke:#000000; stroke-width:4; stroke-opacity:0.1; fill:none\" points=\"\n",
       "  1418.05,1503.08 1312.1,1250.21 \n",
       "  \"/>\n",
       "<polyline clip-path=\"url(#clip112)\" style=\"stroke:#000000; stroke-width:4; stroke-opacity:0.1; fill:none\" points=\"\n",
       "  2084.97,1271.66 2078.12,1125.36 \n",
       "  \"/>\n",
       "<polyline clip-path=\"url(#clip112)\" style=\"stroke:#000000; stroke-width:4; stroke-opacity:0.1; fill:none\" points=\"\n",
       "  2047.23,829.321 2084.66,754.77 \n",
       "  \"/>\n",
       "<polyline clip-path=\"url(#clip112)\" style=\"stroke:#000000; stroke-width:4; stroke-opacity:0.1; fill:none\" points=\"\n",
       "  1744.46,1728.88 1462.12,1784.7 \n",
       "  \"/>\n",
       "<polyline clip-path=\"url(#clip112)\" style=\"stroke:#000000; stroke-width:4; stroke-opacity:0.1; fill:none\" points=\"\n",
       "  1561.54,1527.82 1548.26,1526.18 \n",
       "  \"/>\n",
       "<polyline clip-path=\"url(#clip112)\" style=\"stroke:#000000; stroke-width:4; stroke-opacity:0.1; fill:none\" points=\"\n",
       "  1336.37,1584.49 1261.88,1514 \n",
       "  \"/>\n",
       "<polyline clip-path=\"url(#clip112)\" style=\"stroke:#000000; stroke-width:4; stroke-opacity:0.1; fill:none\" points=\"\n",
       "  1556.67,1903.85 1645.48,2201.48 \n",
       "  \"/>\n",
       "<polyline clip-path=\"url(#clip112)\" style=\"stroke:#000000; stroke-width:4; stroke-opacity:0.1; fill:none\" points=\"\n",
       "  1418.05,1503.08 1521.17,1517.53 \n",
       "  \"/>\n",
       "<polyline clip-path=\"url(#clip112)\" style=\"stroke:#000000; stroke-width:4; stroke-opacity:0.1; fill:none\" points=\"\n",
       "  1550.86,1120.36 1613.78,1071.41 \n",
       "  \"/>\n",
       "<polyline clip-path=\"url(#clip112)\" style=\"stroke:#000000; stroke-width:4; stroke-opacity:0.1; fill:none\" points=\"\n",
       "  1556.67,1903.85 1327.44,1980.24 \n",
       "  \"/>\n",
       "<polyline clip-path=\"url(#clip112)\" style=\"stroke:#000000; stroke-width:4; stroke-opacity:0.1; fill:none\" points=\"\n",
       "  1312.24,1906.9 1252.88,1876.72 \n",
       "  \"/>\n",
       "<polyline clip-path=\"url(#clip112)\" style=\"stroke:#000000; stroke-width:4; stroke-opacity:0.1; fill:none\" points=\"\n",
       "  1190.12,1226.36 1205.09,1156.89 \n",
       "  \"/>\n",
       "<polyline clip-path=\"url(#clip112)\" style=\"stroke:#000000; stroke-width:4; stroke-opacity:0.1; fill:none\" points=\"\n",
       "  1609.72,1339.12 1619.53,1313.66 \n",
       "  \"/>\n",
       "<polyline clip-path=\"url(#clip112)\" style=\"stroke:#000000; stroke-width:4; stroke-opacity:0.1; fill:none\" points=\"\n",
       "  2181.72,915.703 2080.05,748.846 \n",
       "  \"/>\n",
       "<polyline clip-path=\"url(#clip112)\" style=\"stroke:#000000; stroke-width:4; stroke-opacity:0.1; fill:none\" points=\"\n",
       "  2145.78,793.44 2079.8,867.34 \n",
       "  \"/>\n",
       "<polyline clip-path=\"url(#clip112)\" style=\"stroke:#000000; stroke-width:4; stroke-opacity:0.1; fill:none\" points=\"\n",
       "  1530.23,1720.51 1644.54,1697.94 \n",
       "  \"/>\n",
       "<polyline clip-path=\"url(#clip112)\" style=\"stroke:#000000; stroke-width:4; stroke-opacity:0.1; fill:none\" points=\"\n",
       "  2205.86,690.73 2247.99,697.292 \n",
       "  \"/>\n",
       "<polyline clip-path=\"url(#clip112)\" style=\"stroke:#000000; stroke-width:4; stroke-opacity:0.1; fill:none\" points=\"\n",
       "  1515.29,1245.12 1658.62,1256.24 \n",
       "  \"/>\n",
       "<polyline clip-path=\"url(#clip112)\" style=\"stroke:#000000; stroke-width:4; stroke-opacity:0.1; fill:none\" points=\"\n",
       "  1521.31,1401.89 1587.39,1374.28 \n",
       "  \"/>\n",
       "<polyline clip-path=\"url(#clip112)\" style=\"stroke:#000000; stroke-width:4; stroke-opacity:0.1; fill:none\" points=\"\n",
       "  1524.11,1583.18 1483.16,1636.74 \n",
       "  \"/>\n",
       "<polyline clip-path=\"url(#clip112)\" style=\"stroke:#000000; stroke-width:4; stroke-opacity:0.1; fill:none\" points=\"\n",
       "  2181.72,915.703 2214,976.625 \n",
       "  \"/>\n",
       "<polyline clip-path=\"url(#clip112)\" style=\"stroke:#000000; stroke-width:4; stroke-opacity:0.1; fill:none\" points=\"\n",
       "  2205.86,690.73 2175.08,746.656 \n",
       "  \"/>\n",
       "<polyline clip-path=\"url(#clip112)\" style=\"stroke:#000000; stroke-width:4; stroke-opacity:0.1; fill:none\" points=\"\n",
       "  1469.01,1799.65 1500.22,1887.33 \n",
       "  \"/>\n",
       "<polyline clip-path=\"url(#clip112)\" style=\"stroke:#000000; stroke-width:4; stroke-opacity:0.1; fill:none\" points=\"\n",
       "  634.546,1781.24 853.913,1975.42 \n",
       "  \"/>\n",
       "<polyline clip-path=\"url(#clip112)\" style=\"stroke:#000000; stroke-width:4; stroke-opacity:0.1; fill:none\" points=\"\n",
       "  1181.33,1957.87 1101.6,2008.59 \n",
       "  \"/>\n",
       "<polyline clip-path=\"url(#clip112)\" style=\"stroke:#000000; stroke-width:4; stroke-opacity:0.1; fill:none\" points=\"\n",
       "  1427.29,1763.06 1308.34,1766.89 \n",
       "  \"/>\n",
       "<polyline clip-path=\"url(#clip112)\" style=\"stroke:#000000; stroke-width:4; stroke-opacity:0.1; fill:none\" points=\"\n",
       "  1835.43,1520.05 2145.77,1344.2 \n",
       "  \"/>\n",
       "<polyline clip-path=\"url(#clip112)\" style=\"stroke:#000000; stroke-width:4; stroke-opacity:0.1; fill:none\" points=\"\n",
       "  1181.33,1957.87 1231.81,2075.66 \n",
       "  \"/>\n",
       "<polyline clip-path=\"url(#clip112)\" style=\"stroke:#000000; stroke-width:4; stroke-opacity:0.1; fill:none\" points=\"\n",
       "  2361.16,494.323 2264.57,341.8 \n",
       "  \"/>\n",
       "<polyline clip-path=\"url(#clip112)\" style=\"stroke:#000000; stroke-width:4; stroke-opacity:0.1; fill:none\" points=\"\n",
       "  1599.21,1477.19 1630.01,1454.14 \n",
       "  \"/>\n",
       "<polyline clip-path=\"url(#clip112)\" style=\"stroke:#000000; stroke-width:4; stroke-opacity:0.1; fill:none\" points=\"\n",
       "  1992.51,1135.49 2014.24,1146.25 \n",
       "  \"/>\n",
       "<polyline clip-path=\"url(#clip112)\" style=\"stroke:#000000; stroke-width:4; stroke-opacity:0.1; fill:none\" points=\"\n",
       "  1695.94,1027.36 1769.93,1101.2 \n",
       "  \"/>\n",
       "<polyline clip-path=\"url(#clip112)\" style=\"stroke:#000000; stroke-width:4; stroke-opacity:0.1; fill:none\" points=\"\n",
       "  1410.78,2024.74 1280.85,2066.18 \n",
       "  \"/>\n",
       "<polyline clip-path=\"url(#clip112)\" style=\"stroke:#000000; stroke-width:4; stroke-opacity:0.1; fill:none\" points=\"\n",
       "  1261.67,1527.64 1239.41,1484.88 \n",
       "  \"/>\n",
       "<polyline clip-path=\"url(#clip112)\" style=\"stroke:#000000; stroke-width:4; stroke-opacity:0.1; fill:none\" points=\"\n",
       "  2053.58,920.999 2050.42,850.992 \n",
       "  \"/>\n",
       "<polyline clip-path=\"url(#clip112)\" style=\"stroke:#000000; stroke-width:4; stroke-opacity:0.1; fill:none\" points=\"\n",
       "  1556.67,1903.85 1472.77,1905.57 \n",
       "  \"/>\n",
       "<polyline clip-path=\"url(#clip112)\" style=\"stroke:#000000; stroke-width:4; stroke-opacity:0.1; fill:none\" points=\"\n",
       "  2607.63,275.638 3069.76,129.854 \n",
       "  \"/>\n",
       "<polyline clip-path=\"url(#clip112)\" style=\"stroke:#000000; stroke-width:4; stroke-opacity:0.1; fill:none\" points=\"\n",
       "  1362.47,1166.51 1281.46,1100.58 \n",
       "  \"/>\n",
       "<polyline clip-path=\"url(#clip112)\" style=\"stroke:#000000; stroke-width:4; stroke-opacity:0.1; fill:none\" points=\"\n",
       "  1561.54,1527.82 1558.28,1533.92 \n",
       "  \"/>\n",
       "<polyline clip-path=\"url(#clip112)\" style=\"stroke:#000000; stroke-width:4; stroke-opacity:0.1; fill:none\" points=\"\n",
       "  2181.62,761.329 2225.39,828.302 \n",
       "  \"/>\n",
       "<polyline clip-path=\"url(#clip112)\" style=\"stroke:#000000; stroke-width:4; stroke-opacity:0.1; fill:none\" points=\"\n",
       "  1904.29,1102.48 1999.35,920.881 \n",
       "  \"/>\n",
       "<polyline clip-path=\"url(#clip112)\" style=\"stroke:#000000; stroke-width:4; stroke-opacity:0.1; fill:none\" points=\"\n",
       "  1835.43,1520.05 1975.94,1521.76 \n",
       "  \"/>\n",
       "<polyline clip-path=\"url(#clip112)\" style=\"stroke:#000000; stroke-width:4; stroke-opacity:0.1; fill:none\" points=\"\n",
       "  1632.07,1333.09 1640.88,1295.23 \n",
       "  \"/>\n",
       "<polyline clip-path=\"url(#clip112)\" style=\"stroke:#000000; stroke-width:4; stroke-opacity:0.1; fill:none\" points=\"\n",
       "  1550.86,1120.36 1628.77,1059.26 \n",
       "  \"/>\n",
       "<polyline clip-path=\"url(#clip112)\" style=\"stroke:#000000; stroke-width:4; stroke-opacity:0.1; fill:none\" points=\"\n",
       "  2144.36,1078.34 2256.68,1087.64 \n",
       "  \"/>\n",
       "<polyline clip-path=\"url(#clip112)\" style=\"stroke:#000000; stroke-width:4; stroke-opacity:0.1; fill:none\" points=\"\n",
       "  1452.74,1587.81 1300.66,1600.23 \n",
       "  \"/>\n",
       "<polyline clip-path=\"url(#clip112)\" style=\"stroke:#000000; stroke-width:4; stroke-opacity:0.1; fill:none\" points=\"\n",
       "  1722.2,1006.27 1599.45,815.075 \n",
       "  \"/>\n",
       "<polyline clip-path=\"url(#clip112)\" style=\"stroke:#000000; stroke-width:4; stroke-opacity:0.1; fill:none\" points=\"\n",
       "  1212.21,1818.03 1381.97,1833.78 \n",
       "  \"/>\n",
       "<polyline clip-path=\"url(#clip112)\" style=\"stroke:#000000; stroke-width:4; stroke-opacity:0.1; fill:none\" points=\"\n",
       "  1336.37,1584.49 1403.81,1692.7 \n",
       "  \"/>\n",
       "<polyline clip-path=\"url(#clip112)\" style=\"stroke:#000000; stroke-width:4; stroke-opacity:0.1; fill:none\" points=\"\n",
       "  1530.23,1720.51 1456.62,1592.03 \n",
       "  \"/>\n",
       "<polyline clip-path=\"url(#clip112)\" style=\"stroke:#000000; stroke-width:4; stroke-opacity:0.1; fill:none\" points=\"\n",
       "  1599.21,1477.19 1595.58,1592.44 \n",
       "  \"/>\n",
       "<polyline clip-path=\"url(#clip112)\" style=\"stroke:#000000; stroke-width:4; stroke-opacity:0.1; fill:none\" points=\"\n",
       "  1064.52,2702.57 1190.35,2144.77 \n",
       "  \"/>\n",
       "<polyline clip-path=\"url(#clip112)\" style=\"stroke:#000000; stroke-width:4; stroke-opacity:0.1; fill:none\" points=\"\n",
       "  1336.37,1584.49 1311.44,1509.77 \n",
       "  \"/>\n",
       "<polyline clip-path=\"url(#clip112)\" style=\"stroke:#000000; stroke-width:4; stroke-opacity:0.1; fill:none\" points=\"\n",
       "  1190.12,1226.36 1188.57,1025.71 \n",
       "  \"/>\n",
       "<polyline clip-path=\"url(#clip112)\" style=\"stroke:#000000; stroke-width:4; stroke-opacity:0.1; fill:none\" points=\"\n",
       "  1772.29,1698.47 1768.64,1647.67 \n",
       "  \"/>\n",
       "<polyline clip-path=\"url(#clip112)\" style=\"stroke:#000000; stroke-width:4; stroke-opacity:0.1; fill:none\" points=\"\n",
       "  1524.11,1583.18 1525.26,1632.17 \n",
       "  \"/>\n",
       "<polyline clip-path=\"url(#clip112)\" style=\"stroke:#000000; stroke-width:4; stroke-opacity:0.1; fill:none\" points=\"\n",
       "  1973.01,715.603 2058.3,729.245 \n",
       "  \"/>\n",
       "<polyline clip-path=\"url(#clip112)\" style=\"stroke:#000000; stroke-width:4; stroke-opacity:0.1; fill:none\" points=\"\n",
       "  1579.73,1526.34 1657.48,1527.16 \n",
       "  \"/>\n",
       "<polyline clip-path=\"url(#clip112)\" style=\"stroke:#000000; stroke-width:4; stroke-opacity:0.1; fill:none\" points=\"\n",
       "  2269.14,764.96 2308.3,760.376 \n",
       "  \"/>\n",
       "<polyline clip-path=\"url(#clip112)\" style=\"stroke:#000000; stroke-width:4; stroke-opacity:0.1; fill:none\" points=\"\n",
       "  1927.28,878.48 1867.84,1083.32 \n",
       "  \"/>\n",
       "<polyline clip-path=\"url(#clip112)\" style=\"stroke:#000000; stroke-width:4; stroke-opacity:0.1; fill:none\" points=\"\n",
       "  1563.11,1518.91 1579.68,1521.61 \n",
       "  \"/>\n",
       "<polyline clip-path=\"url(#clip112)\" style=\"stroke:#000000; stroke-width:4; stroke-opacity:0.1; fill:none\" points=\"\n",
       "  1955.03,1110.89 1964.39,1044.88 \n",
       "  \"/>\n",
       "<polyline clip-path=\"url(#clip112)\" style=\"stroke:#000000; stroke-width:4; stroke-opacity:0.1; fill:none\" points=\"\n",
       "  1098.38,1586.53 1035.1,1802.99 \n",
       "  \"/>\n",
       "<polyline clip-path=\"url(#clip112)\" style=\"stroke:#000000; stroke-width:4; stroke-opacity:0.1; fill:none\" points=\"\n",
       "  1414.6,1704.41 1425.09,1803.78 \n",
       "  \"/>\n",
       "<polyline clip-path=\"url(#clip112)\" style=\"stroke:#000000; stroke-width:4; stroke-opacity:0.1; fill:none\" points=\"\n",
       "  1706.65,1414.53 1624.3,1432.94 \n",
       "  \"/>\n",
       "<polyline clip-path=\"url(#clip112)\" style=\"stroke:#000000; stroke-width:4; stroke-opacity:0.1; fill:none\" points=\"\n",
       "  1452.74,1587.81 1417.94,1580.66 \n",
       "  \"/>\n",
       "<polyline clip-path=\"url(#clip112)\" style=\"stroke:#000000; stroke-width:4; stroke-opacity:0.1; fill:none\" points=\"\n",
       "  1397.32,1459.16 1419.15,1462.21 \n",
       "  \"/>\n",
       "<polyline clip-path=\"url(#clip112)\" style=\"stroke:#000000; stroke-width:4; stroke-opacity:0.1; fill:none\" points=\"\n",
       "  2205.86,690.73 2244.3,635.476 \n",
       "  \"/>\n",
       "<polyline clip-path=\"url(#clip112)\" style=\"stroke:#000000; stroke-width:4; stroke-opacity:0.1; fill:none\" points=\"\n",
       "  1445.06,1399.31 1418.64,1606.15 \n",
       "  \"/>\n",
       "<polyline clip-path=\"url(#clip112)\" style=\"stroke:#000000; stroke-width:4; stroke-opacity:0.1; fill:none\" points=\"\n",
       "  1452.74,1587.81 1570.21,1641.6 \n",
       "  \"/>\n",
       "<polyline clip-path=\"url(#clip112)\" style=\"stroke:#000000; stroke-width:4; stroke-opacity:0.1; fill:none\" points=\"\n",
       "  1183.45,1759.54 1268.59,1760.3 \n",
       "  \"/>\n",
       "<polyline clip-path=\"url(#clip112)\" style=\"stroke:#000000; stroke-width:4; stroke-opacity:0.1; fill:none\" points=\"\n",
       "  1362.47,1166.51 1089.32,1070.12 \n",
       "  \"/>\n",
       "<polyline clip-path=\"url(#clip112)\" style=\"stroke:#000000; stroke-width:4; stroke-opacity:0.1; fill:none\" points=\"\n",
       "  1591.36,1311.89 1702.37,1260.77 \n",
       "  \"/>\n",
       "<polyline clip-path=\"url(#clip112)\" style=\"stroke:#000000; stroke-width:4; stroke-opacity:0.1; fill:none\" points=\"\n",
       "  2053.58,920.999 2012.59,922.193 \n",
       "  \"/>\n",
       "<polyline clip-path=\"url(#clip112)\" style=\"stroke:#000000; stroke-width:4; stroke-opacity:0.1; fill:none\" points=\"\n",
       "  1706.65,1414.53 1799.73,1583.03 \n",
       "  \"/>\n",
       "<polyline clip-path=\"url(#clip112)\" style=\"stroke:#000000; stroke-width:4; stroke-opacity:0.1; fill:none\" points=\"\n",
       "  1734.56,920.115 1832.11,970.36 \n",
       "  \"/>\n",
       "<polyline clip-path=\"url(#clip112)\" style=\"stroke:#000000; stroke-width:4; stroke-opacity:0.1; fill:none\" points=\"\n",
       "  2382.34,708.715 2457.76,874.748 \n",
       "  \"/>\n",
       "<polyline clip-path=\"url(#clip112)\" style=\"stroke:#000000; stroke-width:4; stroke-opacity:0.1; fill:none\" points=\"\n",
       "  2068.92,1169.29 2145.88,1069.99 \n",
       "  \"/>\n",
       "<polyline clip-path=\"url(#clip112)\" style=\"stroke:#000000; stroke-width:4; stroke-opacity:0.1; fill:none\" points=\"\n",
       "  1427.29,1763.06 1357.79,1768.86 \n",
       "  \"/>\n",
       "<polyline clip-path=\"url(#clip112)\" style=\"stroke:#000000; stroke-width:4; stroke-opacity:0.1; fill:none\" points=\"\n",
       "  2336.52,1075.87 2391.95,934.11 \n",
       "  \"/>\n",
       "<polyline clip-path=\"url(#clip112)\" style=\"stroke:#000000; stroke-width:4; stroke-opacity:0.1; fill:none\" points=\"\n",
       "  1646.4,1596.17 1647.93,1632.86 \n",
       "  \"/>\n",
       "<polyline clip-path=\"url(#clip112)\" style=\"stroke:#000000; stroke-width:4; stroke-opacity:0.1; fill:none\" points=\"\n",
       "  1722.2,1006.27 1625.47,1123.89 \n",
       "  \"/>\n",
       "<polyline clip-path=\"url(#clip112)\" style=\"stroke:#000000; stroke-width:4; stroke-opacity:0.1; fill:none\" points=\"\n",
       "  1942.64,878.444 2079.75,729.606 \n",
       "  \"/>\n",
       "<polyline clip-path=\"url(#clip112)\" style=\"stroke:#000000; stroke-width:4; stroke-opacity:0.1; fill:none\" points=\"\n",
       "  1183.45,1759.54 1183.79,1611.17 \n",
       "  \"/>\n",
       "<polyline clip-path=\"url(#clip112)\" style=\"stroke:#000000; stroke-width:4; stroke-opacity:0.1; fill:none\" points=\"\n",
       "  1263.82,1565.36 1250.47,1489.47 \n",
       "  \"/>\n",
       "<polyline clip-path=\"url(#clip112)\" style=\"stroke:#000000; stroke-width:4; stroke-opacity:0.1; fill:none\" points=\"\n",
       "  1452.74,1587.81 1506.06,1701.66 \n",
       "  \"/>\n",
       "<polyline clip-path=\"url(#clip112)\" style=\"stroke:#000000; stroke-width:4; stroke-opacity:0.1; fill:none\" points=\"\n",
       "  1524.11,1583.18 1504.15,1558.45 \n",
       "  \"/>\n",
       "<polyline clip-path=\"url(#clip112)\" style=\"stroke:#000000; stroke-width:4; stroke-opacity:0.1; fill:none\" points=\"\n",
       "  2047.23,829.321 2004.08,705.405 \n",
       "  \"/>\n",
       "<polyline clip-path=\"url(#clip112)\" style=\"stroke:#000000; stroke-width:4; stroke-opacity:0.1; fill:none\" points=\"\n",
       "  1440.36,1039.48 1497.24,841.378 \n",
       "  \"/>\n",
       "<polyline clip-path=\"url(#clip112)\" style=\"stroke:#000000; stroke-width:4; stroke-opacity:0.1; fill:none\" points=\"\n",
       "  1550.86,1120.36 1496.4,1132.34 \n",
       "  \"/>\n",
       "<polyline clip-path=\"url(#clip112)\" style=\"stroke:#000000; stroke-width:4; stroke-opacity:0.1; fill:none\" points=\"\n",
       "  1623.48,1086.71 1806.38,1085.76 \n",
       "  \"/>\n",
       "<polyline clip-path=\"url(#clip112)\" style=\"stroke:#000000; stroke-width:4; stroke-opacity:0.1; fill:none\" points=\"\n",
       "  1973.01,715.603 2069.8,747.075 \n",
       "  \"/>\n",
       "<polyline clip-path=\"url(#clip112)\" style=\"stroke:#000000; stroke-width:4; stroke-opacity:0.1; fill:none\" points=\"\n",
       "  1904.29,1102.48 1956.2,925.459 \n",
       "  \"/>\n",
       "<polyline clip-path=\"url(#clip112)\" style=\"stroke:#000000; stroke-width:4; stroke-opacity:0.1; fill:none\" points=\"\n",
       "  1772.29,1698.47 1799.02,1720.19 \n",
       "  \"/>\n",
       "<polyline clip-path=\"url(#clip112)\" style=\"stroke:#000000; stroke-width:4; stroke-opacity:0.1; fill:none\" points=\"\n",
       "  1364.54,2241.77 1250.54,2372.38 \n",
       "  \"/>\n",
       "<polyline clip-path=\"url(#clip112)\" style=\"stroke:#000000; stroke-width:4; stroke-opacity:0.1; fill:none\" points=\"\n",
       "  1983.96,1296.27 1967.84,1400.84 \n",
       "  \"/>\n",
       "<polyline clip-path=\"url(#clip112)\" style=\"stroke:#000000; stroke-width:4; stroke-opacity:0.1; fill:none\" points=\"\n",
       "  1591.36,1311.89 1454.27,1148.37 \n",
       "  \"/>\n",
       "<polyline clip-path=\"url(#clip112)\" style=\"stroke:#000000; stroke-width:4; stroke-opacity:0.1; fill:none\" points=\"\n",
       "  2068.92,1169.29 2140.09,1153.52 \n",
       "  \"/>\n",
       "<polyline clip-path=\"url(#clip112)\" style=\"stroke:#000000; stroke-width:4; stroke-opacity:0.1; fill:none\" points=\"\n",
       "  1609.72,1339.12 1626.94,1328.3 \n",
       "  \"/>\n",
       "<path clip-path=\"url(#clip112)\" d=\"M2022.5 902.354 L2006.5 918.354 L2022.5 934.354 L2038.5 918.354 L2022.5 902.354 Z\" fill=\"#ffd700\" fill-rule=\"evenodd\" fill-opacity=\"0.5\" stroke=\"#000000\" stroke-opacity=\"0.5\" stroke-width=\"6.4\"/>\n",
       "<path clip-path=\"url(#clip112)\" d=\"M2109.72 726.864 L2093.72 742.864 L2109.72 758.864 L2125.72 742.864 L2109.72 726.864 Z\" fill=\"#ffd700\" fill-rule=\"evenodd\" fill-opacity=\"0.5\" stroke=\"#000000\" stroke-opacity=\"0.5\" stroke-width=\"6.4\"/>\n",
       "<path clip-path=\"url(#clip112)\" d=\"M1584.42 483.554 L1568.42 499.554 L1584.42 515.554 L1600.42 499.554 L1584.42 483.554 Z\" fill=\"#ffd700\" fill-rule=\"evenodd\" fill-opacity=\"0.5\" stroke=\"#000000\" stroke-opacity=\"0.5\" stroke-width=\"6.4\"/>\n",
       "<path clip-path=\"url(#clip112)\" d=\"M1601.42 1564.49 L1585.42 1580.49 L1601.42 1596.49 L1617.42 1580.49 L1601.42 1564.49 Z\" fill=\"#ffd700\" fill-rule=\"evenodd\" fill-opacity=\"0.5\" stroke=\"#000000\" stroke-opacity=\"0.5\" stroke-width=\"6.4\"/>\n",
       "<path clip-path=\"url(#clip112)\" d=\"M1259.71 1477.2 L1243.71 1493.2 L1259.71 1509.2 L1275.71 1493.2 L1259.71 1477.2 Z\" fill=\"#ffd700\" fill-rule=\"evenodd\" fill-opacity=\"0.5\" stroke=\"#000000\" stroke-opacity=\"0.5\" stroke-width=\"6.4\"/>\n",
       "<path clip-path=\"url(#clip112)\" d=\"M1547.73 1670.18 L1531.73 1686.18 L1547.73 1702.18 L1563.73 1686.18 L1547.73 1670.18 Z\" fill=\"#ffd700\" fill-rule=\"evenodd\" fill-opacity=\"0.5\" stroke=\"#000000\" stroke-opacity=\"0.5\" stroke-width=\"6.4\"/>\n",
       "<path clip-path=\"url(#clip112)\" d=\"M1535.2 1464.23 L1519.2 1480.23 L1535.2 1496.23 L1551.2 1480.23 L1535.2 1464.23 Z\" fill=\"#ffd700\" fill-rule=\"evenodd\" fill-opacity=\"0.5\" stroke=\"#000000\" stroke-opacity=\"0.5\" stroke-width=\"6.4\"/>\n",
       "<path clip-path=\"url(#clip112)\" d=\"M1466.67 1725.22 L1450.67 1741.22 L1466.67 1757.22 L1482.67 1741.22 L1466.67 1725.22 Z\" fill=\"#ffd700\" fill-rule=\"evenodd\" fill-opacity=\"0.5\" stroke=\"#000000\" stroke-opacity=\"0.5\" stroke-width=\"6.4\"/>\n",
       "<path clip-path=\"url(#clip112)\" d=\"M2399.7 1091.34 L2383.7 1107.34 L2399.7 1123.34 L2415.7 1107.34 L2399.7 1091.34 Z\" fill=\"#ffd700\" fill-rule=\"evenodd\" fill-opacity=\"0.5\" stroke=\"#000000\" stroke-opacity=\"0.5\" stroke-width=\"6.4\"/>\n",
       "<path clip-path=\"url(#clip112)\" d=\"M2473.41 166.088 L2457.41 182.088 L2473.41 198.088 L2489.41 182.088 L2473.41 166.088 Z\" fill=\"#ffd700\" fill-rule=\"evenodd\" fill-opacity=\"0.5\" stroke=\"#000000\" stroke-opacity=\"0.5\" stroke-width=\"6.4\"/>\n",
       "<path clip-path=\"url(#clip112)\" d=\"M1292.14 1605.87 L1276.14 1621.87 L1292.14 1637.87 L1308.14 1621.87 L1292.14 1605.87 Z\" fill=\"#ffd700\" fill-rule=\"evenodd\" fill-opacity=\"0.5\" stroke=\"#000000\" stroke-opacity=\"0.5\" stroke-width=\"6.4\"/>\n",
       "<path clip-path=\"url(#clip112)\" d=\"M915.048 1726.98 L899.048 1742.98 L915.048 1758.98 L931.048 1742.98 L915.048 1726.98 Z\" fill=\"#ffd700\" fill-rule=\"evenodd\" fill-opacity=\"0.5\" stroke=\"#000000\" stroke-opacity=\"0.5\" stroke-width=\"6.4\"/>\n",
       "<path clip-path=\"url(#clip112)\" d=\"M1242.13 1456.44 L1226.13 1472.44 L1242.13 1488.44 L1258.13 1472.44 L1242.13 1456.44 Z\" fill=\"#ffd700\" fill-rule=\"evenodd\" fill-opacity=\"0.5\" stroke=\"#000000\" stroke-opacity=\"0.5\" stroke-width=\"6.4\"/>\n",
       "<path clip-path=\"url(#clip112)\" d=\"M1324.57 1709.49 L1308.57 1725.49 L1324.57 1741.49 L1340.57 1725.49 L1324.57 1709.49 Z\" fill=\"#ffd700\" fill-rule=\"evenodd\" fill-opacity=\"0.5\" stroke=\"#000000\" stroke-opacity=\"0.5\" stroke-width=\"6.4\"/>\n",
       "<path clip-path=\"url(#clip112)\" d=\"M1521.67 1457.2 L1505.67 1473.2 L1521.67 1489.2 L1537.67 1473.2 L1521.67 1457.2 Z\" fill=\"#ffd700\" fill-rule=\"evenodd\" fill-opacity=\"0.5\" stroke=\"#000000\" stroke-opacity=\"0.5\" stroke-width=\"6.4\"/>\n",
       "<path clip-path=\"url(#clip112)\" d=\"M1586.99 1084.9 L1570.99 1100.9 L1586.99 1116.9 L1602.99 1100.9 L1586.99 1084.9 Z\" fill=\"#ffd700\" fill-rule=\"evenodd\" fill-opacity=\"0.5\" stroke=\"#000000\" stroke-opacity=\"0.5\" stroke-width=\"6.4\"/>\n",
       "<path clip-path=\"url(#clip112)\" d=\"M2375.52 1283.6 L2359.52 1299.6 L2375.52 1315.6 L2391.52 1299.6 L2375.52 1283.6 Z\" fill=\"#ffd700\" fill-rule=\"evenodd\" fill-opacity=\"0.5\" stroke=\"#000000\" stroke-opacity=\"0.5\" stroke-width=\"6.4\"/>\n",
       "<path clip-path=\"url(#clip112)\" d=\"M1623.64 1363.83 L1607.64 1379.83 L1623.64 1395.83 L1639.64 1379.83 L1623.64 1363.83 Z\" fill=\"#ffd700\" fill-rule=\"evenodd\" fill-opacity=\"0.5\" stroke=\"#000000\" stroke-opacity=\"0.5\" stroke-width=\"6.4\"/>\n",
       "<path clip-path=\"url(#clip112)\" d=\"M2266.75 1527.94 L2250.75 1543.94 L2266.75 1559.94 L2282.75 1543.94 L2266.75 1527.94 Z\" fill=\"#ffd700\" fill-rule=\"evenodd\" fill-opacity=\"0.5\" stroke=\"#000000\" stroke-opacity=\"0.5\" stroke-width=\"6.4\"/>\n",
       "<path clip-path=\"url(#clip112)\" d=\"M1439.95 1793.97 L1423.95 1809.97 L1439.95 1825.97 L1455.95 1809.97 L1439.95 1793.97 Z\" fill=\"#ffd700\" fill-rule=\"evenodd\" fill-opacity=\"0.5\" stroke=\"#000000\" stroke-opacity=\"0.5\" stroke-width=\"6.4\"/>\n",
       "<path clip-path=\"url(#clip112)\" d=\"M1498.25 1531 L1482.25 1547 L1498.25 1563 L1514.25 1547 L1498.25 1531 Z\" fill=\"#ffd700\" fill-rule=\"evenodd\" fill-opacity=\"0.5\" stroke=\"#000000\" stroke-opacity=\"0.5\" stroke-width=\"6.4\"/>\n",
       "<path clip-path=\"url(#clip112)\" d=\"M1619.06 1619.98 L1603.06 1635.98 L1619.06 1651.98 L1635.06 1635.98 L1619.06 1619.98 Z\" fill=\"#ffd700\" fill-rule=\"evenodd\" fill-opacity=\"0.5\" stroke=\"#000000\" stroke-opacity=\"0.5\" stroke-width=\"6.4\"/>\n",
       "<path clip-path=\"url(#clip112)\" d=\"M1560.9 1405.59 L1544.9 1421.59 L1560.9 1437.59 L1576.9 1421.59 L1560.9 1405.59 Z\" fill=\"#ffd700\" fill-rule=\"evenodd\" fill-opacity=\"0.5\" stroke=\"#000000\" stroke-opacity=\"0.5\" stroke-width=\"6.4\"/>\n",
       "<path clip-path=\"url(#clip112)\" d=\"M1901.24 1159.57 L1885.24 1175.57 L1901.24 1191.57 L1917.24 1175.57 L1901.24 1159.57 Z\" fill=\"#ffd700\" fill-rule=\"evenodd\" fill-opacity=\"0.5\" stroke=\"#000000\" stroke-opacity=\"0.5\" stroke-width=\"6.4\"/>\n",
       "<path clip-path=\"url(#clip112)\" d=\"M1571.16 1529.13 L1555.16 1545.13 L1571.16 1561.13 L1587.16 1545.13 L1571.16 1529.13 Z\" fill=\"#ffd700\" fill-rule=\"evenodd\" fill-opacity=\"0.5\" stroke=\"#000000\" stroke-opacity=\"0.5\" stroke-width=\"6.4\"/>\n",
       "<path clip-path=\"url(#clip112)\" d=\"M1949.01 1171.05 L1933.01 1187.05 L1949.01 1203.05 L1965.01 1187.05 L1949.01 1171.05 Z\" fill=\"#ffd700\" fill-rule=\"evenodd\" fill-opacity=\"0.5\" stroke=\"#000000\" stroke-opacity=\"0.5\" stroke-width=\"6.4\"/>\n",
       "<path clip-path=\"url(#clip112)\" d=\"M1598.8 1280.56 L1582.8 1296.56 L1598.8 1312.56 L1614.8 1296.56 L1598.8 1280.56 Z\" fill=\"#ffd700\" fill-rule=\"evenodd\" fill-opacity=\"0.5\" stroke=\"#000000\" stroke-opacity=\"0.5\" stroke-width=\"6.4\"/>\n",
       "<path clip-path=\"url(#clip112)\" d=\"M1485.21 1342.73 L1469.21 1358.73 L1485.21 1374.73 L1501.21 1358.73 L1485.21 1342.73 Z\" fill=\"#ffd700\" fill-rule=\"evenodd\" fill-opacity=\"0.5\" stroke=\"#000000\" stroke-opacity=\"0.5\" stroke-width=\"6.4\"/>\n",
       "<path clip-path=\"url(#clip112)\" d=\"M2055.55 1225 L2039.55 1241 L2055.55 1257 L2071.55 1241 L2055.55 1225 Z\" fill=\"#ffd700\" fill-rule=\"evenodd\" fill-opacity=\"0.5\" stroke=\"#000000\" stroke-opacity=\"0.5\" stroke-width=\"6.4\"/>\n",
       "<path clip-path=\"url(#clip112)\" d=\"M1498.34 1574.4 L1482.34 1590.4 L1498.34 1606.4 L1514.34 1590.4 L1498.34 1574.4 Z\" fill=\"#ffd700\" fill-rule=\"evenodd\" fill-opacity=\"0.5\" stroke=\"#000000\" stroke-opacity=\"0.5\" stroke-width=\"6.4\"/>\n",
       "<path clip-path=\"url(#clip112)\" d=\"M1829.69 1041.23 L1813.69 1057.23 L1829.69 1073.23 L1845.69 1057.23 L1829.69 1041.23 Z\" fill=\"#ffd700\" fill-rule=\"evenodd\" fill-opacity=\"0.5\" stroke=\"#000000\" stroke-opacity=\"0.5\" stroke-width=\"6.4\"/>\n",
       "<path clip-path=\"url(#clip112)\" d=\"M2096.3 859.369 L2080.3 875.369 L2096.3 891.369 L2112.3 875.369 L2096.3 859.369 Z\" fill=\"#ffd700\" fill-rule=\"evenodd\" fill-opacity=\"0.5\" stroke=\"#000000\" stroke-opacity=\"0.5\" stroke-width=\"6.4\"/>\n",
       "<path clip-path=\"url(#clip112)\" d=\"M1211.27 1173.76 L1195.27 1189.76 L1211.27 1205.76 L1227.27 1189.76 L1211.27 1173.76 Z\" fill=\"#ffd700\" fill-rule=\"evenodd\" fill-opacity=\"0.5\" stroke=\"#000000\" stroke-opacity=\"0.5\" stroke-width=\"6.4\"/>\n",
       "<path clip-path=\"url(#clip112)\" d=\"M2023.21 441.979 L2007.21 457.979 L2023.21 473.979 L2039.21 457.979 L2023.21 441.979 Z\" fill=\"#ffd700\" fill-rule=\"evenodd\" fill-opacity=\"0.5\" stroke=\"#000000\" stroke-opacity=\"0.5\" stroke-width=\"6.4\"/>\n",
       "<path clip-path=\"url(#clip112)\" d=\"M2079.93 729.834 L2063.93 745.834 L2079.93 761.834 L2095.93 745.834 L2079.93 729.834 Z\" fill=\"#ffd700\" fill-rule=\"evenodd\" fill-opacity=\"0.5\" stroke=\"#000000\" stroke-opacity=\"0.5\" stroke-width=\"6.4\"/>\n",
       "<path clip-path=\"url(#clip112)\" d=\"M1630.76 1864.15 L1614.76 1880.15 L1630.76 1896.15 L1646.76 1880.15 L1630.76 1864.15 Z\" fill=\"#ffd700\" fill-rule=\"evenodd\" fill-opacity=\"0.5\" stroke=\"#000000\" stroke-opacity=\"0.5\" stroke-width=\"6.4\"/>\n",
       "<path clip-path=\"url(#clip112)\" d=\"M1371.89 1565.59 L1355.89 1581.59 L1371.89 1597.59 L1387.89 1581.59 L1371.89 1565.59 Z\" fill=\"#ffd700\" fill-rule=\"evenodd\" fill-opacity=\"0.5\" stroke=\"#000000\" stroke-opacity=\"0.5\" stroke-width=\"6.4\"/>\n",
       "<path clip-path=\"url(#clip112)\" d=\"M1502.44 1646.12 L1486.44 1662.12 L1502.44 1678.12 L1518.44 1662.12 L1502.44 1646.12 Z\" fill=\"#ffd700\" fill-rule=\"evenodd\" fill-opacity=\"0.5\" stroke=\"#000000\" stroke-opacity=\"0.5\" stroke-width=\"6.4\"/>\n",
       "<path clip-path=\"url(#clip112)\" d=\"M1213.41 1700.16 L1197.41 1716.16 L1213.41 1732.16 L1229.41 1716.16 L1213.41 1700.16 Z\" fill=\"#ffd700\" fill-rule=\"evenodd\" fill-opacity=\"0.5\" stroke=\"#000000\" stroke-opacity=\"0.5\" stroke-width=\"6.4\"/>\n",
       "<path clip-path=\"url(#clip112)\" d=\"M1620.78 1725.61 L1604.78 1741.61 L1620.78 1757.61 L1636.78 1741.61 L1620.78 1725.61 Z\" fill=\"#ffd700\" fill-rule=\"evenodd\" fill-opacity=\"0.5\" stroke=\"#000000\" stroke-opacity=\"0.5\" stroke-width=\"6.4\"/>\n",
       "<path clip-path=\"url(#clip112)\" d=\"M1264.97 2241.02 L1248.97 2257.02 L1264.97 2273.02 L1280.97 2257.02 L1264.97 2241.02 Z\" fill=\"#ffd700\" fill-rule=\"evenodd\" fill-opacity=\"0.5\" stroke=\"#000000\" stroke-opacity=\"0.5\" stroke-width=\"6.4\"/>\n",
       "<path clip-path=\"url(#clip112)\" d=\"M1360.47 1471.91 L1344.47 1487.91 L1360.47 1503.91 L1376.47 1487.91 L1360.47 1471.91 Z\" fill=\"#ffd700\" fill-rule=\"evenodd\" fill-opacity=\"0.5\" stroke=\"#000000\" stroke-opacity=\"0.5\" stroke-width=\"6.4\"/>\n",
       "<path clip-path=\"url(#clip112)\" d=\"M1356.75 1474.75 L1340.75 1490.75 L1356.75 1506.75 L1372.75 1490.75 L1356.75 1474.75 Z\" fill=\"#ffd700\" fill-rule=\"evenodd\" fill-opacity=\"0.5\" stroke=\"#000000\" stroke-opacity=\"0.5\" stroke-width=\"6.4\"/>\n",
       "<path clip-path=\"url(#clip112)\" d=\"M2268.96 592.679 L2252.96 608.679 L2268.96 624.679 L2284.96 608.679 L2268.96 592.679 Z\" fill=\"#ffd700\" fill-rule=\"evenodd\" fill-opacity=\"0.5\" stroke=\"#000000\" stroke-opacity=\"0.5\" stroke-width=\"6.4\"/>\n",
       "<path clip-path=\"url(#clip112)\" d=\"M2523.17 126.463 L2507.17 142.463 L2523.17 158.463 L2539.17 142.463 L2523.17 126.463 Z\" fill=\"#ffd700\" fill-rule=\"evenodd\" fill-opacity=\"0.5\" stroke=\"#000000\" stroke-opacity=\"0.5\" stroke-width=\"6.4\"/>\n",
       "<path clip-path=\"url(#clip112)\" d=\"M1695.72 1317.9 L1679.72 1333.9 L1695.72 1349.9 L1711.72 1333.9 L1695.72 1317.9 Z\" fill=\"#ffd700\" fill-rule=\"evenodd\" fill-opacity=\"0.5\" stroke=\"#000000\" stroke-opacity=\"0.5\" stroke-width=\"6.4\"/>\n",
       "<path clip-path=\"url(#clip112)\" d=\"M1913.16 846.02 L1897.16 862.02 L1913.16 878.02 L1929.16 862.02 L1913.16 846.02 Z\" fill=\"#ffd700\" fill-rule=\"evenodd\" fill-opacity=\"0.5\" stroke=\"#000000\" stroke-opacity=\"0.5\" stroke-width=\"6.4\"/>\n",
       "<path clip-path=\"url(#clip112)\" d=\"M1642.74 1153.47 L1626.74 1169.47 L1642.74 1185.47 L1658.74 1169.47 L1642.74 1153.47 Z\" fill=\"#ffd700\" fill-rule=\"evenodd\" fill-opacity=\"0.5\" stroke=\"#000000\" stroke-opacity=\"0.5\" stroke-width=\"6.4\"/>\n",
       "<path clip-path=\"url(#clip112)\" d=\"M2029.75 1588.01 L2013.75 1604.01 L2029.75 1620.01 L2045.75 1604.01 L2029.75 1588.01 Z\" fill=\"#ffd700\" fill-rule=\"evenodd\" fill-opacity=\"0.5\" stroke=\"#000000\" stroke-opacity=\"0.5\" stroke-width=\"6.4\"/>\n",
       "<path clip-path=\"url(#clip112)\" d=\"M1619.95 1569.12 L1603.95 1585.12 L1619.95 1601.12 L1635.95 1585.12 L1619.95 1569.12 Z\" fill=\"#ffd700\" fill-rule=\"evenodd\" fill-opacity=\"0.5\" stroke=\"#000000\" stroke-opacity=\"0.5\" stroke-width=\"6.4\"/>\n",
       "<path clip-path=\"url(#clip112)\" d=\"M1997.82 1074.34 L1981.82 1090.34 L1997.82 1106.34 L2013.82 1090.34 L1997.82 1074.34 Z\" fill=\"#ffd700\" fill-rule=\"evenodd\" fill-opacity=\"0.5\" stroke=\"#000000\" stroke-opacity=\"0.5\" stroke-width=\"6.4\"/>\n",
       "<path clip-path=\"url(#clip112)\" d=\"M1762.88 1305.07 L1746.88 1321.07 L1762.88 1337.07 L1778.88 1321.07 L1762.88 1305.07 Z\" fill=\"#ffd700\" fill-rule=\"evenodd\" fill-opacity=\"0.5\" stroke=\"#000000\" stroke-opacity=\"0.5\" stroke-width=\"6.4\"/>\n",
       "<path clip-path=\"url(#clip112)\" d=\"M1220.32 871.37 L1204.32 887.37 L1220.32 903.37 L1236.32 887.37 L1220.32 871.37 Z\" fill=\"#ffd700\" fill-rule=\"evenodd\" fill-opacity=\"0.5\" stroke=\"#000000\" stroke-opacity=\"0.5\" stroke-width=\"6.4\"/>\n",
       "<path clip-path=\"url(#clip112)\" d=\"M1564.8 1461.75 L1548.8 1477.75 L1564.8 1493.75 L1580.8 1477.75 L1564.8 1461.75 Z\" fill=\"#ffd700\" fill-rule=\"evenodd\" fill-opacity=\"0.5\" stroke=\"#000000\" stroke-opacity=\"0.5\" stroke-width=\"6.4\"/>\n",
       "<path clip-path=\"url(#clip112)\" d=\"M1239.12 1432.95 L1223.12 1448.95 L1239.12 1464.95 L1255.12 1448.95 L1239.12 1432.95 Z\" fill=\"#ffd700\" fill-rule=\"evenodd\" fill-opacity=\"0.5\" stroke=\"#000000\" stroke-opacity=\"0.5\" stroke-width=\"6.4\"/>\n",
       "<path clip-path=\"url(#clip112)\" d=\"M1243.01 1725.44 L1227.01 1741.44 L1243.01 1757.44 L1259.01 1741.44 L1243.01 1725.44 Z\" fill=\"#ffd700\" fill-rule=\"evenodd\" fill-opacity=\"0.5\" stroke=\"#000000\" stroke-opacity=\"0.5\" stroke-width=\"6.4\"/>\n",
       "<path clip-path=\"url(#clip112)\" d=\"M1521.81 1528.48 L1505.81 1544.48 L1521.81 1560.48 L1537.81 1544.48 L1521.81 1528.48 Z\" fill=\"#ffd700\" fill-rule=\"evenodd\" fill-opacity=\"0.5\" stroke=\"#000000\" stroke-opacity=\"0.5\" stroke-width=\"6.4\"/>\n",
       "<path clip-path=\"url(#clip112)\" d=\"M2128.41 721.255 L2112.41 737.255 L2128.41 753.255 L2144.41 737.255 L2128.41 721.255 Z\" fill=\"#ffd700\" fill-rule=\"evenodd\" fill-opacity=\"0.5\" stroke=\"#000000\" stroke-opacity=\"0.5\" stroke-width=\"6.4\"/>\n",
       "<path clip-path=\"url(#clip112)\" d=\"M1621.17 2360.22 L1605.17 2376.22 L1621.17 2392.22 L1637.17 2376.22 L1621.17 2360.22 Z\" fill=\"#ffd700\" fill-rule=\"evenodd\" fill-opacity=\"0.5\" stroke=\"#000000\" stroke-opacity=\"0.5\" stroke-width=\"6.4\"/>\n",
       "<path clip-path=\"url(#clip112)\" d=\"M2260.37 955.289 L2244.37 971.289 L2260.37 987.289 L2276.37 971.289 L2260.37 955.289 Z\" fill=\"#ffd700\" fill-rule=\"evenodd\" fill-opacity=\"0.5\" stroke=\"#000000\" stroke-opacity=\"0.5\" stroke-width=\"6.4\"/>\n",
       "<path clip-path=\"url(#clip112)\" d=\"M1583.62 1554.72 L1567.62 1570.72 L1583.62 1586.72 L1599.62 1570.72 L1583.62 1554.72 Z\" fill=\"#ffd700\" fill-rule=\"evenodd\" fill-opacity=\"0.5\" stroke=\"#000000\" stroke-opacity=\"0.5\" stroke-width=\"6.4\"/>\n",
       "<path clip-path=\"url(#clip112)\" d=\"M1300.34 2070.62 L1284.34 2086.62 L1300.34 2102.62 L1316.34 2086.62 L1300.34 2070.62 Z\" fill=\"#ffd700\" fill-rule=\"evenodd\" fill-opacity=\"0.5\" stroke=\"#000000\" stroke-opacity=\"0.5\" stroke-width=\"6.4\"/>\n",
       "<path clip-path=\"url(#clip112)\" d=\"M1491.31 1760.92 L1475.31 1776.92 L1491.31 1792.92 L1507.31 1776.92 L1491.31 1760.92 Z\" fill=\"#ffd700\" fill-rule=\"evenodd\" fill-opacity=\"0.5\" stroke=\"#000000\" stroke-opacity=\"0.5\" stroke-width=\"6.4\"/>\n",
       "<path clip-path=\"url(#clip112)\" d=\"M1126.58 1787.53 L1110.58 1803.53 L1126.58 1819.53 L1142.58 1803.53 L1126.58 1787.53 Z\" fill=\"#ffd700\" fill-rule=\"evenodd\" fill-opacity=\"0.5\" stroke=\"#000000\" stroke-opacity=\"0.5\" stroke-width=\"6.4\"/>\n",
       "<path clip-path=\"url(#clip112)\" d=\"M2260.9 774.17 L2244.9 790.17 L2260.9 806.17 L2276.9 790.17 L2260.9 774.17 Z\" fill=\"#ffd700\" fill-rule=\"evenodd\" fill-opacity=\"0.5\" stroke=\"#000000\" stroke-opacity=\"0.5\" stroke-width=\"6.4\"/>\n",
       "<path clip-path=\"url(#clip112)\" d=\"M1363.87 1602.19 L1347.87 1618.19 L1363.87 1634.19 L1379.87 1618.19 L1363.87 1602.19 Z\" fill=\"#ffd700\" fill-rule=\"evenodd\" fill-opacity=\"0.5\" stroke=\"#000000\" stroke-opacity=\"0.5\" stroke-width=\"6.4\"/>\n",
       "<path clip-path=\"url(#clip112)\" d=\"M2019.01 828.654 L2003.01 844.654 L2019.01 860.654 L2035.01 844.654 L2019.01 828.654 Z\" fill=\"#ffd700\" fill-rule=\"evenodd\" fill-opacity=\"0.5\" stroke=\"#000000\" stroke-opacity=\"0.5\" stroke-width=\"6.4\"/>\n",
       "<path clip-path=\"url(#clip112)\" d=\"M1274.19 1499.69 L1258.19 1515.69 L1274.19 1531.69 L1290.19 1515.69 L1274.19 1499.69 Z\" fill=\"#ffd700\" fill-rule=\"evenodd\" fill-opacity=\"0.5\" stroke=\"#000000\" stroke-opacity=\"0.5\" stroke-width=\"6.4\"/>\n",
       "<path clip-path=\"url(#clip112)\" d=\"M1620.47 1311.54 L1604.47 1327.54 L1620.47 1343.54 L1636.47 1327.54 L1620.47 1311.54 Z\" fill=\"#ffd700\" fill-rule=\"evenodd\" fill-opacity=\"0.5\" stroke=\"#000000\" stroke-opacity=\"0.5\" stroke-width=\"6.4\"/>\n",
       "<path clip-path=\"url(#clip112)\" d=\"M1914.35 1796.38 L1898.35 1812.38 L1914.35 1828.38 L1930.35 1812.38 L1914.35 1796.38 Z\" fill=\"#ffd700\" fill-rule=\"evenodd\" fill-opacity=\"0.5\" stroke=\"#000000\" stroke-opacity=\"0.5\" stroke-width=\"6.4\"/>\n",
       "<path clip-path=\"url(#clip112)\" d=\"M2156.44 882.721 L2140.44 898.721 L2156.44 914.721 L2172.44 898.721 L2156.44 882.721 Z\" fill=\"#ffd700\" fill-rule=\"evenodd\" fill-opacity=\"0.5\" stroke=\"#000000\" stroke-opacity=\"0.5\" stroke-width=\"6.4\"/>\n",
       "<path clip-path=\"url(#clip112)\" d=\"M2606.82 860.065 L2590.82 876.065 L2606.82 892.065 L2622.82 876.065 L2606.82 860.065 Z\" fill=\"#ffd700\" fill-rule=\"evenodd\" fill-opacity=\"0.5\" stroke=\"#000000\" stroke-opacity=\"0.5\" stroke-width=\"6.4\"/>\n",
       "<path clip-path=\"url(#clip112)\" d=\"M1082.53 1679.76 L1066.53 1695.76 L1082.53 1711.76 L1098.53 1695.76 L1082.53 1679.76 Z\" fill=\"#ffd700\" fill-rule=\"evenodd\" fill-opacity=\"0.5\" stroke=\"#000000\" stroke-opacity=\"0.5\" stroke-width=\"6.4\"/>\n",
       "<path clip-path=\"url(#clip112)\" d=\"M1448.4 1711.84 L1432.4 1727.84 L1448.4 1743.84 L1464.4 1727.84 L1448.4 1711.84 Z\" fill=\"#ffd700\" fill-rule=\"evenodd\" fill-opacity=\"0.5\" stroke=\"#000000\" stroke-opacity=\"0.5\" stroke-width=\"6.4\"/>\n",
       "<path clip-path=\"url(#clip112)\" d=\"M1454.09 2190.96 L1438.09 2206.96 L1454.09 2222.96 L1470.09 2206.96 L1454.09 2190.96 Z\" fill=\"#ffd700\" fill-rule=\"evenodd\" fill-opacity=\"0.5\" stroke=\"#000000\" stroke-opacity=\"0.5\" stroke-width=\"6.4\"/>\n",
       "<path clip-path=\"url(#clip112)\" d=\"M1480.54 1700.31 L1464.54 1716.31 L1480.54 1732.31 L1496.54 1716.31 L1480.54 1700.31 Z\" fill=\"#ffd700\" fill-rule=\"evenodd\" fill-opacity=\"0.5\" stroke=\"#000000\" stroke-opacity=\"0.5\" stroke-width=\"6.4\"/>\n",
       "<path clip-path=\"url(#clip112)\" d=\"M1442.09 2022.29 L1426.09 2038.29 L1442.09 2054.29 L1458.09 2038.29 L1442.09 2022.29 Z\" fill=\"#ffd700\" fill-rule=\"evenodd\" fill-opacity=\"0.5\" stroke=\"#000000\" stroke-opacity=\"0.5\" stroke-width=\"6.4\"/>\n",
       "<path clip-path=\"url(#clip112)\" d=\"M2010.91 1129.57 L1994.91 1145.57 L2010.91 1161.57 L2026.91 1145.57 L2010.91 1129.57 Z\" fill=\"#ffd700\" fill-rule=\"evenodd\" fill-opacity=\"0.5\" stroke=\"#000000\" stroke-opacity=\"0.5\" stroke-width=\"6.4\"/>\n",
       "<path clip-path=\"url(#clip112)\" d=\"M1935.71 1530.81 L1919.71 1546.81 L1935.71 1562.81 L1951.71 1546.81 L1935.71 1530.81 Z\" fill=\"#ffd700\" fill-rule=\"evenodd\" fill-opacity=\"0.5\" stroke=\"#000000\" stroke-opacity=\"0.5\" stroke-width=\"6.4\"/>\n",
       "<path clip-path=\"url(#clip112)\" d=\"M1616.29 1281.25 L1600.29 1297.25 L1616.29 1313.25 L1632.29 1297.25 L1616.29 1281.25 Z\" fill=\"#ffd700\" fill-rule=\"evenodd\" fill-opacity=\"0.5\" stroke=\"#000000\" stroke-opacity=\"0.5\" stroke-width=\"6.4\"/>\n",
       "<path clip-path=\"url(#clip112)\" d=\"M1500.15 1017.03 L1484.15 1033.03 L1500.15 1049.03 L1516.15 1033.03 L1500.15 1017.03 Z\" fill=\"#ffd700\" fill-rule=\"evenodd\" fill-opacity=\"0.5\" stroke=\"#000000\" stroke-opacity=\"0.5\" stroke-width=\"6.4\"/>\n",
       "<path clip-path=\"url(#clip112)\" d=\"M1957.82 947.714 L1941.82 963.714 L1957.82 979.714 L1973.82 963.714 L1957.82 947.714 Z\" fill=\"#ffd700\" fill-rule=\"evenodd\" fill-opacity=\"0.5\" stroke=\"#000000\" stroke-opacity=\"0.5\" stroke-width=\"6.4\"/>\n",
       "<path clip-path=\"url(#clip112)\" d=\"M1655.38 1300.94 L1639.38 1316.94 L1655.38 1332.94 L1671.38 1316.94 L1655.38 1300.94 Z\" fill=\"#ffd700\" fill-rule=\"evenodd\" fill-opacity=\"0.5\" stroke=\"#000000\" stroke-opacity=\"0.5\" stroke-width=\"6.4\"/>\n",
       "<path clip-path=\"url(#clip112)\" d=\"M2093.98 803.906 L2077.98 819.906 L2093.98 835.906 L2109.98 819.906 L2093.98 803.906 Z\" fill=\"#ffd700\" fill-rule=\"evenodd\" fill-opacity=\"0.5\" stroke=\"#000000\" stroke-opacity=\"0.5\" stroke-width=\"6.4\"/>\n",
       "<path clip-path=\"url(#clip112)\" d=\"M2458.35 603.387 L2442.35 619.387 L2458.35 635.387 L2474.35 619.387 L2458.35 603.387 Z\" fill=\"#ffd700\" fill-rule=\"evenodd\" fill-opacity=\"0.5\" stroke=\"#000000\" stroke-opacity=\"0.5\" stroke-width=\"6.4\"/>\n",
       "<path clip-path=\"url(#clip112)\" d=\"M1642.32 1426.43 L1626.32 1442.43 L1642.32 1458.43 L1658.32 1442.43 L1642.32 1426.43 Z\" fill=\"#ffd700\" fill-rule=\"evenodd\" fill-opacity=\"0.5\" stroke=\"#000000\" stroke-opacity=\"0.5\" stroke-width=\"6.4\"/>\n",
       "<path clip-path=\"url(#clip112)\" d=\"M2098.55 936.003 L2082.55 952.003 L2098.55 968.003 L2114.55 952.003 L2098.55 936.003 Z\" fill=\"#ffd700\" fill-rule=\"evenodd\" fill-opacity=\"0.5\" stroke=\"#000000\" stroke-opacity=\"0.5\" stroke-width=\"6.4\"/>\n",
       "<path clip-path=\"url(#clip112)\" d=\"M1510 1487.93 L1494 1503.93 L1510 1519.93 L1526 1503.93 L1510 1487.93 Z\" fill=\"#ffd700\" fill-rule=\"evenodd\" fill-opacity=\"0.5\" stroke=\"#000000\" stroke-opacity=\"0.5\" stroke-width=\"6.4\"/>\n",
       "<path clip-path=\"url(#clip112)\" d=\"M1534.23 1524.03 L1518.23 1540.03 L1534.23 1556.03 L1550.23 1540.03 L1534.23 1524.03 Z\" fill=\"#ffd700\" fill-rule=\"evenodd\" fill-opacity=\"0.5\" stroke=\"#000000\" stroke-opacity=\"0.5\" stroke-width=\"6.4\"/>\n",
       "<path clip-path=\"url(#clip112)\" d=\"M1806.52 1501.99 L1790.52 1517.99 L1806.52 1533.99 L1822.52 1517.99 L1806.52 1501.99 Z\" fill=\"#ffd700\" fill-rule=\"evenodd\" fill-opacity=\"0.5\" stroke=\"#000000\" stroke-opacity=\"0.5\" stroke-width=\"6.4\"/>\n",
       "<path clip-path=\"url(#clip112)\" d=\"M2083.82 364.897 L2067.82 380.897 L2083.82 396.897 L2099.82 380.897 L2083.82 364.897 Z\" fill=\"#ffd700\" fill-rule=\"evenodd\" fill-opacity=\"0.5\" stroke=\"#000000\" stroke-opacity=\"0.5\" stroke-width=\"6.4\"/>\n",
       "<path clip-path=\"url(#clip112)\" d=\"M1425.41 1493.19 L1409.41 1509.19 L1425.41 1525.19 L1441.41 1509.19 L1425.41 1493.19 Z\" fill=\"#ffd700\" fill-rule=\"evenodd\" fill-opacity=\"0.5\" stroke=\"#000000\" stroke-opacity=\"0.5\" stroke-width=\"6.4\"/>\n",
       "<path clip-path=\"url(#clip112)\" d=\"M2134.97 731.253 L2118.97 747.253 L2134.97 763.253 L2150.97 747.253 L2134.97 731.253 Z\" fill=\"#ffd700\" fill-rule=\"evenodd\" fill-opacity=\"0.5\" stroke=\"#000000\" stroke-opacity=\"0.5\" stroke-width=\"6.4\"/>\n",
       "<path clip-path=\"url(#clip112)\" d=\"M1333.32 1474.74 L1317.32 1490.74 L1333.32 1506.74 L1349.32 1490.74 L1333.32 1474.74 Z\" fill=\"#ffd700\" fill-rule=\"evenodd\" fill-opacity=\"0.5\" stroke=\"#000000\" stroke-opacity=\"0.5\" stroke-width=\"6.4\"/>\n",
       "<path clip-path=\"url(#clip112)\" d=\"M1325.3 1918.57 L1309.3 1934.57 L1325.3 1950.57 L1341.3 1934.57 L1325.3 1918.57 Z\" fill=\"#ffd700\" fill-rule=\"evenodd\" fill-opacity=\"0.5\" stroke=\"#000000\" stroke-opacity=\"0.5\" stroke-width=\"6.4\"/>\n",
       "<path clip-path=\"url(#clip112)\" d=\"M1544.76 1137.87 L1528.76 1153.87 L1544.76 1169.87 L1560.76 1153.87 L1544.76 1137.87 Z\" fill=\"#ffd700\" fill-rule=\"evenodd\" fill-opacity=\"0.5\" stroke=\"#000000\" stroke-opacity=\"0.5\" stroke-width=\"6.4\"/>\n",
       "<path clip-path=\"url(#clip112)\" d=\"M2422.43 829.036 L2406.43 845.036 L2422.43 861.036 L2438.43 845.036 L2422.43 829.036 Z\" fill=\"#ffd700\" fill-rule=\"evenodd\" fill-opacity=\"0.5\" stroke=\"#000000\" stroke-opacity=\"0.5\" stroke-width=\"6.4\"/>\n",
       "<path clip-path=\"url(#clip112)\" d=\"M1245.88 1621.65 L1229.88 1637.65 L1245.88 1653.65 L1261.88 1637.65 L1245.88 1621.65 Z\" fill=\"#ffd700\" fill-rule=\"evenodd\" fill-opacity=\"0.5\" stroke=\"#000000\" stroke-opacity=\"0.5\" stroke-width=\"6.4\"/>\n",
       "<path clip-path=\"url(#clip112)\" d=\"M1925.44 1676.67 L1909.44 1692.67 L1925.44 1708.67 L1941.44 1692.67 L1925.44 1676.67 Z\" fill=\"#ffd700\" fill-rule=\"evenodd\" fill-opacity=\"0.5\" stroke=\"#000000\" stroke-opacity=\"0.5\" stroke-width=\"6.4\"/>\n",
       "<path clip-path=\"url(#clip112)\" d=\"M1336.83 1733.3 L1320.83 1749.3 L1336.83 1765.3 L1352.83 1749.3 L1336.83 1733.3 Z\" fill=\"#ffd700\" fill-rule=\"evenodd\" fill-opacity=\"0.5\" stroke=\"#000000\" stroke-opacity=\"0.5\" stroke-width=\"6.4\"/>\n",
       "<polyline clip-path=\"url(#clip112)\" style=\"stroke:#000000; stroke-width:4; stroke-opacity:0.1; fill:none\" points=\"\n",
       "  1964.39,1044.88 2022.5,918.354 \n",
       "  \"/>\n",
       "<polyline clip-path=\"url(#clip112)\" style=\"stroke:#000000; stroke-width:4; stroke-opacity:0.1; fill:none\" points=\"\n",
       "  2256.68,1087.64 2109.72,742.864 \n",
       "  \"/>\n",
       "<polyline clip-path=\"url(#clip112)\" style=\"stroke:#000000; stroke-width:4; stroke-opacity:0.1; fill:none\" points=\"\n",
       "  1599.45,815.075 1584.42,499.554 \n",
       "  \"/>\n",
       "<polyline clip-path=\"url(#clip112)\" style=\"stroke:#000000; stroke-width:4; stroke-opacity:0.1; fill:none\" points=\"\n",
       "  1570.21,1641.6 1601.42,1580.49 \n",
       "  \"/>\n",
       "<polyline clip-path=\"url(#clip112)\" style=\"stroke:#000000; stroke-width:4; stroke-opacity:0.1; fill:none\" points=\"\n",
       "  1419.15,1462.21 1259.71,1493.2 \n",
       "  \"/>\n",
       "<polyline clip-path=\"url(#clip112)\" style=\"stroke:#000000; stroke-width:4; stroke-opacity:0.1; fill:none\" points=\"\n",
       "  1644.54,1697.94 1547.73,1686.18 \n",
       "  \"/>\n",
       "<polyline clip-path=\"url(#clip112)\" style=\"stroke:#000000; stroke-width:4; stroke-opacity:0.1; fill:none\" points=\"\n",
       "  1579.68,1521.61 1535.2,1480.23 \n",
       "  \"/>\n",
       "<polyline clip-path=\"url(#clip112)\" style=\"stroke:#000000; stroke-width:4; stroke-opacity:0.1; fill:none\" points=\"\n",
       "  1417.94,1580.66 1466.67,1741.22 \n",
       "  \"/>\n",
       "<polyline clip-path=\"url(#clip112)\" style=\"stroke:#000000; stroke-width:4; stroke-opacity:0.1; fill:none\" points=\"\n",
       "  2256.68,1087.64 2399.7,1107.34 \n",
       "  \"/>\n",
       "<polyline clip-path=\"url(#clip112)\" style=\"stroke:#000000; stroke-width:4; stroke-opacity:0.1; fill:none\" points=\"\n",
       "  2264.57,341.8 2473.41,182.088 \n",
       "  \"/>\n",
       "<polyline clip-path=\"url(#clip112)\" style=\"stroke:#000000; stroke-width:4; stroke-opacity:0.1; fill:none\" points=\"\n",
       "  1417.94,1580.66 1292.14,1621.87 \n",
       "  \"/>\n",
       "<polyline clip-path=\"url(#clip112)\" style=\"stroke:#000000; stroke-width:4; stroke-opacity:0.1; fill:none\" points=\"\n",
       "  1035.1,1802.99 915.048,1742.98 \n",
       "  \"/>\n",
       "<polyline clip-path=\"url(#clip112)\" style=\"stroke:#000000; stroke-width:4; stroke-opacity:0.1; fill:none\" points=\"\n",
       "  1239.41,1484.88 1242.13,1472.44 \n",
       "  \"/>\n",
       "<polyline clip-path=\"url(#clip112)\" style=\"stroke:#000000; stroke-width:4; stroke-opacity:0.1; fill:none\" points=\"\n",
       "  1308.34,1766.89 1324.57,1725.49 \n",
       "  \"/>\n",
       "<polyline clip-path=\"url(#clip112)\" style=\"stroke:#000000; stroke-width:4; stroke-opacity:0.1; fill:none\" points=\"\n",
       "  1595.58,1592.44 1521.67,1473.2 \n",
       "  \"/>\n",
       "<polyline clip-path=\"url(#clip112)\" style=\"stroke:#000000; stroke-width:4; stroke-opacity:0.1; fill:none\" points=\"\n",
       "  1613.78,1071.41 1586.99,1100.9 \n",
       "  \"/>\n",
       "<polyline clip-path=\"url(#clip112)\" style=\"stroke:#000000; stroke-width:4; stroke-opacity:0.1; fill:none\" points=\"\n",
       "  2145.77,1344.2 2375.52,1299.6 \n",
       "  \"/>\n",
       "<polyline clip-path=\"url(#clip112)\" style=\"stroke:#000000; stroke-width:4; stroke-opacity:0.1; fill:none\" points=\"\n",
       "  1587.39,1374.28 1623.64,1379.83 \n",
       "  \"/>\n",
       "<polyline clip-path=\"url(#clip112)\" style=\"stroke:#000000; stroke-width:4; stroke-opacity:0.1; fill:none\" points=\"\n",
       "  1975.94,1521.76 2266.75,1543.94 \n",
       "  \"/>\n",
       "<polyline clip-path=\"url(#clip112)\" style=\"stroke:#000000; stroke-width:4; stroke-opacity:0.1; fill:none\" points=\"\n",
       "  1381.97,1833.78 1439.95,1809.97 \n",
       "  \"/>\n",
       "<polyline clip-path=\"url(#clip112)\" style=\"stroke:#000000; stroke-width:4; stroke-opacity:0.1; fill:none\" points=\"\n",
       "  1521.17,1517.53 1498.25,1547 \n",
       "  \"/>\n",
       "<polyline clip-path=\"url(#clip112)\" style=\"stroke:#000000; stroke-width:4; stroke-opacity:0.1; fill:none\" points=\"\n",
       "  1595.58,1592.44 1619.06,1635.98 \n",
       "  \"/>\n",
       "<polyline clip-path=\"url(#clip112)\" style=\"stroke:#000000; stroke-width:4; stroke-opacity:0.1; fill:none\" points=\"\n",
       "  1587.39,1374.28 1560.9,1421.59 \n",
       "  \"/>\n",
       "<polyline clip-path=\"url(#clip112)\" style=\"stroke:#000000; stroke-width:4; stroke-opacity:0.1; fill:none\" points=\"\n",
       "  1867.84,1083.32 1901.24,1175.57 \n",
       "  \"/>\n",
       "<polyline clip-path=\"url(#clip112)\" style=\"stroke:#000000; stroke-width:4; stroke-opacity:0.1; fill:none\" points=\"\n",
       "  1558.28,1533.92 1571.16,1545.13 \n",
       "  \"/>\n",
       "<polyline clip-path=\"url(#clip112)\" style=\"stroke:#000000; stroke-width:4; stroke-opacity:0.1; fill:none\" points=\"\n",
       "  2014.24,1146.25 1949.01,1187.05 \n",
       "  \"/>\n",
       "<polyline clip-path=\"url(#clip112)\" style=\"stroke:#000000; stroke-width:4; stroke-opacity:0.1; fill:none\" points=\"\n",
       "  1640.88,1295.23 1598.8,1296.56 \n",
       "  \"/>\n",
       "<polyline clip-path=\"url(#clip112)\" style=\"stroke:#000000; stroke-width:4; stroke-opacity:0.1; fill:none\" points=\"\n",
       "  1250.47,1489.47 1485.21,1358.73 \n",
       "  \"/>\n",
       "<polyline clip-path=\"url(#clip112)\" style=\"stroke:#000000; stroke-width:4; stroke-opacity:0.1; fill:none\" points=\"\n",
       "  2014.24,1146.25 2055.55,1241 \n",
       "  \"/>\n",
       "<polyline clip-path=\"url(#clip112)\" style=\"stroke:#000000; stroke-width:4; stroke-opacity:0.1; fill:none\" points=\"\n",
       "  1525.26,1632.17 1498.34,1590.4 \n",
       "  \"/>\n",
       "<polyline clip-path=\"url(#clip112)\" style=\"stroke:#000000; stroke-width:4; stroke-opacity:0.1; fill:none\" points=\"\n",
       "  1769.93,1101.2 1829.69,1057.23 \n",
       "  \"/>\n",
       "<polyline clip-path=\"url(#clip112)\" style=\"stroke:#000000; stroke-width:4; stroke-opacity:0.1; fill:none\" points=\"\n",
       "  2079.8,867.34 2096.3,875.369 \n",
       "  \"/>\n",
       "<polyline clip-path=\"url(#clip112)\" style=\"stroke:#000000; stroke-width:4; stroke-opacity:0.1; fill:none\" points=\"\n",
       "  1089.32,1070.12 1211.27,1189.76 \n",
       "  \"/>\n",
       "<polyline clip-path=\"url(#clip112)\" style=\"stroke:#000000; stroke-width:4; stroke-opacity:0.1; fill:none\" points=\"\n",
       "  3069.76,129.854 2023.21,457.979 \n",
       "  \"/>\n",
       "<polyline clip-path=\"url(#clip112)\" style=\"stroke:#000000; stroke-width:4; stroke-opacity:0.1; fill:none\" points=\"\n",
       "  2084.66,754.77 2079.93,745.834 \n",
       "  \"/>\n",
       "<polyline clip-path=\"url(#clip112)\" style=\"stroke:#000000; stroke-width:4; stroke-opacity:0.1; fill:none\" points=\"\n",
       "  1645.48,2201.48 1630.76,1880.15 \n",
       "  \"/>\n",
       "<polyline clip-path=\"url(#clip112)\" style=\"stroke:#000000; stroke-width:4; stroke-opacity:0.1; fill:none\" points=\"\n",
       "  1417.94,1580.66 1371.89,1581.59 \n",
       "  \"/>\n",
       "<polyline clip-path=\"url(#clip112)\" style=\"stroke:#000000; stroke-width:4; stroke-opacity:0.1; fill:none\" points=\"\n",
       "  1403.81,1692.7 1502.44,1662.12 \n",
       "  \"/>\n",
       "<polyline clip-path=\"url(#clip112)\" style=\"stroke:#000000; stroke-width:4; stroke-opacity:0.1; fill:none\" points=\"\n",
       "  1268.59,1760.3 1213.41,1716.16 \n",
       "  \"/>\n",
       "<polyline clip-path=\"url(#clip112)\" style=\"stroke:#000000; stroke-width:4; stroke-opacity:0.1; fill:none\" points=\"\n",
       "  1644.54,1697.94 1620.78,1741.61 \n",
       "  \"/>\n",
       "<polyline clip-path=\"url(#clip112)\" style=\"stroke:#000000; stroke-width:4; stroke-opacity:0.1; fill:none\" points=\"\n",
       "  1190.35,2144.77 1264.97,2257.02 \n",
       "  \"/>\n",
       "<polyline clip-path=\"url(#clip112)\" style=\"stroke:#000000; stroke-width:4; stroke-opacity:0.1; fill:none\" points=\"\n",
       "  1300.66,1600.23 1360.47,1487.91 \n",
       "  \"/>\n",
       "<polyline clip-path=\"url(#clip112)\" style=\"stroke:#000000; stroke-width:4; stroke-opacity:0.1; fill:none\" points=\"\n",
       "  1250.47,1489.47 1356.75,1490.75 \n",
       "  \"/>\n",
       "<polyline clip-path=\"url(#clip112)\" style=\"stroke:#000000; stroke-width:4; stroke-opacity:0.1; fill:none\" points=\"\n",
       "  2247.99,697.292 2268.96,608.679 \n",
       "  \"/>\n",
       "<polyline clip-path=\"url(#clip112)\" style=\"stroke:#000000; stroke-width:4; stroke-opacity:0.1; fill:none\" points=\"\n",
       "  2264.57,341.8 2523.17,142.463 \n",
       "  \"/>\n",
       "<polyline clip-path=\"url(#clip112)\" style=\"stroke:#000000; stroke-width:4; stroke-opacity:0.1; fill:none\" points=\"\n",
       "  1626.94,1328.3 1695.72,1333.9 \n",
       "  \"/>\n",
       "<polyline clip-path=\"url(#clip112)\" style=\"stroke:#000000; stroke-width:4; stroke-opacity:0.1; fill:none\" points=\"\n",
       "  2050.42,850.992 1913.16,862.02 \n",
       "  \"/>\n",
       "<polyline clip-path=\"url(#clip112)\" style=\"stroke:#000000; stroke-width:4; stroke-opacity:0.1; fill:none\" points=\"\n",
       "  1702.37,1260.77 1642.74,1169.47 \n",
       "  \"/>\n",
       "<polyline clip-path=\"url(#clip112)\" style=\"stroke:#000000; stroke-width:4; stroke-opacity:0.1; fill:none\" points=\"\n",
       "  1799.73,1583.03 2029.75,1604.01 \n",
       "  \"/>\n",
       "<polyline clip-path=\"url(#clip112)\" style=\"stroke:#000000; stroke-width:4; stroke-opacity:0.1; fill:none\" points=\"\n",
       "  1579.68,1521.61 1619.95,1585.12 \n",
       "  \"/>\n",
       "<polyline clip-path=\"url(#clip112)\" style=\"stroke:#000000; stroke-width:4; stroke-opacity:0.1; fill:none\" points=\"\n",
       "  2145.77,1344.2 1997.82,1090.34 \n",
       "  \"/>\n",
       "<polyline clip-path=\"url(#clip112)\" style=\"stroke:#000000; stroke-width:4; stroke-opacity:0.1; fill:none\" points=\"\n",
       "  1769.93,1101.2 1762.88,1321.07 \n",
       "  \"/>\n",
       "<polyline clip-path=\"url(#clip112)\" style=\"stroke:#000000; stroke-width:4; stroke-opacity:0.1; fill:none\" points=\"\n",
       "  1188.57,1025.71 1220.32,887.37 \n",
       "  \"/>\n",
       "<polyline clip-path=\"url(#clip112)\" style=\"stroke:#000000; stroke-width:4; stroke-opacity:0.1; fill:none\" points=\"\n",
       "  1579.68,1521.61 1564.8,1477.75 \n",
       "  \"/>\n",
       "<polyline clip-path=\"url(#clip112)\" style=\"stroke:#000000; stroke-width:4; stroke-opacity:0.1; fill:none\" points=\"\n",
       "  1239.41,1484.88 1239.12,1448.95 \n",
       "  \"/>\n",
       "<polyline clip-path=\"url(#clip112)\" style=\"stroke:#000000; stroke-width:4; stroke-opacity:0.1; fill:none\" points=\"\n",
       "  1252.88,1876.72 1243.01,1741.44 \n",
       "  \"/>\n",
       "<polyline clip-path=\"url(#clip112)\" style=\"stroke:#000000; stroke-width:4; stroke-opacity:0.1; fill:none\" points=\"\n",
       "  1521.17,1517.53 1521.81,1544.48 \n",
       "  \"/>\n",
       "<polyline clip-path=\"url(#clip112)\" style=\"stroke:#000000; stroke-width:4; stroke-opacity:0.1; fill:none\" points=\"\n",
       "  2079.75,729.606 2128.41,737.255 \n",
       "  \"/>\n",
       "<polyline clip-path=\"url(#clip112)\" style=\"stroke:#000000; stroke-width:4; stroke-opacity:0.1; fill:none\" points=\"\n",
       "  1250.54,2372.38 1621.17,2376.22 \n",
       "  \"/>\n",
       "<polyline clip-path=\"url(#clip112)\" style=\"stroke:#000000; stroke-width:4; stroke-opacity:0.1; fill:none\" points=\"\n",
       "  2214,976.625 2260.37,971.289 \n",
       "  \"/>\n",
       "<polyline clip-path=\"url(#clip112)\" style=\"stroke:#000000; stroke-width:4; stroke-opacity:0.1; fill:none\" points=\"\n",
       "  1624.3,1432.94 1583.62,1570.72 \n",
       "  \"/>\n",
       "<polyline clip-path=\"url(#clip112)\" style=\"stroke:#000000; stroke-width:4; stroke-opacity:0.1; fill:none\" points=\"\n",
       "  1231.81,2075.66 1300.34,2086.62 \n",
       "  \"/>\n",
       "<polyline clip-path=\"url(#clip112)\" style=\"stroke:#000000; stroke-width:4; stroke-opacity:0.1; fill:none\" points=\"\n",
       "  1472.77,1905.57 1491.31,1776.92 \n",
       "  \"/>\n",
       "<polyline clip-path=\"url(#clip112)\" style=\"stroke:#000000; stroke-width:4; stroke-opacity:0.1; fill:none\" points=\"\n",
       "  1183.79,1611.17 1126.58,1803.53 \n",
       "  \"/>\n",
       "<polyline clip-path=\"url(#clip112)\" style=\"stroke:#000000; stroke-width:4; stroke-opacity:0.1; fill:none\" points=\"\n",
       "  2244.3,635.476 2260.9,790.17 \n",
       "  \"/>\n",
       "<polyline clip-path=\"url(#clip112)\" style=\"stroke:#000000; stroke-width:4; stroke-opacity:0.1; fill:none\" points=\"\n",
       "  1418.64,1606.15 1363.87,1618.19 \n",
       "  \"/>\n",
       "<polyline clip-path=\"url(#clip112)\" style=\"stroke:#000000; stroke-width:4; stroke-opacity:0.1; fill:none\" points=\"\n",
       "  2050.42,850.992 2019.01,844.654 \n",
       "  \"/>\n",
       "<polyline clip-path=\"url(#clip112)\" style=\"stroke:#000000; stroke-width:4; stroke-opacity:0.1; fill:none\" points=\"\n",
       "  1261.88,1514 1274.19,1515.69 \n",
       "  \"/>\n",
       "<polyline clip-path=\"url(#clip112)\" style=\"stroke:#000000; stroke-width:4; stroke-opacity:0.1; fill:none\" points=\"\n",
       "  1587.39,1374.28 1620.47,1327.54 \n",
       "  \"/>\n",
       "<polyline clip-path=\"url(#clip112)\" style=\"stroke:#000000; stroke-width:4; stroke-opacity:0.1; fill:none\" points=\"\n",
       "  1967.84,1400.84 1914.35,1812.38 \n",
       "  \"/>\n",
       "<polyline clip-path=\"url(#clip112)\" style=\"stroke:#000000; stroke-width:4; stroke-opacity:0.1; fill:none\" points=\"\n",
       "  2050.42,850.992 2156.44,898.721 \n",
       "  \"/>\n",
       "<polyline clip-path=\"url(#clip112)\" style=\"stroke:#000000; stroke-width:4; stroke-opacity:0.1; fill:none\" points=\"\n",
       "  2457.76,874.748 2606.82,876.065 \n",
       "  \"/>\n",
       "<polyline clip-path=\"url(#clip112)\" style=\"stroke:#000000; stroke-width:4; stroke-opacity:0.1; fill:none\" points=\"\n",
       "  1268.59,1760.3 1082.53,1695.76 \n",
       "  \"/>\n",
       "<polyline clip-path=\"url(#clip112)\" style=\"stroke:#000000; stroke-width:4; stroke-opacity:0.1; fill:none\" points=\"\n",
       "  1357.79,1768.86 1448.4,1727.84 \n",
       "  \"/>\n",
       "<polyline clip-path=\"url(#clip112)\" style=\"stroke:#000000; stroke-width:4; stroke-opacity:0.1; fill:none\" points=\"\n",
       "  1645.48,2201.48 1454.09,2206.96 \n",
       "  \"/>\n",
       "<polyline clip-path=\"url(#clip112)\" style=\"stroke:#000000; stroke-width:4; stroke-opacity:0.1; fill:none\" points=\"\n",
       "  1418.64,1606.15 1480.54,1716.31 \n",
       "  \"/>\n",
       "<polyline clip-path=\"url(#clip112)\" style=\"stroke:#000000; stroke-width:4; stroke-opacity:0.1; fill:none\" points=\"\n",
       "  1327.44,1980.24 1442.09,2038.29 \n",
       "  \"/>\n",
       "<polyline clip-path=\"url(#clip112)\" style=\"stroke:#000000; stroke-width:4; stroke-opacity:0.1; fill:none\" points=\"\n",
       "  1964.39,1044.88 2010.91,1145.57 \n",
       "  \"/>\n",
       "<polyline clip-path=\"url(#clip112)\" style=\"stroke:#000000; stroke-width:4; stroke-opacity:0.1; fill:none\" points=\"\n",
       "  1799.02,1720.19 1935.71,1546.81 \n",
       "  \"/>\n",
       "<polyline clip-path=\"url(#clip112)\" style=\"stroke:#000000; stroke-width:4; stroke-opacity:0.1; fill:none\" points=\"\n",
       "  1640.88,1295.23 1616.29,1297.25 \n",
       "  \"/>\n",
       "<polyline clip-path=\"url(#clip112)\" style=\"stroke:#000000; stroke-width:4; stroke-opacity:0.1; fill:none\" points=\"\n",
       "  1454.27,1148.37 1500.15,1033.03 \n",
       "  \"/>\n",
       "<polyline clip-path=\"url(#clip112)\" style=\"stroke:#000000; stroke-width:4; stroke-opacity:0.1; fill:none\" points=\"\n",
       "  1956.2,925.459 1957.82,963.714 \n",
       "  \"/>\n",
       "<polyline clip-path=\"url(#clip112)\" style=\"stroke:#000000; stroke-width:4; stroke-opacity:0.1; fill:none\" points=\"\n",
       "  1702.37,1260.77 1655.38,1316.94 \n",
       "  \"/>\n",
       "<polyline clip-path=\"url(#clip112)\" style=\"stroke:#000000; stroke-width:4; stroke-opacity:0.1; fill:none\" points=\"\n",
       "  1999.35,920.881 2093.98,819.906 \n",
       "  \"/>\n",
       "<polyline clip-path=\"url(#clip112)\" style=\"stroke:#000000; stroke-width:4; stroke-opacity:0.1; fill:none\" points=\"\n",
       "  2457.76,874.748 2458.35,619.387 \n",
       "  \"/>\n",
       "<polyline clip-path=\"url(#clip112)\" style=\"stroke:#000000; stroke-width:4; stroke-opacity:0.1; fill:none\" points=\"\n",
       "  1657.48,1527.16 1642.32,1442.43 \n",
       "  \"/>\n",
       "<polyline clip-path=\"url(#clip112)\" style=\"stroke:#000000; stroke-width:4; stroke-opacity:0.1; fill:none\" points=\"\n",
       "  2050.42,850.992 2098.55,952.003 \n",
       "  \"/>\n",
       "<polyline clip-path=\"url(#clip112)\" style=\"stroke:#000000; stroke-width:4; stroke-opacity:0.1; fill:none\" points=\"\n",
       "  1521.17,1517.53 1510,1503.93 \n",
       "  \"/>\n",
       "<polyline clip-path=\"url(#clip112)\" style=\"stroke:#000000; stroke-width:4; stroke-opacity:0.1; fill:none\" points=\"\n",
       "  1570.21,1641.6 1534.23,1540.03 \n",
       "  \"/>\n",
       "<polyline clip-path=\"url(#clip112)\" style=\"stroke:#000000; stroke-width:4; stroke-opacity:0.1; fill:none\" points=\"\n",
       "  1768.64,1647.67 1806.52,1517.99 \n",
       "  \"/>\n",
       "<polyline clip-path=\"url(#clip112)\" style=\"stroke:#000000; stroke-width:4; stroke-opacity:0.1; fill:none\" points=\"\n",
       "  2264.57,341.8 2083.82,380.897 \n",
       "  \"/>\n",
       "<polyline clip-path=\"url(#clip112)\" style=\"stroke:#000000; stroke-width:4; stroke-opacity:0.1; fill:none\" points=\"\n",
       "  1311.44,1509.77 1425.41,1509.19 \n",
       "  \"/>\n",
       "<polyline clip-path=\"url(#clip112)\" style=\"stroke:#000000; stroke-width:4; stroke-opacity:0.1; fill:none\" points=\"\n",
       "  2079.75,729.606 2134.97,747.253 \n",
       "  \"/>\n",
       "<polyline clip-path=\"url(#clip112)\" style=\"stroke:#000000; stroke-width:4; stroke-opacity:0.1; fill:none\" points=\"\n",
       "  1300.66,1600.23 1333.32,1490.74 \n",
       "  \"/>\n",
       "<polyline clip-path=\"url(#clip112)\" style=\"stroke:#000000; stroke-width:4; stroke-opacity:0.1; fill:none\" points=\"\n",
       "  1252.88,1876.72 1325.3,1934.57 \n",
       "  \"/>\n",
       "<polyline clip-path=\"url(#clip112)\" style=\"stroke:#000000; stroke-width:4; stroke-opacity:0.1; fill:none\" points=\"\n",
       "  1628.77,1059.26 1544.76,1153.87 \n",
       "  \"/>\n",
       "<polyline clip-path=\"url(#clip112)\" style=\"stroke:#000000; stroke-width:4; stroke-opacity:0.1; fill:none\" points=\"\n",
       "  2476.54,500.087 2422.43,845.036 \n",
       "  \"/>\n",
       "<polyline clip-path=\"url(#clip112)\" style=\"stroke:#000000; stroke-width:4; stroke-opacity:0.1; fill:none\" points=\"\n",
       "  1357.79,1768.86 1245.88,1637.65 \n",
       "  \"/>\n",
       "<polyline clip-path=\"url(#clip112)\" style=\"stroke:#000000; stroke-width:4; stroke-opacity:0.1; fill:none\" points=\"\n",
       "  1799.02,1720.19 1925.44,1692.67 \n",
       "  \"/>\n",
       "<polyline clip-path=\"url(#clip112)\" style=\"stroke:#000000; stroke-width:4; stroke-opacity:0.1; fill:none\" points=\"\n",
       "  1308.34,1766.89 1336.83,1749.3 \n",
       "  \"/>\n",
       "<path clip-path=\"url(#clip112)\" d=\"M1521.58 1692.45 L1517.82 1703.26 L1506.37 1703.5 L1515.5 1710.43 L1512.17 1721.39 L1521.58 1714.85 L1530.99 1721.39 L1527.66 1710.43 L1536.8 1703.5 L1525.34 1703.26 L1521.58 1692.45 Z\" fill=\"#008000\" fill-rule=\"evenodd\" fill-opacity=\"0.5\" stroke=\"#000000\" stroke-opacity=\"0.5\" stroke-width=\"6.4\"/>\n",
       "<path clip-path=\"url(#clip112)\" d=\"M1610.61 1110.44 L1606.85 1121.26 L1595.39 1121.5 L1604.53 1128.43 L1601.2 1139.39 L1610.61 1132.84 L1620.01 1139.39 L1616.69 1128.43 L1625.82 1121.5 L1614.37 1121.26 L1610.61 1110.44 Z\" fill=\"#008000\" fill-rule=\"evenodd\" fill-opacity=\"0.5\" stroke=\"#000000\" stroke-opacity=\"0.5\" stroke-width=\"6.4\"/>\n",
       "<path clip-path=\"url(#clip112)\" d=\"M1635.33 991.91 L1631.57 1002.73 L1620.12 1002.97 L1629.25 1009.89 L1625.93 1020.85 L1635.33 1014.31 L1644.74 1020.85 L1641.41 1009.89 L1650.55 1002.97 L1639.09 1002.73 L1635.33 991.91 Z\" fill=\"#008000\" fill-rule=\"evenodd\" fill-opacity=\"0.5\" stroke=\"#000000\" stroke-opacity=\"0.5\" stroke-width=\"6.4\"/>\n",
       "<path clip-path=\"url(#clip112)\" d=\"M2201.77 790.516 L2198.01 801.332 L2186.56 801.572 L2195.69 808.5 L2192.36 819.46 L2201.77 812.916 L2211.18 819.46 L2207.85 808.5 L2216.99 801.572 L2205.53 801.332 L2201.77 790.516 Z\" fill=\"#008000\" fill-rule=\"evenodd\" fill-opacity=\"0.5\" stroke=\"#000000\" stroke-opacity=\"0.5\" stroke-width=\"6.4\"/>\n",
       "<path clip-path=\"url(#clip112)\" d=\"M1185.75 1517.55 L1181.99 1528.36 L1170.53 1528.6 L1179.67 1535.53 L1176.34 1546.49 L1185.75 1539.95 L1195.15 1546.49 L1191.83 1535.53 L1200.96 1528.6 L1189.51 1528.36 L1185.75 1517.55 Z\" fill=\"#008000\" fill-rule=\"evenodd\" fill-opacity=\"0.5\" stroke=\"#000000\" stroke-opacity=\"0.5\" stroke-width=\"6.4\"/>\n",
       "<path clip-path=\"url(#clip112)\" d=\"M2097.68 1248.55 L2093.92 1259.36 L2082.47 1259.6 L2091.6 1266.53 L2088.27 1277.49 L2097.68 1270.95 L2107.09 1277.49 L2103.76 1266.53 L2112.9 1259.6 L2101.44 1259.36 L2097.68 1248.55 Z\" fill=\"#008000\" fill-rule=\"evenodd\" fill-opacity=\"0.5\" stroke=\"#000000\" stroke-opacity=\"0.5\" stroke-width=\"6.4\"/>\n",
       "<path clip-path=\"url(#clip112)\" d=\"M1172.95 1947.51 L1169.19 1958.32 L1157.73 1958.56 L1166.87 1965.49 L1163.54 1976.45 L1172.95 1969.91 L1182.36 1976.45 L1179.03 1965.49 L1188.16 1958.56 L1176.71 1958.32 L1172.95 1947.51 Z\" fill=\"#008000\" fill-rule=\"evenodd\" fill-opacity=\"0.5\" stroke=\"#000000\" stroke-opacity=\"0.5\" stroke-width=\"6.4\"/>\n",
       "<path clip-path=\"url(#clip112)\" d=\"M2076.16 1024.25 L2072.4 1035.06 L2060.94 1035.3 L2070.08 1042.23 L2066.75 1053.19 L2076.16 1046.65 L2085.57 1053.19 L2082.24 1042.23 L2091.37 1035.3 L2079.92 1035.06 L2076.16 1024.25 Z\" fill=\"#008000\" fill-rule=\"evenodd\" fill-opacity=\"0.5\" stroke=\"#000000\" stroke-opacity=\"0.5\" stroke-width=\"6.4\"/>\n",
       "<path clip-path=\"url(#clip112)\" d=\"M1778.56 1329.76 L1774.8 1340.57 L1763.35 1340.81 L1772.48 1347.74 L1769.15 1358.7 L1778.56 1352.16 L1787.97 1358.7 L1784.64 1347.74 L1793.78 1340.81 L1782.32 1340.57 L1778.56 1329.76 Z\" fill=\"#008000\" fill-rule=\"evenodd\" fill-opacity=\"0.5\" stroke=\"#000000\" stroke-opacity=\"0.5\" stroke-width=\"6.4\"/>\n",
       "<path clip-path=\"url(#clip112)\" d=\"M1534.92 1545.34 L1531.16 1556.15 L1519.7 1556.39 L1528.84 1563.32 L1525.51 1574.28 L1534.92 1567.74 L1544.32 1574.28 L1541 1563.32 L1550.13 1556.39 L1538.68 1556.15 L1534.92 1545.34 Z\" fill=\"#008000\" fill-rule=\"evenodd\" fill-opacity=\"0.5\" stroke=\"#000000\" stroke-opacity=\"0.5\" stroke-width=\"6.4\"/>\n",
       "<path clip-path=\"url(#clip112)\" d=\"M1871.5 878.857 L1867.74 889.673 L1856.28 889.913 L1865.42 896.841 L1862.09 907.801 L1871.5 901.257 L1880.91 907.801 L1877.58 896.841 L1886.71 889.913 L1875.26 889.673 L1871.5 878.857 Z\" fill=\"#008000\" fill-rule=\"evenodd\" fill-opacity=\"0.5\" stroke=\"#000000\" stroke-opacity=\"0.5\" stroke-width=\"6.4\"/>\n",
       "<path clip-path=\"url(#clip112)\" d=\"M1032.91 1738.87 L1029.15 1749.69 L1017.69 1749.93 L1026.83 1756.86 L1023.5 1767.82 L1032.91 1761.27 L1042.32 1767.82 L1038.99 1756.86 L1048.12 1749.93 L1036.67 1749.69 L1032.91 1738.87 Z\" fill=\"#008000\" fill-rule=\"evenodd\" fill-opacity=\"0.5\" stroke=\"#000000\" stroke-opacity=\"0.5\" stroke-width=\"6.4\"/>\n",
       "<path clip-path=\"url(#clip112)\" d=\"M2083.85 711.269 L2080.09 722.085 L2068.63 722.325 L2077.77 729.253 L2074.44 740.213 L2083.85 733.669 L2093.26 740.213 L2089.93 729.253 L2099.06 722.325 L2087.61 722.085 L2083.85 711.269 Z\" fill=\"#008000\" fill-rule=\"evenodd\" fill-opacity=\"0.5\" stroke=\"#000000\" stroke-opacity=\"0.5\" stroke-width=\"6.4\"/>\n",
       "<path clip-path=\"url(#clip112)\" d=\"M1609.98 1250.94 L1606.22 1261.76 L1594.76 1262 L1603.9 1268.92 L1600.57 1279.88 L1609.98 1273.34 L1619.39 1279.88 L1616.06 1268.92 L1625.2 1262 L1613.74 1261.76 L1609.98 1250.94 Z\" fill=\"#008000\" fill-rule=\"evenodd\" fill-opacity=\"0.5\" stroke=\"#000000\" stroke-opacity=\"0.5\" stroke-width=\"6.4\"/>\n",
       "<path clip-path=\"url(#clip112)\" d=\"M1597.47 1027.83 L1593.71 1038.64 L1582.26 1038.88 L1591.39 1045.81 L1588.06 1056.77 L1597.47 1050.23 L1606.88 1056.77 L1603.55 1045.81 L1612.69 1038.88 L1601.23 1038.64 L1597.47 1027.83 Z\" fill=\"#008000\" fill-rule=\"evenodd\" fill-opacity=\"0.5\" stroke=\"#000000\" stroke-opacity=\"0.5\" stroke-width=\"6.4\"/>\n",
       "<path clip-path=\"url(#clip112)\" d=\"M2386.08 265.968 L2382.32 276.784 L2370.87 277.024 L2380 283.952 L2376.67 294.912 L2386.08 288.368 L2395.49 294.912 L2392.16 283.952 L2401.3 277.024 L2389.84 276.784 L2386.08 265.968 Z\" fill=\"#008000\" fill-rule=\"evenodd\" fill-opacity=\"0.5\" stroke=\"#000000\" stroke-opacity=\"0.5\" stroke-width=\"6.4\"/>\n",
       "<path clip-path=\"url(#clip112)\" d=\"M1614.22 1316.71 L1610.46 1327.53 L1599 1327.77 L1608.14 1334.69 L1604.81 1345.65 L1614.22 1339.11 L1623.63 1345.65 L1620.3 1334.69 L1629.44 1327.77 L1617.98 1327.53 L1614.22 1316.71 Z\" fill=\"#008000\" fill-rule=\"evenodd\" fill-opacity=\"0.5\" stroke=\"#000000\" stroke-opacity=\"0.5\" stroke-width=\"6.4\"/>\n",
       "<path clip-path=\"url(#clip112)\" d=\"M1477.41 1799.93 L1473.65 1810.74 L1462.19 1810.98 L1471.33 1817.91 L1468 1828.87 L1477.41 1822.33 L1486.81 1828.87 L1483.49 1817.91 L1492.62 1810.98 L1481.17 1810.74 L1477.41 1799.93 Z\" fill=\"#008000\" fill-rule=\"evenodd\" fill-opacity=\"0.5\" stroke=\"#000000\" stroke-opacity=\"0.5\" stroke-width=\"6.4\"/>\n",
       "<path clip-path=\"url(#clip112)\" d=\"M1445.4 1481.77 L1441.64 1492.59 L1430.19 1492.83 L1439.32 1499.76 L1435.99 1510.72 L1445.4 1504.17 L1454.81 1510.72 L1451.48 1499.76 L1460.62 1492.83 L1449.16 1492.59 L1445.4 1481.77 Z\" fill=\"#008000\" fill-rule=\"evenodd\" fill-opacity=\"0.5\" stroke=\"#000000\" stroke-opacity=\"0.5\" stroke-width=\"6.4\"/>\n",
       "<path clip-path=\"url(#clip112)\" d=\"M2164.18 1530.66 L2160.42 1541.47 L2148.96 1541.71 L2158.1 1548.64 L2154.77 1559.6 L2164.18 1553.06 L2173.59 1559.6 L2170.26 1548.64 L2179.39 1541.71 L2167.94 1541.47 L2164.18 1530.66 Z\" fill=\"#008000\" fill-rule=\"evenodd\" fill-opacity=\"0.5\" stroke=\"#000000\" stroke-opacity=\"0.5\" stroke-width=\"6.4\"/>\n",
       "<path clip-path=\"url(#clip112)\" d=\"M2265.4 1270.76 L2261.64 1281.58 L2250.18 1281.82 L2259.32 1288.74 L2255.99 1299.7 L2265.4 1293.16 L2274.81 1299.7 L2271.48 1288.74 L2280.62 1281.82 L2269.16 1281.58 L2265.4 1270.76 Z\" fill=\"#008000\" fill-rule=\"evenodd\" fill-opacity=\"0.5\" stroke=\"#000000\" stroke-opacity=\"0.5\" stroke-width=\"6.4\"/>\n",
       "<path clip-path=\"url(#clip112)\" d=\"M1815.41 1406.3 L1811.65 1417.11 L1800.2 1417.35 L1809.33 1424.28 L1806 1435.24 L1815.41 1428.7 L1824.82 1435.24 L1821.49 1424.28 L1830.63 1417.35 L1819.17 1417.11 L1815.41 1406.3 Z\" fill=\"#008000\" fill-rule=\"evenodd\" fill-opacity=\"0.5\" stroke=\"#000000\" stroke-opacity=\"0.5\" stroke-width=\"6.4\"/>\n",
       "<path clip-path=\"url(#clip112)\" d=\"M1412.58 1844.75 L1408.82 1855.57 L1397.37 1855.81 L1406.5 1862.73 L1403.17 1873.69 L1412.58 1867.15 L1421.99 1873.69 L1418.66 1862.73 L1427.8 1855.81 L1416.34 1855.57 L1412.58 1844.75 Z\" fill=\"#008000\" fill-rule=\"evenodd\" fill-opacity=\"0.5\" stroke=\"#000000\" stroke-opacity=\"0.5\" stroke-width=\"6.4\"/>\n",
       "<path clip-path=\"url(#clip112)\" d=\"M1601.25 1605.29 L1597.49 1616.1 L1586.03 1616.34 L1595.17 1623.27 L1591.84 1634.23 L1601.25 1627.69 L1610.66 1634.23 L1607.33 1623.27 L1616.46 1616.34 L1605.01 1616.1 L1601.25 1605.29 Z\" fill=\"#008000\" fill-rule=\"evenodd\" fill-opacity=\"0.5\" stroke=\"#000000\" stroke-opacity=\"0.5\" stroke-width=\"6.4\"/>\n",
       "<path clip-path=\"url(#clip112)\" d=\"M1668.91 1769.11 L1665.15 1779.93 L1653.7 1780.17 L1662.83 1787.1 L1659.51 1798.06 L1668.91 1791.51 L1678.32 1798.06 L1674.99 1787.1 L1684.13 1780.17 L1672.67 1779.93 L1668.91 1769.11 Z\" fill=\"#008000\" fill-rule=\"evenodd\" fill-opacity=\"0.5\" stroke=\"#000000\" stroke-opacity=\"0.5\" stroke-width=\"6.4\"/>\n",
       "<path clip-path=\"url(#clip112)\" d=\"M2055.94 885.59 L2052.18 896.406 L2040.73 896.646 L2049.86 903.574 L2046.54 914.534 L2055.94 907.99 L2065.35 914.534 L2062.02 903.574 L2071.16 896.646 L2059.7 896.406 L2055.94 885.59 Z\" fill=\"#008000\" fill-rule=\"evenodd\" fill-opacity=\"0.5\" stroke=\"#000000\" stroke-opacity=\"0.5\" stroke-width=\"6.4\"/>\n",
       "<path clip-path=\"url(#clip112)\" d=\"M2075.03 599.06 L2071.27 609.876 L2059.81 610.116 L2068.95 617.044 L2065.62 628.004 L2075.03 621.46 L2084.43 628.004 L2081.11 617.044 L2090.24 610.116 L2078.79 609.876 L2075.03 599.06 Z\" fill=\"#008000\" fill-rule=\"evenodd\" fill-opacity=\"0.5\" stroke=\"#000000\" stroke-opacity=\"0.5\" stroke-width=\"6.4\"/>\n",
       "<path clip-path=\"url(#clip112)\" d=\"M1840.14 1311.96 L1836.38 1322.78 L1824.93 1323.02 L1834.06 1329.95 L1830.74 1340.91 L1840.14 1334.36 L1849.55 1340.91 L1846.22 1329.95 L1855.36 1323.02 L1843.9 1322.78 L1840.14 1311.96 Z\" fill=\"#008000\" fill-rule=\"evenodd\" fill-opacity=\"0.5\" stroke=\"#000000\" stroke-opacity=\"0.5\" stroke-width=\"6.4\"/>\n",
       "<path clip-path=\"url(#clip112)\" d=\"M2121.85 920.263 L2118.09 931.079 L2106.64 931.319 L2115.77 938.247 L2112.44 949.207 L2121.85 942.663 L2131.26 949.207 L2127.93 938.247 L2137.07 931.319 L2125.61 931.079 L2121.85 920.263 Z\" fill=\"#008000\" fill-rule=\"evenodd\" fill-opacity=\"0.5\" stroke=\"#000000\" stroke-opacity=\"0.5\" stroke-width=\"6.4\"/>\n",
       "<path clip-path=\"url(#clip112)\" d=\"M1506.55 1503.88 L1502.79 1514.7 L1491.34 1514.94 L1500.47 1521.87 L1497.15 1532.83 L1506.55 1526.28 L1515.96 1532.83 L1512.63 1521.87 L1521.77 1514.94 L1510.31 1514.7 L1506.55 1503.88 Z\" fill=\"#008000\" fill-rule=\"evenodd\" fill-opacity=\"0.5\" stroke=\"#000000\" stroke-opacity=\"0.5\" stroke-width=\"6.4\"/>\n",
       "<path clip-path=\"url(#clip112)\" d=\"M1357.07 1062.34 L1353.31 1073.16 L1341.85 1073.4 L1350.99 1080.33 L1347.66 1091.29 L1357.07 1084.74 L1366.48 1091.29 L1363.15 1080.33 L1372.28 1073.4 L1360.83 1073.16 L1357.07 1062.34 Z\" fill=\"#008000\" fill-rule=\"evenodd\" fill-opacity=\"0.5\" stroke=\"#000000\" stroke-opacity=\"0.5\" stroke-width=\"6.4\"/>\n",
       "<path clip-path=\"url(#clip112)\" d=\"M1618.09 1100.62 L1614.33 1111.44 L1602.87 1111.68 L1612.01 1118.61 L1608.68 1129.57 L1618.09 1123.02 L1627.5 1129.57 L1624.17 1118.61 L1633.3 1111.68 L1621.85 1111.44 L1618.09 1100.62 Z\" fill=\"#008000\" fill-rule=\"evenodd\" fill-opacity=\"0.5\" stroke=\"#000000\" stroke-opacity=\"0.5\" stroke-width=\"6.4\"/>\n",
       "<path clip-path=\"url(#clip112)\" d=\"M1158.59 1757.28 L1154.83 1768.09 L1143.37 1768.33 L1152.51 1775.26 L1149.18 1786.22 L1158.59 1779.68 L1168 1786.22 L1164.67 1775.26 L1173.8 1768.33 L1162.35 1768.09 L1158.59 1757.28 Z\" fill=\"#008000\" fill-rule=\"evenodd\" fill-opacity=\"0.5\" stroke=\"#000000\" stroke-opacity=\"0.5\" stroke-width=\"6.4\"/>\n",
       "<path clip-path=\"url(#clip112)\" d=\"M1437.94 1667.13 L1434.18 1677.94 L1422.72 1678.18 L1431.86 1685.11 L1428.53 1696.07 L1437.94 1689.53 L1447.35 1696.07 L1444.02 1685.11 L1453.15 1678.18 L1441.7 1677.94 L1437.94 1667.13 Z\" fill=\"#008000\" fill-rule=\"evenodd\" fill-opacity=\"0.5\" stroke=\"#000000\" stroke-opacity=\"0.5\" stroke-width=\"6.4\"/>\n",
       "<path clip-path=\"url(#clip112)\" d=\"M1588.55 1539.26 L1584.79 1550.07 L1573.34 1550.31 L1582.47 1557.24 L1579.15 1568.2 L1588.55 1561.66 L1597.96 1568.2 L1594.63 1557.24 L1603.77 1550.31 L1592.31 1550.07 L1588.55 1539.26 Z\" fill=\"#008000\" fill-rule=\"evenodd\" fill-opacity=\"0.5\" stroke=\"#000000\" stroke-opacity=\"0.5\" stroke-width=\"6.4\"/>\n",
       "<path clip-path=\"url(#clip112)\" d=\"M1465.66 1702.27 L1461.9 1713.08 L1450.44 1713.32 L1459.58 1720.25 L1456.25 1731.21 L1465.66 1724.67 L1475.07 1731.21 L1471.74 1720.25 L1480.87 1713.32 L1469.42 1713.08 L1465.66 1702.27 Z\" fill=\"#008000\" fill-rule=\"evenodd\" fill-opacity=\"0.5\" stroke=\"#000000\" stroke-opacity=\"0.5\" stroke-width=\"6.4\"/>\n",
       "<path clip-path=\"url(#clip112)\" d=\"M1965.02 829.788 L1961.26 840.604 L1949.8 840.844 L1958.94 847.772 L1955.61 858.732 L1965.02 852.188 L1974.42 858.732 L1971.1 847.772 L1980.23 840.844 L1968.78 840.604 L1965.02 829.788 Z\" fill=\"#008000\" fill-rule=\"evenodd\" fill-opacity=\"0.5\" stroke=\"#000000\" stroke-opacity=\"0.5\" stroke-width=\"6.4\"/>\n",
       "<path clip-path=\"url(#clip112)\" d=\"M1665.53 1554.44 L1661.77 1565.26 L1650.32 1565.5 L1659.45 1572.42 L1656.12 1583.38 L1665.53 1576.84 L1674.94 1583.38 L1671.61 1572.42 L1680.75 1565.5 L1669.29 1565.26 L1665.53 1554.44 Z\" fill=\"#008000\" fill-rule=\"evenodd\" fill-opacity=\"0.5\" stroke=\"#000000\" stroke-opacity=\"0.5\" stroke-width=\"6.4\"/>\n",
       "<path clip-path=\"url(#clip112)\" d=\"M2457.45 735.921 L2453.69 746.737 L2442.23 746.977 L2451.37 753.905 L2448.04 764.865 L2457.45 758.321 L2466.86 764.865 L2463.53 753.905 L2472.67 746.977 L2461.21 746.737 L2457.45 735.921 Z\" fill=\"#008000\" fill-rule=\"evenodd\" fill-opacity=\"0.5\" stroke=\"#000000\" stroke-opacity=\"0.5\" stroke-width=\"6.4\"/>\n",
       "<path clip-path=\"url(#clip112)\" d=\"M2307.35 1413.78 L2303.59 1424.59 L2292.13 1424.83 L2301.27 1431.76 L2297.94 1442.72 L2307.35 1436.18 L2316.76 1442.72 L2313.43 1431.76 L2322.56 1424.83 L2311.11 1424.59 L2307.35 1413.78 Z\" fill=\"#008000\" fill-rule=\"evenodd\" fill-opacity=\"0.5\" stroke=\"#000000\" stroke-opacity=\"0.5\" stroke-width=\"6.4\"/>\n",
       "<path clip-path=\"url(#clip112)\" d=\"M1417.97 1180.25 L1414.21 1191.07 L1402.76 1191.31 L1411.89 1198.24 L1408.56 1209.2 L1417.97 1202.65 L1427.38 1209.2 L1424.05 1198.24 L1433.19 1191.31 L1421.73 1191.07 L1417.97 1180.25 Z\" fill=\"#008000\" fill-rule=\"evenodd\" fill-opacity=\"0.5\" stroke=\"#000000\" stroke-opacity=\"0.5\" stroke-width=\"6.4\"/>\n",
       "<path clip-path=\"url(#clip112)\" d=\"M1978.17 719.208 L1974.41 730.024 L1962.95 730.264 L1972.09 737.192 L1968.76 748.152 L1978.17 741.608 L1987.57 748.152 L1984.25 737.192 L1993.38 730.264 L1981.93 730.024 L1978.17 719.208 Z\" fill=\"#008000\" fill-rule=\"evenodd\" fill-opacity=\"0.5\" stroke=\"#000000\" stroke-opacity=\"0.5\" stroke-width=\"6.4\"/>\n",
       "<path clip-path=\"url(#clip112)\" d=\"M1731.89 1427.55 L1728.13 1438.36 L1716.67 1438.6 L1725.81 1445.53 L1722.48 1456.49 L1731.89 1449.95 L1741.29 1456.49 L1737.97 1445.53 L1747.1 1438.6 L1735.65 1438.36 L1731.89 1427.55 Z\" fill=\"#008000\" fill-rule=\"evenodd\" fill-opacity=\"0.5\" stroke=\"#000000\" stroke-opacity=\"0.5\" stroke-width=\"6.4\"/>\n",
       "<path clip-path=\"url(#clip112)\" d=\"M1640.72 1288.85 L1636.96 1299.67 L1625.5 1299.91 L1634.64 1306.83 L1631.31 1317.79 L1640.72 1311.25 L1650.13 1317.79 L1646.8 1306.83 L1655.93 1299.91 L1644.48 1299.67 L1640.72 1288.85 Z\" fill=\"#008000\" fill-rule=\"evenodd\" fill-opacity=\"0.5\" stroke=\"#000000\" stroke-opacity=\"0.5\" stroke-width=\"6.4\"/>\n",
       "<path clip-path=\"url(#clip112)\" d=\"M1543.63 1538.13 L1539.87 1548.95 L1528.41 1549.19 L1537.55 1556.11 L1534.22 1567.07 L1543.63 1560.53 L1553.04 1567.07 L1549.71 1556.11 L1558.85 1549.19 L1547.39 1548.95 L1543.63 1538.13 Z\" fill=\"#008000\" fill-rule=\"evenodd\" fill-opacity=\"0.5\" stroke=\"#000000\" stroke-opacity=\"0.5\" stroke-width=\"6.4\"/>\n",
       "<path clip-path=\"url(#clip112)\" d=\"M1422.72 1740.56 L1418.96 1751.38 L1407.5 1751.62 L1416.64 1758.55 L1413.31 1769.51 L1422.72 1762.96 L1432.13 1769.51 L1428.8 1758.55 L1437.94 1751.62 L1426.48 1751.38 L1422.72 1740.56 Z\" fill=\"#008000\" fill-rule=\"evenodd\" fill-opacity=\"0.5\" stroke=\"#000000\" stroke-opacity=\"0.5\" stroke-width=\"6.4\"/>\n",
       "<path clip-path=\"url(#clip112)\" d=\"M1322.37 1889.89 L1318.61 1900.71 L1307.16 1900.95 L1316.29 1907.88 L1312.96 1918.84 L1322.37 1912.29 L1331.78 1918.84 L1328.45 1907.88 L1337.59 1900.95 L1326.13 1900.71 L1322.37 1889.89 Z\" fill=\"#008000\" fill-rule=\"evenodd\" fill-opacity=\"0.5\" stroke=\"#000000\" stroke-opacity=\"0.5\" stroke-width=\"6.4\"/>\n",
       "<path clip-path=\"url(#clip112)\" d=\"M1404.83 1642.54 L1401.07 1653.36 L1389.62 1653.6 L1398.75 1660.53 L1395.42 1671.49 L1404.83 1664.94 L1414.24 1671.49 L1410.91 1660.53 L1420.05 1653.6 L1408.59 1653.36 L1404.83 1642.54 Z\" fill=\"#008000\" fill-rule=\"evenodd\" fill-opacity=\"0.5\" stroke=\"#000000\" stroke-opacity=\"0.5\" stroke-width=\"6.4\"/>\n",
       "<path clip-path=\"url(#clip112)\" d=\"M1557.04 1707.56 L1553.28 1718.37 L1541.83 1718.61 L1550.96 1725.54 L1547.63 1736.5 L1557.04 1729.96 L1566.45 1736.5 L1563.12 1725.54 L1572.26 1718.61 L1560.8 1718.37 L1557.04 1707.56 Z\" fill=\"#008000\" fill-rule=\"evenodd\" fill-opacity=\"0.5\" stroke=\"#000000\" stroke-opacity=\"0.5\" stroke-width=\"6.4\"/>\n",
       "<path clip-path=\"url(#clip112)\" d=\"M1415.66 2259.59 L1411.9 2270.4 L1400.45 2270.64 L1409.58 2277.57 L1406.26 2288.53 L1415.66 2281.99 L1425.07 2288.53 L1421.74 2277.57 L1430.88 2270.64 L1419.42 2270.4 L1415.66 2259.59 Z\" fill=\"#008000\" fill-rule=\"evenodd\" fill-opacity=\"0.5\" stroke=\"#000000\" stroke-opacity=\"0.5\" stroke-width=\"6.4\"/>\n",
       "<path clip-path=\"url(#clip112)\" d=\"M1402.12 1194.64 L1398.36 1205.45 L1386.91 1205.69 L1396.04 1212.62 L1392.71 1223.58 L1402.12 1217.04 L1411.53 1223.58 L1408.2 1212.62 L1417.34 1205.69 L1405.88 1205.45 L1402.12 1194.64 Z\" fill=\"#008000\" fill-rule=\"evenodd\" fill-opacity=\"0.5\" stroke=\"#000000\" stroke-opacity=\"0.5\" stroke-width=\"6.4\"/>\n",
       "<path clip-path=\"url(#clip112)\" d=\"M1194.09 1730.95 L1190.33 1741.76 L1178.87 1742 L1188.01 1748.93 L1184.68 1759.89 L1194.09 1753.35 L1203.5 1759.89 L1200.17 1748.93 L1209.3 1742 L1197.85 1741.76 L1194.09 1730.95 Z\" fill=\"#008000\" fill-rule=\"evenodd\" fill-opacity=\"0.5\" stroke=\"#000000\" stroke-opacity=\"0.5\" stroke-width=\"6.4\"/>\n",
       "<path clip-path=\"url(#clip112)\" d=\"M1257.22 1351.01 L1253.46 1361.83 L1242.01 1362.07 L1251.14 1368.99 L1247.82 1379.95 L1257.22 1373.41 L1266.63 1379.95 L1263.3 1368.99 L1272.44 1362.07 L1260.98 1361.83 L1257.22 1351.01 Z\" fill=\"#008000\" fill-rule=\"evenodd\" fill-opacity=\"0.5\" stroke=\"#000000\" stroke-opacity=\"0.5\" stroke-width=\"6.4\"/>\n",
       "<path clip-path=\"url(#clip112)\" d=\"M1257.71 1940.13 L1253.95 1950.94 L1242.5 1951.18 L1251.63 1958.11 L1248.3 1969.07 L1257.71 1962.53 L1267.12 1969.07 L1263.79 1958.11 L1272.93 1951.18 L1261.47 1950.94 L1257.71 1940.13 Z\" fill=\"#008000\" fill-rule=\"evenodd\" fill-opacity=\"0.5\" stroke=\"#000000\" stroke-opacity=\"0.5\" stroke-width=\"6.4\"/>\n",
       "<path clip-path=\"url(#clip112)\" d=\"M2079.53 676.213 L2075.77 687.029 L2064.31 687.269 L2073.45 694.197 L2070.12 705.157 L2079.53 698.613 L2088.93 705.157 L2085.61 694.197 L2094.74 687.269 L2083.29 687.029 L2079.53 676.213 Z\" fill=\"#008000\" fill-rule=\"evenodd\" fill-opacity=\"0.5\" stroke=\"#000000\" stroke-opacity=\"0.5\" stroke-width=\"6.4\"/>\n",
       "<path clip-path=\"url(#clip112)\" d=\"M898.67 1493.94 L894.91 1504.75 L883.454 1504.99 L892.59 1511.92 L889.262 1522.88 L898.67 1516.34 L908.078 1522.88 L904.75 1511.92 L913.886 1504.99 L902.43 1504.75 L898.67 1493.94 Z\" fill=\"#008000\" fill-rule=\"evenodd\" fill-opacity=\"0.5\" stroke=\"#000000\" stroke-opacity=\"0.5\" stroke-width=\"6.4\"/>\n",
       "<path clip-path=\"url(#clip112)\" d=\"M2403.47 1255.45 L2399.71 1266.26 L2388.25 1266.5 L2397.39 1273.43 L2394.06 1284.39 L2403.47 1277.85 L2412.87 1284.39 L2409.55 1273.43 L2418.68 1266.5 L2407.23 1266.26 L2403.47 1255.45 Z\" fill=\"#008000\" fill-rule=\"evenodd\" fill-opacity=\"0.5\" stroke=\"#000000\" stroke-opacity=\"0.5\" stroke-width=\"6.4\"/>\n",
       "<path clip-path=\"url(#clip112)\" d=\"M2142.16 811.775 L2138.4 822.591 L2126.94 822.831 L2136.08 829.759 L2132.75 840.719 L2142.16 834.175 L2151.57 840.719 L2148.24 829.759 L2157.37 822.831 L2145.92 822.591 L2142.16 811.775 Z\" fill=\"#008000\" fill-rule=\"evenodd\" fill-opacity=\"0.5\" stroke=\"#000000\" stroke-opacity=\"0.5\" stroke-width=\"6.4\"/>\n",
       "<path clip-path=\"url(#clip112)\" d=\"M1692.46 1139.46 L1688.7 1150.28 L1677.25 1150.52 L1686.38 1157.45 L1683.06 1168.41 L1692.46 1161.86 L1701.87 1168.41 L1698.54 1157.45 L1707.68 1150.52 L1696.22 1150.28 L1692.46 1139.46 Z\" fill=\"#008000\" fill-rule=\"evenodd\" fill-opacity=\"0.5\" stroke=\"#000000\" stroke-opacity=\"0.5\" stroke-width=\"6.4\"/>\n",
       "<path clip-path=\"url(#clip112)\" d=\"M1640.88 1617.37 L1637.12 1628.19 L1625.66 1628.43 L1634.8 1635.36 L1631.47 1646.32 L1640.88 1639.77 L1650.28 1646.32 L1646.96 1635.36 L1656.09 1628.43 L1644.64 1628.19 L1640.88 1617.37 Z\" fill=\"#008000\" fill-rule=\"evenodd\" fill-opacity=\"0.5\" stroke=\"#000000\" stroke-opacity=\"0.5\" stroke-width=\"6.4\"/>\n",
       "<path clip-path=\"url(#clip112)\" d=\"M1314.89 1774.56 L1311.13 1785.38 L1299.67 1785.62 L1308.81 1792.54 L1305.48 1803.5 L1314.89 1796.96 L1324.3 1803.5 L1320.97 1792.54 L1330.1 1785.62 L1318.65 1785.38 L1314.89 1774.56 Z\" fill=\"#008000\" fill-rule=\"evenodd\" fill-opacity=\"0.5\" stroke=\"#000000\" stroke-opacity=\"0.5\" stroke-width=\"6.4\"/>\n",
       "<path clip-path=\"url(#clip112)\" d=\"M2163.38 1242.9 L2159.62 1253.72 L2148.16 1253.96 L2157.3 1260.89 L2153.97 1271.85 L2163.38 1265.3 L2172.79 1271.85 L2169.46 1260.89 L2178.6 1253.96 L2167.14 1253.72 L2163.38 1242.9 Z\" fill=\"#008000\" fill-rule=\"evenodd\" fill-opacity=\"0.5\" stroke=\"#000000\" stroke-opacity=\"0.5\" stroke-width=\"6.4\"/>\n",
       "<path clip-path=\"url(#clip112)\" d=\"M1386.23 1462.26 L1382.47 1473.08 L1371.01 1473.32 L1380.15 1480.24 L1376.82 1491.2 L1386.23 1484.66 L1395.64 1491.2 L1392.31 1480.24 L1401.44 1473.32 L1389.99 1473.08 L1386.23 1462.26 Z\" fill=\"#008000\" fill-rule=\"evenodd\" fill-opacity=\"0.5\" stroke=\"#000000\" stroke-opacity=\"0.5\" stroke-width=\"6.4\"/>\n",
       "<path clip-path=\"url(#clip112)\" d=\"M2333.15 1040.73 L2329.39 1051.54 L2317.94 1051.78 L2327.07 1058.71 L2323.74 1069.67 L2333.15 1063.13 L2342.56 1069.67 L2339.23 1058.71 L2348.37 1051.78 L2336.91 1051.54 L2333.15 1040.73 Z\" fill=\"#008000\" fill-rule=\"evenodd\" fill-opacity=\"0.5\" stroke=\"#000000\" stroke-opacity=\"0.5\" stroke-width=\"6.4\"/>\n",
       "<path clip-path=\"url(#clip112)\" d=\"M1624.79 1353.34 L1621.03 1364.15 L1609.57 1364.39 L1618.71 1371.32 L1615.38 1382.28 L1624.79 1375.74 L1634.19 1382.28 L1630.87 1371.32 L1640 1364.39 L1628.55 1364.15 L1624.79 1353.34 Z\" fill=\"#008000\" fill-rule=\"evenodd\" fill-opacity=\"0.5\" stroke=\"#000000\" stroke-opacity=\"0.5\" stroke-width=\"6.4\"/>\n",
       "<path clip-path=\"url(#clip112)\" d=\"M1722.63 1840.15 L1718.87 1850.96 L1707.42 1851.2 L1716.55 1858.13 L1713.22 1869.09 L1722.63 1862.55 L1732.04 1869.09 L1728.71 1858.13 L1737.85 1851.2 L1726.39 1850.96 L1722.63 1840.15 Z\" fill=\"#008000\" fill-rule=\"evenodd\" fill-opacity=\"0.5\" stroke=\"#000000\" stroke-opacity=\"0.5\" stroke-width=\"6.4\"/>\n",
       "<path clip-path=\"url(#clip112)\" d=\"M1560.18 1849.36 L1556.42 1860.18 L1544.97 1860.42 L1554.1 1867.34 L1550.77 1878.3 L1560.18 1871.76 L1569.59 1878.3 L1566.26 1867.34 L1575.4 1860.42 L1563.94 1860.18 L1560.18 1849.36 Z\" fill=\"#008000\" fill-rule=\"evenodd\" fill-opacity=\"0.5\" stroke=\"#000000\" stroke-opacity=\"0.5\" stroke-width=\"6.4\"/>\n",
       "<path clip-path=\"url(#clip112)\" d=\"M1542.65 1465.29 L1538.89 1476.11 L1527.43 1476.35 L1536.57 1483.27 L1533.24 1494.23 L1542.65 1487.69 L1552.05 1494.23 L1548.73 1483.27 L1557.86 1476.35 L1546.41 1476.11 L1542.65 1465.29 Z\" fill=\"#008000\" fill-rule=\"evenodd\" fill-opacity=\"0.5\" stroke=\"#000000\" stroke-opacity=\"0.5\" stroke-width=\"6.4\"/>\n",
       "<path clip-path=\"url(#clip112)\" d=\"M1474.13 1743.8 L1470.37 1754.62 L1458.92 1754.86 L1468.05 1761.78 L1464.72 1772.74 L1474.13 1766.2 L1483.54 1772.74 L1480.21 1761.78 L1489.35 1754.86 L1477.89 1754.62 L1474.13 1743.8 Z\" fill=\"#008000\" fill-rule=\"evenodd\" fill-opacity=\"0.5\" stroke=\"#000000\" stroke-opacity=\"0.5\" stroke-width=\"6.4\"/>\n",
       "<path clip-path=\"url(#clip112)\" d=\"M2377.56 1187.71 L2373.8 1198.52 L2362.35 1198.76 L2371.48 1205.69 L2368.15 1216.65 L2377.56 1210.11 L2386.97 1216.65 L2383.64 1205.69 L2392.78 1198.76 L2381.32 1198.52 L2377.56 1187.71 Z\" fill=\"#008000\" fill-rule=\"evenodd\" fill-opacity=\"0.5\" stroke=\"#000000\" stroke-opacity=\"0.5\" stroke-width=\"6.4\"/>\n",
       "<path clip-path=\"url(#clip112)\" d=\"M1868.95 1975.56 L1865.19 1986.37 L1853.73 1986.61 L1862.87 1993.54 L1859.54 2004.5 L1868.95 1997.96 L1878.36 2004.5 L1875.03 1993.54 L1884.16 1986.61 L1872.71 1986.37 L1868.95 1975.56 Z\" fill=\"#008000\" fill-rule=\"evenodd\" fill-opacity=\"0.5\" stroke=\"#000000\" stroke-opacity=\"0.5\" stroke-width=\"6.4\"/>\n",
       "<path clip-path=\"url(#clip112)\" d=\"M2075.51 1130.16 L2071.75 1140.98 L2060.3 1141.22 L2069.43 1148.15 L2066.11 1159.11 L2075.51 1152.56 L2084.92 1159.11 L2081.59 1148.15 L2090.73 1141.22 L2079.27 1140.98 L2075.51 1130.16 Z\" fill=\"#008000\" fill-rule=\"evenodd\" fill-opacity=\"0.5\" stroke=\"#000000\" stroke-opacity=\"0.5\" stroke-width=\"6.4\"/>\n",
       "<path clip-path=\"url(#clip112)\" d=\"M2103.15 678.548 L2099.39 689.364 L2087.93 689.604 L2097.07 696.532 L2093.74 707.492 L2103.15 700.948 L2112.56 707.492 L2109.23 696.532 L2118.36 689.604 L2106.91 689.364 L2103.15 678.548 Z\" fill=\"#008000\" fill-rule=\"evenodd\" fill-opacity=\"0.5\" stroke=\"#000000\" stroke-opacity=\"0.5\" stroke-width=\"6.4\"/>\n",
       "<path clip-path=\"url(#clip112)\" d=\"M1694.74 1244.36 L1690.98 1255.17 L1679.52 1255.41 L1688.66 1262.34 L1685.33 1273.3 L1694.74 1266.76 L1704.15 1273.3 L1700.82 1262.34 L1709.96 1255.41 L1698.5 1255.17 L1694.74 1244.36 Z\" fill=\"#008000\" fill-rule=\"evenodd\" fill-opacity=\"0.5\" stroke=\"#000000\" stroke-opacity=\"0.5\" stroke-width=\"6.4\"/>\n",
       "<path clip-path=\"url(#clip112)\" d=\"M1453.51 1725.61 L1449.75 1736.43 L1438.29 1736.67 L1447.43 1743.6 L1444.1 1754.56 L1453.51 1748.01 L1462.92 1754.56 L1459.59 1743.6 L1468.73 1736.67 L1457.27 1736.43 L1453.51 1725.61 Z\" fill=\"#008000\" fill-rule=\"evenodd\" fill-opacity=\"0.5\" stroke=\"#000000\" stroke-opacity=\"0.5\" stroke-width=\"6.4\"/>\n",
       "<path clip-path=\"url(#clip112)\" d=\"M2131.04 2196.98 L2127.28 2207.79 L2115.83 2208.03 L2124.96 2214.96 L2121.64 2225.92 L2131.04 2219.38 L2140.45 2225.92 L2137.12 2214.96 L2146.26 2208.03 L2134.8 2207.79 L2131.04 2196.98 Z\" fill=\"#008000\" fill-rule=\"evenodd\" fill-opacity=\"0.5\" stroke=\"#000000\" stroke-opacity=\"0.5\" stroke-width=\"6.4\"/>\n",
       "<path clip-path=\"url(#clip112)\" d=\"M1354.21 1638.52 L1350.45 1649.33 L1338.99 1649.57 L1348.13 1656.5 L1344.8 1667.46 L1354.21 1660.92 L1363.62 1667.46 L1360.29 1656.5 L1369.42 1649.57 L1357.97 1649.33 L1354.21 1638.52 Z\" fill=\"#008000\" fill-rule=\"evenodd\" fill-opacity=\"0.5\" stroke=\"#000000\" stroke-opacity=\"0.5\" stroke-width=\"6.4\"/>\n",
       "<path clip-path=\"url(#clip112)\" d=\"M1515.55 1815.41 L1511.79 1826.22 L1500.33 1826.46 L1509.47 1833.39 L1506.14 1844.35 L1515.55 1837.81 L1524.95 1844.35 L1521.63 1833.39 L1530.76 1826.46 L1519.31 1826.22 L1515.55 1815.41 Z\" fill=\"#008000\" fill-rule=\"evenodd\" fill-opacity=\"0.5\" stroke=\"#000000\" stroke-opacity=\"0.5\" stroke-width=\"6.4\"/>\n",
       "<path clip-path=\"url(#clip112)\" d=\"M1434.89 1774.17 L1431.13 1784.99 L1419.67 1785.23 L1428.81 1792.15 L1425.48 1803.11 L1434.89 1796.57 L1444.3 1803.11 L1440.97 1792.15 L1450.1 1785.23 L1438.65 1784.99 L1434.89 1774.17 Z\" fill=\"#008000\" fill-rule=\"evenodd\" fill-opacity=\"0.5\" stroke=\"#000000\" stroke-opacity=\"0.5\" stroke-width=\"6.4\"/>\n",
       "<path clip-path=\"url(#clip112)\" d=\"M2155.64 602.347 L2151.88 613.163 L2140.42 613.403 L2149.56 620.331 L2146.23 631.291 L2155.64 624.747 L2165.05 631.291 L2161.72 620.331 L2170.86 613.403 L2159.4 613.163 L2155.64 602.347 Z\" fill=\"#008000\" fill-rule=\"evenodd\" fill-opacity=\"0.5\" stroke=\"#000000\" stroke-opacity=\"0.5\" stroke-width=\"6.4\"/>\n",
       "<path clip-path=\"url(#clip112)\" d=\"M1273.84 1548.62 L1270.08 1559.44 L1258.63 1559.68 L1267.76 1566.61 L1264.43 1577.57 L1273.84 1571.02 L1283.25 1577.57 L1279.92 1566.61 L1289.06 1559.68 L1277.6 1559.44 L1273.84 1548.62 Z\" fill=\"#008000\" fill-rule=\"evenodd\" fill-opacity=\"0.5\" stroke=\"#000000\" stroke-opacity=\"0.5\" stroke-width=\"6.4\"/>\n",
       "<path clip-path=\"url(#clip112)\" d=\"M1334.39 1501.05 L1330.63 1511.87 L1319.18 1512.11 L1328.31 1519.03 L1324.98 1529.99 L1334.39 1523.45 L1343.8 1529.99 L1340.47 1519.03 L1349.61 1512.11 L1338.15 1511.87 L1334.39 1501.05 Z\" fill=\"#008000\" fill-rule=\"evenodd\" fill-opacity=\"0.5\" stroke=\"#000000\" stroke-opacity=\"0.5\" stroke-width=\"6.4\"/>\n",
       "<path clip-path=\"url(#clip112)\" d=\"M1414.07 1754.48 L1410.31 1765.3 L1398.85 1765.54 L1407.99 1772.46 L1404.66 1783.42 L1414.07 1776.88 L1423.48 1783.42 L1420.15 1772.46 L1429.28 1765.54 L1417.83 1765.3 L1414.07 1754.48 Z\" fill=\"#008000\" fill-rule=\"evenodd\" fill-opacity=\"0.5\" stroke=\"#000000\" stroke-opacity=\"0.5\" stroke-width=\"6.4\"/>\n",
       "<path clip-path=\"url(#clip112)\" d=\"M1440.16 1383.58 L1436.4 1394.39 L1424.94 1394.63 L1434.08 1401.56 L1430.75 1412.52 L1440.16 1405.98 L1449.56 1412.52 L1446.24 1401.56 L1455.37 1394.63 L1443.92 1394.39 L1440.16 1383.58 Z\" fill=\"#008000\" fill-rule=\"evenodd\" fill-opacity=\"0.5\" stroke=\"#000000\" stroke-opacity=\"0.5\" stroke-width=\"6.4\"/>\n",
       "<path clip-path=\"url(#clip112)\" d=\"M2011.17 1014.6 L2007.41 1025.42 L1995.95 1025.66 L2005.09 1032.58 L2001.76 1043.54 L2011.17 1037 L2020.58 1043.54 L2017.25 1032.58 L2026.38 1025.66 L2014.93 1025.42 L2011.17 1014.6 Z\" fill=\"#008000\" fill-rule=\"evenodd\" fill-opacity=\"0.5\" stroke=\"#000000\" stroke-opacity=\"0.5\" stroke-width=\"6.4\"/>\n",
       "<path clip-path=\"url(#clip112)\" d=\"M1554.77 1974.6 L1551.01 1985.42 L1539.55 1985.66 L1548.69 1992.59 L1545.36 2003.55 L1554.77 1997 L1564.17 2003.55 L1560.85 1992.59 L1569.98 1985.66 L1558.53 1985.42 L1554.77 1974.6 Z\" fill=\"#008000\" fill-rule=\"evenodd\" fill-opacity=\"0.5\" stroke=\"#000000\" stroke-opacity=\"0.5\" stroke-width=\"6.4\"/>\n",
       "<path clip-path=\"url(#clip112)\" d=\"M1738.88 2099.92 L1735.12 2110.73 L1723.67 2110.97 L1732.8 2117.9 L1729.47 2128.86 L1738.88 2122.32 L1748.29 2128.86 L1744.96 2117.9 L1754.1 2110.97 L1742.64 2110.73 L1738.88 2099.92 Z\" fill=\"#008000\" fill-rule=\"evenodd\" fill-opacity=\"0.5\" stroke=\"#000000\" stroke-opacity=\"0.5\" stroke-width=\"6.4\"/>\n",
       "<path clip-path=\"url(#clip112)\" d=\"M2334.23 1008.53 L2330.47 1019.35 L2319.02 1019.59 L2328.15 1026.51 L2324.83 1037.47 L2334.23 1030.93 L2343.64 1037.47 L2340.31 1026.51 L2349.45 1019.59 L2337.99 1019.35 L2334.23 1008.53 Z\" fill=\"#008000\" fill-rule=\"evenodd\" fill-opacity=\"0.5\" stroke=\"#000000\" stroke-opacity=\"0.5\" stroke-width=\"6.4\"/>\n",
       "<path clip-path=\"url(#clip112)\" d=\"M2104.18 729.462 L2100.42 740.278 L2088.96 740.518 L2098.1 747.446 L2094.77 758.406 L2104.18 751.862 L2113.58 758.406 L2110.26 747.446 L2119.39 740.518 L2107.94 740.278 L2104.18 729.462 Z\" fill=\"#008000\" fill-rule=\"evenodd\" fill-opacity=\"0.5\" stroke=\"#000000\" stroke-opacity=\"0.5\" stroke-width=\"6.4\"/>\n",
       "<path clip-path=\"url(#clip112)\" d=\"M1270.5 1627.63 L1266.74 1638.45 L1255.29 1638.69 L1264.42 1645.62 L1261.1 1656.58 L1270.5 1650.03 L1279.91 1656.58 L1276.58 1645.62 L1285.72 1638.69 L1274.26 1638.45 L1270.5 1627.63 Z\" fill=\"#008000\" fill-rule=\"evenodd\" fill-opacity=\"0.5\" stroke=\"#000000\" stroke-opacity=\"0.5\" stroke-width=\"6.4\"/>\n",
       "<path clip-path=\"url(#clip112)\" d=\"M1466.69 1581.51 L1462.93 1592.32 L1451.47 1592.56 L1460.61 1599.49 L1457.28 1610.45 L1466.69 1603.91 L1476.1 1610.45 L1472.77 1599.49 L1481.91 1592.56 L1470.45 1592.32 L1466.69 1581.51 Z\" fill=\"#008000\" fill-rule=\"evenodd\" fill-opacity=\"0.5\" stroke=\"#000000\" stroke-opacity=\"0.5\" stroke-width=\"6.4\"/>\n",
       "<path clip-path=\"url(#clip112)\" d=\"M1637.18 1461.36 L1633.42 1472.18 L1621.96 1472.42 L1631.1 1479.35 L1627.77 1490.31 L1637.18 1483.76 L1646.59 1490.31 L1643.26 1479.35 L1652.39 1472.42 L1640.94 1472.18 L1637.18 1461.36 Z\" fill=\"#008000\" fill-rule=\"evenodd\" fill-opacity=\"0.5\" stroke=\"#000000\" stroke-opacity=\"0.5\" stroke-width=\"6.4\"/>\n",
       "<path clip-path=\"url(#clip112)\" d=\"M2148.65 822.06 L2144.89 832.876 L2133.44 833.116 L2142.57 840.044 L2139.25 851.004 L2148.65 844.46 L2158.06 851.004 L2154.73 840.044 L2163.87 833.116 L2152.41 832.876 L2148.65 822.06 Z\" fill=\"#008000\" fill-rule=\"evenodd\" fill-opacity=\"0.5\" stroke=\"#000000\" stroke-opacity=\"0.5\" stroke-width=\"6.4\"/>\n",
       "<path clip-path=\"url(#clip112)\" d=\"M1948.66 722.405 L1944.9 733.221 L1933.44 733.461 L1942.58 740.389 L1939.25 751.349 L1948.66 744.805 L1958.07 751.349 L1954.74 740.389 L1963.88 733.461 L1952.42 733.221 L1948.66 722.405 Z\" fill=\"#008000\" fill-rule=\"evenodd\" fill-opacity=\"0.5\" stroke=\"#000000\" stroke-opacity=\"0.5\" stroke-width=\"6.4\"/>\n",
       "<path clip-path=\"url(#clip112)\" d=\"M1035.13 1826.64 L1031.37 1837.46 L1019.91 1837.7 L1029.05 1844.63 L1025.72 1855.59 L1035.13 1849.04 L1044.54 1855.59 L1041.21 1844.63 L1050.35 1837.7 L1038.89 1837.46 L1035.13 1826.64 Z\" fill=\"#008000\" fill-rule=\"evenodd\" fill-opacity=\"0.5\" stroke=\"#000000\" stroke-opacity=\"0.5\" stroke-width=\"6.4\"/>\n",
       "<path clip-path=\"url(#clip112)\" d=\"M2252.39 443.266 L2248.63 454.082 L2237.17 454.322 L2246.31 461.25 L2242.98 472.21 L2252.39 465.666 L2261.79 472.21 L2258.47 461.25 L2267.6 454.322 L2256.15 454.082 L2252.39 443.266 Z\" fill=\"#008000\" fill-rule=\"evenodd\" fill-opacity=\"0.5\" stroke=\"#000000\" stroke-opacity=\"0.5\" stroke-width=\"6.4\"/>\n",
       "<path clip-path=\"url(#clip112)\" d=\"M2009.14 990.821 L2005.38 1001.64 L1993.92 1001.88 L2003.06 1008.8 L1999.73 1019.76 L2009.14 1013.22 L2018.55 1019.76 L2015.22 1008.8 L2024.36 1001.88 L2012.9 1001.64 L2009.14 990.821 Z\" fill=\"#008000\" fill-rule=\"evenodd\" fill-opacity=\"0.5\" stroke=\"#000000\" stroke-opacity=\"0.5\" stroke-width=\"6.4\"/>\n",
       "<path clip-path=\"url(#clip112)\" d=\"M1519.42 1163.24 L1515.66 1174.06 L1504.2 1174.3 L1513.34 1181.23 L1510.01 1192.19 L1519.42 1185.64 L1528.82 1192.19 L1525.5 1181.23 L1534.63 1174.3 L1523.18 1174.06 L1519.42 1163.24 Z\" fill=\"#008000\" fill-rule=\"evenodd\" fill-opacity=\"0.5\" stroke=\"#000000\" stroke-opacity=\"0.5\" stroke-width=\"6.4\"/>\n",
       "<path clip-path=\"url(#clip112)\" d=\"M1426.65 1895.65 L1422.89 1906.46 L1411.44 1906.7 L1420.57 1913.63 L1417.25 1924.59 L1426.65 1918.05 L1436.06 1924.59 L1432.73 1913.63 L1441.87 1906.7 L1430.41 1906.46 L1426.65 1895.65 Z\" fill=\"#008000\" fill-rule=\"evenodd\" fill-opacity=\"0.5\" stroke=\"#000000\" stroke-opacity=\"0.5\" stroke-width=\"6.4\"/>\n",
       "<path clip-path=\"url(#clip112)\" d=\"M1618.42 1267.98 L1614.66 1278.8 L1603.2 1279.04 L1612.34 1285.96 L1609.01 1296.92 L1618.42 1290.38 L1627.83 1296.92 L1624.5 1285.96 L1633.64 1279.04 L1622.18 1278.8 L1618.42 1267.98 Z\" fill=\"#008000\" fill-rule=\"evenodd\" fill-opacity=\"0.5\" stroke=\"#000000\" stroke-opacity=\"0.5\" stroke-width=\"6.4\"/>\n",
       "<polyline clip-path=\"url(#clip112)\" style=\"stroke:#000000; stroke-width:4; stroke-opacity:0.1; fill:none\" points=\"\n",
       "  1491.31,1776.92 1521.58,1708.45 \n",
       "  \"/>\n",
       "<polyline clip-path=\"url(#clip112)\" style=\"stroke:#000000; stroke-width:4; stroke-opacity:0.1; fill:none\" points=\"\n",
       "  1695.72,1333.9 1610.61,1126.44 \n",
       "  \"/>\n",
       "<polyline clip-path=\"url(#clip112)\" style=\"stroke:#000000; stroke-width:4; stroke-opacity:0.1; fill:none\" points=\"\n",
       "  1642.74,1169.47 1635.33,1007.91 \n",
       "  \"/>\n",
       "<polyline clip-path=\"url(#clip112)\" style=\"stroke:#000000; stroke-width:4; stroke-opacity:0.1; fill:none\" points=\"\n",
       "  2156.44,898.721 2201.77,806.516 \n",
       "  \"/>\n",
       "<polyline clip-path=\"url(#clip112)\" style=\"stroke:#000000; stroke-width:4; stroke-opacity:0.1; fill:none\" points=\"\n",
       "  1274.19,1515.69 1185.75,1533.55 \n",
       "  \"/>\n",
       "<polyline clip-path=\"url(#clip112)\" style=\"stroke:#000000; stroke-width:4; stroke-opacity:0.1; fill:none\" points=\"\n",
       "  2375.52,1299.6 2097.68,1264.55 \n",
       "  \"/>\n",
       "<polyline clip-path=\"url(#clip112)\" style=\"stroke:#000000; stroke-width:4; stroke-opacity:0.1; fill:none\" points=\"\n",
       "  1300.34,2086.62 1172.95,1963.51 \n",
       "  \"/>\n",
       "<polyline clip-path=\"url(#clip112)\" style=\"stroke:#000000; stroke-width:4; stroke-opacity:0.1; fill:none\" points=\"\n",
       "  2019.01,844.654 2076.16,1040.25 \n",
       "  \"/>\n",
       "<polyline clip-path=\"url(#clip112)\" style=\"stroke:#000000; stroke-width:4; stroke-opacity:0.1; fill:none\" points=\"\n",
       "  1695.72,1333.9 1778.56,1345.76 \n",
       "  \"/>\n",
       "<polyline clip-path=\"url(#clip112)\" style=\"stroke:#000000; stroke-width:4; stroke-opacity:0.1; fill:none\" points=\"\n",
       "  1498.34,1590.4 1534.92,1561.34 \n",
       "  \"/>\n",
       "<polyline clip-path=\"url(#clip112)\" style=\"stroke:#000000; stroke-width:4; stroke-opacity:0.1; fill:none\" points=\"\n",
       "  2019.01,844.654 1871.5,894.857 \n",
       "  \"/>\n",
       "<polyline clip-path=\"url(#clip112)\" style=\"stroke:#000000; stroke-width:4; stroke-opacity:0.1; fill:none\" points=\"\n",
       "  1126.58,1803.53 1032.91,1754.87 \n",
       "  \"/>\n",
       "<polyline clip-path=\"url(#clip112)\" style=\"stroke:#000000; stroke-width:4; stroke-opacity:0.1; fill:none\" points=\"\n",
       "  2079.93,745.834 2083.85,727.269 \n",
       "  \"/>\n",
       "<polyline clip-path=\"url(#clip112)\" style=\"stroke:#000000; stroke-width:4; stroke-opacity:0.1; fill:none\" points=\"\n",
       "  1598.8,1296.56 1609.98,1266.94 \n",
       "  \"/>\n",
       "<polyline clip-path=\"url(#clip112)\" style=\"stroke:#000000; stroke-width:4; stroke-opacity:0.1; fill:none\" points=\"\n",
       "  1762.88,1321.07 1597.47,1043.83 \n",
       "  \"/>\n",
       "<polyline clip-path=\"url(#clip112)\" style=\"stroke:#000000; stroke-width:4; stroke-opacity:0.1; fill:none\" points=\"\n",
       "  2473.41,182.088 2386.08,281.968 \n",
       "  \"/>\n",
       "<polyline clip-path=\"url(#clip112)\" style=\"stroke:#000000; stroke-width:4; stroke-opacity:0.1; fill:none\" points=\"\n",
       "  1485.21,1358.73 1614.22,1332.71 \n",
       "  \"/>\n",
       "<polyline clip-path=\"url(#clip112)\" style=\"stroke:#000000; stroke-width:4; stroke-opacity:0.1; fill:none\" points=\"\n",
       "  1439.95,1809.97 1477.41,1815.93 \n",
       "  \"/>\n",
       "<polyline clip-path=\"url(#clip112)\" style=\"stroke:#000000; stroke-width:4; stroke-opacity:0.1; fill:none\" points=\"\n",
       "  1356.75,1490.75 1445.4,1497.77 \n",
       "  \"/>\n",
       "<polyline clip-path=\"url(#clip112)\" style=\"stroke:#000000; stroke-width:4; stroke-opacity:0.1; fill:none\" points=\"\n",
       "  2029.75,1604.01 2164.18,1546.66 \n",
       "  \"/>\n",
       "<polyline clip-path=\"url(#clip112)\" style=\"stroke:#000000; stroke-width:4; stroke-opacity:0.1; fill:none\" points=\"\n",
       "  2399.7,1107.34 2265.4,1286.76 \n",
       "  \"/>\n",
       "<polyline clip-path=\"url(#clip112)\" style=\"stroke:#000000; stroke-width:4; stroke-opacity:0.1; fill:none\" points=\"\n",
       "  1762.88,1321.07 1815.41,1422.3 \n",
       "  \"/>\n",
       "<polyline clip-path=\"url(#clip112)\" style=\"stroke:#000000; stroke-width:4; stroke-opacity:0.1; fill:none\" points=\"\n",
       "  1439.95,1809.97 1412.58,1860.75 \n",
       "  \"/>\n",
       "<polyline clip-path=\"url(#clip112)\" style=\"stroke:#000000; stroke-width:4; stroke-opacity:0.1; fill:none\" points=\"\n",
       "  1583.62,1570.72 1601.25,1621.29 \n",
       "  \"/>\n",
       "<polyline clip-path=\"url(#clip112)\" style=\"stroke:#000000; stroke-width:4; stroke-opacity:0.1; fill:none\" points=\"\n",
       "  1620.78,1741.61 1668.91,1785.11 \n",
       "  \"/>\n",
       "<polyline clip-path=\"url(#clip112)\" style=\"stroke:#000000; stroke-width:4; stroke-opacity:0.1; fill:none\" points=\"\n",
       "  2096.3,875.369 2055.94,901.59 \n",
       "  \"/>\n",
       "<polyline clip-path=\"url(#clip112)\" style=\"stroke:#000000; stroke-width:4; stroke-opacity:0.1; fill:none\" points=\"\n",
       "  2268.96,608.679 2075.03,615.06 \n",
       "  \"/>\n",
       "<polyline clip-path=\"url(#clip112)\" style=\"stroke:#000000; stroke-width:4; stroke-opacity:0.1; fill:none\" points=\"\n",
       "  1642.32,1442.43 1840.14,1327.96 \n",
       "  \"/>\n",
       "<polyline clip-path=\"url(#clip112)\" style=\"stroke:#000000; stroke-width:4; stroke-opacity:0.1; fill:none\" points=\"\n",
       "  2096.3,875.369 2121.85,936.263 \n",
       "  \"/>\n",
       "<polyline clip-path=\"url(#clip112)\" style=\"stroke:#000000; stroke-width:4; stroke-opacity:0.1; fill:none\" points=\"\n",
       "  1521.81,1544.48 1506.55,1519.88 \n",
       "  \"/>\n",
       "<polyline clip-path=\"url(#clip112)\" style=\"stroke:#000000; stroke-width:4; stroke-opacity:0.1; fill:none\" points=\"\n",
       "  1211.27,1189.76 1357.07,1078.34 \n",
       "  \"/>\n",
       "<polyline clip-path=\"url(#clip112)\" style=\"stroke:#000000; stroke-width:4; stroke-opacity:0.1; fill:none\" points=\"\n",
       "  1586.99,1100.9 1618.09,1116.62 \n",
       "  \"/>\n",
       "<polyline clip-path=\"url(#clip112)\" style=\"stroke:#000000; stroke-width:4; stroke-opacity:0.1; fill:none\" points=\"\n",
       "  1082.53,1695.76 1158.59,1773.28 \n",
       "  \"/>\n",
       "<polyline clip-path=\"url(#clip112)\" style=\"stroke:#000000; stroke-width:4; stroke-opacity:0.1; fill:none\" points=\"\n",
       "  1502.44,1662.12 1437.94,1683.13 \n",
       "  \"/>\n",
       "<polyline clip-path=\"url(#clip112)\" style=\"stroke:#000000; stroke-width:4; stroke-opacity:0.1; fill:none\" points=\"\n",
       "  1601.42,1580.49 1588.55,1555.26 \n",
       "  \"/>\n",
       "<polyline clip-path=\"url(#clip112)\" style=\"stroke:#000000; stroke-width:4; stroke-opacity:0.1; fill:none\" points=\"\n",
       "  1466.67,1741.22 1465.66,1718.27 \n",
       "  \"/>\n",
       "<polyline clip-path=\"url(#clip112)\" style=\"stroke:#000000; stroke-width:4; stroke-opacity:0.1; fill:none\" points=\"\n",
       "  2019.01,844.654 1965.02,845.788 \n",
       "  \"/>\n",
       "<polyline clip-path=\"url(#clip112)\" style=\"stroke:#000000; stroke-width:4; stroke-opacity:0.1; fill:none\" points=\"\n",
       "  1619.95,1585.12 1665.53,1570.44 \n",
       "  \"/>\n",
       "<polyline clip-path=\"url(#clip112)\" style=\"stroke:#000000; stroke-width:4; stroke-opacity:0.1; fill:none\" points=\"\n",
       "  2606.82,876.065 2457.45,751.921 \n",
       "  \"/>\n",
       "<polyline clip-path=\"url(#clip112)\" style=\"stroke:#000000; stroke-width:4; stroke-opacity:0.1; fill:none\" points=\"\n",
       "  2375.52,1299.6 2307.35,1429.78 \n",
       "  \"/>\n",
       "<polyline clip-path=\"url(#clip112)\" style=\"stroke:#000000; stroke-width:4; stroke-opacity:0.1; fill:none\" points=\"\n",
       "  1220.32,887.37 1417.97,1196.25 \n",
       "  \"/>\n",
       "<polyline clip-path=\"url(#clip112)\" style=\"stroke:#000000; stroke-width:4; stroke-opacity:0.1; fill:none\" points=\"\n",
       "  1913.16,862.02 1978.17,735.208 \n",
       "  \"/>\n",
       "<polyline clip-path=\"url(#clip112)\" style=\"stroke:#000000; stroke-width:4; stroke-opacity:0.1; fill:none\" points=\"\n",
       "  1642.32,1442.43 1731.89,1443.55 \n",
       "  \"/>\n",
       "<polyline clip-path=\"url(#clip112)\" style=\"stroke:#000000; stroke-width:4; stroke-opacity:0.1; fill:none\" points=\"\n",
       "  1623.64,1379.83 1640.72,1304.85 \n",
       "  \"/>\n",
       "<polyline clip-path=\"url(#clip112)\" style=\"stroke:#000000; stroke-width:4; stroke-opacity:0.1; fill:none\" points=\"\n",
       "  1498.34,1590.4 1543.63,1554.13 \n",
       "  \"/>\n",
       "<polyline clip-path=\"url(#clip112)\" style=\"stroke:#000000; stroke-width:4; stroke-opacity:0.1; fill:none\" points=\"\n",
       "  1336.83,1749.3 1422.72,1756.56 \n",
       "  \"/>\n",
       "<polyline clip-path=\"url(#clip112)\" style=\"stroke:#000000; stroke-width:4; stroke-opacity:0.1; fill:none\" points=\"\n",
       "  1630.76,1880.15 1322.37,1905.89 \n",
       "  \"/>\n",
       "<polyline clip-path=\"url(#clip112)\" style=\"stroke:#000000; stroke-width:4; stroke-opacity:0.1; fill:none\" points=\"\n",
       "  1448.4,1727.84 1404.83,1658.54 \n",
       "  \"/>\n",
       "<polyline clip-path=\"url(#clip112)\" style=\"stroke:#000000; stroke-width:4; stroke-opacity:0.1; fill:none\" points=\"\n",
       "  1480.54,1716.31 1557.04,1723.56 \n",
       "  \"/>\n",
       "<polyline clip-path=\"url(#clip112)\" style=\"stroke:#000000; stroke-width:4; stroke-opacity:0.1; fill:none\" points=\"\n",
       "  1300.34,2086.62 1415.66,2275.59 \n",
       "  \"/>\n",
       "<polyline clip-path=\"url(#clip112)\" style=\"stroke:#000000; stroke-width:4; stroke-opacity:0.1; fill:none\" points=\"\n",
       "  1485.21,1358.73 1402.12,1210.64 \n",
       "  \"/>\n",
       "<polyline clip-path=\"url(#clip112)\" style=\"stroke:#000000; stroke-width:4; stroke-opacity:0.1; fill:none\" points=\"\n",
       "  1211.27,1189.76 1194.09,1746.95 \n",
       "  \"/>\n",
       "<polyline clip-path=\"url(#clip112)\" style=\"stroke:#000000; stroke-width:4; stroke-opacity:0.1; fill:none\" points=\"\n",
       "  1239.12,1448.95 1257.22,1367.01 \n",
       "  \"/>\n",
       "<polyline clip-path=\"url(#clip112)\" style=\"stroke:#000000; stroke-width:4; stroke-opacity:0.1; fill:none\" points=\"\n",
       "  1300.34,2086.62 1257.71,1956.13 \n",
       "  \"/>\n",
       "<polyline clip-path=\"url(#clip112)\" style=\"stroke:#000000; stroke-width:4; stroke-opacity:0.1; fill:none\" points=\"\n",
       "  2079.93,745.834 2079.53,692.213 \n",
       "  \"/>\n",
       "<polyline clip-path=\"url(#clip112)\" style=\"stroke:#000000; stroke-width:4; stroke-opacity:0.1; fill:none\" points=\"\n",
       "  915.048,1742.98 898.67,1509.94 \n",
       "  \"/>\n",
       "<polyline clip-path=\"url(#clip112)\" style=\"stroke:#000000; stroke-width:4; stroke-opacity:0.1; fill:none\" points=\"\n",
       "  2399.7,1107.34 2403.47,1271.45 \n",
       "  \"/>\n",
       "<polyline clip-path=\"url(#clip112)\" style=\"stroke:#000000; stroke-width:4; stroke-opacity:0.1; fill:none\" points=\"\n",
       "  2093.98,819.906 2142.16,827.775 \n",
       "  \"/>\n",
       "<polyline clip-path=\"url(#clip112)\" style=\"stroke:#000000; stroke-width:4; stroke-opacity:0.1; fill:none\" points=\"\n",
       "  1544.76,1153.87 1692.46,1155.46 \n",
       "  \"/>\n",
       "<polyline clip-path=\"url(#clip112)\" style=\"stroke:#000000; stroke-width:4; stroke-opacity:0.1; fill:none\" points=\"\n",
       "  1619.06,1635.98 1640.88,1633.37 \n",
       "  \"/>\n",
       "<polyline clip-path=\"url(#clip112)\" style=\"stroke:#000000; stroke-width:4; stroke-opacity:0.1; fill:none\" points=\"\n",
       "  1363.87,1618.19 1314.89,1790.56 \n",
       "  \"/>\n",
       "<polyline clip-path=\"url(#clip112)\" style=\"stroke:#000000; stroke-width:4; stroke-opacity:0.1; fill:none\" points=\"\n",
       "  2055.55,1241 2163.38,1258.9 \n",
       "  \"/>\n",
       "<polyline clip-path=\"url(#clip112)\" style=\"stroke:#000000; stroke-width:4; stroke-opacity:0.1; fill:none\" points=\"\n",
       "  1371.89,1581.59 1386.23,1478.26 \n",
       "  \"/>\n",
       "<polyline clip-path=\"url(#clip112)\" style=\"stroke:#000000; stroke-width:4; stroke-opacity:0.1; fill:none\" points=\"\n",
       "  2458.35,619.387 2333.15,1056.73 \n",
       "  \"/>\n",
       "<polyline clip-path=\"url(#clip112)\" style=\"stroke:#000000; stroke-width:4; stroke-opacity:0.1; fill:none\" points=\"\n",
       "  1620.47,1327.54 1624.79,1369.34 \n",
       "  \"/>\n",
       "<polyline clip-path=\"url(#clip112)\" style=\"stroke:#000000; stroke-width:4; stroke-opacity:0.1; fill:none\" points=\"\n",
       "  1914.35,1812.38 1722.63,1856.15 \n",
       "  \"/>\n",
       "<polyline clip-path=\"url(#clip112)\" style=\"stroke:#000000; stroke-width:4; stroke-opacity:0.1; fill:none\" points=\"\n",
       "  1630.76,1880.15 1560.18,1865.36 \n",
       "  \"/>\n",
       "<polyline clip-path=\"url(#clip112)\" style=\"stroke:#000000; stroke-width:4; stroke-opacity:0.1; fill:none\" points=\"\n",
       "  1535.2,1480.23 1542.65,1481.29 \n",
       "  \"/>\n",
       "<polyline clip-path=\"url(#clip112)\" style=\"stroke:#000000; stroke-width:4; stroke-opacity:0.1; fill:none\" points=\"\n",
       "  1439.95,1809.97 1474.13,1759.8 \n",
       "  \"/>\n",
       "<polyline clip-path=\"url(#clip112)\" style=\"stroke:#000000; stroke-width:4; stroke-opacity:0.1; fill:none\" points=\"\n",
       "  2422.43,845.036 2377.56,1203.71 \n",
       "  \"/>\n",
       "<polyline clip-path=\"url(#clip112)\" style=\"stroke:#000000; stroke-width:4; stroke-opacity:0.1; fill:none\" points=\"\n",
       "  1630.76,1880.15 1868.95,1991.56 \n",
       "  \"/>\n",
       "<polyline clip-path=\"url(#clip112)\" style=\"stroke:#000000; stroke-width:4; stroke-opacity:0.1; fill:none\" points=\"\n",
       "  2010.91,1145.57 2075.51,1146.16 \n",
       "  \"/>\n",
       "<polyline clip-path=\"url(#clip112)\" style=\"stroke:#000000; stroke-width:4; stroke-opacity:0.1; fill:none\" points=\"\n",
       "  2606.82,876.065 2103.15,694.548 \n",
       "  \"/>\n",
       "<polyline clip-path=\"url(#clip112)\" style=\"stroke:#000000; stroke-width:4; stroke-opacity:0.1; fill:none\" points=\"\n",
       "  1616.29,1297.25 1694.74,1260.36 \n",
       "  \"/>\n",
       "<polyline clip-path=\"url(#clip112)\" style=\"stroke:#000000; stroke-width:4; stroke-opacity:0.1; fill:none\" points=\"\n",
       "  1466.67,1741.22 1453.51,1741.61 \n",
       "  \"/>\n",
       "<polyline clip-path=\"url(#clip112)\" style=\"stroke:#000000; stroke-width:4; stroke-opacity:0.1; fill:none\" points=\"\n",
       "  1914.35,1812.38 2131.04,2212.98 \n",
       "  \"/>\n",
       "<polyline clip-path=\"url(#clip112)\" style=\"stroke:#000000; stroke-width:4; stroke-opacity:0.1; fill:none\" points=\"\n",
       "  1292.14,1621.87 1354.21,1654.52 \n",
       "  \"/>\n",
       "<polyline clip-path=\"url(#clip112)\" style=\"stroke:#000000; stroke-width:4; stroke-opacity:0.1; fill:none\" points=\"\n",
       "  1491.31,1776.92 1515.55,1831.41 \n",
       "  \"/>\n",
       "<polyline clip-path=\"url(#clip112)\" style=\"stroke:#000000; stroke-width:4; stroke-opacity:0.1; fill:none\" points=\"\n",
       "  1325.3,1934.57 1434.89,1790.17 \n",
       "  \"/>\n",
       "<polyline clip-path=\"url(#clip112)\" style=\"stroke:#000000; stroke-width:4; stroke-opacity:0.1; fill:none\" points=\"\n",
       "  2268.96,608.679 2155.64,618.347 \n",
       "  \"/>\n",
       "<polyline clip-path=\"url(#clip112)\" style=\"stroke:#000000; stroke-width:4; stroke-opacity:0.1; fill:none\" points=\"\n",
       "  1245.88,1637.65 1273.84,1564.62 \n",
       "  \"/>\n",
       "<polyline clip-path=\"url(#clip112)\" style=\"stroke:#000000; stroke-width:4; stroke-opacity:0.1; fill:none\" points=\"\n",
       "  1333.32,1490.74 1334.39,1517.05 \n",
       "  \"/>\n",
       "<polyline clip-path=\"url(#clip112)\" style=\"stroke:#000000; stroke-width:4; stroke-opacity:0.1; fill:none\" points=\"\n",
       "  1448.4,1727.84 1414.07,1770.48 \n",
       "  \"/>\n",
       "<polyline clip-path=\"url(#clip112)\" style=\"stroke:#000000; stroke-width:4; stroke-opacity:0.1; fill:none\" points=\"\n",
       "  1360.47,1487.91 1440.16,1399.58 \n",
       "  \"/>\n",
       "<polyline clip-path=\"url(#clip112)\" style=\"stroke:#000000; stroke-width:4; stroke-opacity:0.1; fill:none\" points=\"\n",
       "  2010.91,1145.57 2011.17,1030.6 \n",
       "  \"/>\n",
       "<polyline clip-path=\"url(#clip112)\" style=\"stroke:#000000; stroke-width:4; stroke-opacity:0.1; fill:none\" points=\"\n",
       "  1621.17,2376.22 1554.77,1990.6 \n",
       "  \"/>\n",
       "<polyline clip-path=\"url(#clip112)\" style=\"stroke:#000000; stroke-width:4; stroke-opacity:0.1; fill:none\" points=\"\n",
       "  1630.76,1880.15 1738.88,2115.92 \n",
       "  \"/>\n",
       "<polyline clip-path=\"url(#clip112)\" style=\"stroke:#000000; stroke-width:4; stroke-opacity:0.1; fill:none\" points=\"\n",
       "  2399.7,1107.34 2334.23,1024.53 \n",
       "  \"/>\n",
       "<polyline clip-path=\"url(#clip112)\" style=\"stroke:#000000; stroke-width:4; stroke-opacity:0.1; fill:none\" points=\"\n",
       "  2156.44,898.721 2104.18,745.462 \n",
       "  \"/>\n",
       "<polyline clip-path=\"url(#clip112)\" style=\"stroke:#000000; stroke-width:4; stroke-opacity:0.1; fill:none\" points=\"\n",
       "  1243.01,1741.44 1270.5,1643.63 \n",
       "  \"/>\n",
       "<polyline clip-path=\"url(#clip112)\" style=\"stroke:#000000; stroke-width:4; stroke-opacity:0.1; fill:none\" points=\"\n",
       "  1498.34,1590.4 1466.69,1597.51 \n",
       "  \"/>\n",
       "<polyline clip-path=\"url(#clip112)\" style=\"stroke:#000000; stroke-width:4; stroke-opacity:0.1; fill:none\" points=\"\n",
       "  1564.8,1477.75 1637.18,1477.36 \n",
       "  \"/>\n",
       "<polyline clip-path=\"url(#clip112)\" style=\"stroke:#000000; stroke-width:4; stroke-opacity:0.1; fill:none\" points=\"\n",
       "  2093.98,819.906 2148.65,838.06 \n",
       "  \"/>\n",
       "<polyline clip-path=\"url(#clip112)\" style=\"stroke:#000000; stroke-width:4; stroke-opacity:0.1; fill:none\" points=\"\n",
       "  1913.16,862.02 1948.66,738.405 \n",
       "  \"/>\n",
       "<polyline clip-path=\"url(#clip112)\" style=\"stroke:#000000; stroke-width:4; stroke-opacity:0.1; fill:none\" points=\"\n",
       "  915.048,1742.98 1035.13,1842.64 \n",
       "  \"/>\n",
       "<polyline clip-path=\"url(#clip112)\" style=\"stroke:#000000; stroke-width:4; stroke-opacity:0.1; fill:none\" points=\"\n",
       "  2523.17,142.463 2252.39,459.266 \n",
       "  \"/>\n",
       "<polyline clip-path=\"url(#clip112)\" style=\"stroke:#000000; stroke-width:4; stroke-opacity:0.1; fill:none\" points=\"\n",
       "  2022.5,918.354 2009.14,1006.82 \n",
       "  \"/>\n",
       "<polyline clip-path=\"url(#clip112)\" style=\"stroke:#000000; stroke-width:4; stroke-opacity:0.1; fill:none\" points=\"\n",
       "  1616.29,1297.25 1519.42,1179.24 \n",
       "  \"/>\n",
       "<polyline clip-path=\"url(#clip112)\" style=\"stroke:#000000; stroke-width:4; stroke-opacity:0.1; fill:none\" points=\"\n",
       "  1325.3,1934.57 1426.65,1911.65 \n",
       "  \"/>\n",
       "<polyline clip-path=\"url(#clip112)\" style=\"stroke:#000000; stroke-width:4; stroke-opacity:0.1; fill:none\" points=\"\n",
       "  1598.8,1296.56 1618.42,1283.98 \n",
       "  \"/>\n",
       "<path clip-path=\"url(#clip110)\" d=\"\n",
       "M2383.15 481.164 L3056.76 481.164 L3056.76 178.764 L2383.15 178.764  Z\n",
       "  \" fill=\"#ffffff\" fill-rule=\"evenodd\" fill-opacity=\"1\"/>\n",
       "<polyline clip-path=\"url(#clip110)\" style=\"stroke:#000000; stroke-width:4; stroke-opacity:1; fill:none\" points=\"\n",
       "  2383.15,481.164 3056.76,481.164 3056.76,178.764 2383.15,178.764 2383.15,481.164 \n",
       "  \"/>\n",
       "<path clip-path=\"url(#clip110)\" d=\"M2501.55 213.644 L2501.55 264.844 L2552.75 264.844 L2552.75 213.644 L2501.55 213.644 Z\" fill=\"#0000ff\" fill-rule=\"evenodd\" fill-opacity=\"0.5\" stroke=\"#000000\" stroke-opacity=\"0.5\" stroke-width=\"10.24\"/>\n",
       "<path clip-path=\"url(#clip110)\" d=\"M 0 0 M2655.54 240.32 Q2657.04 240.83 2658.45 242.496 Q2659.89 244.163 2661.32 247.08 L2666.07 256.524 L2661.04 256.524 L2656.62 247.658 Q2654.91 244.186 2653.29 243.052 Q2651.69 241.918 2648.92 241.918 L2643.82 241.918 L2643.82 256.524 L2639.15 256.524 L2639.15 221.964 L2649.7 221.964 Q2655.63 221.964 2658.54 224.441 Q2661.46 226.918 2661.46 231.918 Q2661.46 235.182 2659.93 237.334 Q2658.43 239.487 2655.54 240.32 M2643.82 225.807 L2643.82 238.075 L2649.7 238.075 Q2653.08 238.075 2654.79 236.524 Q2656.53 234.95 2656.53 231.918 Q2656.53 228.885 2654.79 227.358 Q2653.08 225.807 2649.7 225.807 L2643.82 225.807 Z\" fill=\"#000000\" fill-rule=\"evenodd\" fill-opacity=\"1\" /><path clip-path=\"url(#clip110)\" d=\"M 0 0 M2690.58 242.496 L2690.58 244.58 L2671 244.58 Q2671.28 248.978 2673.64 251.293 Q2676.02 253.584 2680.26 253.584 Q2682.71 253.584 2685 252.982 Q2687.32 252.381 2689.59 251.177 L2689.59 255.205 Q2687.29 256.177 2684.89 256.686 Q2682.48 257.195 2680 257.195 Q2673.8 257.195 2670.17 253.584 Q2666.55 249.973 2666.55 243.816 Q2666.55 237.45 2669.98 233.723 Q2673.43 229.973 2679.26 229.973 Q2684.49 229.973 2687.53 233.353 Q2690.58 236.709 2690.58 242.496 M2686.32 241.246 Q2686.28 237.751 2684.35 235.668 Q2682.46 233.584 2679.31 233.584 Q2675.74 233.584 2673.59 235.598 Q2671.46 237.612 2671.14 241.27 L2686.32 241.246 Z\" fill=\"#000000\" fill-rule=\"evenodd\" fill-opacity=\"1\" /><path clip-path=\"url(#clip110)\" d=\"M 0 0 M2706.83 243.492 Q2701.67 243.492 2699.68 244.672 Q2697.69 245.853 2697.69 248.7 Q2697.69 250.969 2699.17 252.311 Q2700.67 253.631 2703.24 253.631 Q2706.79 253.631 2708.91 251.131 Q2711.07 248.607 2711.07 244.441 L2711.07 243.492 L2706.83 243.492 M2715.33 241.733 L2715.33 256.524 L2711.07 256.524 L2711.07 252.589 Q2709.61 254.95 2707.43 256.084 Q2705.26 257.195 2702.11 257.195 Q2698.13 257.195 2695.77 254.973 Q2693.43 252.728 2693.43 248.978 Q2693.43 244.603 2696.35 242.381 Q2699.29 240.158 2705.1 240.158 L2711.07 240.158 L2711.07 239.742 Q2711.07 236.802 2709.12 235.205 Q2707.2 233.584 2703.71 233.584 Q2701.48 233.584 2699.38 234.117 Q2697.27 234.649 2695.33 235.714 L2695.33 231.779 Q2697.66 230.876 2699.86 230.436 Q2702.06 229.973 2704.15 229.973 Q2709.77 229.973 2712.55 232.89 Q2715.33 235.807 2715.33 241.733 Z\" fill=\"#000000\" fill-rule=\"evenodd\" fill-opacity=\"1\" /><path clip-path=\"url(#clip110)\" d=\"M 0 0 M2719.79 220.506 L2724.05 220.506 L2724.05 256.524 L2719.79 256.524 L2719.79 220.506 Z\" fill=\"#000000\" fill-rule=\"evenodd\" fill-opacity=\"1\" /><circle clip-path=\"url(#clip110)\" cx=\"2527.15\" cy=\"299.724\" r=\"23\" fill=\"#ff0000\" fill-rule=\"evenodd\" fill-opacity=\"0.5\" stroke=\"#000000\" stroke-opacity=\"0.5\" stroke-width=\"10.24\"/>\n",
       "<path clip-path=\"url(#clip110)\" d=\"M 0 0 M2661.39 283.578 L2661.39 288.139 Q2658.73 286.865 2656.37 286.24 Q2654.01 285.615 2651.81 285.615 Q2647.99 285.615 2645.91 287.097 Q2643.85 288.578 2643.85 291.31 Q2643.85 293.601 2645.21 294.782 Q2646.6 295.939 2650.44 296.657 L2653.27 297.236 Q2658.5 298.231 2660.98 300.754 Q2663.48 303.254 2663.48 307.467 Q2663.48 312.49 2660.1 315.083 Q2656.74 317.675 2650.23 317.675 Q2647.78 317.675 2645 317.12 Q2642.25 316.564 2639.29 315.476 L2639.29 310.662 Q2642.13 312.259 2644.86 313.069 Q2647.6 313.879 2650.23 313.879 Q2654.24 313.879 2656.42 312.305 Q2658.59 310.731 2658.59 307.814 Q2658.59 305.268 2657.02 303.833 Q2655.47 302.398 2651.9 301.68 L2649.05 301.125 Q2643.82 300.083 2641.48 297.861 Q2639.15 295.638 2639.15 291.68 Q2639.15 287.097 2642.36 284.458 Q2645.6 281.819 2651.28 281.819 Q2653.71 281.819 2656.23 282.259 Q2658.75 282.699 2661.39 283.578 Z\" fill=\"#000000\" fill-rule=\"evenodd\" fill-opacity=\"1\" /><path clip-path=\"url(#clip110)\" d=\"M 0 0 M2678.73 319.411 Q2676.92 324.041 2675.21 325.453 Q2673.5 326.865 2670.63 326.865 L2667.23 326.865 L2667.23 323.3 L2669.73 323.3 Q2671.48 323.3 2672.46 322.467 Q2673.43 321.634 2674.61 318.532 L2675.37 316.587 L2664.89 291.078 L2669.4 291.078 L2677.5 311.356 L2685.6 291.078 L2690.12 291.078 L2678.73 319.411 Z\" fill=\"#000000\" fill-rule=\"evenodd\" fill-opacity=\"1\" /><path clip-path=\"url(#clip110)\" d=\"M 0 0 M2716.14 301.356 L2716.14 317.004 L2711.88 317.004 L2711.88 301.495 Q2711.88 297.814 2710.44 295.986 Q2709.01 294.157 2706.14 294.157 Q2702.69 294.157 2700.7 296.356 Q2698.71 298.555 2698.71 302.351 L2698.71 317.004 L2694.42 317.004 L2694.42 291.078 L2698.71 291.078 L2698.71 295.106 Q2700.23 292.768 2702.29 291.611 Q2704.38 290.453 2707.09 290.453 Q2711.55 290.453 2713.85 293.231 Q2716.14 295.986 2716.14 301.356 Z\" fill=\"#000000\" fill-rule=\"evenodd\" fill-opacity=\"1\" /><path clip-path=\"url(#clip110)\" d=\"M 0 0 M2724.82 283.717 L2724.82 291.078 L2733.59 291.078 L2733.59 294.388 L2724.82 294.388 L2724.82 308.462 Q2724.82 311.634 2725.67 312.537 Q2726.55 313.439 2729.22 313.439 L2733.59 313.439 L2733.59 317.004 L2729.22 317.004 Q2724.29 317.004 2722.41 315.175 Q2720.54 313.324 2720.54 308.462 L2720.54 294.388 L2717.41 294.388 L2717.41 291.078 L2720.54 291.078 L2720.54 283.717 L2724.82 283.717 Z\" fill=\"#000000\" fill-rule=\"evenodd\" fill-opacity=\"1\" /><path clip-path=\"url(#clip110)\" d=\"M 0 0 M2759.61 301.356 L2759.61 317.004 L2755.35 317.004 L2755.35 301.495 Q2755.35 297.814 2753.91 295.986 Q2752.48 294.157 2749.61 294.157 Q2746.16 294.157 2744.17 296.356 Q2742.18 298.555 2742.18 302.351 L2742.18 317.004 L2737.9 317.004 L2737.9 280.986 L2742.18 280.986 L2742.18 295.106 Q2743.71 292.768 2745.77 291.611 Q2747.85 290.453 2750.56 290.453 Q2755.03 290.453 2757.32 293.231 Q2759.61 295.986 2759.61 301.356 Z\" fill=\"#000000\" fill-rule=\"evenodd\" fill-opacity=\"1\" /><path clip-path=\"url(#clip110)\" d=\"M 0 0 M2786.25 302.976 L2786.25 305.06 L2766.67 305.06 Q2766.95 309.458 2769.31 311.773 Q2771.69 314.064 2775.93 314.064 Q2778.38 314.064 2780.67 313.462 Q2782.99 312.861 2785.26 311.657 L2785.26 315.685 Q2782.97 316.657 2780.56 317.166 Q2778.15 317.675 2775.67 317.675 Q2769.47 317.675 2765.84 314.064 Q2762.22 310.453 2762.22 304.296 Q2762.22 297.93 2765.65 294.203 Q2769.1 290.453 2774.93 290.453 Q2780.16 290.453 2783.2 293.833 Q2786.25 297.189 2786.25 302.976 M2781.99 301.726 Q2781.95 298.231 2780.03 296.148 Q2778.13 294.064 2774.98 294.064 Q2771.41 294.064 2769.26 296.078 Q2767.13 298.092 2766.81 301.75 L2781.99 301.726 Z\" fill=\"#000000\" fill-rule=\"evenodd\" fill-opacity=\"1\" /><path clip-path=\"url(#clip110)\" d=\"M 0 0 M2794.93 283.717 L2794.93 291.078 L2803.71 291.078 L2803.71 294.388 L2794.93 294.388 L2794.93 308.462 Q2794.93 311.634 2795.79 312.537 Q2796.67 313.439 2799.33 313.439 L2803.71 313.439 L2803.71 317.004 L2799.33 317.004 Q2794.4 317.004 2792.53 315.175 Q2790.65 313.324 2790.65 308.462 L2790.65 294.388 L2787.53 294.388 L2787.53 291.078 L2790.65 291.078 L2790.65 283.717 L2794.93 283.717 Z\" fill=\"#000000\" fill-rule=\"evenodd\" fill-opacity=\"1\" /><path clip-path=\"url(#clip110)\" d=\"M 0 0 M2808.17 291.078 L2812.43 291.078 L2812.43 317.004 L2808.17 317.004 L2808.17 291.078 M2808.17 280.986 L2812.43 280.986 L2812.43 286.379 L2808.17 286.379 L2808.17 280.986 Z\" fill=\"#000000\" fill-rule=\"evenodd\" fill-opacity=\"1\" /><path clip-path=\"url(#clip110)\" d=\"M 0 0 M2835.56 292.074 L2835.56 296.055 Q2833.75 295.06 2831.92 294.574 Q2830.12 294.064 2828.27 294.064 Q2824.12 294.064 2821.83 296.703 Q2819.54 299.319 2819.54 304.064 Q2819.54 308.81 2821.83 311.449 Q2824.12 314.064 2828.27 314.064 Q2830.12 314.064 2831.92 313.578 Q2833.75 313.069 2835.56 312.074 L2835.56 316.009 Q2833.78 316.842 2831.85 317.259 Q2829.96 317.675 2827.8 317.675 Q2821.95 317.675 2818.5 313.995 Q2815.05 310.314 2815.05 304.064 Q2815.05 297.722 2818.52 294.088 Q2822.02 290.453 2828.08 290.453 Q2830.05 290.453 2831.92 290.87 Q2833.8 291.263 2835.56 292.074 Z\" fill=\"#000000\" fill-rule=\"evenodd\" fill-opacity=\"1\" /><path clip-path=\"url(#clip110)\" d=\"M2527.15 334.604 L2501.55 360.204 L2527.15 385.804 L2552.75 360.204 L2527.15 334.604 Z\" fill=\"#ffd700\" fill-rule=\"evenodd\" fill-opacity=\"0.5\" stroke=\"#000000\" stroke-opacity=\"0.5\" stroke-width=\"10.24\"/>\n",
       "<path clip-path=\"url(#clip110)\" d=\"M 0 0 M2643.82 346.767 L2643.82 373.642 L2649.47 373.642 Q2656.62 373.642 2659.93 370.401 Q2663.27 367.16 2663.27 360.169 Q2663.27 353.225 2659.93 350.007 Q2656.62 346.767 2649.47 346.767 L2643.82 346.767 M2639.15 342.924 L2648.75 342.924 Q2658.8 342.924 2663.5 347.114 Q2668.2 351.281 2668.2 360.169 Q2668.2 369.105 2663.48 373.294 Q2658.75 377.484 2648.75 377.484 L2639.15 377.484 L2639.15 342.924 Z\" fill=\"#000000\" fill-rule=\"evenodd\" fill-opacity=\"1\" /><path clip-path=\"url(#clip110)\" d=\"M 0 0 M2682.71 354.544 Q2679.29 354.544 2677.29 357.23 Q2675.3 359.892 2675.3 364.544 Q2675.3 369.197 2677.27 371.882 Q2679.26 374.544 2682.71 374.544 Q2686.11 374.544 2688.1 371.859 Q2690.1 369.174 2690.1 364.544 Q2690.1 359.938 2688.1 357.253 Q2686.11 354.544 2682.71 354.544 M2682.71 350.933 Q2688.27 350.933 2691.44 354.544 Q2694.61 358.155 2694.61 364.544 Q2694.61 370.91 2691.44 374.544 Q2688.27 378.155 2682.71 378.155 Q2677.13 378.155 2673.96 374.544 Q2670.81 370.91 2670.81 364.544 Q2670.81 358.155 2673.96 354.544 Q2677.13 350.933 2682.71 350.933 Z\" fill=\"#000000\" fill-rule=\"evenodd\" fill-opacity=\"1\" /><path clip-path=\"url(#clip110)\" d=\"M 0 0 M2698.64 367.253 L2698.64 351.558 L2702.9 351.558 L2702.9 367.091 Q2702.9 370.771 2704.33 372.623 Q2705.77 374.452 2708.64 374.452 Q2712.09 374.452 2714.08 372.253 Q2716.09 370.054 2716.09 366.257 L2716.09 351.558 L2720.35 351.558 L2720.35 377.484 L2716.09 377.484 L2716.09 373.503 Q2714.54 375.864 2712.48 377.021 Q2710.44 378.155 2707.73 378.155 Q2703.27 378.155 2700.95 375.378 Q2698.64 372.6 2698.64 367.253 M2709.35 350.933 L2709.35 350.933 Z\" fill=\"#000000\" fill-rule=\"evenodd\" fill-opacity=\"1\" /><path clip-path=\"url(#clip110)\" d=\"M 0 0 M2743.43 364.544 Q2743.43 359.845 2741.48 357.183 Q2739.56 354.498 2736.18 354.498 Q2732.8 354.498 2730.86 357.183 Q2728.94 359.845 2728.94 364.544 Q2728.94 369.243 2730.86 371.929 Q2732.8 374.591 2736.18 374.591 Q2739.56 374.591 2741.48 371.929 Q2743.43 369.243 2743.43 364.544 M2728.94 355.493 Q2730.28 353.179 2732.32 352.068 Q2734.38 350.933 2737.22 350.933 Q2741.95 350.933 2744.89 354.683 Q2747.85 358.433 2747.85 364.544 Q2747.85 370.655 2744.89 374.405 Q2741.95 378.155 2737.22 378.155 Q2734.38 378.155 2732.32 377.044 Q2730.28 375.91 2728.94 373.595 L2728.94 377.484 L2724.66 377.484 L2724.66 341.466 L2728.94 341.466 L2728.94 355.493 Z\" fill=\"#000000\" fill-rule=\"evenodd\" fill-opacity=\"1\" /><path clip-path=\"url(#clip110)\" d=\"M 0 0 M2752.32 341.466 L2756.58 341.466 L2756.58 377.484 L2752.32 377.484 L2752.32 341.466 Z\" fill=\"#000000\" fill-rule=\"evenodd\" fill-opacity=\"1\" /><path clip-path=\"url(#clip110)\" d=\"M 0 0 M2783.22 363.456 L2783.22 365.54 L2763.64 365.54 Q2763.91 369.938 2766.28 372.253 Q2768.66 374.544 2772.9 374.544 Q2775.35 374.544 2777.64 373.942 Q2779.96 373.341 2782.22 372.137 L2782.22 376.165 Q2779.93 377.137 2777.53 377.646 Q2775.12 378.155 2772.64 378.155 Q2766.44 378.155 2762.8 374.544 Q2759.19 370.933 2759.19 364.776 Q2759.19 358.41 2762.62 354.683 Q2766.07 350.933 2771.9 350.933 Q2777.13 350.933 2780.16 354.313 Q2783.22 357.669 2783.22 363.456 M2778.96 362.206 Q2778.91 358.711 2776.99 356.628 Q2775.1 354.544 2771.95 354.544 Q2768.38 354.544 2766.23 356.558 Q2764.1 358.572 2763.78 362.23 L2778.96 362.206 Z\" fill=\"#000000\" fill-rule=\"evenodd\" fill-opacity=\"1\" /><path clip-path=\"url(#clip110)\" d=\"M 0 0 M2819.28 352.322 L2819.28 356.35 Q2817.48 355.424 2815.53 354.961 Q2813.59 354.498 2811.51 354.498 Q2808.34 354.498 2806.74 355.47 Q2805.16 356.443 2805.16 358.387 Q2805.16 359.868 2806.3 360.725 Q2807.43 361.558 2810.86 362.322 L2812.32 362.646 Q2816.85 363.618 2818.75 365.401 Q2820.67 367.16 2820.67 370.331 Q2820.67 373.942 2817.8 376.049 Q2814.96 378.155 2809.96 378.155 Q2807.87 378.155 2805.6 377.739 Q2803.36 377.345 2800.86 376.535 L2800.86 372.137 Q2803.22 373.364 2805.51 373.989 Q2807.8 374.591 2810.05 374.591 Q2813.06 374.591 2814.68 373.572 Q2816.3 372.53 2816.3 370.655 Q2816.3 368.919 2815.12 367.993 Q2813.96 367.067 2810 366.211 L2808.52 365.864 Q2804.56 365.03 2802.8 363.318 Q2801.04 361.581 2801.04 358.572 Q2801.04 354.915 2803.64 352.924 Q2806.23 350.933 2811 350.933 Q2813.36 350.933 2815.44 351.281 Q2817.53 351.628 2819.28 352.322 Z\" fill=\"#000000\" fill-rule=\"evenodd\" fill-opacity=\"1\" /><path clip-path=\"url(#clip110)\" d=\"M 0 0 M2835.93 379.891 Q2834.12 384.521 2832.41 385.933 Q2830.7 387.345 2827.83 387.345 L2824.42 387.345 L2824.42 383.78 L2826.92 383.78 Q2828.68 383.78 2829.65 382.947 Q2830.63 382.114 2831.81 379.012 L2832.57 377.067 L2822.09 351.558 L2826.6 351.558 L2834.7 371.836 L2842.8 351.558 L2847.32 351.558 L2835.93 379.891 Z\" fill=\"#000000\" fill-rule=\"evenodd\" fill-opacity=\"1\" /><path clip-path=\"url(#clip110)\" d=\"M 0 0 M2873.34 361.836 L2873.34 377.484 L2869.08 377.484 L2869.08 361.975 Q2869.08 358.294 2867.64 356.466 Q2866.21 354.637 2863.34 354.637 Q2859.89 354.637 2857.9 356.836 Q2855.9 359.035 2855.9 362.831 L2855.9 377.484 L2851.62 377.484 L2851.62 351.558 L2855.9 351.558 L2855.9 355.586 Q2857.43 353.248 2859.49 352.091 Q2861.58 350.933 2864.28 350.933 Q2868.75 350.933 2871.04 353.711 Q2873.34 356.466 2873.34 361.836 Z\" fill=\"#000000\" fill-rule=\"evenodd\" fill-opacity=\"1\" /><path clip-path=\"url(#clip110)\" d=\"M 0 0 M2882.02 344.197 L2882.02 351.558 L2890.79 351.558 L2890.79 354.868 L2882.02 354.868 L2882.02 368.942 Q2882.02 372.114 2882.87 373.017 Q2883.75 373.919 2886.41 373.919 L2890.79 373.919 L2890.79 377.484 L2886.41 377.484 Q2881.48 377.484 2879.61 375.655 Q2877.73 373.804 2877.73 368.942 L2877.73 354.868 L2874.61 354.868 L2874.61 351.558 L2877.73 351.558 L2877.73 344.197 L2882.02 344.197 Z\" fill=\"#000000\" fill-rule=\"evenodd\" fill-opacity=\"1\" /><path clip-path=\"url(#clip110)\" d=\"M 0 0 M2916.81 361.836 L2916.81 377.484 L2912.55 377.484 L2912.55 361.975 Q2912.55 358.294 2911.11 356.466 Q2909.68 354.637 2906.81 354.637 Q2903.36 354.637 2901.37 356.836 Q2899.38 359.035 2899.38 362.831 L2899.38 377.484 L2895.09 377.484 L2895.09 341.466 L2899.38 341.466 L2899.38 355.586 Q2900.9 353.248 2902.96 352.091 Q2905.05 350.933 2907.76 350.933 Q2912.22 350.933 2914.52 353.711 Q2916.81 356.466 2916.81 361.836 Z\" fill=\"#000000\" fill-rule=\"evenodd\" fill-opacity=\"1\" /><path clip-path=\"url(#clip110)\" d=\"M 0 0 M2943.45 363.456 L2943.45 365.54 L2923.87 365.54 Q2924.15 369.938 2926.51 372.253 Q2928.89 374.544 2933.13 374.544 Q2935.58 374.544 2937.87 373.942 Q2940.19 373.341 2942.46 372.137 L2942.46 376.165 Q2940.16 377.137 2937.76 377.646 Q2935.35 378.155 2932.87 378.155 Q2926.67 378.155 2923.03 374.544 Q2919.42 370.933 2919.42 364.776 Q2919.42 358.41 2922.85 354.683 Q2926.3 350.933 2932.13 350.933 Q2937.36 350.933 2940.4 354.313 Q2943.45 357.669 2943.45 363.456 M2939.19 362.206 Q2939.15 358.711 2937.22 356.628 Q2935.33 354.544 2932.18 354.544 Q2928.61 354.544 2926.46 356.558 Q2924.33 358.572 2924.01 362.23 L2939.19 362.206 Z\" fill=\"#000000\" fill-rule=\"evenodd\" fill-opacity=\"1\" /><path clip-path=\"url(#clip110)\" d=\"M 0 0 M2952.13 344.197 L2952.13 351.558 L2960.9 351.558 L2960.9 354.868 L2952.13 354.868 L2952.13 368.942 Q2952.13 372.114 2952.99 373.017 Q2953.87 373.919 2956.53 373.919 L2960.9 373.919 L2960.9 377.484 L2956.53 377.484 Q2951.6 377.484 2949.72 375.655 Q2947.85 373.804 2947.85 368.942 L2947.85 354.868 L2944.72 354.868 L2944.72 351.558 L2947.85 351.558 L2947.85 344.197 L2952.13 344.197 Z\" fill=\"#000000\" fill-rule=\"evenodd\" fill-opacity=\"1\" /><path clip-path=\"url(#clip110)\" d=\"M 0 0 M2965.37 351.558 L2969.63 351.558 L2969.63 377.484 L2965.37 377.484 L2965.37 351.558 M2965.37 341.466 L2969.63 341.466 L2969.63 346.859 L2965.37 346.859 L2965.37 341.466 Z\" fill=\"#000000\" fill-rule=\"evenodd\" fill-opacity=\"1\" /><path clip-path=\"url(#clip110)\" d=\"M 0 0 M2992.76 352.554 L2992.76 356.535 Q2990.95 355.54 2989.12 355.054 Q2987.32 354.544 2985.46 354.544 Q2981.32 354.544 2979.03 357.183 Q2976.74 359.799 2976.74 364.544 Q2976.74 369.29 2979.03 371.929 Q2981.32 374.544 2985.46 374.544 Q2987.32 374.544 2989.12 374.058 Q2990.95 373.549 2992.76 372.554 L2992.76 376.489 Q2990.97 377.322 2989.05 377.739 Q2987.15 378.155 2985 378.155 Q2979.14 378.155 2975.7 374.475 Q2972.25 370.794 2972.25 364.544 Q2972.25 358.202 2975.72 354.568 Q2979.21 350.933 2985.28 350.933 Q2987.25 350.933 2989.12 351.35 Q2991 351.743 2992.76 352.554 Z\" fill=\"#000000\" fill-rule=\"evenodd\" fill-opacity=\"1\" /><path clip-path=\"url(#clip110)\" d=\"M2527.15 395.084 L2521.13 412.39 L2502.8 412.774 L2517.42 423.858 L2512.09 441.394 L2527.15 430.924 L2542.2 441.394 L2536.87 423.858 L2551.49 412.774 L2533.16 412.39 L2527.15 395.084 Z\" fill=\"#008000\" fill-rule=\"evenodd\" fill-opacity=\"0.5\" stroke=\"#000000\" stroke-opacity=\"0.5\" stroke-width=\"10.24\"/>\n",
       "<path clip-path=\"url(#clip110)\" d=\"M 0 0 M2639.15 403.404 L2668.38 403.404 L2668.38 407.339 L2656.11 407.339 L2656.11 437.964 L2651.42 437.964 L2651.42 407.339 L2639.15 407.339 L2639.15 403.404 Z\" fill=\"#000000\" fill-rule=\"evenodd\" fill-opacity=\"1\" /><path clip-path=\"url(#clip110)\" d=\"M 0 0 M2680.91 416.02 Q2680.19 415.603 2679.33 415.418 Q2678.5 415.21 2677.48 415.21 Q2673.87 415.21 2671.92 417.571 Q2670 419.909 2670 424.307 L2670 437.964 L2665.72 437.964 L2665.72 412.038 L2670 412.038 L2670 416.066 Q2671.35 413.705 2673.5 412.571 Q2675.65 411.413 2678.73 411.413 Q2679.17 411.413 2679.7 411.483 Q2680.23 411.529 2680.88 411.645 L2680.91 416.02 Z\" fill=\"#000000\" fill-rule=\"evenodd\" fill-opacity=\"1\" /><path clip-path=\"url(#clip110)\" d=\"M 0 0 M2685.37 412.038 L2689.63 412.038 L2689.63 437.964 L2685.37 437.964 L2685.37 412.038 M2685.37 401.946 L2689.63 401.946 L2689.63 407.339 L2685.37 407.339 L2685.37 401.946 Z\" fill=\"#000000\" fill-rule=\"evenodd\" fill-opacity=\"1\" /><path clip-path=\"url(#clip110)\" d=\"M 0 0 M2698.22 434.075 L2698.22 447.825 L2693.94 447.825 L2693.94 412.038 L2698.22 412.038 L2698.22 415.973 Q2699.56 413.659 2701.6 412.548 Q2703.66 411.413 2706.51 411.413 Q2711.23 411.413 2714.17 415.163 Q2717.13 418.913 2717.13 425.024 Q2717.13 431.135 2714.17 434.885 Q2711.23 438.635 2706.51 438.635 Q2703.66 438.635 2701.6 437.524 Q2699.56 436.39 2698.22 434.075 M2712.71 425.024 Q2712.71 420.325 2710.77 417.663 Q2708.85 414.978 2705.47 414.978 Q2702.09 414.978 2700.14 417.663 Q2698.22 420.325 2698.22 425.024 Q2698.22 429.723 2700.14 432.409 Q2702.09 435.071 2705.47 435.071 Q2708.85 435.071 2710.77 432.409 Q2712.71 429.723 2712.71 425.024 Z\" fill=\"#000000\" fill-rule=\"evenodd\" fill-opacity=\"1\" /><path clip-path=\"url(#clip110)\" d=\"M 0 0 M2721.6 401.946 L2725.86 401.946 L2725.86 437.964 L2721.6 437.964 L2721.6 401.946 Z\" fill=\"#000000\" fill-rule=\"evenodd\" fill-opacity=\"1\" /><path clip-path=\"url(#clip110)\" d=\"M 0 0 M2752.5 423.936 L2752.5 426.02 L2732.92 426.02 Q2733.2 430.418 2735.56 432.733 Q2737.94 435.024 2742.18 435.024 Q2744.63 435.024 2746.92 434.422 Q2749.24 433.821 2751.51 432.617 L2751.51 436.645 Q2749.22 437.617 2746.81 438.126 Q2744.4 438.635 2741.92 438.635 Q2735.72 438.635 2732.09 435.024 Q2728.47 431.413 2728.47 425.256 Q2728.47 418.89 2731.9 415.163 Q2735.35 411.413 2741.18 411.413 Q2746.41 411.413 2749.45 414.793 Q2752.5 418.149 2752.5 423.936 M2748.24 422.686 Q2748.2 419.191 2746.28 417.108 Q2744.38 415.024 2741.23 415.024 Q2737.66 415.024 2735.51 417.038 Q2733.38 419.052 2733.06 422.71 L2748.24 422.686 Z\" fill=\"#000000\" fill-rule=\"evenodd\" fill-opacity=\"1\" /><path clip-path=\"url(#clip110)\" d=\"M 0 0 M2788.57 412.802 L2788.57 416.83 Q2786.76 415.904 2784.82 415.441 Q2782.87 414.978 2780.79 414.978 Q2777.62 414.978 2776.02 415.95 Q2774.45 416.923 2774.45 418.867 Q2774.45 420.348 2775.58 421.205 Q2776.72 422.038 2780.14 422.802 L2781.6 423.126 Q2786.14 424.098 2788.03 425.881 Q2789.96 427.64 2789.96 430.811 Q2789.96 434.422 2787.09 436.529 Q2784.24 438.635 2779.24 438.635 Q2777.16 438.635 2774.89 438.219 Q2772.64 437.825 2770.14 437.015 L2770.14 432.617 Q2772.5 433.844 2774.79 434.469 Q2777.09 435.071 2779.33 435.071 Q2782.34 435.071 2783.96 434.052 Q2785.58 433.01 2785.58 431.135 Q2785.58 429.399 2784.4 428.473 Q2783.24 427.547 2779.28 426.691 L2777.8 426.344 Q2773.85 425.51 2772.09 423.798 Q2770.33 422.061 2770.33 419.052 Q2770.33 415.395 2772.92 413.404 Q2775.51 411.413 2780.28 411.413 Q2782.64 411.413 2784.72 411.761 Q2786.81 412.108 2788.57 412.802 Z\" fill=\"#000000\" fill-rule=\"evenodd\" fill-opacity=\"1\" /><path clip-path=\"url(#clip110)\" d=\"M 0 0 M2805.21 440.371 Q2803.41 445.001 2801.69 446.413 Q2799.98 447.825 2797.11 447.825 L2793.71 447.825 L2793.71 444.26 L2796.21 444.26 Q2797.97 444.26 2798.94 443.427 Q2799.91 442.594 2801.09 439.492 L2801.85 437.547 L2791.37 412.038 L2795.88 412.038 L2803.98 432.316 L2812.09 412.038 L2816.6 412.038 L2805.21 440.371 Z\" fill=\"#000000\" fill-rule=\"evenodd\" fill-opacity=\"1\" /><path clip-path=\"url(#clip110)\" d=\"M 0 0 M2842.62 422.316 L2842.62 437.964 L2838.36 437.964 L2838.36 422.455 Q2838.36 418.774 2836.92 416.946 Q2835.49 415.117 2832.62 415.117 Q2829.17 415.117 2827.18 417.316 Q2825.19 419.515 2825.19 423.311 L2825.19 437.964 L2820.9 437.964 L2820.9 412.038 L2825.19 412.038 L2825.19 416.066 Q2826.72 413.728 2828.78 412.571 Q2830.86 411.413 2833.57 411.413 Q2838.03 411.413 2840.33 414.191 Q2842.62 416.946 2842.62 422.316 Z\" fill=\"#000000\" fill-rule=\"evenodd\" fill-opacity=\"1\" /><path clip-path=\"url(#clip110)\" d=\"M 0 0 M2851.3 404.677 L2851.3 412.038 L2860.07 412.038 L2860.07 415.348 L2851.3 415.348 L2851.3 429.422 Q2851.3 432.594 2852.15 433.497 Q2853.03 434.399 2855.7 434.399 L2860.07 434.399 L2860.07 437.964 L2855.7 437.964 Q2850.77 437.964 2848.89 436.135 Q2847.02 434.284 2847.02 429.422 L2847.02 415.348 L2843.89 415.348 L2843.89 412.038 L2847.02 412.038 L2847.02 404.677 L2851.3 404.677 Z\" fill=\"#000000\" fill-rule=\"evenodd\" fill-opacity=\"1\" /><path clip-path=\"url(#clip110)\" d=\"M 0 0 M2886.09 422.316 L2886.09 437.964 L2881.83 437.964 L2881.83 422.455 Q2881.83 418.774 2880.4 416.946 Q2878.96 415.117 2876.09 415.117 Q2872.64 415.117 2870.65 417.316 Q2868.66 419.515 2868.66 423.311 L2868.66 437.964 L2864.38 437.964 L2864.38 401.946 L2868.66 401.946 L2868.66 416.066 Q2870.19 413.728 2872.25 412.571 Q2874.33 411.413 2877.04 411.413 Q2881.51 411.413 2883.8 414.191 Q2886.09 416.946 2886.09 422.316 Z\" fill=\"#000000\" fill-rule=\"evenodd\" fill-opacity=\"1\" /><path clip-path=\"url(#clip110)\" d=\"M 0 0 M2912.73 423.936 L2912.73 426.02 L2893.15 426.02 Q2893.43 430.418 2895.79 432.733 Q2898.17 435.024 2902.41 435.024 Q2904.86 435.024 2907.15 434.422 Q2909.47 433.821 2911.74 432.617 L2911.74 436.645 Q2909.45 437.617 2907.04 438.126 Q2904.63 438.635 2902.15 438.635 Q2895.95 438.635 2892.32 435.024 Q2888.71 431.413 2888.71 425.256 Q2888.71 418.89 2892.13 415.163 Q2895.58 411.413 2901.41 411.413 Q2906.65 411.413 2909.68 414.793 Q2912.73 418.149 2912.73 423.936 M2908.47 422.686 Q2908.43 419.191 2906.51 417.108 Q2904.61 415.024 2901.46 415.024 Q2897.9 415.024 2895.74 417.038 Q2893.61 419.052 2893.29 422.71 L2908.47 422.686 Z\" fill=\"#000000\" fill-rule=\"evenodd\" fill-opacity=\"1\" /><path clip-path=\"url(#clip110)\" d=\"M 0 0 M2921.41 404.677 L2921.41 412.038 L2930.19 412.038 L2930.19 415.348 L2921.41 415.348 L2921.41 429.422 Q2921.41 432.594 2922.27 433.497 Q2923.15 434.399 2925.81 434.399 L2930.19 434.399 L2930.19 437.964 L2925.81 437.964 Q2920.88 437.964 2919.01 436.135 Q2917.13 434.284 2917.13 429.422 L2917.13 415.348 L2914.01 415.348 L2914.01 412.038 L2917.13 412.038 L2917.13 404.677 L2921.41 404.677 Z\" fill=\"#000000\" fill-rule=\"evenodd\" fill-opacity=\"1\" /><path clip-path=\"url(#clip110)\" d=\"M 0 0 M2934.65 412.038 L2938.91 412.038 L2938.91 437.964 L2934.65 437.964 L2934.65 412.038 M2934.65 401.946 L2938.91 401.946 L2938.91 407.339 L2934.65 407.339 L2934.65 401.946 Z\" fill=\"#000000\" fill-rule=\"evenodd\" fill-opacity=\"1\" /><path clip-path=\"url(#clip110)\" d=\"M 0 0 M2962.04 413.034 L2962.04 417.015 Q2960.23 416.02 2958.4 415.534 Q2956.6 415.024 2954.75 415.024 Q2950.6 415.024 2948.31 417.663 Q2946.02 420.279 2946.02 425.024 Q2946.02 429.77 2948.31 432.409 Q2950.6 435.024 2954.75 435.024 Q2956.6 435.024 2958.4 434.538 Q2960.23 434.029 2962.04 433.034 L2962.04 436.969 Q2960.26 437.802 2958.33 438.219 Q2956.44 438.635 2954.28 438.635 Q2948.43 438.635 2944.98 434.955 Q2941.53 431.274 2941.53 425.024 Q2941.53 418.682 2945 415.048 Q2948.5 411.413 2954.56 411.413 Q2956.53 411.413 2958.4 411.83 Q2960.28 412.223 2962.04 413.034 Z\" fill=\"#000000\" fill-rule=\"evenodd\" fill-opacity=\"1\" /></svg>\n"
      ]
     },
     "execution_count": 55,
     "metadata": {},
     "output_type": "execute_result"
    }
   ],
   "source": [
    "# ╔═╡ 2d157e77-9cb9-49a7-b868-b3e2c8598e8c\n",
    "let\n",
    "\t# Start a new empty canvas:\n",
    "\tplot(size=(800, 800 ))\n",
    "\t\n",
    "\tfor (i, data) in enumerate(coords_datasets)\n",
    "\t\tif show_dataset[i] == true\n",
    "\t\t\t# Scatter the data:\n",
    "\t\t\tscatter!(\n",
    "\t\t\t\tdata[1, :],\n",
    "\t\t\t\tdata[2, :],\n",
    "\t\t\t\tlabel=labels[i],\n",
    "\t\t\t\tmarkercolor=colours[i],\n",
    "\t\t\t\tmarkershape=markers[i],\n",
    "\t\t\t\tlinecolor=:black,\n",
    "\t\t\t\tmarkeralpha=0.5\n",
    "\t\t\t\t)\n",
    "\n",
    "\n",
    "\t\t\tif (show_connecting_lines == true) & (i > 1) \n",
    "\t\t\t\t# Need this condition separately or it'll try to access\n",
    "\t\t\t\t# show_dataset[0] which doesn't exist with 1-indexing.\n",
    "\t\t\t\tif show_dataset[i - 1] == true\n",
    "\t\t\t\t\t# Plot lines between each synthetic point\n",
    "\t\t\t\t\t# and the real point it came from.\n",
    "\t\t\t\t\tfor (j, x) in enumerate(data[1, :])\n",
    "\t\t\t\t\t\tplot!(\n",
    "\t\t\t\t\t\t\t[coords_base_data[i-1][1, j], data[1, j]],\n",
    "\t\t\t\t\t\t\t[coords_base_data[i-1][2, j], data[2, j]],\n",
    "\t\t\t\t\t\t\tlinecolor=:black,\n",
    "\t\t\t\t\t\t\tlinealpha=0.1,\n",
    "\t\t\t\t\t\t\tlabel=\"\"\n",
    "\t\t\t\t\t\t)\n",
    "\t\t\t\t\tend\n",
    "\t\t\t\tend\n",
    "\t\t\tend\n",
    "\t\t\t\n",
    "\t\tend\n",
    "\tend\n",
    "\t\n",
    "\tylabel!(\"y\")\n",
    "\txlabel!(\"x\")\n",
    "    \n",
    "end"
   ]
  },
  {
   "cell_type": "code",
   "execution_count": 56,
   "id": "d275135c",
   "metadata": {},
   "outputs": [
    {
     "data": {
      "text/latex": [
       "\\subsection{Histograms}\n"
      ],
      "text/markdown": [
       "## Histograms\n"
      ],
      "text/plain": [
       "\u001b[1m  Histograms\u001b[22m\n",
       "\u001b[1m  ============\u001b[22m"
      ]
     },
     "execution_count": 56,
     "metadata": {},
     "output_type": "execute_result"
    }
   ],
   "source": [
    "# ╔═╡ bff4ef55-ecd4-4406-a69b-fce9fcb79ffc\n",
    "md\"\"\"\n",
    "## Histograms\n",
    "\"\"\""
   ]
  },
  {
   "cell_type": "code",
   "execution_count": 57,
   "id": "ab6fe181",
   "metadata": {},
   "outputs": [
    {
     "data": {
      "text/latex": [
       "Define shared bins for the histrograms.\n",
       "\n"
      ],
      "text/markdown": [
       "Define shared bins for the histrograms.\n"
      ],
      "text/plain": [
       "  Define shared bins for the histrograms."
      ]
     },
     "execution_count": 57,
     "metadata": {},
     "output_type": "execute_result"
    }
   ],
   "source": [
    "# ╔═╡ 634eef0e-fc61-44ac-bbe4-86129c0f76dd\n",
    "md\"\"\"Define shared bins for the histrograms.\"\"\""
   ]
  },
  {
   "cell_type": "code",
   "execution_count": 58,
   "id": "0eb006b8",
   "metadata": {},
   "outputs": [
    {
     "data": {
      "text/plain": [
       "30-element LinRange{Float64, Int64}:\n",
       " 0.0,0.0644661,0.128932,0.193398,0.257864,…,1.67612,1.74059,1.80505,1.86952"
      ]
     },
     "execution_count": 58,
     "metadata": {},
     "output_type": "execute_result"
    }
   ],
   "source": [
    "# ╔═╡ 20e362ac-aaad-4550-b132-aeed5e0e7041\n",
    "begin\n",
    "\t# Maximum distance in each data set:\n",
    "\tmax_dists = [maximum(dists) for dists in dists_datasets]\n",
    "\tbin_max = maximum([maximum(dists) for dists in max_dists])\n",
    "\tstep = 0.05\n",
    "\t# bins = range(0.0, stop=bin_max + step, step=step)\n",
    "\tbins = LinRange(0.0, bin_max, 30)  # Equivalent of linspace()\n",
    "end"
   ]
  },
  {
   "cell_type": "code",
   "execution_count": 59,
   "id": "0dcbffdf",
   "metadata": {},
   "outputs": [
    {
     "data": {
      "image/svg+xml": [
       "<?xml version=\"1.0\" encoding=\"utf-8\"?>\n",
       "<svg xmlns=\"http://www.w3.org/2000/svg\" xmlns:xlink=\"http://www.w3.org/1999/xlink\" width=\"600\" height=\"400\" viewBox=\"0 0 2400 1600\">\n",
       "<defs>\n",
       "  <clipPath id=\"clip150\">\n",
       "    <rect x=\"0\" y=\"0\" width=\"2400\" height=\"1600\"/>\n",
       "  </clipPath>\n",
       "</defs>\n",
       "<path clip-path=\"url(#clip150)\" d=\"\n",
       "M0 1600 L2400 1600 L2400 0 L0 0  Z\n",
       "  \" fill=\"#ffffff\" fill-rule=\"evenodd\" fill-opacity=\"1\"/>\n",
       "<defs>\n",
       "  <clipPath id=\"clip151\">\n",
       "    <rect x=\"480\" y=\"0\" width=\"1681\" height=\"1600\"/>\n",
       "  </clipPath>\n",
       "</defs>\n",
       "<path clip-path=\"url(#clip150)\" d=\"\n",
       "M175.445 1423.18 L2352.76 1423.18 L2352.76 47.2441 L175.445 47.2441  Z\n",
       "  \" fill=\"#ffffff\" fill-rule=\"evenodd\" fill-opacity=\"1\"/>\n",
       "<defs>\n",
       "  <clipPath id=\"clip152\">\n",
       "    <rect x=\"175\" y=\"47\" width=\"2178\" height=\"1377\"/>\n",
       "  </clipPath>\n",
       "</defs>\n",
       "<polyline clip-path=\"url(#clip152)\" style=\"stroke:#000000; stroke-width:2; stroke-opacity:0.1; fill:none\" points=\"\n",
       "  237.067,1423.18 237.067,47.2441 \n",
       "  \"/>\n",
       "<polyline clip-path=\"url(#clip152)\" style=\"stroke:#000000; stroke-width:2; stroke-opacity:0.1; fill:none\" points=\"\n",
       "  786.425,1423.18 786.425,47.2441 \n",
       "  \"/>\n",
       "<polyline clip-path=\"url(#clip152)\" style=\"stroke:#000000; stroke-width:2; stroke-opacity:0.1; fill:none\" points=\"\n",
       "  1335.78,1423.18 1335.78,47.2441 \n",
       "  \"/>\n",
       "<polyline clip-path=\"url(#clip152)\" style=\"stroke:#000000; stroke-width:2; stroke-opacity:0.1; fill:none\" points=\"\n",
       "  1885.14,1423.18 1885.14,47.2441 \n",
       "  \"/>\n",
       "<polyline clip-path=\"url(#clip152)\" style=\"stroke:#000000; stroke-width:2; stroke-opacity:0.1; fill:none\" points=\"\n",
       "  175.445,1423.18 2352.76,1423.18 \n",
       "  \"/>\n",
       "<polyline clip-path=\"url(#clip152)\" style=\"stroke:#000000; stroke-width:2; stroke-opacity:0.1; fill:none\" points=\"\n",
       "  175.445,1206.84 2352.76,1206.84 \n",
       "  \"/>\n",
       "<polyline clip-path=\"url(#clip152)\" style=\"stroke:#000000; stroke-width:2; stroke-opacity:0.1; fill:none\" points=\"\n",
       "  175.445,990.491 2352.76,990.491 \n",
       "  \"/>\n",
       "<polyline clip-path=\"url(#clip152)\" style=\"stroke:#000000; stroke-width:2; stroke-opacity:0.1; fill:none\" points=\"\n",
       "  175.445,774.146 2352.76,774.146 \n",
       "  \"/>\n",
       "<polyline clip-path=\"url(#clip152)\" style=\"stroke:#000000; stroke-width:2; stroke-opacity:0.1; fill:none\" points=\"\n",
       "  175.445,557.802 2352.76,557.802 \n",
       "  \"/>\n",
       "<polyline clip-path=\"url(#clip152)\" style=\"stroke:#000000; stroke-width:2; stroke-opacity:0.1; fill:none\" points=\"\n",
       "  175.445,341.457 2352.76,341.457 \n",
       "  \"/>\n",
       "<polyline clip-path=\"url(#clip152)\" style=\"stroke:#000000; stroke-width:2; stroke-opacity:0.1; fill:none\" points=\"\n",
       "  175.445,125.113 2352.76,125.113 \n",
       "  \"/>\n",
       "<polyline clip-path=\"url(#clip150)\" style=\"stroke:#000000; stroke-width:4; stroke-opacity:1; fill:none\" points=\"\n",
       "  175.445,1423.18 2352.76,1423.18 \n",
       "  \"/>\n",
       "<polyline clip-path=\"url(#clip150)\" style=\"stroke:#000000; stroke-width:4; stroke-opacity:1; fill:none\" points=\"\n",
       "  175.445,1423.18 175.445,47.2441 \n",
       "  \"/>\n",
       "<polyline clip-path=\"url(#clip150)\" style=\"stroke:#000000; stroke-width:4; stroke-opacity:1; fill:none\" points=\"\n",
       "  237.067,1423.18 237.067,1406.67 \n",
       "  \"/>\n",
       "<polyline clip-path=\"url(#clip150)\" style=\"stroke:#000000; stroke-width:4; stroke-opacity:1; fill:none\" points=\"\n",
       "  786.425,1423.18 786.425,1406.67 \n",
       "  \"/>\n",
       "<polyline clip-path=\"url(#clip150)\" style=\"stroke:#000000; stroke-width:4; stroke-opacity:1; fill:none\" points=\"\n",
       "  1335.78,1423.18 1335.78,1406.67 \n",
       "  \"/>\n",
       "<polyline clip-path=\"url(#clip150)\" style=\"stroke:#000000; stroke-width:4; stroke-opacity:1; fill:none\" points=\"\n",
       "  1885.14,1423.18 1885.14,1406.67 \n",
       "  \"/>\n",
       "<polyline clip-path=\"url(#clip150)\" style=\"stroke:#000000; stroke-width:4; stroke-opacity:1; fill:none\" points=\"\n",
       "  175.445,1423.18 201.573,1423.18 \n",
       "  \"/>\n",
       "<polyline clip-path=\"url(#clip150)\" style=\"stroke:#000000; stroke-width:4; stroke-opacity:1; fill:none\" points=\"\n",
       "  175.445,1206.84 201.573,1206.84 \n",
       "  \"/>\n",
       "<polyline clip-path=\"url(#clip150)\" style=\"stroke:#000000; stroke-width:4; stroke-opacity:1; fill:none\" points=\"\n",
       "  175.445,990.491 201.573,990.491 \n",
       "  \"/>\n",
       "<polyline clip-path=\"url(#clip150)\" style=\"stroke:#000000; stroke-width:4; stroke-opacity:1; fill:none\" points=\"\n",
       "  175.445,774.146 201.573,774.146 \n",
       "  \"/>\n",
       "<polyline clip-path=\"url(#clip150)\" style=\"stroke:#000000; stroke-width:4; stroke-opacity:1; fill:none\" points=\"\n",
       "  175.445,557.802 201.573,557.802 \n",
       "  \"/>\n",
       "<polyline clip-path=\"url(#clip150)\" style=\"stroke:#000000; stroke-width:4; stroke-opacity:1; fill:none\" points=\"\n",
       "  175.445,341.457 201.573,341.457 \n",
       "  \"/>\n",
       "<polyline clip-path=\"url(#clip150)\" style=\"stroke:#000000; stroke-width:4; stroke-opacity:1; fill:none\" points=\"\n",
       "  175.445,125.113 201.573,125.113 \n",
       "  \"/>\n",
       "<path clip-path=\"url(#clip150)\" d=\"M 0 0 M218.584 1445.17 Q214.972 1445.17 213.144 1448.74 Q211.338 1452.28 211.338 1459.41 Q211.338 1466.51 213.144 1470.08 Q214.972 1473.62 218.584 1473.62 Q222.218 1473.62 224.023 1470.08 Q225.852 1466.51 225.852 1459.41 Q225.852 1452.28 224.023 1448.74 Q222.218 1445.17 218.584 1445.17 M218.584 1441.47 Q224.394 1441.47 227.449 1446.07 Q230.528 1450.66 230.528 1459.41 Q230.528 1468.13 227.449 1472.74 Q224.394 1477.32 218.584 1477.32 Q212.773 1477.32 209.695 1472.74 Q206.639 1468.13 206.639 1459.41 Q206.639 1450.66 209.695 1446.07 Q212.773 1441.47 218.584 1441.47 Z\" fill=\"#000000\" fill-rule=\"evenodd\" fill-opacity=\"1\" /><path clip-path=\"url(#clip150)\" d=\"M 0 0 M235.597 1470.77 L240.482 1470.77 L240.482 1476.65 L235.597 1476.65 L235.597 1470.77 Z\" fill=\"#000000\" fill-rule=\"evenodd\" fill-opacity=\"1\" /><path clip-path=\"url(#clip150)\" d=\"M 0 0 M255.551 1445.17 Q251.94 1445.17 250.111 1448.74 Q248.306 1452.28 248.306 1459.41 Q248.306 1466.51 250.111 1470.08 Q251.94 1473.62 255.551 1473.62 Q259.185 1473.62 260.991 1470.08 Q262.819 1466.51 262.819 1459.41 Q262.819 1452.28 260.991 1448.74 Q259.185 1445.17 255.551 1445.17 M255.551 1441.47 Q261.361 1441.47 264.417 1446.07 Q267.495 1450.66 267.495 1459.41 Q267.495 1468.13 264.417 1472.74 Q261.361 1477.32 255.551 1477.32 Q249.741 1477.32 246.662 1472.74 Q243.607 1468.13 243.607 1459.41 Q243.607 1450.66 246.662 1446.07 Q249.741 1441.47 255.551 1441.47 Z\" fill=\"#000000\" fill-rule=\"evenodd\" fill-opacity=\"1\" /><path clip-path=\"url(#clip150)\" d=\"M 0 0 M768.439 1445.17 Q764.828 1445.17 762.999 1448.74 Q761.193 1452.28 761.193 1459.41 Q761.193 1466.51 762.999 1470.08 Q764.828 1473.62 768.439 1473.62 Q772.073 1473.62 773.878 1470.08 Q775.707 1466.51 775.707 1459.41 Q775.707 1452.28 773.878 1448.74 Q772.073 1445.17 768.439 1445.17 M768.439 1441.47 Q774.249 1441.47 777.304 1446.07 Q780.383 1450.66 780.383 1459.41 Q780.383 1468.13 777.304 1472.74 Q774.249 1477.32 768.439 1477.32 Q762.628 1477.32 759.55 1472.74 Q756.494 1468.13 756.494 1459.41 Q756.494 1450.66 759.55 1446.07 Q762.628 1441.47 768.439 1441.47 Z\" fill=\"#000000\" fill-rule=\"evenodd\" fill-opacity=\"1\" /><path clip-path=\"url(#clip150)\" d=\"M 0 0 M785.452 1470.77 L790.337 1470.77 L790.337 1476.65 L785.452 1476.65 L785.452 1470.77 Z\" fill=\"#000000\" fill-rule=\"evenodd\" fill-opacity=\"1\" /><path clip-path=\"url(#clip150)\" d=\"M 0 0 M795.452 1442.09 L813.809 1442.09 L813.809 1446.03 L799.735 1446.03 L799.735 1454.5 Q800.753 1454.15 801.772 1453.99 Q802.79 1453.8 803.809 1453.8 Q809.596 1453.8 812.975 1456.98 Q816.355 1460.15 816.355 1465.56 Q816.355 1471.14 812.883 1474.24 Q809.411 1477.32 803.091 1477.32 Q800.915 1477.32 798.647 1476.95 Q796.401 1476.58 793.994 1475.84 L793.994 1471.14 Q796.077 1472.28 798.3 1472.83 Q800.522 1473.39 802.999 1473.39 Q807.003 1473.39 809.341 1471.28 Q811.679 1469.18 811.679 1465.56 Q811.679 1461.95 809.341 1459.85 Q807.003 1457.74 802.999 1457.74 Q801.124 1457.74 799.249 1458.16 Q797.397 1458.57 795.452 1459.45 L795.452 1442.09 Z\" fill=\"#000000\" fill-rule=\"evenodd\" fill-opacity=\"1\" /><path clip-path=\"url(#clip150)\" d=\"M 0 0 M1307.68 1472.72 L1315.32 1472.72 L1315.32 1446.35 L1307.01 1448.02 L1307.01 1443.76 L1315.27 1442.09 L1319.95 1442.09 L1319.95 1472.72 L1327.59 1472.72 L1327.59 1476.65 L1307.68 1476.65 L1307.68 1472.72 Z\" fill=\"#000000\" fill-rule=\"evenodd\" fill-opacity=\"1\" /><path clip-path=\"url(#clip150)\" d=\"M 0 0 M1332.66 1470.77 L1337.54 1470.77 L1337.54 1476.65 L1332.66 1476.65 L1332.66 1470.77 Z\" fill=\"#000000\" fill-rule=\"evenodd\" fill-opacity=\"1\" /><path clip-path=\"url(#clip150)\" d=\"M 0 0 M1352.61 1445.17 Q1349 1445.17 1347.17 1448.74 Q1345.37 1452.28 1345.37 1459.41 Q1345.37 1466.51 1347.17 1470.08 Q1349 1473.62 1352.61 1473.62 Q1356.24 1473.62 1358.05 1470.08 Q1359.88 1466.51 1359.88 1459.41 Q1359.88 1452.28 1358.05 1448.74 Q1356.24 1445.17 1352.61 1445.17 M1352.61 1441.47 Q1358.42 1441.47 1361.48 1446.07 Q1364.56 1450.66 1364.56 1459.41 Q1364.56 1468.13 1361.48 1472.74 Q1358.42 1477.32 1352.61 1477.32 Q1346.8 1477.32 1343.72 1472.74 Q1340.67 1468.13 1340.67 1459.41 Q1340.67 1450.66 1343.72 1446.07 Q1346.8 1441.47 1352.61 1441.47 Z\" fill=\"#000000\" fill-rule=\"evenodd\" fill-opacity=\"1\" /><path clip-path=\"url(#clip150)\" d=\"M 0 0 M1857.54 1472.72 L1865.17 1472.72 L1865.17 1446.35 L1856.86 1448.02 L1856.86 1443.76 L1865.13 1442.09 L1869.8 1442.09 L1869.8 1472.72 L1877.44 1472.72 L1877.44 1476.65 L1857.54 1476.65 L1857.54 1472.72 Z\" fill=\"#000000\" fill-rule=\"evenodd\" fill-opacity=\"1\" /><path clip-path=\"url(#clip150)\" d=\"M 0 0 M1882.51 1470.77 L1887.4 1470.77 L1887.4 1476.65 L1882.51 1476.65 L1882.51 1470.77 Z\" fill=\"#000000\" fill-rule=\"evenodd\" fill-opacity=\"1\" /><path clip-path=\"url(#clip150)\" d=\"M 0 0 M1892.51 1442.09 L1910.87 1442.09 L1910.87 1446.03 L1896.79 1446.03 L1896.79 1454.5 Q1897.81 1454.15 1898.83 1453.99 Q1899.85 1453.8 1900.87 1453.8 Q1906.66 1453.8 1910.04 1456.98 Q1913.41 1460.15 1913.41 1465.56 Q1913.41 1471.14 1909.94 1474.24 Q1906.47 1477.32 1900.15 1477.32 Q1897.98 1477.32 1895.71 1476.95 Q1893.46 1476.58 1891.05 1475.84 L1891.05 1471.14 Q1893.14 1472.28 1895.36 1472.83 Q1897.58 1473.39 1900.06 1473.39 Q1904.06 1473.39 1906.4 1471.28 Q1908.74 1469.18 1908.74 1465.56 Q1908.74 1461.95 1906.4 1459.85 Q1904.06 1457.74 1900.06 1457.74 Q1898.18 1457.74 1896.31 1458.16 Q1894.46 1458.57 1892.51 1459.45 L1892.51 1442.09 Z\" fill=\"#000000\" fill-rule=\"evenodd\" fill-opacity=\"1\" /><path clip-path=\"url(#clip150)\" d=\"M 0 0 M139.501 1408.98 Q135.89 1408.98 134.061 1412.54 Q132.255 1416.08 132.255 1423.21 Q132.255 1430.32 134.061 1433.89 Q135.89 1437.43 139.501 1437.43 Q143.135 1437.43 144.941 1433.89 Q146.769 1430.32 146.769 1423.21 Q146.769 1416.08 144.941 1412.54 Q143.135 1408.98 139.501 1408.98 M139.501 1405.27 Q145.311 1405.27 148.367 1409.88 Q151.445 1414.46 151.445 1423.21 Q151.445 1431.94 148.367 1436.55 Q145.311 1441.13 139.501 1441.13 Q133.691 1441.13 130.612 1436.55 Q127.556 1431.94 127.556 1423.21 Q127.556 1414.46 130.612 1409.88 Q133.691 1405.27 139.501 1405.27 Z\" fill=\"#000000\" fill-rule=\"evenodd\" fill-opacity=\"1\" /><path clip-path=\"url(#clip150)\" d=\"M 0 0 M131.538 1220.18 L139.177 1220.18 L139.177 1193.81 L130.867 1195.48 L130.867 1191.22 L139.13 1189.56 L143.806 1189.56 L143.806 1220.18 L151.445 1220.18 L151.445 1224.12 L131.538 1224.12 L131.538 1220.18 Z\" fill=\"#000000\" fill-rule=\"evenodd\" fill-opacity=\"1\" /><path clip-path=\"url(#clip150)\" d=\"M 0 0 M135.126 1003.84 L151.445 1003.84 L151.445 1007.77 L129.501 1007.77 L129.501 1003.84 Q132.163 1001.08 136.746 996.451 Q141.353 991.799 142.533 990.456 Q144.779 987.933 145.658 986.197 Q146.561 984.438 146.561 982.748 Q146.561 979.993 144.617 978.257 Q142.695 976.521 139.593 976.521 Q137.394 976.521 134.941 977.285 Q132.51 978.049 129.732 979.6 L129.732 974.878 Q132.556 973.743 135.01 973.165 Q137.464 972.586 139.501 972.586 Q144.871 972.586 148.066 975.271 Q151.26 977.956 151.26 982.447 Q151.26 984.577 150.45 986.498 Q149.663 988.396 147.556 990.989 Q146.978 991.66 143.876 994.877 Q140.774 998.072 135.126 1003.84 Z\" fill=\"#000000\" fill-rule=\"evenodd\" fill-opacity=\"1\" /><path clip-path=\"url(#clip150)\" d=\"M 0 0 M144.316 772.792 Q147.672 773.51 149.547 775.778 Q151.445 778.047 151.445 781.38 Q151.445 786.496 147.927 789.297 Q144.408 792.098 137.927 792.098 Q135.751 792.098 133.436 791.658 Q131.144 791.241 128.691 790.385 L128.691 785.871 Q130.635 787.005 132.95 787.584 Q135.265 788.163 137.788 788.163 Q142.186 788.163 144.478 786.426 Q146.792 784.69 146.792 781.38 Q146.792 778.325 144.64 776.612 Q142.51 774.876 138.691 774.876 L134.663 774.876 L134.663 771.033 L138.876 771.033 Q142.325 771.033 144.154 769.667 Q145.982 768.278 145.982 765.686 Q145.982 763.024 144.084 761.612 Q142.209 760.177 138.691 760.177 Q136.769 760.177 134.57 760.593 Q132.371 761.01 129.732 761.89 L129.732 757.723 Q132.394 756.982 134.709 756.612 Q137.047 756.241 139.107 756.241 Q144.431 756.241 147.533 758.672 Q150.635 761.079 150.635 765.2 Q150.635 768.07 148.992 770.061 Q147.348 772.028 144.316 772.792 Z\" fill=\"#000000\" fill-rule=\"evenodd\" fill-opacity=\"1\" /><path clip-path=\"url(#clip150)\" d=\"M 0 0 M141.862 544.596 L130.056 563.045 L141.862 563.045 L141.862 544.596 M140.635 540.522 L146.515 540.522 L146.515 563.045 L151.445 563.045 L151.445 566.934 L146.515 566.934 L146.515 575.082 L141.862 575.082 L141.862 566.934 L126.26 566.934 L126.26 562.42 L140.635 540.522 Z\" fill=\"#000000\" fill-rule=\"evenodd\" fill-opacity=\"1\" /><path clip-path=\"url(#clip150)\" d=\"M 0 0 M130.543 324.177 L148.899 324.177 L148.899 328.113 L134.825 328.113 L134.825 336.585 Q135.843 336.238 136.862 336.076 Q137.88 335.89 138.899 335.89 Q144.686 335.89 148.066 339.062 Q151.445 342.233 151.445 347.65 Q151.445 353.228 147.973 356.33 Q144.501 359.409 138.181 359.409 Q136.005 359.409 133.737 359.038 Q131.492 358.668 129.084 357.927 L129.084 353.228 Q131.168 354.362 133.39 354.918 Q135.612 355.474 138.089 355.474 Q142.093 355.474 144.431 353.367 Q146.769 351.261 146.769 347.65 Q146.769 344.038 144.431 341.932 Q142.093 339.825 138.089 339.825 Q136.214 339.825 134.339 340.242 Q132.487 340.659 130.543 341.538 L130.543 324.177 Z\" fill=\"#000000\" fill-rule=\"evenodd\" fill-opacity=\"1\" /><path clip-path=\"url(#clip150)\" d=\"M 0 0 M139.917 123.25 Q136.769 123.25 134.918 125.402 Q133.089 127.555 133.089 131.305 Q133.089 135.032 134.918 137.208 Q136.769 139.361 139.917 139.361 Q143.066 139.361 144.894 137.208 Q146.746 135.032 146.746 131.305 Q146.746 127.555 144.894 125.402 Q143.066 123.25 139.917 123.25 M149.2 108.597 L149.2 112.856 Q147.441 112.023 145.635 111.583 Q143.853 111.143 142.093 111.143 Q137.464 111.143 135.01 114.268 Q132.58 117.393 132.232 123.712 Q133.598 121.699 135.658 120.634 Q137.718 119.546 140.195 119.546 Q145.404 119.546 148.413 122.717 Q151.445 125.865 151.445 131.305 Q151.445 136.629 148.297 139.847 Q145.149 143.064 139.917 143.064 Q133.922 143.064 130.751 138.481 Q127.58 133.874 127.58 125.148 Q127.58 116.953 131.468 112.092 Q135.357 107.208 141.908 107.208 Q143.667 107.208 145.45 107.555 Q147.255 107.902 149.2 108.597 Z\" fill=\"#000000\" fill-rule=\"evenodd\" fill-opacity=\"1\" /><path clip-path=\"url(#clip150)\" d=\"M 0 0 M829.418 1513.81 L829.418 1550.76 L837.184 1550.76 Q847.019 1550.76 851.571 1546.3 Q856.154 1541.85 856.154 1532.24 Q856.154 1522.69 851.571 1518.26 Q847.019 1513.81 837.184 1513.81 L829.418 1513.81 M822.989 1508.52 L836.198 1508.52 Q850.011 1508.52 856.473 1514.28 Q862.934 1520.01 862.934 1532.24 Q862.934 1544.52 856.441 1550.28 Q849.948 1556.04 836.198 1556.04 L822.989 1556.04 L822.989 1508.52 Z\" fill=\"#000000\" fill-rule=\"evenodd\" fill-opacity=\"1\" /><path clip-path=\"url(#clip150)\" d=\"M 0 0 M869.077 1520.4 L874.933 1520.4 L874.933 1556.04 L869.077 1556.04 L869.077 1520.4 M869.077 1506.52 L874.933 1506.52 L874.933 1513.93 L869.077 1513.93 L869.077 1506.52 Z\" fill=\"#000000\" fill-rule=\"evenodd\" fill-opacity=\"1\" /><path clip-path=\"url(#clip150)\" d=\"M 0 0 M903.802 1521.45 L903.802 1526.98 Q901.319 1525.71 898.645 1525.07 Q895.972 1524.44 893.107 1524.44 Q888.747 1524.44 886.55 1525.77 Q884.386 1527.11 884.386 1529.79 Q884.386 1531.82 885.946 1533 Q887.505 1534.15 892.216 1535.2 L894.221 1535.64 Q900.46 1536.98 903.07 1539.43 Q905.711 1541.85 905.711 1546.21 Q905.711 1551.17 901.765 1554.07 Q897.85 1556.97 890.975 1556.97 Q888.11 1556.97 884.991 1556.39 Q881.904 1555.85 878.466 1554.74 L878.466 1548.69 Q881.713 1550.38 884.864 1551.24 Q888.015 1552.07 891.102 1552.07 Q895.24 1552.07 897.468 1550.66 Q899.696 1549.23 899.696 1546.65 Q899.696 1544.27 898.072 1542.99 Q896.481 1541.72 891.038 1540.54 L889.001 1540.07 Q883.559 1538.92 881.14 1536.56 Q878.721 1534.18 878.721 1530.04 Q878.721 1525.01 882.285 1522.27 Q885.85 1519.54 892.407 1519.54 Q895.653 1519.54 898.518 1520.01 Q901.383 1520.49 903.802 1521.45 Z\" fill=\"#000000\" fill-rule=\"evenodd\" fill-opacity=\"1\" /><path clip-path=\"url(#clip150)\" d=\"M 0 0 M917.647 1510.27 L917.647 1520.4 L929.71 1520.4 L929.71 1524.95 L917.647 1524.95 L917.647 1544.3 Q917.647 1548.66 918.825 1549.9 Q920.034 1551.14 923.694 1551.14 L929.71 1551.14 L929.71 1556.04 L923.694 1556.04 Q916.915 1556.04 914.337 1553.53 Q911.759 1550.98 911.759 1544.3 L911.759 1524.95 L907.462 1524.95 L907.462 1520.4 L911.759 1520.4 L911.759 1510.27 L917.647 1510.27 Z\" fill=\"#000000\" fill-rule=\"evenodd\" fill-opacity=\"1\" /><path clip-path=\"url(#clip150)\" d=\"M 0 0 M952.054 1538.12 Q944.956 1538.12 942.219 1539.75 Q939.481 1541.37 939.481 1545.29 Q939.481 1548.4 941.518 1550.25 Q943.587 1552.07 947.12 1552.07 Q951.99 1552.07 954.918 1548.63 Q957.878 1545.16 957.878 1539.43 L957.878 1538.12 L952.054 1538.12 M963.735 1535.71 L963.735 1556.04 L957.878 1556.04 L957.878 1550.63 Q955.873 1553.88 952.881 1555.44 Q949.889 1556.97 945.561 1556.97 Q940.086 1556.97 936.84 1553.91 Q933.625 1550.82 933.625 1545.67 Q933.625 1539.65 937.635 1536.6 Q941.678 1533.54 949.666 1533.54 L957.878 1533.54 L957.878 1532.97 Q957.878 1528.93 955.205 1526.73 Q952.563 1524.5 947.757 1524.5 Q944.701 1524.5 941.805 1525.23 Q938.908 1525.97 936.235 1527.43 L936.235 1522.02 Q939.45 1520.78 942.473 1520.17 Q945.497 1519.54 948.362 1519.54 Q956.096 1519.54 959.915 1523.55 Q963.735 1527.56 963.735 1535.71 Z\" fill=\"#000000\" fill-rule=\"evenodd\" fill-opacity=\"1\" /><path clip-path=\"url(#clip150)\" d=\"M 0 0 M999.51 1534.53 L999.51 1556.04 L993.654 1556.04 L993.654 1534.72 Q993.654 1529.66 991.68 1527.14 Q989.707 1524.63 985.76 1524.63 Q981.018 1524.63 978.28 1527.65 Q975.543 1530.68 975.543 1535.9 L975.543 1556.04 L969.655 1556.04 L969.655 1520.4 L975.543 1520.4 L975.543 1525.93 Q977.644 1522.72 980.476 1521.13 Q983.341 1519.54 987.065 1519.54 Q993.208 1519.54 996.359 1523.36 Q999.51 1527.14 999.51 1534.53 Z\" fill=\"#000000\" fill-rule=\"evenodd\" fill-opacity=\"1\" /><path clip-path=\"url(#clip150)\" d=\"M 0 0 M1031.31 1521.76 L1031.31 1527.24 Q1028.82 1525.87 1026.31 1525.2 Q1023.83 1524.5 1021.28 1524.5 Q1015.58 1524.5 1012.43 1528.13 Q1009.28 1531.73 1009.28 1538.25 Q1009.28 1544.78 1012.43 1548.4 Q1015.58 1552 1021.28 1552 Q1023.83 1552 1026.31 1551.33 Q1028.82 1550.63 1031.31 1549.26 L1031.31 1554.68 Q1028.86 1555.82 1026.21 1556.39 Q1023.6 1556.97 1020.64 1556.97 Q1012.59 1556.97 1007.85 1551.91 Q1003.11 1546.85 1003.11 1538.25 Q1003.11 1529.53 1007.88 1524.53 Q1012.69 1519.54 1021.03 1519.54 Q1023.73 1519.54 1026.31 1520.11 Q1028.89 1520.65 1031.31 1521.76 Z\" fill=\"#000000\" fill-rule=\"evenodd\" fill-opacity=\"1\" /><path clip-path=\"url(#clip150)\" d=\"M 0 0 M1067.94 1536.76 L1067.94 1539.62 L1041.01 1539.62 Q1041.4 1545.67 1044.64 1548.85 Q1047.92 1552 1053.75 1552 Q1057.12 1552 1060.27 1551.17 Q1063.45 1550.35 1066.57 1548.69 L1066.57 1554.23 Q1063.42 1555.57 1060.11 1556.27 Q1056.8 1556.97 1053.4 1556.97 Q1044.87 1556.97 1039.87 1552 Q1034.9 1547.04 1034.9 1538.57 Q1034.9 1529.82 1039.61 1524.69 Q1044.36 1519.54 1052.38 1519.54 Q1059.57 1519.54 1063.74 1524.18 Q1067.94 1528.8 1067.94 1536.76 M1062.08 1535.04 Q1062.02 1530.23 1059.38 1527.37 Q1056.77 1524.5 1052.44 1524.5 Q1047.54 1524.5 1044.58 1527.27 Q1041.65 1530.04 1041.21 1535.07 L1062.08 1535.04 Z\" fill=\"#000000\" fill-rule=\"evenodd\" fill-opacity=\"1\" /><path clip-path=\"url(#clip150)\" d=\"M 0 0 M1100.6 1510.27 L1100.6 1520.4 L1112.66 1520.4 L1112.66 1524.95 L1100.6 1524.95 L1100.6 1544.3 Q1100.6 1548.66 1101.78 1549.9 Q1102.98 1551.14 1106.64 1551.14 L1112.66 1551.14 L1112.66 1556.04 L1106.64 1556.04 Q1099.87 1556.04 1097.29 1553.53 Q1094.71 1550.98 1094.71 1544.3 L1094.71 1524.95 L1090.41 1524.95 L1090.41 1520.4 L1094.71 1520.4 L1094.71 1510.27 L1100.6 1510.27 Z\" fill=\"#000000\" fill-rule=\"evenodd\" fill-opacity=\"1\" /><path clip-path=\"url(#clip150)\" d=\"M 0 0 M1132.62 1524.5 Q1127.91 1524.5 1125.17 1528.19 Q1122.43 1531.85 1122.43 1538.25 Q1122.43 1544.65 1125.14 1548.34 Q1127.87 1552 1132.62 1552 Q1137.3 1552 1140.03 1548.31 Q1142.77 1544.62 1142.77 1538.25 Q1142.77 1531.92 1140.03 1528.23 Q1137.3 1524.5 1132.62 1524.5 M1132.62 1519.54 Q1140.26 1519.54 1144.62 1524.5 Q1148.98 1529.47 1148.98 1538.25 Q1148.98 1547 1144.62 1552 Q1140.26 1556.97 1132.62 1556.97 Q1124.95 1556.97 1120.59 1552 Q1116.26 1547 1116.26 1538.25 Q1116.26 1529.47 1120.59 1524.5 Q1124.95 1519.54 1132.62 1519.54 Z\" fill=\"#000000\" fill-rule=\"evenodd\" fill-opacity=\"1\" /><path clip-path=\"url(#clip150)\" d=\"M 0 0 M1205.47 1534.53 L1205.47 1556.04 L1199.62 1556.04 L1199.62 1534.72 Q1199.62 1529.66 1197.64 1527.14 Q1195.67 1524.63 1191.72 1524.63 Q1186.98 1524.63 1184.24 1527.65 Q1181.51 1530.68 1181.51 1535.9 L1181.51 1556.04 L1175.62 1556.04 L1175.62 1520.4 L1181.51 1520.4 L1181.51 1525.93 Q1183.61 1522.72 1186.44 1521.13 Q1189.3 1519.54 1193.03 1519.54 Q1199.17 1519.54 1202.32 1523.36 Q1205.47 1527.14 1205.47 1534.53 Z\" fill=\"#000000\" fill-rule=\"evenodd\" fill-opacity=\"1\" /><path clip-path=\"url(#clip150)\" d=\"M 0 0 M1242.11 1536.76 L1242.11 1539.62 L1215.18 1539.62 Q1215.56 1545.67 1218.81 1548.85 Q1222.09 1552 1227.91 1552 Q1231.29 1552 1234.44 1551.17 Q1237.62 1550.35 1240.74 1548.69 L1240.74 1554.23 Q1237.59 1555.57 1234.28 1556.27 Q1230.97 1556.97 1227.56 1556.97 Q1219.03 1556.97 1214.03 1552 Q1209.07 1547.04 1209.07 1538.57 Q1209.07 1529.82 1213.78 1524.69 Q1218.52 1519.54 1226.54 1519.54 Q1233.74 1519.54 1237.91 1524.18 Q1242.11 1528.8 1242.11 1536.76 M1236.25 1535.04 Q1236.19 1530.23 1233.55 1527.37 Q1230.94 1524.5 1226.61 1524.5 Q1221.7 1524.5 1218.74 1527.27 Q1215.82 1530.04 1215.37 1535.07 L1236.25 1535.04 Z\" fill=\"#000000\" fill-rule=\"evenodd\" fill-opacity=\"1\" /><path clip-path=\"url(#clip150)\" d=\"M 0 0 M1264.45 1538.12 Q1257.35 1538.12 1254.62 1539.75 Q1251.88 1541.37 1251.88 1545.29 Q1251.88 1548.4 1253.92 1550.25 Q1255.98 1552.07 1259.52 1552.07 Q1264.39 1552.07 1267.32 1548.63 Q1270.28 1545.16 1270.28 1539.43 L1270.28 1538.12 L1264.45 1538.12 M1276.13 1535.71 L1276.13 1556.04 L1270.28 1556.04 L1270.28 1550.63 Q1268.27 1553.88 1265.28 1555.44 Q1262.29 1556.97 1257.96 1556.97 Q1252.48 1556.97 1249.24 1553.91 Q1246.02 1550.82 1246.02 1545.67 Q1246.02 1539.65 1250.03 1536.6 Q1254.07 1533.54 1262.06 1533.54 L1270.28 1533.54 L1270.28 1532.97 Q1270.28 1528.93 1267.6 1526.73 Q1264.96 1524.5 1260.15 1524.5 Q1257.1 1524.5 1254.2 1525.23 Q1251.31 1525.97 1248.63 1527.43 L1248.63 1522.02 Q1251.85 1520.78 1254.87 1520.17 Q1257.89 1519.54 1260.76 1519.54 Q1268.49 1519.54 1272.31 1523.55 Q1276.13 1527.56 1276.13 1535.71 Z\" fill=\"#000000\" fill-rule=\"evenodd\" fill-opacity=\"1\" /><path clip-path=\"url(#clip150)\" d=\"M 0 0 M1302.93 1525.87 Q1301.94 1525.3 1300.77 1525.04 Q1299.62 1524.76 1298.22 1524.76 Q1293.26 1524.76 1290.58 1528 Q1287.94 1531.22 1287.94 1537.27 L1287.94 1556.04 L1282.05 1556.04 L1282.05 1520.4 L1287.94 1520.4 L1287.94 1525.93 Q1289.79 1522.69 1292.75 1521.13 Q1295.71 1519.54 1299.94 1519.54 Q1300.54 1519.54 1301.28 1519.63 Q1302.01 1519.7 1302.9 1519.85 L1302.93 1525.87 Z\" fill=\"#000000\" fill-rule=\"evenodd\" fill-opacity=\"1\" /><path clip-path=\"url(#clip150)\" d=\"M 0 0 M1338.13 1536.76 L1338.13 1539.62 L1311.21 1539.62 Q1311.59 1545.67 1314.84 1548.85 Q1318.11 1552 1323.94 1552 Q1327.31 1552 1330.46 1551.17 Q1333.65 1550.35 1336.77 1548.69 L1336.77 1554.23 Q1333.61 1555.57 1330.3 1556.27 Q1326.99 1556.97 1323.59 1556.97 Q1315.06 1556.97 1310.06 1552 Q1305.1 1547.04 1305.1 1538.57 Q1305.1 1529.82 1309.81 1524.69 Q1314.55 1519.54 1322.57 1519.54 Q1329.76 1519.54 1333.93 1524.18 Q1338.13 1528.8 1338.13 1536.76 M1332.28 1535.04 Q1332.21 1530.23 1329.57 1527.37 Q1326.96 1524.5 1322.63 1524.5 Q1317.73 1524.5 1314.77 1527.27 Q1311.84 1530.04 1311.4 1535.07 L1332.28 1535.04 Z\" fill=\"#000000\" fill-rule=\"evenodd\" fill-opacity=\"1\" /><path clip-path=\"url(#clip150)\" d=\"M 0 0 M1367 1521.45 L1367 1526.98 Q1364.52 1525.71 1361.85 1525.07 Q1359.17 1524.44 1356.31 1524.44 Q1351.95 1524.44 1349.75 1525.77 Q1347.59 1527.11 1347.59 1529.79 Q1347.59 1531.82 1349.15 1533 Q1350.71 1534.15 1355.42 1535.2 L1357.42 1535.64 Q1363.66 1536.98 1366.27 1539.43 Q1368.91 1541.85 1368.91 1546.21 Q1368.91 1551.17 1364.97 1554.07 Q1361.05 1556.97 1354.18 1556.97 Q1351.31 1556.97 1348.19 1556.39 Q1345.1 1555.85 1341.67 1554.74 L1341.67 1548.69 Q1344.91 1550.38 1348.06 1551.24 Q1351.22 1552.07 1354.3 1552.07 Q1358.44 1552.07 1360.67 1550.66 Q1362.9 1549.23 1362.9 1546.65 Q1362.9 1544.27 1361.27 1542.99 Q1359.68 1541.72 1354.24 1540.54 L1352.2 1540.07 Q1346.76 1538.92 1344.34 1536.56 Q1341.92 1534.18 1341.92 1530.04 Q1341.92 1525.01 1345.49 1522.27 Q1349.05 1519.54 1355.61 1519.54 Q1358.85 1519.54 1361.72 1520.01 Q1364.58 1520.49 1367 1521.45 Z\" fill=\"#000000\" fill-rule=\"evenodd\" fill-opacity=\"1\" /><path clip-path=\"url(#clip150)\" d=\"M 0 0 M1380.85 1510.27 L1380.85 1520.4 L1392.91 1520.4 L1392.91 1524.95 L1380.85 1524.95 L1380.85 1544.3 Q1380.85 1548.66 1382.03 1549.9 Q1383.23 1551.14 1386.9 1551.14 L1392.91 1551.14 L1392.91 1556.04 L1386.9 1556.04 Q1380.12 1556.04 1377.54 1553.53 Q1374.96 1550.98 1374.96 1544.3 L1374.96 1524.95 L1370.66 1524.95 L1370.66 1520.4 L1374.96 1520.4 L1374.96 1510.27 L1380.85 1510.27 Z\" fill=\"#000000\" fill-rule=\"evenodd\" fill-opacity=\"1\" /><path clip-path=\"url(#clip150)\" d=\"M 0 0 M1396.09 1535.58 L1413.25 1535.58 L1413.25 1540.8 L1396.09 1540.8 L1396.09 1535.58 Z\" fill=\"#000000\" fill-rule=\"evenodd\" fill-opacity=\"1\" /><path clip-path=\"url(#clip150)\" d=\"M 0 0 M1449.02 1534.53 L1449.02 1556.04 L1443.17 1556.04 L1443.17 1534.72 Q1443.17 1529.66 1441.19 1527.14 Q1439.22 1524.63 1435.27 1524.63 Q1430.53 1524.63 1427.79 1527.65 Q1425.06 1530.68 1425.06 1535.9 L1425.06 1556.04 L1419.17 1556.04 L1419.17 1520.4 L1425.06 1520.4 L1425.06 1525.93 Q1427.16 1522.72 1429.99 1521.13 Q1432.86 1519.54 1436.58 1519.54 Q1442.72 1519.54 1445.87 1523.36 Q1449.02 1527.14 1449.02 1534.53 Z\" fill=\"#000000\" fill-rule=\"evenodd\" fill-opacity=\"1\" /><path clip-path=\"url(#clip150)\" d=\"M 0 0 M1485.66 1536.76 L1485.66 1539.62 L1458.73 1539.62 Q1459.11 1545.67 1462.36 1548.85 Q1465.64 1552 1471.46 1552 Q1474.84 1552 1477.99 1551.17 Q1481.17 1550.35 1484.29 1548.69 L1484.29 1554.23 Q1481.14 1555.57 1477.83 1556.27 Q1474.52 1556.97 1471.11 1556.97 Q1462.58 1556.97 1457.59 1552 Q1452.62 1547.04 1452.62 1538.57 Q1452.62 1529.82 1457.33 1524.69 Q1462.07 1519.54 1470.09 1519.54 Q1477.29 1519.54 1481.46 1524.18 Q1485.66 1528.8 1485.66 1536.76 M1479.8 1535.04 Q1479.74 1530.23 1477.1 1527.37 Q1474.49 1524.5 1470.16 1524.5 Q1465.26 1524.5 1462.3 1527.27 Q1459.37 1530.04 1458.92 1535.07 L1479.8 1535.04 Z\" fill=\"#000000\" fill-rule=\"evenodd\" fill-opacity=\"1\" /><path clip-path=\"url(#clip150)\" d=\"M 0 0 M1491.8 1520.4 L1497.66 1520.4 L1497.66 1556.04 L1491.8 1556.04 L1491.8 1520.4 M1491.8 1506.52 L1497.66 1506.52 L1497.66 1513.93 L1491.8 1513.93 L1491.8 1506.52 Z\" fill=\"#000000\" fill-rule=\"evenodd\" fill-opacity=\"1\" /><path clip-path=\"url(#clip150)\" d=\"M 0 0 M1527.26 1537.81 Q1527.26 1531.44 1524.62 1527.94 Q1522.01 1524.44 1517.26 1524.44 Q1512.55 1524.44 1509.91 1527.94 Q1507.3 1531.44 1507.3 1537.81 Q1507.3 1544.14 1509.91 1547.64 Q1512.55 1551.14 1517.26 1551.14 Q1522.01 1551.14 1524.62 1547.64 Q1527.26 1544.14 1527.26 1537.81 M1533.12 1551.62 Q1533.12 1560.72 1529.07 1565.15 Q1525.03 1569.6 1516.69 1569.6 Q1513.6 1569.6 1510.87 1569.13 Q1508.13 1568.68 1505.55 1567.72 L1505.55 1562.03 Q1508.13 1563.43 1510.64 1564.1 Q1513.16 1564.76 1515.77 1564.76 Q1521.53 1564.76 1524.39 1561.74 Q1527.26 1558.75 1527.26 1552.67 L1527.26 1549.77 Q1525.44 1552.92 1522.61 1554.48 Q1519.78 1556.04 1515.83 1556.04 Q1509.28 1556.04 1505.27 1551.05 Q1501.25 1546.05 1501.25 1537.81 Q1501.25 1529.53 1505.27 1524.53 Q1509.28 1519.54 1515.83 1519.54 Q1519.78 1519.54 1522.61 1521.1 Q1525.44 1522.66 1527.26 1525.81 L1527.26 1520.4 L1533.12 1520.4 L1533.12 1551.62 Z\" fill=\"#000000\" fill-rule=\"evenodd\" fill-opacity=\"1\" /><path clip-path=\"url(#clip150)\" d=\"M 0 0 M1568.89 1534.53 L1568.89 1556.04 L1563.03 1556.04 L1563.03 1534.72 Q1563.03 1529.66 1561.06 1527.14 Q1559.09 1524.63 1555.14 1524.63 Q1550.4 1524.63 1547.66 1527.65 Q1544.92 1530.68 1544.92 1535.9 L1544.92 1556.04 L1539.04 1556.04 L1539.04 1506.52 L1544.92 1506.52 L1544.92 1525.93 Q1547.02 1522.72 1549.86 1521.13 Q1552.72 1519.54 1556.45 1519.54 Q1562.59 1519.54 1565.74 1523.36 Q1568.89 1527.14 1568.89 1534.53 Z\" fill=\"#000000\" fill-rule=\"evenodd\" fill-opacity=\"1\" /><path clip-path=\"url(#clip150)\" d=\"M 0 0 M1600.62 1538.25 Q1600.62 1531.79 1597.95 1528.13 Q1595.31 1524.44 1590.66 1524.44 Q1586.01 1524.44 1583.34 1528.13 Q1580.7 1531.79 1580.7 1538.25 Q1580.7 1544.71 1583.34 1548.4 Q1586.01 1552.07 1590.66 1552.07 Q1595.31 1552.07 1597.95 1548.4 Q1600.62 1544.71 1600.62 1538.25 M1580.7 1525.81 Q1582.55 1522.62 1585.35 1521.1 Q1588.18 1519.54 1592.09 1519.54 Q1598.59 1519.54 1602.63 1524.69 Q1606.7 1529.85 1606.7 1538.25 Q1606.7 1546.65 1602.63 1551.81 Q1598.59 1556.97 1592.09 1556.97 Q1588.18 1556.97 1585.35 1555.44 Q1582.55 1553.88 1580.7 1550.7 L1580.7 1556.04 L1574.81 1556.04 L1574.81 1506.52 L1580.7 1506.52 L1580.7 1525.81 Z\" fill=\"#000000\" fill-rule=\"evenodd\" fill-opacity=\"1\" /><path clip-path=\"url(#clip150)\" d=\"M 0 0 M1626.66 1524.5 Q1621.95 1524.5 1619.21 1528.19 Q1616.47 1531.85 1616.47 1538.25 Q1616.47 1544.65 1619.18 1548.34 Q1621.92 1552 1626.66 1552 Q1631.34 1552 1634.08 1548.31 Q1636.81 1544.62 1636.81 1538.25 Q1636.81 1531.92 1634.08 1528.23 Q1631.34 1524.5 1626.66 1524.5 M1626.66 1519.54 Q1634.3 1519.54 1638.66 1524.5 Q1643.02 1529.47 1643.02 1538.25 Q1643.02 1547 1638.66 1552 Q1634.3 1556.97 1626.66 1556.97 Q1618.99 1556.97 1614.63 1552 Q1610.3 1547 1610.3 1538.25 Q1610.3 1529.47 1614.63 1524.5 Q1618.99 1519.54 1626.66 1519.54 Z\" fill=\"#000000\" fill-rule=\"evenodd\" fill-opacity=\"1\" /><path clip-path=\"url(#clip150)\" d=\"M 0 0 M1648.56 1541.98 L1648.56 1520.4 L1654.41 1520.4 L1654.41 1541.75 Q1654.41 1546.81 1656.39 1549.36 Q1658.36 1551.87 1662.31 1551.87 Q1667.05 1551.87 1669.79 1548.85 Q1672.56 1545.83 1672.56 1540.61 L1672.56 1520.4 L1678.41 1520.4 L1678.41 1556.04 L1672.56 1556.04 L1672.56 1550.57 Q1670.42 1553.82 1667.59 1555.41 Q1664.79 1556.97 1661.07 1556.97 Q1654.92 1556.97 1651.74 1553.15 Q1648.56 1549.33 1648.56 1541.98 M1663.29 1519.54 L1663.29 1519.54 Z\" fill=\"#000000\" fill-rule=\"evenodd\" fill-opacity=\"1\" /><path clip-path=\"url(#clip150)\" d=\"M 0 0 M1705.21 1525.87 Q1704.23 1525.3 1703.05 1525.04 Q1701.9 1524.76 1700.5 1524.76 Q1695.54 1524.76 1692.86 1528 Q1690.22 1531.22 1690.22 1537.27 L1690.22 1556.04 L1684.33 1556.04 L1684.33 1520.4 L1690.22 1520.4 L1690.22 1525.93 Q1692.07 1522.69 1695.03 1521.13 Q1697.99 1519.54 1702.22 1519.54 Q1702.83 1519.54 1703.56 1519.63 Q1704.29 1519.7 1705.18 1519.85 L1705.21 1525.87 Z\" fill=\"#000000\" fill-rule=\"evenodd\" fill-opacity=\"1\" /><path clip-path=\"url(#clip150)\" d=\"M 0 0 M40.4842 999.341 L40.4842 972.032 L45.895 972.032 L45.895 992.912 L59.8996 992.912 L59.8996 974.069 L65.3104 974.069 L65.3104 992.912 L88.0042 992.912 L88.0042 999.341 L40.4842 999.341 Z\" fill=\"#000000\" fill-rule=\"evenodd\" fill-opacity=\"1\" /><path clip-path=\"url(#clip150)\" d=\"M 0 0 M57.8307 949.975 Q57.2578 950.962 57.0032 952.139 Q56.7167 953.285 56.7167 954.686 Q56.7167 959.651 59.9632 962.324 Q63.1779 964.966 69.2253 964.966 L88.0042 964.966 L88.0042 970.855 L52.3562 970.855 L52.3562 964.966 L57.8944 964.966 Q54.6479 963.12 53.0883 960.16 Q51.4968 957.2 51.4968 952.967 Q51.4968 952.362 51.5923 951.63 Q51.656 950.898 51.8151 950.007 L57.8307 949.975 Z\" fill=\"#000000\" fill-rule=\"evenodd\" fill-opacity=\"1\" /><path clip-path=\"url(#clip150)\" d=\"M 0 0 M68.7161 914.773 L71.5806 914.773 L71.5806 941.7 Q77.6281 941.318 80.8109 938.071 Q83.9619 934.793 83.9619 928.968 Q83.9619 925.594 83.1344 922.443 Q82.3069 919.26 80.6518 916.141 L86.1899 916.141 Q87.5267 919.292 88.227 922.602 Q88.9272 925.913 88.9272 929.318 Q88.9272 937.848 83.9619 942.845 Q78.9967 947.811 70.5303 947.811 Q61.7774 947.811 56.6531 943.1 Q51.4968 938.358 51.4968 930.337 Q51.4968 923.144 56.1438 918.974 Q60.7589 914.773 68.7161 914.773 M66.9973 920.629 Q62.1912 920.693 59.3266 923.335 Q56.4621 925.944 56.4621 930.273 Q56.4621 935.175 59.2312 938.135 Q62.0002 941.063 67.0292 941.509 L66.9973 920.629 Z\" fill=\"#000000\" fill-rule=\"evenodd\" fill-opacity=\"1\" /><path clip-path=\"url(#clip150)\" d=\"M 0 0 M70.212 905.129 Q76.6732 905.129 80.3653 902.487 Q84.0256 899.813 84.0256 895.166 Q84.0256 890.519 80.3653 887.846 Q76.6732 885.172 70.212 885.172 Q63.7508 885.172 60.0905 887.846 Q56.3984 890.519 56.3984 895.166 Q56.3984 899.813 60.0905 902.487 Q63.7508 905.129 70.212 905.129 M82.657 885.172 Q85.8398 887.018 87.3994 889.851 Q88.9272 892.652 88.9272 896.599 Q88.9272 903.06 83.771 907.134 Q78.6147 911.176 70.212 911.176 Q61.8093 911.176 56.6531 907.134 Q51.4968 903.06 51.4968 896.599 Q51.4968 892.652 53.0564 889.851 Q54.5842 887.018 57.7671 885.172 L52.3562 885.172 L52.3562 879.316 L101.563 879.316 L101.563 885.172 L82.657 885.172 Z\" fill=\"#000000\" fill-rule=\"evenodd\" fill-opacity=\"1\" /><path clip-path=\"url(#clip150)\" d=\"M 0 0 M73.9359 873.777 L52.3562 873.777 L52.3562 867.921 L73.7131 867.921 Q78.7739 867.921 81.3202 865.948 Q83.8346 863.974 83.8346 860.028 Q83.8346 855.285 80.8109 852.548 Q77.7872 849.779 72.5673 849.779 L52.3562 849.779 L52.3562 843.922 L88.0042 843.922 L88.0042 849.779 L82.5296 849.779 Q85.7762 851.911 87.3676 854.744 Q88.9272 857.545 88.9272 861.269 Q88.9272 867.412 85.1078 870.595 Q81.2883 873.777 73.9359 873.777 M51.4968 859.041 L51.4968 859.041 Z\" fill=\"#000000\" fill-rule=\"evenodd\" fill-opacity=\"1\" /><path clip-path=\"url(#clip150)\" d=\"M 0 0 M68.7161 807.288 L71.5806 807.288 L71.5806 834.215 Q77.6281 833.833 80.8109 830.586 Q83.9619 827.308 83.9619 821.483 Q83.9619 818.109 83.1344 814.958 Q82.3069 811.776 80.6518 808.656 L86.1899 808.656 Q87.5267 811.807 88.227 815.118 Q88.9272 818.428 88.9272 821.833 Q88.9272 830.363 83.9619 835.36 Q78.9967 840.326 70.5303 840.326 Q61.7774 840.326 56.6531 835.615 Q51.4968 830.873 51.4968 822.852 Q51.4968 815.659 56.1438 811.489 Q60.7589 807.288 68.7161 807.288 M66.9973 813.144 Q62.1912 813.208 59.3266 815.85 Q56.4621 818.459 56.4621 822.788 Q56.4621 827.69 59.2312 830.65 Q62.0002 833.578 67.0292 834.024 L66.9973 813.144 Z\" fill=\"#000000\" fill-rule=\"evenodd\" fill-opacity=\"1\" /><path clip-path=\"url(#clip150)\" d=\"M 0 0 M66.4881 771.512 L88.0042 771.512 L88.0042 777.369 L66.679 777.369 Q61.6183 777.369 59.1038 779.342 Q56.5894 781.316 56.5894 785.262 Q56.5894 790.005 59.6131 792.742 Q62.6368 795.479 67.8567 795.479 L88.0042 795.479 L88.0042 801.368 L52.3562 801.368 L52.3562 795.479 L57.8944 795.479 Q54.6797 793.379 53.0883 790.546 Q51.4968 787.681 51.4968 783.957 Q51.4968 777.814 55.3163 774.663 Q59.1038 771.512 66.4881 771.512 Z\" fill=\"#000000\" fill-rule=\"evenodd\" fill-opacity=\"1\" /><path clip-path=\"url(#clip150)\" d=\"M 0 0 M53.7248 739.716 L59.1993 739.716 Q57.8307 742.198 57.1623 744.713 Q56.4621 747.195 56.4621 749.742 Q56.4621 755.439 60.0905 758.59 Q63.6872 761.741 70.212 761.741 Q76.7369 761.741 80.3653 758.59 Q83.9619 755.439 83.9619 749.742 Q83.9619 747.195 83.2935 744.713 Q82.5933 742.198 81.2247 739.716 L86.6355 739.716 Q87.7814 742.167 88.3543 744.808 Q88.9272 747.418 88.9272 750.378 Q88.9272 758.431 83.8664 763.173 Q78.8057 767.916 70.212 767.916 Q61.491 767.916 56.4939 763.142 Q51.4968 758.335 51.4968 749.996 Q51.4968 747.291 52.0697 744.713 Q52.6108 742.135 53.7248 739.716 Z\" fill=\"#000000\" fill-rule=\"evenodd\" fill-opacity=\"1\" /><path clip-path=\"url(#clip150)\" d=\"M 0 0 M91.3143 718.741 Q97.68 721.223 99.6216 723.579 Q101.563 725.934 101.563 729.881 L101.563 734.559 L96.6615 734.559 L96.6615 731.122 Q96.6615 728.703 95.5157 727.366 Q94.3699 726.029 90.1048 724.406 L87.4312 723.356 L52.3562 737.774 L52.3562 731.568 L80.238 720.428 L52.3562 709.288 L52.3562 703.081 L91.3143 718.741 Z\" fill=\"#000000\" fill-rule=\"evenodd\" fill-opacity=\"1\" /><path clip-path=\"url(#clip150)\" d=\"M 0 0 M57.7671 652.76 L38.479 652.76 L38.479 646.904 L88.0042 646.904 L88.0042 652.76 L82.657 652.76 Q85.8398 654.606 87.3994 657.439 Q88.9272 660.24 88.9272 664.187 Q88.9272 670.648 83.771 674.722 Q78.6147 678.764 70.212 678.764 Q61.8093 678.764 56.6531 674.722 Q51.4968 670.648 51.4968 664.187 Q51.4968 660.24 53.0564 657.439 Q54.5842 654.606 57.7671 652.76 M70.212 672.717 Q76.6732 672.717 80.3653 670.075 Q84.0256 667.401 84.0256 662.754 Q84.0256 658.107 80.3653 655.434 Q76.6732 652.76 70.212 652.76 Q63.7508 652.76 60.0905 655.434 Q56.3984 658.107 56.3984 662.754 Q56.3984 667.401 60.0905 670.075 Q63.7508 672.717 70.212 672.717 Z\" fill=\"#000000\" fill-rule=\"evenodd\" fill-opacity=\"1\" /><path clip-path=\"url(#clip150)\" d=\"M 0 0 M68.7161 610.269 L71.5806 610.269 L71.5806 637.196 Q77.6281 636.814 80.8109 633.568 Q83.9619 630.289 83.9619 624.465 Q83.9619 621.091 83.1344 617.94 Q82.3069 614.757 80.6518 611.638 L86.1899 611.638 Q87.5267 614.789 88.227 618.099 Q88.9272 621.409 88.9272 624.815 Q88.9272 633.345 83.9619 638.342 Q78.9967 643.307 70.5303 643.307 Q61.7774 643.307 56.6531 638.596 Q51.4968 633.854 51.4968 625.833 Q51.4968 618.64 56.1438 614.47 Q60.7589 610.269 68.7161 610.269 M66.9973 616.126 Q62.1912 616.189 59.3266 618.831 Q56.4621 621.441 56.4621 625.77 Q56.4621 630.671 59.2312 633.631 Q62.0002 636.559 67.0292 637.005 L66.9973 616.126 Z\" fill=\"#000000\" fill-rule=\"evenodd\" fill-opacity=\"1\" /><path clip-path=\"url(#clip150)\" d=\"M 0 0 M66.4881 574.494 L88.0042 574.494 L88.0042 580.35 L66.679 580.35 Q61.6183 580.35 59.1038 582.324 Q56.5894 584.297 56.5894 588.244 Q56.5894 592.986 59.6131 595.723 Q62.6368 598.461 67.8567 598.461 L88.0042 598.461 L88.0042 604.349 L52.3562 604.349 L52.3562 598.461 L57.8944 598.461 Q54.6797 596.36 53.0883 593.527 Q51.4968 590.663 51.4968 586.939 Q51.4968 580.796 55.3163 577.645 Q59.1038 574.494 66.4881 574.494 Z\" fill=\"#000000\" fill-rule=\"evenodd\" fill-opacity=\"1\" /><path clip-path=\"url(#clip150)\" d=\"M 0 0 M53.4065 545.625 L58.9447 545.625 Q57.6716 548.108 57.035 550.782 Q56.3984 553.455 56.3984 556.32 Q56.3984 560.68 57.7352 562.876 Q59.072 565.041 61.7456 565.041 Q63.7826 565.041 64.9603 563.481 Q66.1061 561.922 67.1565 557.211 L67.6021 555.206 Q68.9389 548.967 71.3897 546.357 Q73.8086 543.716 78.1691 543.716 Q83.1344 543.716 86.0308 547.662 Q88.9272 551.577 88.9272 558.452 Q88.9272 561.317 88.3543 564.436 Q87.8132 567.523 86.6992 570.961 L80.6518 570.961 Q82.3387 567.714 83.198 564.563 Q84.0256 561.412 84.0256 558.325 Q84.0256 554.187 82.6251 551.959 Q81.1929 549.731 78.6147 549.731 Q76.2276 549.731 74.9545 551.354 Q73.6813 552.946 72.5037 558.389 L72.0262 560.426 Q70.8804 565.868 68.5251 568.287 Q66.138 570.706 62.0002 570.706 Q56.9713 570.706 54.2341 567.141 Q51.4968 563.577 51.4968 557.02 Q51.4968 553.773 51.9743 550.909 Q52.4517 548.044 53.4065 545.625 Z\" fill=\"#000000\" fill-rule=\"evenodd\" fill-opacity=\"1\" /><path clip-path=\"url(#clip150)\" d=\"M 0 0 M52.3562 537.573 L52.3562 531.716 L88.0042 531.716 L88.0042 537.573 L52.3562 537.573 M38.479 537.573 L38.479 531.716 L45.895 531.716 L45.895 537.573 L38.479 537.573 Z\" fill=\"#000000\" fill-rule=\"evenodd\" fill-opacity=\"1\" /><path clip-path=\"url(#clip150)\" d=\"M 0 0 M42.2347 519.781 L52.3562 519.781 L52.3562 507.718 L56.9077 507.718 L56.9077 519.781 L76.2594 519.781 Q80.6199 519.781 81.8613 518.603 Q83.1026 517.393 83.1026 513.733 L83.1026 507.718 L88.0042 507.718 L88.0042 513.733 Q88.0042 520.513 85.4897 523.091 Q82.9434 525.669 76.2594 525.669 L56.9077 525.669 L56.9077 529.966 L52.3562 529.966 L52.3562 525.669 L42.2347 525.669 L42.2347 519.781 Z\" fill=\"#000000\" fill-rule=\"evenodd\" fill-opacity=\"1\" /><path clip-path=\"url(#clip150)\" d=\"M 0 0 M91.3143 486.743 Q97.68 489.225 99.6216 491.58 Q101.563 493.936 101.563 497.883 L101.563 502.561 L96.6615 502.561 L96.6615 499.124 Q96.6615 496.705 95.5157 495.368 Q94.3699 494.031 90.1048 492.408 L87.4312 491.358 L52.3562 505.776 L52.3562 499.569 L80.238 488.429 L52.3562 477.289 L52.3562 471.083 L91.3143 486.743 Z\" fill=\"#000000\" fill-rule=\"evenodd\" fill-opacity=\"1\" /><polyline clip-path=\"url(#clip152)\" style=\"stroke:#0000ff; stroke-width:4; stroke-opacity:1; fill:none\" points=\"\n",
       "  237.067,1423.18 237.067,948.602 307.897,948.602 307.897,236.736 378.727,236.736 378.727,541.822 449.557,541.822 449.557,1118.09 520.387,1118.09 520.387,1185.89 \n",
       "  591.217,1185.89 591.217,1355.38 662.047,1355.38 662.047,1389.28 732.876,1389.28 732.876,1321.48 803.706,1321.48 803.706,1423.18 874.536,1423.18 \n",
       "  945.366,1423.18 1016.2,1423.18 1016.2,1389.28 1087.03,1389.28 1087.03,1423.18 1157.86,1423.18 1157.86,1389.28 1228.69,1389.28 1228.69,1423.18 \n",
       "  1299.52,1423.18 1370.35,1423.18 1441.18,1423.18 1512.01,1423.18 1582.84,1423.18 \n",
       "  1653.66,1423.18 1724.49,1423.18 1795.32,1423.18 1866.15,1423.18 1936.98,1423.18 \n",
       "  2007.81,1423.18 2078.64,1423.18 2149.47,1423.18 2220.3,1423.18 2291.13,1423.18 \n",
       "  \"/>\n",
       "<polyline clip-path=\"url(#clip152)\" style=\"stroke:#ff0000; stroke-width:4; stroke-opacity:1; fill:none\" points=\"\n",
       "  237.067,1423.18 237.067,751.992 307.897,751.992 307.897,47.2441 378.727,47.2441 378.727,986.908 449.557,986.908 449.557,919.789 520.387,919.789 520.387,1356.06 \n",
       "  591.217,1356.06 591.217,1389.62 662.047,1389.62 662.047,1221.82 732.876,1221.82 732.876,1423.18 803.706,1423.18 874.536,1423.18 \n",
       "  945.366,1423.18 945.366,1389.62 1016.2,1389.62 1016.2,1423.18 1087.03,1423.18 1157.86,1423.18 1228.69,1423.18 \n",
       "  1299.52,1423.18 1370.35,1423.18 1441.18,1423.18 1441.18,1389.62 1512.01,1389.62 1512.01,1423.18 1582.84,1423.18 \n",
       "  1653.66,1423.18 1724.49,1423.18 1795.32,1423.18 1866.15,1423.18 1936.98,1423.18 \n",
       "  2007.81,1423.18 2078.64,1423.18 2149.47,1423.18 2220.3,1423.18 2291.13,1423.18 \n",
       "  \"/>\n",
       "<polyline clip-path=\"url(#clip152)\" style=\"stroke:#ffd700; stroke-width:4; stroke-opacity:1; fill:none\" points=\"\n",
       "  237.067,1423.18 237.067,785.551 307.897,785.551 307.897,315.719 378.727,315.719 378.727,651.313 449.557,651.313 449.557,1221.82 520.387,1221.82 520.387,1288.94 \n",
       "  591.217,1288.94 662.047,1288.94 662.047,1389.62 732.876,1389.62 803.706,1389.62 803.706,1356.06 874.536,1356.06 \n",
       "  945.366,1356.06 945.366,1389.62 1016.2,1389.62 1087.03,1389.62 1087.03,1356.06 1157.86,1356.06 1157.86,1423.18 1228.69,1423.18 \n",
       "  1299.52,1423.18 1299.52,1389.62 1370.35,1389.62 1370.35,1423.18 1441.18,1423.18 1512.01,1423.18 1582.84,1423.18 \n",
       "  1653.66,1423.18 1724.49,1423.18 1795.32,1423.18 1866.15,1423.18 1936.98,1423.18 \n",
       "  2007.81,1423.18 2078.64,1423.18 2149.47,1423.18 2220.3,1423.18 2291.13,1423.18 \n",
       "  \"/>\n",
       "<polyline clip-path=\"url(#clip152)\" style=\"stroke:#008000; stroke-width:4; stroke-opacity:1; fill:none\" points=\"\n",
       "  237.067,1423.18 237.067,819.11 307.897,819.11 307.897,248.601 378.727,248.601 378.727,785.551 449.557,785.551 449.557,953.348 520.387,953.348 520.387,1322.5 \n",
       "  591.217,1322.5 662.047,1322.5 662.047,1423.18 732.876,1423.18 732.876,1356.06 803.706,1356.06 803.706,1389.62 874.536,1389.62 \n",
       "  945.366,1389.62 1016.2,1389.62 1016.2,1356.06 1087.03,1356.06 1087.03,1423.18 1157.86,1423.18 1228.69,1423.18 \n",
       "  1299.52,1423.18 1370.35,1423.18 1441.18,1423.18 1512.01,1423.18 1582.84,1423.18 \n",
       "  1653.66,1423.18 1724.49,1423.18 1795.32,1423.18 1866.15,1423.18 1936.98,1423.18 1936.98,1389.62 \n",
       "  2007.81,1389.62 2007.81,1423.18 2078.64,1423.18 2149.47,1423.18 2220.3,1423.18 2291.13,1423.18 \n",
       "  \"/>\n",
       "<path clip-path=\"url(#clip150)\" d=\"\n",
       "M1563.65 433.164 L2280.76 433.164 L2280.76 130.764 L1563.65 130.764  Z\n",
       "  \" fill=\"#ffffff\" fill-rule=\"evenodd\" fill-opacity=\"1\"/>\n",
       "<polyline clip-path=\"url(#clip150)\" style=\"stroke:#000000; stroke-width:4; stroke-opacity:1; fill:none\" points=\"\n",
       "  1563.65,433.164 2280.76,433.164 2280.76,130.764 1563.65,130.764 1563.65,433.164 \n",
       "  \"/>\n",
       "<polyline clip-path=\"url(#clip150)\" style=\"stroke:#0000ff; stroke-width:4; stroke-opacity:1; fill:none\" points=\"\n",
       "  1587.65,191.244 1731.65,191.244 \n",
       "  \"/>\n",
       "<path clip-path=\"url(#clip150)\" d=\"M 0 0 M1772.04 192.32 Q1773.55 192.83 1774.96 194.496 Q1776.39 196.163 1777.83 199.08 L1782.57 208.524 L1777.55 208.524 L1773.13 199.658 Q1771.42 196.186 1769.8 195.052 Q1768.2 193.918 1765.42 193.918 L1760.33 193.918 L1760.33 208.524 L1755.65 208.524 L1755.65 173.964 L1766.21 173.964 Q1772.13 173.964 1775.05 176.441 Q1777.97 178.918 1777.97 183.918 Q1777.97 187.182 1776.44 189.334 Q1774.93 191.487 1772.04 192.32 M1760.33 177.807 L1760.33 190.075 L1766.21 190.075 Q1769.59 190.075 1771.3 188.524 Q1773.04 186.95 1773.04 183.918 Q1773.04 180.885 1771.3 179.358 Q1769.59 177.807 1766.21 177.807 L1760.33 177.807 Z\" fill=\"#000000\" fill-rule=\"evenodd\" fill-opacity=\"1\" /><path clip-path=\"url(#clip150)\" d=\"M 0 0 M1807.09 194.496 L1807.09 196.58 L1787.5 196.58 Q1787.78 200.978 1790.14 203.293 Q1792.53 205.584 1796.76 205.584 Q1799.22 205.584 1801.51 204.982 Q1803.82 204.381 1806.09 203.177 L1806.09 207.205 Q1803.8 208.177 1801.39 208.686 Q1798.99 209.195 1796.51 209.195 Q1790.3 209.195 1786.67 205.584 Q1783.06 201.973 1783.06 195.816 Q1783.06 189.45 1786.49 185.723 Q1789.93 181.973 1795.77 181.973 Q1801 181.973 1804.03 185.353 Q1807.09 188.709 1807.09 194.496 M1802.83 193.246 Q1802.78 189.751 1800.86 187.668 Q1798.96 185.584 1795.81 185.584 Q1792.25 185.584 1790.1 187.598 Q1787.97 189.612 1787.64 193.27 L1802.83 193.246 Z\" fill=\"#000000\" fill-rule=\"evenodd\" fill-opacity=\"1\" /><path clip-path=\"url(#clip150)\" d=\"M 0 0 M1823.34 195.492 Q1818.17 195.492 1816.18 196.672 Q1814.19 197.853 1814.19 200.7 Q1814.19 202.969 1815.67 204.311 Q1817.18 205.631 1819.75 205.631 Q1823.29 205.631 1825.42 203.131 Q1827.57 200.607 1827.57 196.441 L1827.57 195.492 L1823.34 195.492 M1831.83 193.733 L1831.83 208.524 L1827.57 208.524 L1827.57 204.589 Q1826.11 206.95 1823.94 208.084 Q1821.76 209.195 1818.61 209.195 Q1814.63 209.195 1812.27 206.973 Q1809.93 204.728 1809.93 200.978 Q1809.93 196.603 1812.85 194.381 Q1815.79 192.158 1821.6 192.158 L1827.57 192.158 L1827.57 191.742 Q1827.57 188.802 1825.63 187.205 Q1823.71 185.584 1820.21 185.584 Q1817.99 185.584 1815.88 186.117 Q1813.78 186.649 1811.83 187.714 L1811.83 183.779 Q1814.17 182.876 1816.37 182.436 Q1818.57 181.973 1820.65 181.973 Q1826.28 181.973 1829.05 184.89 Q1831.83 187.807 1831.83 193.733 Z\" fill=\"#000000\" fill-rule=\"evenodd\" fill-opacity=\"1\" /><path clip-path=\"url(#clip150)\" d=\"M 0 0 M1836.3 172.506 L1840.56 172.506 L1840.56 208.524 L1836.3 208.524 L1836.3 172.506 Z\" fill=\"#000000\" fill-rule=\"evenodd\" fill-opacity=\"1\" /><path clip-path=\"url(#clip150)\" d=\"M 0 0 M1857.94 193.64 L1870.42 193.64 L1870.42 197.436 L1857.94 197.436 L1857.94 193.64 Z\" fill=\"#000000\" fill-rule=\"evenodd\" fill-opacity=\"1\" /><path clip-path=\"url(#clip150)\" d=\"M 0 0 M1904.98 186.58 Q1904.26 186.163 1903.41 185.978 Q1902.57 185.77 1901.55 185.77 Q1897.94 185.77 1896 188.131 Q1894.08 190.469 1894.08 194.867 L1894.08 208.524 L1889.79 208.524 L1889.79 182.598 L1894.08 182.598 L1894.08 186.626 Q1895.42 184.265 1897.57 183.131 Q1899.73 181.973 1902.8 181.973 Q1903.24 181.973 1903.78 182.043 Q1904.31 182.089 1904.96 182.205 L1904.98 186.58 Z\" fill=\"#000000\" fill-rule=\"evenodd\" fill-opacity=\"1\" /><path clip-path=\"url(#clip150)\" d=\"M 0 0 M1930.58 194.496 L1930.58 196.58 L1911 196.58 Q1911.28 200.978 1913.64 203.293 Q1916.02 205.584 1920.26 205.584 Q1922.71 205.584 1925 204.982 Q1927.32 204.381 1929.59 203.177 L1929.59 207.205 Q1927.29 208.177 1924.89 208.686 Q1922.48 209.195 1920 209.195 Q1913.8 209.195 1910.17 205.584 Q1906.55 201.973 1906.55 195.816 Q1906.55 189.45 1909.98 185.723 Q1913.43 181.973 1919.26 181.973 Q1924.49 181.973 1927.53 185.353 Q1930.58 188.709 1930.58 194.496 M1926.32 193.246 Q1926.28 189.751 1924.35 187.668 Q1922.46 185.584 1919.31 185.584 Q1915.74 185.584 1913.59 187.598 Q1911.46 189.612 1911.14 193.27 L1926.32 193.246 Z\" fill=\"#000000\" fill-rule=\"evenodd\" fill-opacity=\"1\" /><path clip-path=\"url(#clip150)\" d=\"M 0 0 M1946.83 195.492 Q1941.67 195.492 1939.68 196.672 Q1937.69 197.853 1937.69 200.7 Q1937.69 202.969 1939.17 204.311 Q1940.67 205.631 1943.24 205.631 Q1946.79 205.631 1948.91 203.131 Q1951.07 200.607 1951.07 196.441 L1951.07 195.492 L1946.83 195.492 M1955.33 193.733 L1955.33 208.524 L1951.07 208.524 L1951.07 204.589 Q1949.61 206.95 1947.43 208.084 Q1945.26 209.195 1942.11 209.195 Q1938.13 209.195 1935.77 206.973 Q1933.43 204.728 1933.43 200.978 Q1933.43 196.603 1936.35 194.381 Q1939.29 192.158 1945.1 192.158 L1951.07 192.158 L1951.07 191.742 Q1951.07 188.802 1949.12 187.205 Q1947.2 185.584 1943.71 185.584 Q1941.48 185.584 1939.38 186.117 Q1937.27 186.649 1935.33 187.714 L1935.33 183.779 Q1937.66 182.876 1939.86 182.436 Q1942.06 181.973 1944.15 181.973 Q1949.77 181.973 1952.55 184.89 Q1955.33 187.807 1955.33 193.733 Z\" fill=\"#000000\" fill-rule=\"evenodd\" fill-opacity=\"1\" /><path clip-path=\"url(#clip150)\" d=\"M 0 0 M1959.79 172.506 L1964.05 172.506 L1964.05 208.524 L1959.79 208.524 L1959.79 172.506 Z\" fill=\"#000000\" fill-rule=\"evenodd\" fill-opacity=\"1\" /><polyline clip-path=\"url(#clip150)\" style=\"stroke:#ff0000; stroke-width:4; stroke-opacity:1; fill:none\" points=\"\n",
       "  1587.65,251.724 1731.65,251.724 \n",
       "  \"/>\n",
       "<path clip-path=\"url(#clip150)\" d=\"M 0 0 M1777.9 235.578 L1777.9 240.139 Q1775.24 238.865 1772.87 238.24 Q1770.51 237.615 1768.31 237.615 Q1764.49 237.615 1762.41 239.097 Q1760.35 240.578 1760.35 243.31 Q1760.35 245.601 1761.72 246.782 Q1763.11 247.939 1766.95 248.657 L1769.77 249.236 Q1775 250.231 1777.48 252.754 Q1779.98 255.254 1779.98 259.467 Q1779.98 264.49 1776.6 267.083 Q1773.24 269.675 1766.74 269.675 Q1764.29 269.675 1761.51 269.12 Q1758.75 268.564 1755.79 267.476 L1755.79 262.662 Q1758.64 264.259 1761.37 265.069 Q1764.1 265.879 1766.74 265.879 Q1770.74 265.879 1772.92 264.305 Q1775.1 262.731 1775.1 259.814 Q1775.1 257.268 1773.52 255.833 Q1771.97 254.398 1768.41 253.68 L1765.56 253.125 Q1760.33 252.083 1757.99 249.861 Q1755.65 247.638 1755.65 243.68 Q1755.65 239.097 1758.87 236.458 Q1762.11 233.819 1767.78 233.819 Q1770.21 233.819 1772.74 234.259 Q1775.26 234.699 1777.9 235.578 Z\" fill=\"#000000\" fill-rule=\"evenodd\" fill-opacity=\"1\" /><path clip-path=\"url(#clip150)\" d=\"M 0 0 M1795.24 271.411 Q1793.43 276.041 1791.72 277.453 Q1790 278.865 1787.13 278.865 L1783.73 278.865 L1783.73 275.3 L1786.23 275.3 Q1787.99 275.3 1788.96 274.467 Q1789.93 273.634 1791.11 270.532 L1791.88 268.587 L1781.39 243.078 L1785.91 243.078 L1794.01 263.356 L1802.11 243.078 L1806.62 243.078 L1795.24 271.411 Z\" fill=\"#000000\" fill-rule=\"evenodd\" fill-opacity=\"1\" /><path clip-path=\"url(#clip150)\" d=\"M 0 0 M1832.64 253.356 L1832.64 269.004 L1828.38 269.004 L1828.38 253.495 Q1828.38 249.814 1826.95 247.986 Q1825.51 246.157 1822.64 246.157 Q1819.19 246.157 1817.2 248.356 Q1815.21 250.555 1815.21 254.351 L1815.21 269.004 L1810.93 269.004 L1810.93 243.078 L1815.21 243.078 L1815.21 247.106 Q1816.74 244.768 1818.8 243.611 Q1820.88 242.453 1823.59 242.453 Q1828.06 242.453 1830.35 245.231 Q1832.64 247.986 1832.64 253.356 Z\" fill=\"#000000\" fill-rule=\"evenodd\" fill-opacity=\"1\" /><path clip-path=\"url(#clip150)\" d=\"M 0 0 M1841.32 235.717 L1841.32 243.078 L1850.1 243.078 L1850.1 246.388 L1841.32 246.388 L1841.32 260.462 Q1841.32 263.634 1842.18 264.537 Q1843.06 265.439 1845.72 265.439 L1850.1 265.439 L1850.1 269.004 L1845.72 269.004 Q1840.79 269.004 1838.92 267.175 Q1837.04 265.324 1837.04 260.462 L1837.04 246.388 L1833.92 246.388 L1833.92 243.078 L1837.04 243.078 L1837.04 235.717 L1841.32 235.717 Z\" fill=\"#000000\" fill-rule=\"evenodd\" fill-opacity=\"1\" /><path clip-path=\"url(#clip150)\" d=\"M 0 0 M1876.11 253.356 L1876.11 269.004 L1871.86 269.004 L1871.86 253.495 Q1871.86 249.814 1870.42 247.986 Q1868.98 246.157 1866.11 246.157 Q1862.67 246.157 1860.67 248.356 Q1858.68 250.555 1858.68 254.351 L1858.68 269.004 L1854.4 269.004 L1854.4 232.986 L1858.68 232.986 L1858.68 247.106 Q1860.21 244.768 1862.27 243.611 Q1864.36 242.453 1867.06 242.453 Q1871.53 242.453 1873.82 245.231 Q1876.11 247.986 1876.11 253.356 Z\" fill=\"#000000\" fill-rule=\"evenodd\" fill-opacity=\"1\" /><path clip-path=\"url(#clip150)\" d=\"M 0 0 M1902.76 254.976 L1902.76 257.06 L1883.17 257.06 Q1883.45 261.458 1885.81 263.773 Q1888.2 266.064 1892.43 266.064 Q1894.89 266.064 1897.18 265.462 Q1899.49 264.861 1901.76 263.657 L1901.76 267.685 Q1899.47 268.657 1897.06 269.166 Q1894.66 269.675 1892.18 269.675 Q1885.98 269.675 1882.34 266.064 Q1878.73 262.453 1878.73 256.296 Q1878.73 249.93 1882.16 246.203 Q1885.6 242.453 1891.44 242.453 Q1896.67 242.453 1899.7 245.833 Q1902.76 249.189 1902.76 254.976 M1898.5 253.726 Q1898.45 250.231 1896.53 248.148 Q1894.63 246.064 1891.48 246.064 Q1887.92 246.064 1885.77 248.078 Q1883.64 250.092 1883.31 253.75 L1898.5 253.726 Z\" fill=\"#000000\" fill-rule=\"evenodd\" fill-opacity=\"1\" /><path clip-path=\"url(#clip150)\" d=\"M 0 0 M1911.44 235.717 L1911.44 243.078 L1920.21 243.078 L1920.21 246.388 L1911.44 246.388 L1911.44 260.462 Q1911.44 263.634 1912.29 264.537 Q1913.17 265.439 1915.84 265.439 L1920.21 265.439 L1920.21 269.004 L1915.84 269.004 Q1910.91 269.004 1909.03 267.175 Q1907.16 265.324 1907.16 260.462 L1907.16 246.388 L1904.03 246.388 L1904.03 243.078 L1907.16 243.078 L1907.16 235.717 L1911.44 235.717 Z\" fill=\"#000000\" fill-rule=\"evenodd\" fill-opacity=\"1\" /><path clip-path=\"url(#clip150)\" d=\"M 0 0 M1924.68 243.078 L1928.94 243.078 L1928.94 269.004 L1924.68 269.004 L1924.68 243.078 M1924.68 232.986 L1928.94 232.986 L1928.94 238.379 L1924.68 238.379 L1924.68 232.986 Z\" fill=\"#000000\" fill-rule=\"evenodd\" fill-opacity=\"1\" /><path clip-path=\"url(#clip150)\" d=\"M 0 0 M1952.06 244.074 L1952.06 248.055 Q1950.26 247.06 1948.43 246.574 Q1946.62 246.064 1944.77 246.064 Q1940.63 246.064 1938.34 248.703 Q1936.04 251.319 1936.04 256.064 Q1936.04 260.81 1938.34 263.449 Q1940.63 266.064 1944.77 266.064 Q1946.62 266.064 1948.43 265.578 Q1950.26 265.069 1952.06 264.074 L1952.06 268.009 Q1950.28 268.842 1948.36 269.259 Q1946.46 269.675 1944.31 269.675 Q1938.45 269.675 1935 265.995 Q1931.55 262.314 1931.55 256.064 Q1931.55 249.722 1935.03 246.088 Q1938.52 242.453 1944.59 242.453 Q1946.55 242.453 1948.43 242.87 Q1950.3 243.263 1952.06 244.074 Z\" fill=\"#000000\" fill-rule=\"evenodd\" fill-opacity=\"1\" /><path clip-path=\"url(#clip150)\" d=\"M 0 0 M1969.45 254.12 L1981.92 254.12 L1981.92 257.916 L1969.45 257.916 L1969.45 254.12 Z\" fill=\"#000000\" fill-rule=\"evenodd\" fill-opacity=\"1\" /><path clip-path=\"url(#clip150)\" d=\"M 0 0 M2016.48 247.06 Q2015.77 246.643 2014.91 246.458 Q2014.08 246.25 2013.06 246.25 Q2009.45 246.25 2007.5 248.611 Q2005.58 250.949 2005.58 255.347 L2005.58 269.004 L2001.3 269.004 L2001.3 243.078 L2005.58 243.078 L2005.58 247.106 Q2006.92 244.745 2009.08 243.611 Q2011.23 242.453 2014.31 242.453 Q2014.75 242.453 2015.28 242.523 Q2015.81 242.569 2016.46 242.685 L2016.48 247.06 Z\" fill=\"#000000\" fill-rule=\"evenodd\" fill-opacity=\"1\" /><path clip-path=\"url(#clip150)\" d=\"M 0 0 M2042.09 254.976 L2042.09 257.06 L2022.5 257.06 Q2022.78 261.458 2025.14 263.773 Q2027.53 266.064 2031.76 266.064 Q2034.22 266.064 2036.51 265.462 Q2038.82 264.861 2041.09 263.657 L2041.09 267.685 Q2038.8 268.657 2036.39 269.166 Q2033.98 269.675 2031.51 269.675 Q2025.3 269.675 2021.67 266.064 Q2018.06 262.453 2018.06 256.296 Q2018.06 249.93 2021.48 246.203 Q2024.93 242.453 2030.77 242.453 Q2036 242.453 2039.03 245.833 Q2042.09 249.189 2042.09 254.976 M2037.83 253.726 Q2037.78 250.231 2035.86 248.148 Q2033.96 246.064 2030.81 246.064 Q2027.25 246.064 2025.09 248.078 Q2022.97 250.092 2022.64 253.75 L2037.83 253.726 Z\" fill=\"#000000\" fill-rule=\"evenodd\" fill-opacity=\"1\" /><path clip-path=\"url(#clip150)\" d=\"M 0 0 M2058.34 255.972 Q2053.17 255.972 2051.18 257.152 Q2049.19 258.333 2049.19 261.18 Q2049.19 263.449 2050.67 264.791 Q2052.18 266.111 2054.75 266.111 Q2058.29 266.111 2060.42 263.611 Q2062.57 261.087 2062.57 256.921 L2062.57 255.972 L2058.34 255.972 M2066.83 254.213 L2066.83 269.004 L2062.57 269.004 L2062.57 265.069 Q2061.11 267.43 2058.94 268.564 Q2056.76 269.675 2053.61 269.675 Q2049.63 269.675 2047.27 267.453 Q2044.93 265.208 2044.93 261.458 Q2044.93 257.083 2047.85 254.861 Q2050.79 252.638 2056.6 252.638 L2062.57 252.638 L2062.57 252.222 Q2062.57 249.282 2060.63 247.685 Q2058.71 246.064 2055.21 246.064 Q2052.99 246.064 2050.88 246.597 Q2048.78 247.129 2046.83 248.194 L2046.83 244.259 Q2049.17 243.356 2051.37 242.916 Q2053.57 242.453 2055.65 242.453 Q2061.28 242.453 2064.05 245.37 Q2066.83 248.287 2066.83 254.213 Z\" fill=\"#000000\" fill-rule=\"evenodd\" fill-opacity=\"1\" /><path clip-path=\"url(#clip150)\" d=\"M 0 0 M2071.3 232.986 L2075.56 232.986 L2075.56 269.004 L2071.3 269.004 L2071.3 232.986 Z\" fill=\"#000000\" fill-rule=\"evenodd\" fill-opacity=\"1\" /><polyline clip-path=\"url(#clip150)\" style=\"stroke:#ffd700; stroke-width:4; stroke-opacity:1; fill:none\" points=\"\n",
       "  1587.65,312.204 1731.65,312.204 \n",
       "  \"/>\n",
       "<path clip-path=\"url(#clip150)\" d=\"M 0 0 M1760.33 298.767 L1760.33 325.642 L1765.98 325.642 Q1773.13 325.642 1776.44 322.401 Q1779.77 319.16 1779.77 312.169 Q1779.77 305.225 1776.44 302.007 Q1773.13 298.767 1765.98 298.767 L1760.33 298.767 M1755.65 294.924 L1765.26 294.924 Q1775.3 294.924 1780 299.114 Q1784.7 303.281 1784.7 312.169 Q1784.7 321.105 1779.98 325.294 Q1775.26 329.484 1765.26 329.484 L1755.65 329.484 L1755.65 294.924 Z\" fill=\"#000000\" fill-rule=\"evenodd\" fill-opacity=\"1\" /><path clip-path=\"url(#clip150)\" d=\"M 0 0 M1799.22 306.544 Q1795.79 306.544 1793.8 309.23 Q1791.81 311.892 1791.81 316.544 Q1791.81 321.197 1793.78 323.882 Q1795.77 326.544 1799.22 326.544 Q1802.62 326.544 1804.61 323.859 Q1806.6 321.174 1806.6 316.544 Q1806.6 311.938 1804.61 309.253 Q1802.62 306.544 1799.22 306.544 M1799.22 302.933 Q1804.77 302.933 1807.94 306.544 Q1811.11 310.155 1811.11 316.544 Q1811.11 322.91 1807.94 326.544 Q1804.77 330.155 1799.22 330.155 Q1793.64 330.155 1790.47 326.544 Q1787.32 322.91 1787.32 316.544 Q1787.32 310.155 1790.47 306.544 Q1793.64 302.933 1799.22 302.933 Z\" fill=\"#000000\" fill-rule=\"evenodd\" fill-opacity=\"1\" /><path clip-path=\"url(#clip150)\" d=\"M 0 0 M1815.14 319.253 L1815.14 303.558 L1819.4 303.558 L1819.4 319.091 Q1819.4 322.771 1820.84 324.623 Q1822.27 326.452 1825.14 326.452 Q1828.59 326.452 1830.58 324.253 Q1832.6 322.054 1832.6 318.257 L1832.6 303.558 L1836.86 303.558 L1836.86 329.484 L1832.6 329.484 L1832.6 325.503 Q1831.05 327.864 1828.98 329.021 Q1826.95 330.155 1824.24 330.155 Q1819.77 330.155 1817.46 327.378 Q1815.14 324.6 1815.14 319.253 M1825.86 302.933 L1825.86 302.933 Z\" fill=\"#000000\" fill-rule=\"evenodd\" fill-opacity=\"1\" /><path clip-path=\"url(#clip150)\" d=\"M 0 0 M1859.93 316.544 Q1859.93 311.845 1857.99 309.183 Q1856.07 306.498 1852.69 306.498 Q1849.31 306.498 1847.36 309.183 Q1845.44 311.845 1845.44 316.544 Q1845.44 321.243 1847.36 323.929 Q1849.31 326.591 1852.69 326.591 Q1856.07 326.591 1857.99 323.929 Q1859.93 321.243 1859.93 316.544 M1845.44 307.493 Q1846.79 305.179 1848.82 304.068 Q1850.88 302.933 1853.73 302.933 Q1858.45 302.933 1861.39 306.683 Q1864.36 310.433 1864.36 316.544 Q1864.36 322.655 1861.39 326.405 Q1858.45 330.155 1853.73 330.155 Q1850.88 330.155 1848.82 329.044 Q1846.79 327.91 1845.44 325.595 L1845.44 329.484 L1841.16 329.484 L1841.16 293.466 L1845.44 293.466 L1845.44 307.493 Z\" fill=\"#000000\" fill-rule=\"evenodd\" fill-opacity=\"1\" /><path clip-path=\"url(#clip150)\" d=\"M 0 0 M1868.82 293.466 L1873.08 293.466 L1873.08 329.484 L1868.82 329.484 L1868.82 293.466 Z\" fill=\"#000000\" fill-rule=\"evenodd\" fill-opacity=\"1\" /><path clip-path=\"url(#clip150)\" d=\"M 0 0 M1899.73 315.456 L1899.73 317.54 L1880.14 317.54 Q1880.42 321.938 1882.78 324.253 Q1885.17 326.544 1889.4 326.544 Q1891.85 326.544 1894.15 325.942 Q1896.46 325.341 1898.73 324.137 L1898.73 328.165 Q1896.44 329.137 1894.03 329.646 Q1891.62 330.155 1889.15 330.155 Q1882.94 330.155 1879.31 326.544 Q1875.7 322.933 1875.7 316.776 Q1875.7 310.41 1879.12 306.683 Q1882.57 302.933 1888.41 302.933 Q1893.64 302.933 1896.67 306.313 Q1899.73 309.669 1899.73 315.456 M1895.47 314.206 Q1895.42 310.711 1893.5 308.628 Q1891.6 306.544 1888.45 306.544 Q1884.89 306.544 1882.73 308.558 Q1880.61 310.572 1880.28 314.23 L1895.47 314.206 Z\" fill=\"#000000\" fill-rule=\"evenodd\" fill-opacity=\"1\" /><path clip-path=\"url(#clip150)\" d=\"M 0 0 M1935.79 304.322 L1935.79 308.35 Q1933.98 307.424 1932.04 306.961 Q1930.1 306.498 1928.01 306.498 Q1924.84 306.498 1923.24 307.47 Q1921.67 308.443 1921.67 310.387 Q1921.67 311.868 1922.8 312.725 Q1923.94 313.558 1927.36 314.322 L1928.82 314.646 Q1933.36 315.618 1935.26 317.401 Q1937.18 319.16 1937.18 322.331 Q1937.18 325.942 1934.31 328.049 Q1931.46 330.155 1926.46 330.155 Q1924.38 330.155 1922.11 329.739 Q1919.86 329.345 1917.36 328.535 L1917.36 324.137 Q1919.73 325.364 1922.02 325.989 Q1924.31 326.591 1926.55 326.591 Q1929.56 326.591 1931.18 325.572 Q1932.8 324.53 1932.8 322.655 Q1932.8 320.919 1931.62 319.993 Q1930.47 319.067 1926.51 318.211 L1925.03 317.864 Q1921.07 317.03 1919.31 315.318 Q1917.55 313.581 1917.55 310.572 Q1917.55 306.915 1920.14 304.924 Q1922.73 302.933 1927.5 302.933 Q1929.86 302.933 1931.95 303.281 Q1934.03 303.628 1935.79 304.322 Z\" fill=\"#000000\" fill-rule=\"evenodd\" fill-opacity=\"1\" /><path clip-path=\"url(#clip150)\" d=\"M 0 0 M1952.43 331.891 Q1950.63 336.521 1948.91 337.933 Q1947.2 339.345 1944.33 339.345 L1940.93 339.345 L1940.93 335.78 L1943.43 335.78 Q1945.19 335.78 1946.16 334.947 Q1947.13 334.114 1948.31 331.012 L1949.08 329.067 L1938.59 303.558 L1943.1 303.558 L1951.21 323.836 L1959.31 303.558 L1963.82 303.558 L1952.43 331.891 Z\" fill=\"#000000\" fill-rule=\"evenodd\" fill-opacity=\"1\" /><path clip-path=\"url(#clip150)\" d=\"M 0 0 M1989.84 313.836 L1989.84 329.484 L1985.58 329.484 L1985.58 313.975 Q1985.58 310.294 1984.15 308.466 Q1982.71 306.637 1979.84 306.637 Q1976.39 306.637 1974.4 308.836 Q1972.41 311.035 1972.41 314.831 L1972.41 329.484 L1968.13 329.484 L1968.13 303.558 L1972.41 303.558 L1972.41 307.586 Q1973.94 305.248 1976 304.091 Q1978.08 302.933 1980.79 302.933 Q1985.26 302.933 1987.55 305.711 Q1989.84 308.466 1989.84 313.836 Z\" fill=\"#000000\" fill-rule=\"evenodd\" fill-opacity=\"1\" /><path clip-path=\"url(#clip150)\" d=\"M 0 0 M1998.52 296.197 L1998.52 303.558 L2007.29 303.558 L2007.29 306.868 L1998.52 306.868 L1998.52 320.942 Q1998.52 324.114 1999.38 325.017 Q2000.26 325.919 2002.92 325.919 L2007.29 325.919 L2007.29 329.484 L2002.92 329.484 Q1997.99 329.484 1996.11 327.655 Q1994.24 325.804 1994.24 320.942 L1994.24 306.868 L1991.11 306.868 L1991.11 303.558 L1994.24 303.558 L1994.24 296.197 L1998.52 296.197 Z\" fill=\"#000000\" fill-rule=\"evenodd\" fill-opacity=\"1\" /><path clip-path=\"url(#clip150)\" d=\"M 0 0 M2033.31 313.836 L2033.31 329.484 L2029.05 329.484 L2029.05 313.975 Q2029.05 310.294 2027.62 308.466 Q2026.18 306.637 2023.31 306.637 Q2019.86 306.637 2017.87 308.836 Q2015.88 311.035 2015.88 314.831 L2015.88 329.484 L2011.6 329.484 L2011.6 293.466 L2015.88 293.466 L2015.88 307.586 Q2017.41 305.248 2019.47 304.091 Q2021.55 302.933 2024.26 302.933 Q2028.73 302.933 2031.02 305.711 Q2033.31 308.466 2033.31 313.836 Z\" fill=\"#000000\" fill-rule=\"evenodd\" fill-opacity=\"1\" /><path clip-path=\"url(#clip150)\" d=\"M 0 0 M2059.96 315.456 L2059.96 317.54 L2040.37 317.54 Q2040.65 321.938 2043.01 324.253 Q2045.4 326.544 2049.63 326.544 Q2052.09 326.544 2054.38 325.942 Q2056.69 325.341 2058.96 324.137 L2058.96 328.165 Q2056.67 329.137 2054.26 329.646 Q2051.85 330.155 2049.38 330.155 Q2043.17 330.155 2039.54 326.544 Q2035.93 322.933 2035.93 316.776 Q2035.93 310.41 2039.35 306.683 Q2042.8 302.933 2048.64 302.933 Q2053.87 302.933 2056.9 306.313 Q2059.96 309.669 2059.96 315.456 M2055.7 314.206 Q2055.65 310.711 2053.73 308.628 Q2051.83 306.544 2048.68 306.544 Q2045.12 306.544 2042.97 308.558 Q2040.84 310.572 2040.51 314.23 L2055.7 314.206 Z\" fill=\"#000000\" fill-rule=\"evenodd\" fill-opacity=\"1\" /><path clip-path=\"url(#clip150)\" d=\"M 0 0 M2068.64 296.197 L2068.64 303.558 L2077.41 303.558 L2077.41 306.868 L2068.64 306.868 L2068.64 320.942 Q2068.64 324.114 2069.49 325.017 Q2070.37 325.919 2073.03 325.919 L2077.41 325.919 L2077.41 329.484 L2073.03 329.484 Q2068.1 329.484 2066.23 327.655 Q2064.35 325.804 2064.35 320.942 L2064.35 306.868 L2061.23 306.868 L2061.23 303.558 L2064.35 303.558 L2064.35 296.197 L2068.64 296.197 Z\" fill=\"#000000\" fill-rule=\"evenodd\" fill-opacity=\"1\" /><path clip-path=\"url(#clip150)\" d=\"M 0 0 M2081.88 303.558 L2086.14 303.558 L2086.14 329.484 L2081.88 329.484 L2081.88 303.558 M2081.88 293.466 L2086.14 293.466 L2086.14 298.859 L2081.88 298.859 L2081.88 293.466 Z\" fill=\"#000000\" fill-rule=\"evenodd\" fill-opacity=\"1\" /><path clip-path=\"url(#clip150)\" d=\"M 0 0 M2109.26 304.554 L2109.26 308.535 Q2107.46 307.54 2105.63 307.054 Q2103.82 306.544 2101.97 306.544 Q2097.83 306.544 2095.53 309.183 Q2093.24 311.799 2093.24 316.544 Q2093.24 321.29 2095.53 323.929 Q2097.83 326.544 2101.97 326.544 Q2103.82 326.544 2105.63 326.058 Q2107.46 325.549 2109.26 324.554 L2109.26 328.489 Q2107.48 329.322 2105.56 329.739 Q2103.66 330.155 2101.51 330.155 Q2095.65 330.155 2092.2 326.475 Q2088.75 322.794 2088.75 316.544 Q2088.75 310.202 2092.22 306.568 Q2095.72 302.933 2101.78 302.933 Q2103.75 302.933 2105.63 303.35 Q2107.5 303.743 2109.26 304.554 Z\" fill=\"#000000\" fill-rule=\"evenodd\" fill-opacity=\"1\" /><path clip-path=\"url(#clip150)\" d=\"M 0 0 M2126.65 314.6 L2139.12 314.6 L2139.12 318.396 L2126.65 318.396 L2126.65 314.6 Z\" fill=\"#000000\" fill-rule=\"evenodd\" fill-opacity=\"1\" /><path clip-path=\"url(#clip150)\" d=\"M 0 0 M2173.68 307.54 Q2172.96 307.123 2172.11 306.938 Q2171.27 306.73 2170.26 306.73 Q2166.65 306.73 2164.7 309.091 Q2162.78 311.429 2162.78 315.827 L2162.78 329.484 L2158.5 329.484 L2158.5 303.558 L2162.78 303.558 L2162.78 307.586 Q2164.12 305.225 2166.27 304.091 Q2168.43 302.933 2171.51 302.933 Q2171.95 302.933 2172.48 303.003 Q2173.01 303.049 2173.66 303.165 L2173.68 307.54 Z\" fill=\"#000000\" fill-rule=\"evenodd\" fill-opacity=\"1\" /><path clip-path=\"url(#clip150)\" d=\"M 0 0 M2199.28 315.456 L2199.28 317.54 L2179.7 317.54 Q2179.98 321.938 2182.34 324.253 Q2184.72 326.544 2188.96 326.544 Q2191.41 326.544 2193.71 325.942 Q2196.02 325.341 2198.29 324.137 L2198.29 328.165 Q2196 329.137 2193.59 329.646 Q2191.18 330.155 2188.71 330.155 Q2182.5 330.155 2178.87 326.544 Q2175.26 322.933 2175.26 316.776 Q2175.26 310.41 2178.68 306.683 Q2182.13 302.933 2187.96 302.933 Q2193.2 302.933 2196.23 306.313 Q2199.28 309.669 2199.28 315.456 M2195.02 314.206 Q2194.98 310.711 2193.06 308.628 Q2191.16 306.544 2188.01 306.544 Q2184.45 306.544 2182.29 308.558 Q2180.16 310.572 2179.84 314.23 L2195.02 314.206 Z\" fill=\"#000000\" fill-rule=\"evenodd\" fill-opacity=\"1\" /><path clip-path=\"url(#clip150)\" d=\"M 0 0 M2215.53 316.452 Q2210.37 316.452 2208.38 317.632 Q2206.39 318.813 2206.39 321.66 Q2206.39 323.929 2207.87 325.271 Q2209.38 326.591 2211.95 326.591 Q2215.49 326.591 2217.62 324.091 Q2219.77 321.567 2219.77 317.401 L2219.77 316.452 L2215.53 316.452 M2224.03 314.693 L2224.03 329.484 L2219.77 329.484 L2219.77 325.549 Q2218.31 327.91 2216.14 329.044 Q2213.96 330.155 2210.81 330.155 Q2206.83 330.155 2204.47 327.933 Q2202.13 325.688 2202.13 321.938 Q2202.13 317.563 2205.05 315.341 Q2207.99 313.118 2213.8 313.118 L2219.77 313.118 L2219.77 312.702 Q2219.77 309.762 2217.83 308.165 Q2215.9 306.544 2212.41 306.544 Q2210.19 306.544 2208.08 307.077 Q2205.97 307.609 2204.03 308.674 L2204.03 304.739 Q2206.37 303.836 2208.57 303.396 Q2210.77 302.933 2212.85 302.933 Q2218.47 302.933 2221.25 305.85 Q2224.03 308.767 2224.03 314.693 Z\" fill=\"#000000\" fill-rule=\"evenodd\" fill-opacity=\"1\" /><path clip-path=\"url(#clip150)\" d=\"M 0 0 M2228.5 293.466 L2232.76 293.466 L2232.76 329.484 L2228.5 329.484 L2228.5 293.466 Z\" fill=\"#000000\" fill-rule=\"evenodd\" fill-opacity=\"1\" /><polyline clip-path=\"url(#clip150)\" style=\"stroke:#008000; stroke-width:4; stroke-opacity:1; fill:none\" points=\"\n",
       "  1587.65,372.684 1731.65,372.684 \n",
       "  \"/>\n",
       "<path clip-path=\"url(#clip150)\" d=\"M 0 0 M1755.65 355.404 L1784.89 355.404 L1784.89 359.339 L1772.62 359.339 L1772.62 389.964 L1767.92 389.964 L1767.92 359.339 L1755.65 359.339 L1755.65 355.404 Z\" fill=\"#000000\" fill-rule=\"evenodd\" fill-opacity=\"1\" /><path clip-path=\"url(#clip150)\" d=\"M 0 0 M1797.41 368.02 Q1796.69 367.603 1795.84 367.418 Q1795 367.21 1793.99 367.21 Q1790.37 367.21 1788.43 369.571 Q1786.51 371.909 1786.51 376.307 L1786.51 389.964 L1782.23 389.964 L1782.23 364.038 L1786.51 364.038 L1786.51 368.066 Q1787.85 365.705 1790 364.571 Q1792.16 363.413 1795.24 363.413 Q1795.67 363.413 1796.21 363.483 Q1796.74 363.529 1797.39 363.645 L1797.41 368.02 Z\" fill=\"#000000\" fill-rule=\"evenodd\" fill-opacity=\"1\" /><path clip-path=\"url(#clip150)\" d=\"M 0 0 M1801.88 364.038 L1806.14 364.038 L1806.14 389.964 L1801.88 389.964 L1801.88 364.038 M1801.88 353.946 L1806.14 353.946 L1806.14 359.339 L1801.88 359.339 L1801.88 353.946 Z\" fill=\"#000000\" fill-rule=\"evenodd\" fill-opacity=\"1\" /><path clip-path=\"url(#clip150)\" d=\"M 0 0 M1814.73 386.075 L1814.73 399.825 L1810.44 399.825 L1810.44 364.038 L1814.73 364.038 L1814.73 367.973 Q1816.07 365.659 1818.11 364.548 Q1820.17 363.413 1823.01 363.413 Q1827.73 363.413 1830.67 367.163 Q1833.64 370.913 1833.64 377.024 Q1833.64 383.135 1830.67 386.885 Q1827.73 390.635 1823.01 390.635 Q1820.17 390.635 1818.11 389.524 Q1816.07 388.39 1814.73 386.075 M1829.22 377.024 Q1829.22 372.325 1827.27 369.663 Q1825.35 366.978 1821.97 366.978 Q1818.59 366.978 1816.65 369.663 Q1814.73 372.325 1814.73 377.024 Q1814.73 381.723 1816.65 384.409 Q1818.59 387.071 1821.97 387.071 Q1825.35 387.071 1827.27 384.409 Q1829.22 381.723 1829.22 377.024 Z\" fill=\"#000000\" fill-rule=\"evenodd\" fill-opacity=\"1\" /><path clip-path=\"url(#clip150)\" d=\"M 0 0 M1838.11 353.946 L1842.36 353.946 L1842.36 389.964 L1838.11 389.964 L1838.11 353.946 Z\" fill=\"#000000\" fill-rule=\"evenodd\" fill-opacity=\"1\" /><path clip-path=\"url(#clip150)\" d=\"M 0 0 M1869.01 375.936 L1869.01 378.02 L1849.42 378.02 Q1849.7 382.418 1852.06 384.733 Q1854.45 387.024 1858.68 387.024 Q1861.14 387.024 1863.43 386.422 Q1865.74 385.821 1868.01 384.617 L1868.01 388.645 Q1865.72 389.617 1863.31 390.126 Q1860.91 390.635 1858.43 390.635 Q1852.23 390.635 1848.59 387.024 Q1844.98 383.413 1844.98 377.256 Q1844.98 370.89 1848.41 367.163 Q1851.86 363.413 1857.69 363.413 Q1862.92 363.413 1865.95 366.793 Q1869.01 370.149 1869.01 375.936 M1864.75 374.686 Q1864.7 371.191 1862.78 369.108 Q1860.88 367.024 1857.73 367.024 Q1854.17 367.024 1852.02 369.038 Q1849.89 371.052 1849.56 374.71 L1864.75 374.686 Z\" fill=\"#000000\" fill-rule=\"evenodd\" fill-opacity=\"1\" /><path clip-path=\"url(#clip150)\" d=\"M 0 0 M1905.07 364.802 L1905.07 368.83 Q1903.27 367.904 1901.32 367.441 Q1899.38 366.978 1897.29 366.978 Q1894.12 366.978 1892.53 367.95 Q1890.95 368.923 1890.95 370.867 Q1890.95 372.348 1892.09 373.205 Q1893.22 374.038 1896.65 374.802 L1898.1 375.126 Q1902.64 376.098 1904.54 377.881 Q1906.46 379.64 1906.46 382.811 Q1906.46 386.422 1903.59 388.529 Q1900.74 390.635 1895.74 390.635 Q1893.66 390.635 1891.39 390.219 Q1889.15 389.825 1886.65 389.015 L1886.65 384.617 Q1889.01 385.844 1891.3 386.469 Q1893.59 387.071 1895.84 387.071 Q1898.85 387.071 1900.47 386.052 Q1902.09 385.01 1902.09 383.135 Q1902.09 381.399 1900.91 380.473 Q1899.75 379.547 1895.79 378.691 L1894.31 378.344 Q1890.35 377.51 1888.59 375.798 Q1886.83 374.061 1886.83 371.052 Q1886.83 367.395 1889.42 365.404 Q1892.02 363.413 1896.79 363.413 Q1899.15 363.413 1901.23 363.761 Q1903.31 364.108 1905.07 364.802 Z\" fill=\"#000000\" fill-rule=\"evenodd\" fill-opacity=\"1\" /><path clip-path=\"url(#clip150)\" d=\"M 0 0 M1921.72 392.371 Q1919.91 397.001 1918.2 398.413 Q1916.48 399.825 1913.61 399.825 L1910.21 399.825 L1910.21 396.26 L1912.71 396.26 Q1914.47 396.26 1915.44 395.427 Q1916.42 394.594 1917.6 391.492 L1918.36 389.547 L1907.87 364.038 L1912.39 364.038 L1920.49 384.316 L1928.59 364.038 L1933.1 364.038 L1921.72 392.371 Z\" fill=\"#000000\" fill-rule=\"evenodd\" fill-opacity=\"1\" /><path clip-path=\"url(#clip150)\" d=\"M 0 0 M1959.12 374.316 L1959.12 389.964 L1954.86 389.964 L1954.86 374.455 Q1954.86 370.774 1953.43 368.946 Q1951.99 367.117 1949.12 367.117 Q1945.67 367.117 1943.68 369.316 Q1941.69 371.515 1941.69 375.311 L1941.69 389.964 L1937.41 389.964 L1937.41 364.038 L1941.69 364.038 L1941.69 368.066 Q1943.22 365.728 1945.28 364.571 Q1947.36 363.413 1950.07 363.413 Q1954.54 363.413 1956.83 366.191 Q1959.12 368.946 1959.12 374.316 Z\" fill=\"#000000\" fill-rule=\"evenodd\" fill-opacity=\"1\" /><path clip-path=\"url(#clip150)\" d=\"M 0 0 M1967.8 356.677 L1967.8 364.038 L1976.58 364.038 L1976.58 367.348 L1967.8 367.348 L1967.8 381.422 Q1967.8 384.594 1968.66 385.497 Q1969.54 386.399 1972.2 386.399 L1976.58 386.399 L1976.58 389.964 L1972.2 389.964 Q1967.27 389.964 1965.4 388.135 Q1963.52 386.284 1963.52 381.422 L1963.52 367.348 L1960.4 367.348 L1960.4 364.038 L1963.52 364.038 L1963.52 356.677 L1967.8 356.677 Z\" fill=\"#000000\" fill-rule=\"evenodd\" fill-opacity=\"1\" /><path clip-path=\"url(#clip150)\" d=\"M 0 0 M2002.6 374.316 L2002.6 389.964 L1998.34 389.964 L1998.34 374.455 Q1998.34 370.774 1996.9 368.946 Q1995.47 367.117 1992.6 367.117 Q1989.15 367.117 1987.16 369.316 Q1985.16 371.515 1985.16 375.311 L1985.16 389.964 L1980.88 389.964 L1980.88 353.946 L1985.16 353.946 L1985.16 368.066 Q1986.69 365.728 1988.75 364.571 Q1990.84 363.413 1993.54 363.413 Q1998.01 363.413 2000.3 366.191 Q2002.6 368.946 2002.6 374.316 Z\" fill=\"#000000\" fill-rule=\"evenodd\" fill-opacity=\"1\" /><path clip-path=\"url(#clip150)\" d=\"M 0 0 M2029.24 375.936 L2029.24 378.02 L2009.66 378.02 Q2009.93 382.418 2012.29 384.733 Q2014.68 387.024 2018.91 387.024 Q2021.37 387.024 2023.66 386.422 Q2025.97 385.821 2028.24 384.617 L2028.24 388.645 Q2025.95 389.617 2023.54 390.126 Q2021.14 390.635 2018.66 390.635 Q2012.46 390.635 2008.82 387.024 Q2005.21 383.413 2005.21 377.256 Q2005.21 370.89 2008.64 367.163 Q2012.09 363.413 2017.92 363.413 Q2023.15 363.413 2026.18 366.793 Q2029.24 370.149 2029.24 375.936 M2024.98 374.686 Q2024.93 371.191 2023.01 369.108 Q2021.11 367.024 2017.97 367.024 Q2014.4 367.024 2012.25 369.038 Q2010.12 371.052 2009.79 374.71 L2024.98 374.686 Z\" fill=\"#000000\" fill-rule=\"evenodd\" fill-opacity=\"1\" /><path clip-path=\"url(#clip150)\" d=\"M 0 0 M2037.92 356.677 L2037.92 364.038 L2046.69 364.038 L2046.69 367.348 L2037.92 367.348 L2037.92 381.422 Q2037.92 384.594 2038.78 385.497 Q2039.66 386.399 2042.32 386.399 L2046.69 386.399 L2046.69 389.964 L2042.32 389.964 Q2037.39 389.964 2035.51 388.135 Q2033.64 386.284 2033.64 381.422 L2033.64 367.348 L2030.51 367.348 L2030.51 364.038 L2033.64 364.038 L2033.64 356.677 L2037.92 356.677 Z\" fill=\"#000000\" fill-rule=\"evenodd\" fill-opacity=\"1\" /><path clip-path=\"url(#clip150)\" d=\"M 0 0 M2051.16 364.038 L2055.42 364.038 L2055.42 389.964 L2051.16 389.964 L2051.16 364.038 M2051.16 353.946 L2055.42 353.946 L2055.42 359.339 L2051.16 359.339 L2051.16 353.946 Z\" fill=\"#000000\" fill-rule=\"evenodd\" fill-opacity=\"1\" /><path clip-path=\"url(#clip150)\" d=\"M 0 0 M2078.54 365.034 L2078.54 369.015 Q2076.74 368.02 2074.91 367.534 Q2073.1 367.024 2071.25 367.024 Q2067.11 367.024 2064.82 369.663 Q2062.53 372.279 2062.53 377.024 Q2062.53 381.77 2064.82 384.409 Q2067.11 387.024 2071.25 387.024 Q2073.1 387.024 2074.91 386.538 Q2076.74 386.029 2078.54 385.034 L2078.54 388.969 Q2076.76 389.802 2074.84 390.219 Q2072.94 390.635 2070.79 390.635 Q2064.93 390.635 2061.48 386.955 Q2058.03 383.274 2058.03 377.024 Q2058.03 370.682 2061.51 367.048 Q2065 363.413 2071.07 363.413 Q2073.03 363.413 2074.91 363.83 Q2076.78 364.223 2078.54 365.034 Z\" fill=\"#000000\" fill-rule=\"evenodd\" fill-opacity=\"1\" /><path clip-path=\"url(#clip150)\" d=\"M 0 0 M2095.93 375.08 L2108.4 375.08 L2108.4 378.876 L2095.93 378.876 L2095.93 375.08 Z\" fill=\"#000000\" fill-rule=\"evenodd\" fill-opacity=\"1\" /><path clip-path=\"url(#clip150)\" d=\"M 0 0 M2142.96 368.02 Q2142.25 367.603 2141.39 367.418 Q2140.56 367.21 2139.54 367.21 Q2135.93 367.21 2133.98 369.571 Q2132.06 371.909 2132.06 376.307 L2132.06 389.964 L2127.78 389.964 L2127.78 364.038 L2132.06 364.038 L2132.06 368.066 Q2133.4 365.705 2135.56 364.571 Q2137.71 363.413 2140.79 363.413 Q2141.23 363.413 2141.76 363.483 Q2142.29 363.529 2142.94 363.645 L2142.96 368.02 Z\" fill=\"#000000\" fill-rule=\"evenodd\" fill-opacity=\"1\" /><path clip-path=\"url(#clip150)\" d=\"M 0 0 M2168.57 375.936 L2168.57 378.02 L2148.98 378.02 Q2149.26 382.418 2151.62 384.733 Q2154.01 387.024 2158.24 387.024 Q2160.7 387.024 2162.99 386.422 Q2165.3 385.821 2167.57 384.617 L2167.57 388.645 Q2165.28 389.617 2162.87 390.126 Q2160.46 390.635 2157.99 390.635 Q2151.78 390.635 2148.15 387.024 Q2144.54 383.413 2144.54 377.256 Q2144.54 370.89 2147.96 367.163 Q2151.41 363.413 2157.25 363.413 Q2162.48 363.413 2165.51 366.793 Q2168.57 370.149 2168.57 375.936 M2164.31 374.686 Q2164.26 371.191 2162.34 369.108 Q2160.44 367.024 2157.29 367.024 Q2153.73 367.024 2151.58 369.038 Q2149.45 371.052 2149.12 374.71 L2164.31 374.686 Z\" fill=\"#000000\" fill-rule=\"evenodd\" fill-opacity=\"1\" /><path clip-path=\"url(#clip150)\" d=\"M 0 0 M2184.82 376.932 Q2179.65 376.932 2177.66 378.112 Q2175.67 379.293 2175.67 382.14 Q2175.67 384.409 2177.15 385.751 Q2178.66 387.071 2181.23 387.071 Q2184.77 387.071 2186.9 384.571 Q2189.05 382.047 2189.05 377.881 L2189.05 376.932 L2184.82 376.932 M2193.31 375.173 L2193.31 389.964 L2189.05 389.964 L2189.05 386.029 Q2187.59 388.39 2185.42 389.524 Q2183.24 390.635 2180.09 390.635 Q2176.11 390.635 2173.75 388.413 Q2171.41 386.168 2171.41 382.418 Q2171.41 378.043 2174.33 375.821 Q2177.27 373.598 2183.08 373.598 L2189.05 373.598 L2189.05 373.182 Q2189.05 370.242 2187.11 368.645 Q2185.19 367.024 2181.69 367.024 Q2179.47 367.024 2177.36 367.557 Q2175.26 368.089 2173.31 369.154 L2173.31 365.219 Q2175.65 364.316 2177.85 363.876 Q2180.05 363.413 2182.13 363.413 Q2187.76 363.413 2190.53 366.33 Q2193.31 369.247 2193.31 375.173 Z\" fill=\"#000000\" fill-rule=\"evenodd\" fill-opacity=\"1\" /><path clip-path=\"url(#clip150)\" d=\"M 0 0 M2197.78 353.946 L2202.04 353.946 L2202.04 389.964 L2197.78 389.964 L2197.78 353.946 Z\" fill=\"#000000\" fill-rule=\"evenodd\" fill-opacity=\"1\" /></svg>\n"
      ]
     },
     "execution_count": 59,
     "metadata": {},
     "output_type": "execute_result"
    }
   ],
   "source": [
    "# ╔═╡ 23e8b570-bd98-4323-a232-b40b0efab2e2\n",
    "let\n",
    "\t# Start a new empty canvas:\n",
    "\tplot()\n",
    "\n",
    "\tfor (i, dist) in enumerate(dists_datasets)\n",
    "\t\t# Step histogram = no vertical lines to zero at bin borders\n",
    "\t\tstephist!(\n",
    "\t\t\tdist,\n",
    "\t\t\tbins=bins,\n",
    "\t\t\tlabel=labels[i] * \" - real\",\n",
    "\t\t\tcolor=false,  # transparency\n",
    "\t\t\tlinecolor=colours[i],\n",
    "\t\t\t# linealpha=0.5,\n",
    "\t\t\tnormalize=true\n",
    "\t\t\t)\n",
    "\tend\n",
    "\n",
    "\tylabel!(\"Frequency density\")\n",
    "\txlabel!(\"Distance to nearest-neighbour\")\n",
    "\n",
    "\t# Setting the top limit to infinity keeps the default ymax\n",
    "\t# and allows us to set ymin separately.\n",
    "\tylims!(0, Inf)\n",
    "end"
   ]
  }
 ],
 "metadata": {
  "jupytext": {
   "cell_metadata_filter": "-all",
   "main_language": "julia",
   "notebook_metadata_filter": "-all"
  },
  "kernelspec": {
   "display_name": "Julia 1.8.5",
   "language": "julia",
   "name": "julia-1.8"
  },
  "language_info": {
   "file_extension": ".jl",
   "mimetype": "application/julia",
   "name": "julia",
   "version": "1.8.5"
  }
 },
 "nbformat": 4,
 "nbformat_minor": 5
}
